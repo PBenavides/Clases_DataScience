{
 "cells": [
  {
   "cell_type": "markdown",
   "metadata": {
    "colab_type": "text",
    "id": "XOMSgFHo1Qp2"
   },
   "source": [
    "**Telecom Customer Churn**\n",
    "\n",
    "---"
   ]
  },
  {
   "cell_type": "markdown",
   "metadata": {
    "colab_type": "text",
    "id": "hZr45jA7tSdb"
   },
   "source": [
    "# 1) IMPORTAR PAQUETES\n"
   ]
  },
  {
   "cell_type": "code",
   "execution_count": 1,
   "metadata": {
    "colab": {},
    "colab_type": "code",
    "id": "jbCm94H6tSdi"
   },
   "outputs": [],
   "source": [
    "import pandas as pd\n",
    "import numpy as np\n",
    "import matplotlib.pylab as pylab \n",
    "from matplotlib import pyplot as plt\n",
    "import seaborn as sns\n",
    "from scipy import stats \n",
    "from sklearn import metrics as mt\n",
    "\n",
    "# Ignorar warnings\n",
    "import warnings\n",
    "warnings.filterwarnings(\"ignore\")"
   ]
  },
  {
   "cell_type": "markdown",
   "metadata": {
    "colab_type": "text",
    "id": "srynLKfd2EuT"
   },
   "source": [
    "# 2) ENTENDIENDO LA DATA"
   ]
  },
  {
   "cell_type": "markdown",
   "metadata": {
    "colab_type": "text",
    "id": "cbvLflMqtSdv"
   },
   "source": [
    "## 2.1) Cargando la data"
   ]
  },
  {
   "cell_type": "code",
   "execution_count": 2,
   "metadata": {
    "colab": {},
    "colab_type": "code",
    "id": "3OlwCUhuOFrG"
   },
   "outputs": [],
   "source": [
    "# Seleccion de Variables a usar en este BASELINE:\n",
    "features_iniciales = ['ID',\n",
    " 'Sexo',\n",
    " 'AdultoMayor',\n",
    " 'MesesCliente',\n",
    " 'ServicioTelefonico',\n",
    " 'LineasMultiples',\n",
    " 'ProteccionDispositivo',\n",
    " 'SoporteTecnico',\n",
    " 'FacturacionElectronica',\n",
    " 'MontoCargadoMes']"
   ]
  },
  {
   "cell_type": "code",
   "execution_count": 3,
   "metadata": {},
   "outputs": [
    {
     "name": "stdout",
     "output_type": "stream",
     "text": [
      " El volumen de la unidad C es Windows\n",
      " El n£mero de serie del volumen es: A808-BC75\n",
      "\n",
      " Directorio de C:\\Users\\pablo\\OneDrive\\Escritorio\\DataScience_clases\\Clases_DataScience\\ChurnNotebook\n",
      "\n",
      "26/10/2019  19:24    <DIR>          .\n",
      "26/10/2019  19:24    <DIR>          ..\n",
      "26/10/2019  18:16    <DIR>          .ipynb_checkpoints\n",
      "26/10/2019  19:24           324.194 Churn.ipynb\n",
      "26/10/2019  15:46           559.911 Churn_BaseLine.ipynb\n",
      "13/09/2019  16:24           344.978 churn_data_test.csv\n",
      "13/09/2019  16:24           657.880 churn_data_train.csv\n",
      "26/10/2019  17:43           727.837 Churn2.ipynb\n",
      "13/09/2019  16:24            10.164 Diccionario_Datos.xlsx\n",
      "13/09/2019  16:24            27.136 sample_submit.csv\n",
      "26/10/2019  16:14           114.349 test.csv\n",
      "26/10/2019  16:14           543.829 train.csv\n",
      "26/10/2019  16:19           164.087 Untitled.ipynb\n",
      "              10 archivos      3.474.365 bytes\n",
      "               3 dirs  121.856.835.584 bytes libres\n"
     ]
    }
   ],
   "source": [
    "ls"
   ]
  },
  {
   "cell_type": "code",
   "execution_count": 4,
   "metadata": {
    "colab": {},
    "colab_type": "code",
    "id": "nQ_tneyYuW2T"
   },
   "outputs": [],
   "source": [
    "\n",
    "path = \"../input/\"\n",
    "df_train = pd.read_csv('train.csv')\n",
    "df_test = pd.read_csv('test.csv')"
   ]
  },
  {
   "cell_type": "code",
   "execution_count": 5,
   "metadata": {},
   "outputs": [
    {
     "data": {
      "text/plain": [
       "(3800, 21)"
      ]
     },
     "execution_count": 5,
     "metadata": {},
     "output_type": "execute_result"
    }
   ],
   "source": [
    "df_train.shape"
   ]
  },
  {
   "cell_type": "markdown",
   "metadata": {
    "colab_type": "text",
    "id": "fYUPYLp76YEx"
   },
   "source": [
    "## 2.2) Exploración de la data"
   ]
  },
  {
   "cell_type": "markdown",
   "metadata": {
    "colab_type": "text",
    "id": "J6rYZXIPZHSH"
   },
   "source": [
    "### 2.2.1) Estadísticos básicos"
   ]
  },
  {
   "cell_type": "code",
   "execution_count": 6,
   "metadata": {
    "colab": {
     "base_uri": "https://localhost:8080/",
     "height": 34
    },
    "colab_type": "code",
    "id": "KYhhYYlHtSd4",
    "outputId": "66187cd1-bfca-40f1-d391-494eae59eba4"
   },
   "outputs": [
    {
     "data": {
      "text/plain": [
       "((3800, 21), (777, 21))"
      ]
     },
     "execution_count": 6,
     "metadata": {},
     "output_type": "execute_result"
    }
   ],
   "source": [
    "df_train.shape, df_test.shape"
   ]
  },
  {
   "cell_type": "code",
   "execution_count": 7,
   "metadata": {
    "colab": {
     "base_uri": "https://localhost:8080/",
     "height": 249
    },
    "colab_type": "code",
    "id": "Lr4g3n26tSeA",
    "outputId": "62696ed0-e454-4c13-eb3d-5537572c4abb"
   },
   "outputs": [
    {
     "data": {
      "text/html": [
       "<div>\n",
       "<style scoped>\n",
       "    .dataframe tbody tr th:only-of-type {\n",
       "        vertical-align: middle;\n",
       "    }\n",
       "\n",
       "    .dataframe tbody tr th {\n",
       "        vertical-align: top;\n",
       "    }\n",
       "\n",
       "    .dataframe thead th {\n",
       "        text-align: right;\n",
       "    }\n",
       "</style>\n",
       "<table border=\"1\" class=\"dataframe\">\n",
       "  <thead>\n",
       "    <tr style=\"text-align: right;\">\n",
       "      <th></th>\n",
       "      <th>ID</th>\n",
       "      <th>Sexo</th>\n",
       "      <th>AdultoMayor</th>\n",
       "      <th>Socio</th>\n",
       "      <th>Dependientes</th>\n",
       "      <th>MesesCliente</th>\n",
       "      <th>ServicioTelefonico</th>\n",
       "      <th>LineasMultiples</th>\n",
       "      <th>ServicioInternet</th>\n",
       "      <th>SeguridadOnline</th>\n",
       "      <th>RespaldoOnline</th>\n",
       "      <th>ProteccionDispositivo</th>\n",
       "      <th>SoporteTecnico</th>\n",
       "      <th>TransmisionTV</th>\n",
       "      <th>TransmisionPeliculas</th>\n",
       "      <th>TerminoContrato</th>\n",
       "      <th>FacturacionElectronica</th>\n",
       "      <th>MetodoPago</th>\n",
       "      <th>MontoCargadoMes</th>\n",
       "      <th>MontoCargadoTotal</th>\n",
       "      <th>Churn</th>\n",
       "    </tr>\n",
       "  </thead>\n",
       "  <tbody>\n",
       "    <tr>\n",
       "      <th>0</th>\n",
       "      <td>ID01802</td>\n",
       "      <td>Masculino</td>\n",
       "      <td>1.0</td>\n",
       "      <td>No</td>\n",
       "      <td>No</td>\n",
       "      <td>11.0</td>\n",
       "      <td>Si</td>\n",
       "      <td>Si</td>\n",
       "      <td>DSL</td>\n",
       "      <td>Si</td>\n",
       "      <td>Si</td>\n",
       "      <td>No</td>\n",
       "      <td>No</td>\n",
       "      <td>No</td>\n",
       "      <td>No</td>\n",
       "      <td>Mes a mes</td>\n",
       "      <td>No</td>\n",
       "      <td>Tarjeta de credito (automatico)</td>\n",
       "      <td>60.25</td>\n",
       "      <td>662.95</td>\n",
       "      <td>0</td>\n",
       "    </tr>\n",
       "    <tr>\n",
       "      <th>1</th>\n",
       "      <td>ID05696</td>\n",
       "      <td>Masculino</td>\n",
       "      <td>0.0</td>\n",
       "      <td>No</td>\n",
       "      <td>No</td>\n",
       "      <td>1.0</td>\n",
       "      <td>Si</td>\n",
       "      <td>No</td>\n",
       "      <td>No</td>\n",
       "      <td>Sin servicio de internet</td>\n",
       "      <td>Sin servicio de internet</td>\n",
       "      <td>Sin servicio de internet</td>\n",
       "      <td>Sin servicio de internet</td>\n",
       "      <td>Sin servicio de internet</td>\n",
       "      <td>Sin servicio de internet</td>\n",
       "      <td>Mes a mes</td>\n",
       "      <td>No</td>\n",
       "      <td>Checke electronico</td>\n",
       "      <td>20.05</td>\n",
       "      <td>20.05</td>\n",
       "      <td>0</td>\n",
       "    </tr>\n",
       "    <tr>\n",
       "      <th>2</th>\n",
       "      <td>ID03166</td>\n",
       "      <td>Femenino</td>\n",
       "      <td>0.0</td>\n",
       "      <td>Si</td>\n",
       "      <td>Si</td>\n",
       "      <td>8.0</td>\n",
       "      <td>Si</td>\n",
       "      <td>No</td>\n",
       "      <td>Fibra Optica</td>\n",
       "      <td>No</td>\n",
       "      <td>No</td>\n",
       "      <td>Si</td>\n",
       "      <td>No</td>\n",
       "      <td>Si</td>\n",
       "      <td>Si</td>\n",
       "      <td>Mes a mes</td>\n",
       "      <td>Si</td>\n",
       "      <td>Checke por correo</td>\n",
       "      <td>94.20</td>\n",
       "      <td>777.3</td>\n",
       "      <td>1</td>\n",
       "    </tr>\n",
       "    <tr>\n",
       "      <th>3</th>\n",
       "      <td>ID00104</td>\n",
       "      <td>Masculino</td>\n",
       "      <td>0.0</td>\n",
       "      <td>Si</td>\n",
       "      <td>Si</td>\n",
       "      <td>50.0</td>\n",
       "      <td>No</td>\n",
       "      <td>Sin servicio telefonico</td>\n",
       "      <td>DSL</td>\n",
       "      <td>Si</td>\n",
       "      <td>No</td>\n",
       "      <td>No</td>\n",
       "      <td>No</td>\n",
       "      <td>Si</td>\n",
       "      <td>No</td>\n",
       "      <td>Mes a mes</td>\n",
       "      <td>Si</td>\n",
       "      <td>Transferencia bancaria (automatico)</td>\n",
       "      <td>39.45</td>\n",
       "      <td>2021.35</td>\n",
       "      <td>0</td>\n",
       "    </tr>\n",
       "    <tr>\n",
       "      <th>4</th>\n",
       "      <td>ID05060</td>\n",
       "      <td>Femenino</td>\n",
       "      <td>0.0</td>\n",
       "      <td>No</td>\n",
       "      <td>No</td>\n",
       "      <td>71.0</td>\n",
       "      <td>Si</td>\n",
       "      <td>Si</td>\n",
       "      <td>Fibra Optica</td>\n",
       "      <td>Si</td>\n",
       "      <td>Si</td>\n",
       "      <td>Si</td>\n",
       "      <td>Si</td>\n",
       "      <td>Si</td>\n",
       "      <td>Si</td>\n",
       "      <td>Bianual</td>\n",
       "      <td>Si</td>\n",
       "      <td>Checke por correo</td>\n",
       "      <td>118.65</td>\n",
       "      <td>NaN</td>\n",
       "      <td>0</td>\n",
       "    </tr>\n",
       "  </tbody>\n",
       "</table>\n",
       "</div>"
      ],
      "text/plain": [
       "        ID       Sexo  AdultoMayor Socio Dependientes  MesesCliente  \\\n",
       "0  ID01802  Masculino          1.0    No           No          11.0   \n",
       "1  ID05696  Masculino          0.0    No           No           1.0   \n",
       "2  ID03166   Femenino          0.0    Si           Si           8.0   \n",
       "3  ID00104  Masculino          0.0    Si           Si          50.0   \n",
       "4  ID05060   Femenino          0.0    No           No          71.0   \n",
       "\n",
       "  ServicioTelefonico          LineasMultiples ServicioInternet  \\\n",
       "0                 Si                       Si              DSL   \n",
       "1                 Si                       No               No   \n",
       "2                 Si                       No     Fibra Optica   \n",
       "3                 No  Sin servicio telefonico              DSL   \n",
       "4                 Si                       Si     Fibra Optica   \n",
       "\n",
       "            SeguridadOnline            RespaldoOnline  \\\n",
       "0                        Si                        Si   \n",
       "1  Sin servicio de internet  Sin servicio de internet   \n",
       "2                        No                        No   \n",
       "3                        Si                        No   \n",
       "4                        Si                        Si   \n",
       "\n",
       "      ProteccionDispositivo            SoporteTecnico  \\\n",
       "0                        No                        No   \n",
       "1  Sin servicio de internet  Sin servicio de internet   \n",
       "2                        Si                        No   \n",
       "3                        No                        No   \n",
       "4                        Si                        Si   \n",
       "\n",
       "              TransmisionTV      TransmisionPeliculas TerminoContrato  \\\n",
       "0                        No                        No       Mes a mes   \n",
       "1  Sin servicio de internet  Sin servicio de internet       Mes a mes   \n",
       "2                        Si                        Si       Mes a mes   \n",
       "3                        Si                        No       Mes a mes   \n",
       "4                        Si                        Si         Bianual   \n",
       "\n",
       "  FacturacionElectronica                           MetodoPago  \\\n",
       "0                     No      Tarjeta de credito (automatico)   \n",
       "1                     No                   Checke electronico   \n",
       "2                     Si                    Checke por correo   \n",
       "3                     Si  Transferencia bancaria (automatico)   \n",
       "4                     Si                    Checke por correo   \n",
       "\n",
       "   MontoCargadoMes MontoCargadoTotal  Churn  \n",
       "0            60.25            662.95      0  \n",
       "1            20.05             20.05      0  \n",
       "2            94.20             777.3      1  \n",
       "3            39.45           2021.35      0  \n",
       "4           118.65               NaN      0  "
      ]
     },
     "execution_count": 7,
     "metadata": {},
     "output_type": "execute_result"
    }
   ],
   "source": [
    "pd.set_option('display.max_columns',None)\n",
    "\n",
    "df_train.head()"
   ]
  },
  {
   "cell_type": "code",
   "execution_count": 8,
   "metadata": {
    "colab": {
     "base_uri": "https://localhost:8080/",
     "height": 249
    },
    "colab_type": "code",
    "id": "e6DC2WjQeHmC",
    "outputId": "46e491f9-b360-4958-8307-1086f9442fb1"
   },
   "outputs": [
    {
     "data": {
      "text/html": [
       "<div>\n",
       "<style scoped>\n",
       "    .dataframe tbody tr th:only-of-type {\n",
       "        vertical-align: middle;\n",
       "    }\n",
       "\n",
       "    .dataframe tbody tr th {\n",
       "        vertical-align: top;\n",
       "    }\n",
       "\n",
       "    .dataframe thead th {\n",
       "        text-align: right;\n",
       "    }\n",
       "</style>\n",
       "<table border=\"1\" class=\"dataframe\">\n",
       "  <thead>\n",
       "    <tr style=\"text-align: right;\">\n",
       "      <th></th>\n",
       "      <th>ID</th>\n",
       "      <th>Sexo</th>\n",
       "      <th>AdultoMayor</th>\n",
       "      <th>Socio</th>\n",
       "      <th>Dependientes</th>\n",
       "      <th>MesesCliente</th>\n",
       "      <th>ServicioTelefonico</th>\n",
       "      <th>LineasMultiples</th>\n",
       "      <th>ServicioInternet</th>\n",
       "      <th>SeguridadOnline</th>\n",
       "      <th>RespaldoOnline</th>\n",
       "      <th>ProteccionDispositivo</th>\n",
       "      <th>SoporteTecnico</th>\n",
       "      <th>TransmisionTV</th>\n",
       "      <th>TransmisionPeliculas</th>\n",
       "      <th>TerminoContrato</th>\n",
       "      <th>FacturacionElectronica</th>\n",
       "      <th>MetodoPago</th>\n",
       "      <th>MontoCargadoMes</th>\n",
       "      <th>MontoCargadoTotal</th>\n",
       "      <th>Churn</th>\n",
       "    </tr>\n",
       "  </thead>\n",
       "  <tbody>\n",
       "    <tr>\n",
       "      <th>0</th>\n",
       "      <td>ID05641</td>\n",
       "      <td>Masculino</td>\n",
       "      <td>0.0</td>\n",
       "      <td>No</td>\n",
       "      <td>Si</td>\n",
       "      <td>40.0</td>\n",
       "      <td>Si</td>\n",
       "      <td>No</td>\n",
       "      <td>DSL</td>\n",
       "      <td>Si</td>\n",
       "      <td>Si</td>\n",
       "      <td>No</td>\n",
       "      <td>No</td>\n",
       "      <td>No</td>\n",
       "      <td>No</td>\n",
       "      <td>Mes a mes</td>\n",
       "      <td>Si</td>\n",
       "      <td>Checke electronico</td>\n",
       "      <td>55.25</td>\n",
       "      <td>2139.20</td>\n",
       "      <td>1</td>\n",
       "    </tr>\n",
       "    <tr>\n",
       "      <th>1</th>\n",
       "      <td>ID04573</td>\n",
       "      <td>Femenino</td>\n",
       "      <td>NaN</td>\n",
       "      <td>No</td>\n",
       "      <td>No</td>\n",
       "      <td>30.0</td>\n",
       "      <td>Si</td>\n",
       "      <td>Si</td>\n",
       "      <td>Fibra Optica</td>\n",
       "      <td>No</td>\n",
       "      <td>Si</td>\n",
       "      <td>No</td>\n",
       "      <td>No</td>\n",
       "      <td>Si</td>\n",
       "      <td>Si</td>\n",
       "      <td>Mes a mes</td>\n",
       "      <td>Si</td>\n",
       "      <td>Checke por correo</td>\n",
       "      <td>99.70</td>\n",
       "      <td>2967.35</td>\n",
       "      <td>1</td>\n",
       "    </tr>\n",
       "    <tr>\n",
       "      <th>2</th>\n",
       "      <td>ID02010</td>\n",
       "      <td>Masculino</td>\n",
       "      <td>0.0</td>\n",
       "      <td>No</td>\n",
       "      <td>No</td>\n",
       "      <td>41.0</td>\n",
       "      <td>Si</td>\n",
       "      <td>Si</td>\n",
       "      <td>No</td>\n",
       "      <td>Sin servicio de internet</td>\n",
       "      <td>Sin servicio de internet</td>\n",
       "      <td>Sin servicio de internet</td>\n",
       "      <td>Sin servicio de internet</td>\n",
       "      <td>Sin servicio de internet</td>\n",
       "      <td>Sin servicio de internet</td>\n",
       "      <td>Mes a mes</td>\n",
       "      <td>Si</td>\n",
       "      <td>Tarjeta de credito (automatico)</td>\n",
       "      <td>25.25</td>\n",
       "      <td>996.45</td>\n",
       "      <td>0</td>\n",
       "    </tr>\n",
       "    <tr>\n",
       "      <th>3</th>\n",
       "      <td>ID06368</td>\n",
       "      <td>Femenino</td>\n",
       "      <td>0.0</td>\n",
       "      <td>Si</td>\n",
       "      <td>Si</td>\n",
       "      <td>19.0</td>\n",
       "      <td>Si</td>\n",
       "      <td>No</td>\n",
       "      <td>No</td>\n",
       "      <td>Sin servicio de internet</td>\n",
       "      <td>Sin servicio de internet</td>\n",
       "      <td>Sin servicio de internet</td>\n",
       "      <td>Sin servicio de internet</td>\n",
       "      <td>Sin servicio de internet</td>\n",
       "      <td>Sin servicio de internet</td>\n",
       "      <td>Bianual</td>\n",
       "      <td>No</td>\n",
       "      <td>Checke electronico</td>\n",
       "      <td>20.15</td>\n",
       "      <td>387.70</td>\n",
       "      <td>0</td>\n",
       "    </tr>\n",
       "    <tr>\n",
       "      <th>4</th>\n",
       "      <td>ID00434</td>\n",
       "      <td>Femenino</td>\n",
       "      <td>0.0</td>\n",
       "      <td>No</td>\n",
       "      <td>No</td>\n",
       "      <td>35.0</td>\n",
       "      <td>Si</td>\n",
       "      <td>Si</td>\n",
       "      <td>Fibra Optica</td>\n",
       "      <td>No</td>\n",
       "      <td>No</td>\n",
       "      <td>No</td>\n",
       "      <td>Si</td>\n",
       "      <td>No</td>\n",
       "      <td>No</td>\n",
       "      <td>Mes a mes</td>\n",
       "      <td>No</td>\n",
       "      <td>Transferencia bancaria (automatico)</td>\n",
       "      <td>80.05</td>\n",
       "      <td>2835.90</td>\n",
       "      <td>0</td>\n",
       "    </tr>\n",
       "  </tbody>\n",
       "</table>\n",
       "</div>"
      ],
      "text/plain": [
       "        ID       Sexo  AdultoMayor Socio Dependientes  MesesCliente  \\\n",
       "0  ID05641  Masculino          0.0    No           Si          40.0   \n",
       "1  ID04573   Femenino          NaN    No           No          30.0   \n",
       "2  ID02010  Masculino          0.0    No           No          41.0   \n",
       "3  ID06368   Femenino          0.0    Si           Si          19.0   \n",
       "4  ID00434   Femenino          0.0    No           No          35.0   \n",
       "\n",
       "  ServicioTelefonico LineasMultiples ServicioInternet  \\\n",
       "0                 Si              No              DSL   \n",
       "1                 Si              Si     Fibra Optica   \n",
       "2                 Si              Si               No   \n",
       "3                 Si              No               No   \n",
       "4                 Si              Si     Fibra Optica   \n",
       "\n",
       "            SeguridadOnline            RespaldoOnline  \\\n",
       "0                        Si                        Si   \n",
       "1                        No                        Si   \n",
       "2  Sin servicio de internet  Sin servicio de internet   \n",
       "3  Sin servicio de internet  Sin servicio de internet   \n",
       "4                        No                        No   \n",
       "\n",
       "      ProteccionDispositivo            SoporteTecnico  \\\n",
       "0                        No                        No   \n",
       "1                        No                        No   \n",
       "2  Sin servicio de internet  Sin servicio de internet   \n",
       "3  Sin servicio de internet  Sin servicio de internet   \n",
       "4                        No                        Si   \n",
       "\n",
       "              TransmisionTV      TransmisionPeliculas TerminoContrato  \\\n",
       "0                        No                        No       Mes a mes   \n",
       "1                        Si                        Si       Mes a mes   \n",
       "2  Sin servicio de internet  Sin servicio de internet       Mes a mes   \n",
       "3  Sin servicio de internet  Sin servicio de internet         Bianual   \n",
       "4                        No                        No       Mes a mes   \n",
       "\n",
       "  FacturacionElectronica                           MetodoPago  \\\n",
       "0                     Si                   Checke electronico   \n",
       "1                     Si                    Checke por correo   \n",
       "2                     Si      Tarjeta de credito (automatico)   \n",
       "3                     No                   Checke electronico   \n",
       "4                     No  Transferencia bancaria (automatico)   \n",
       "\n",
       "   MontoCargadoMes  MontoCargadoTotal  Churn  \n",
       "0            55.25            2139.20      1  \n",
       "1            99.70            2967.35      1  \n",
       "2            25.25             996.45      0  \n",
       "3            20.15             387.70      0  \n",
       "4            80.05            2835.90      0  "
      ]
     },
     "execution_count": 8,
     "metadata": {},
     "output_type": "execute_result"
    }
   ],
   "source": [
    "df_test.head()"
   ]
  },
  {
   "cell_type": "code",
   "execution_count": 9,
   "metadata": {
    "colab": {
     "base_uri": "https://localhost:8080/",
     "height": 286
    },
    "colab_type": "code",
    "id": "oyQfSVw3tSeG",
    "outputId": "574a21d9-84be-41c2-dfa3-1ff465f1885b"
   },
   "outputs": [
    {
     "name": "stdout",
     "output_type": "stream",
     "text": [
      "<class 'pandas.core.frame.DataFrame'>\n",
      "RangeIndex: 3800 entries, 0 to 3799\n",
      "Data columns (total 21 columns):\n",
      "ID                        3800 non-null object\n",
      "Sexo                      3800 non-null object\n",
      "AdultoMayor               3746 non-null float64\n",
      "Socio                     3774 non-null object\n",
      "Dependientes              3800 non-null object\n",
      "MesesCliente              3796 non-null float64\n",
      "ServicioTelefonico        3800 non-null object\n",
      "LineasMultiples           3800 non-null object\n",
      "ServicioInternet          3800 non-null object\n",
      "SeguridadOnline           3718 non-null object\n",
      "RespaldoOnline            3718 non-null object\n",
      "ProteccionDispositivo     3718 non-null object\n",
      "SoporteTecnico            3718 non-null object\n",
      "TransmisionTV             3718 non-null object\n",
      "TransmisionPeliculas      3718 non-null object\n",
      "TerminoContrato           3800 non-null object\n",
      "FacturacionElectronica    3756 non-null object\n",
      "MetodoPago                3800 non-null object\n",
      "MontoCargadoMes           3469 non-null float64\n",
      "MontoCargadoTotal         3609 non-null object\n",
      "Churn                     3800 non-null int64\n",
      "dtypes: float64(3), int64(1), object(17)\n",
      "memory usage: 623.5+ KB\n"
     ]
    }
   ],
   "source": [
    "df_train.info()"
   ]
  },
  {
   "cell_type": "code",
   "execution_count": 10,
   "metadata": {
    "colab": {
     "base_uri": "https://localhost:8080/",
     "height": 269
    },
    "colab_type": "code",
    "id": "Ov0whagqeJou",
    "outputId": "da1bf303-d11e-49a6-cb9c-8200602bd1df"
   },
   "outputs": [
    {
     "name": "stdout",
     "output_type": "stream",
     "text": [
      "<class 'pandas.core.frame.DataFrame'>\n",
      "RangeIndex: 777 entries, 0 to 776\n",
      "Data columns (total 21 columns):\n",
      "ID                        777 non-null object\n",
      "Sexo                      777 non-null object\n",
      "AdultoMayor               757 non-null float64\n",
      "Socio                     774 non-null object\n",
      "Dependientes              777 non-null object\n",
      "MesesCliente              777 non-null float64\n",
      "ServicioTelefonico        777 non-null object\n",
      "LineasMultiples           777 non-null object\n",
      "ServicioInternet          777 non-null object\n",
      "SeguridadOnline           765 non-null object\n",
      "RespaldoOnline            765 non-null object\n",
      "ProteccionDispositivo     765 non-null object\n",
      "SoporteTecnico            765 non-null object\n",
      "TransmisionTV             765 non-null object\n",
      "TransmisionPeliculas      765 non-null object\n",
      "TerminoContrato           777 non-null object\n",
      "FacturacionElectronica    775 non-null object\n",
      "MetodoPago                777 non-null object\n",
      "MontoCargadoMes           694 non-null float64\n",
      "MontoCargadoTotal         741 non-null float64\n",
      "Churn                     777 non-null int64\n",
      "dtypes: float64(4), int64(1), object(16)\n",
      "memory usage: 127.6+ KB\n"
     ]
    }
   ],
   "source": [
    "df_test.info()"
   ]
  },
  {
   "cell_type": "code",
   "execution_count": 11,
   "metadata": {
    "colab": {},
    "colab_type": "code",
    "id": "RO-fGVkrtSeN"
   },
   "outputs": [],
   "source": [
    "# Definiendo tipos\n",
    "ID = 'ID'\n",
    "TARGET = 'Churn'"
   ]
  },
  {
   "cell_type": "code",
   "execution_count": 12,
   "metadata": {
    "colab": {
     "base_uri": "https://localhost:8080/",
     "height": 67
    },
    "colab_type": "code",
    "id": "EdwIGExolcQ7",
    "outputId": "1fc079d8-1f62-4b52-f195-9c00129e21a3"
   },
   "outputs": [
    {
     "data": {
      "text/plain": [
       "0    2776\n",
       "1    1024\n",
       "Name: Churn, dtype: int64"
      ]
     },
     "execution_count": 12,
     "metadata": {},
     "output_type": "execute_result"
    }
   ],
   "source": [
    "# Distribución del Target\n",
    "df_train[TARGET].value_counts(dropna=False)"
   ]
  },
  {
   "cell_type": "code",
   "execution_count": 13,
   "metadata": {
    "colab": {
     "base_uri": "https://localhost:8080/",
     "height": 67
    },
    "colab_type": "code",
    "id": "mltQbD5dln-Z",
    "outputId": "ad572b19-f5ea-47c4-8980-b61bd0bdaeb5"
   },
   "outputs": [
    {
     "data": {
      "text/plain": [
       "0    73.052632\n",
       "1    26.947368\n",
       "Name: Churn, dtype: float64"
      ]
     },
     "execution_count": 13,
     "metadata": {},
     "output_type": "execute_result"
    }
   ],
   "source": [
    "df_train[TARGET].value_counts(dropna=False, normalize = True)*100"
   ]
  },
  {
   "cell_type": "code",
   "execution_count": 14,
   "metadata": {
    "colab": {
     "base_uri": "https://localhost:8080/",
     "height": 373
    },
    "colab_type": "code",
    "id": "4ZCj9ubHPRWf",
    "outputId": "c836ee21-8837-4c2e-c005-ac90a703903b"
   },
   "outputs": [
    {
     "data": {
      "text/html": [
       "<div>\n",
       "<style scoped>\n",
       "    .dataframe tbody tr th:only-of-type {\n",
       "        vertical-align: middle;\n",
       "    }\n",
       "\n",
       "    .dataframe tbody tr th {\n",
       "        vertical-align: top;\n",
       "    }\n",
       "\n",
       "    .dataframe thead th {\n",
       "        text-align: right;\n",
       "    }\n",
       "</style>\n",
       "<table border=\"1\" class=\"dataframe\">\n",
       "  <thead>\n",
       "    <tr style=\"text-align: right;\">\n",
       "      <th></th>\n",
       "      <th>count</th>\n",
       "      <th>unique</th>\n",
       "      <th>top</th>\n",
       "      <th>freq</th>\n",
       "      <th>mean</th>\n",
       "      <th>std</th>\n",
       "      <th>min</th>\n",
       "      <th>25%</th>\n",
       "      <th>50%</th>\n",
       "      <th>75%</th>\n",
       "      <th>max</th>\n",
       "    </tr>\n",
       "  </thead>\n",
       "  <tbody>\n",
       "    <tr>\n",
       "      <th>ID</th>\n",
       "      <td>3800</td>\n",
       "      <td>3800</td>\n",
       "      <td>ID01160</td>\n",
       "      <td>1</td>\n",
       "      <td>NaN</td>\n",
       "      <td>NaN</td>\n",
       "      <td>NaN</td>\n",
       "      <td>NaN</td>\n",
       "      <td>NaN</td>\n",
       "      <td>NaN</td>\n",
       "      <td>NaN</td>\n",
       "    </tr>\n",
       "    <tr>\n",
       "      <th>Sexo</th>\n",
       "      <td>3800</td>\n",
       "      <td>2</td>\n",
       "      <td>Masculino</td>\n",
       "      <td>1941</td>\n",
       "      <td>NaN</td>\n",
       "      <td>NaN</td>\n",
       "      <td>NaN</td>\n",
       "      <td>NaN</td>\n",
       "      <td>NaN</td>\n",
       "      <td>NaN</td>\n",
       "      <td>NaN</td>\n",
       "    </tr>\n",
       "    <tr>\n",
       "      <th>AdultoMayor</th>\n",
       "      <td>3800</td>\n",
       "      <td>3</td>\n",
       "      <td>0.0</td>\n",
       "      <td>3177</td>\n",
       "      <td>NaN</td>\n",
       "      <td>NaN</td>\n",
       "      <td>NaN</td>\n",
       "      <td>NaN</td>\n",
       "      <td>NaN</td>\n",
       "      <td>NaN</td>\n",
       "      <td>NaN</td>\n",
       "    </tr>\n",
       "    <tr>\n",
       "      <th>Socio</th>\n",
       "      <td>3774</td>\n",
       "      <td>2</td>\n",
       "      <td>No</td>\n",
       "      <td>1987</td>\n",
       "      <td>NaN</td>\n",
       "      <td>NaN</td>\n",
       "      <td>NaN</td>\n",
       "      <td>NaN</td>\n",
       "      <td>NaN</td>\n",
       "      <td>NaN</td>\n",
       "      <td>NaN</td>\n",
       "    </tr>\n",
       "    <tr>\n",
       "      <th>Dependientes</th>\n",
       "      <td>3800</td>\n",
       "      <td>2</td>\n",
       "      <td>No</td>\n",
       "      <td>2673</td>\n",
       "      <td>NaN</td>\n",
       "      <td>NaN</td>\n",
       "      <td>NaN</td>\n",
       "      <td>NaN</td>\n",
       "      <td>NaN</td>\n",
       "      <td>NaN</td>\n",
       "      <td>NaN</td>\n",
       "    </tr>\n",
       "    <tr>\n",
       "      <th>MesesCliente</th>\n",
       "      <td>3796</td>\n",
       "      <td>NaN</td>\n",
       "      <td>NaN</td>\n",
       "      <td>NaN</td>\n",
       "      <td>32.3567</td>\n",
       "      <td>24.7228</td>\n",
       "      <td>1</td>\n",
       "      <td>9</td>\n",
       "      <td>29</td>\n",
       "      <td>56</td>\n",
       "      <td>72</td>\n",
       "    </tr>\n",
       "    <tr>\n",
       "      <th>ServicioTelefonico</th>\n",
       "      <td>3800</td>\n",
       "      <td>2</td>\n",
       "      <td>Si</td>\n",
       "      <td>3426</td>\n",
       "      <td>NaN</td>\n",
       "      <td>NaN</td>\n",
       "      <td>NaN</td>\n",
       "      <td>NaN</td>\n",
       "      <td>NaN</td>\n",
       "      <td>NaN</td>\n",
       "      <td>NaN</td>\n",
       "    </tr>\n",
       "    <tr>\n",
       "      <th>LineasMultiples</th>\n",
       "      <td>3800</td>\n",
       "      <td>3</td>\n",
       "      <td>No</td>\n",
       "      <td>1834</td>\n",
       "      <td>NaN</td>\n",
       "      <td>NaN</td>\n",
       "      <td>NaN</td>\n",
       "      <td>NaN</td>\n",
       "      <td>NaN</td>\n",
       "      <td>NaN</td>\n",
       "      <td>NaN</td>\n",
       "    </tr>\n",
       "    <tr>\n",
       "      <th>ServicioInternet</th>\n",
       "      <td>3800</td>\n",
       "      <td>3</td>\n",
       "      <td>Fibra Optica</td>\n",
       "      <td>1668</td>\n",
       "      <td>NaN</td>\n",
       "      <td>NaN</td>\n",
       "      <td>NaN</td>\n",
       "      <td>NaN</td>\n",
       "      <td>NaN</td>\n",
       "      <td>NaN</td>\n",
       "      <td>NaN</td>\n",
       "    </tr>\n",
       "    <tr>\n",
       "      <th>SeguridadOnline</th>\n",
       "      <td>3718</td>\n",
       "      <td>3</td>\n",
       "      <td>No</td>\n",
       "      <td>1879</td>\n",
       "      <td>NaN</td>\n",
       "      <td>NaN</td>\n",
       "      <td>NaN</td>\n",
       "      <td>NaN</td>\n",
       "      <td>NaN</td>\n",
       "      <td>NaN</td>\n",
       "      <td>NaN</td>\n",
       "    </tr>\n",
       "    <tr>\n",
       "      <th>RespaldoOnline</th>\n",
       "      <td>3718</td>\n",
       "      <td>3</td>\n",
       "      <td>No</td>\n",
       "      <td>1650</td>\n",
       "      <td>NaN</td>\n",
       "      <td>NaN</td>\n",
       "      <td>NaN</td>\n",
       "      <td>NaN</td>\n",
       "      <td>NaN</td>\n",
       "      <td>NaN</td>\n",
       "      <td>NaN</td>\n",
       "    </tr>\n",
       "    <tr>\n",
       "      <th>ProteccionDispositivo</th>\n",
       "      <td>3718</td>\n",
       "      <td>3</td>\n",
       "      <td>No</td>\n",
       "      <td>1713</td>\n",
       "      <td>NaN</td>\n",
       "      <td>NaN</td>\n",
       "      <td>NaN</td>\n",
       "      <td>NaN</td>\n",
       "      <td>NaN</td>\n",
       "      <td>NaN</td>\n",
       "      <td>NaN</td>\n",
       "    </tr>\n",
       "    <tr>\n",
       "      <th>SoporteTecnico</th>\n",
       "      <td>3718</td>\n",
       "      <td>3</td>\n",
       "      <td>No</td>\n",
       "      <td>1897</td>\n",
       "      <td>NaN</td>\n",
       "      <td>NaN</td>\n",
       "      <td>NaN</td>\n",
       "      <td>NaN</td>\n",
       "      <td>NaN</td>\n",
       "      <td>NaN</td>\n",
       "      <td>NaN</td>\n",
       "    </tr>\n",
       "    <tr>\n",
       "      <th>TransmisionTV</th>\n",
       "      <td>3718</td>\n",
       "      <td>3</td>\n",
       "      <td>No</td>\n",
       "      <td>1530</td>\n",
       "      <td>NaN</td>\n",
       "      <td>NaN</td>\n",
       "      <td>NaN</td>\n",
       "      <td>NaN</td>\n",
       "      <td>NaN</td>\n",
       "      <td>NaN</td>\n",
       "      <td>NaN</td>\n",
       "    </tr>\n",
       "    <tr>\n",
       "      <th>TransmisionPeliculas</th>\n",
       "      <td>3718</td>\n",
       "      <td>3</td>\n",
       "      <td>No</td>\n",
       "      <td>1518</td>\n",
       "      <td>NaN</td>\n",
       "      <td>NaN</td>\n",
       "      <td>NaN</td>\n",
       "      <td>NaN</td>\n",
       "      <td>NaN</td>\n",
       "      <td>NaN</td>\n",
       "      <td>NaN</td>\n",
       "    </tr>\n",
       "    <tr>\n",
       "      <th>TerminoContrato</th>\n",
       "      <td>3800</td>\n",
       "      <td>3</td>\n",
       "      <td>Mes a mes</td>\n",
       "      <td>2109</td>\n",
       "      <td>NaN</td>\n",
       "      <td>NaN</td>\n",
       "      <td>NaN</td>\n",
       "      <td>NaN</td>\n",
       "      <td>NaN</td>\n",
       "      <td>NaN</td>\n",
       "      <td>NaN</td>\n",
       "    </tr>\n",
       "    <tr>\n",
       "      <th>FacturacionElectronica</th>\n",
       "      <td>3756</td>\n",
       "      <td>2</td>\n",
       "      <td>Si</td>\n",
       "      <td>2272</td>\n",
       "      <td>NaN</td>\n",
       "      <td>NaN</td>\n",
       "      <td>NaN</td>\n",
       "      <td>NaN</td>\n",
       "      <td>NaN</td>\n",
       "      <td>NaN</td>\n",
       "      <td>NaN</td>\n",
       "    </tr>\n",
       "    <tr>\n",
       "      <th>MetodoPago</th>\n",
       "      <td>3800</td>\n",
       "      <td>4</td>\n",
       "      <td>Checke por correo</td>\n",
       "      <td>1313</td>\n",
       "      <td>NaN</td>\n",
       "      <td>NaN</td>\n",
       "      <td>NaN</td>\n",
       "      <td>NaN</td>\n",
       "      <td>NaN</td>\n",
       "      <td>NaN</td>\n",
       "      <td>NaN</td>\n",
       "    </tr>\n",
       "    <tr>\n",
       "      <th>MontoCargadoMes</th>\n",
       "      <td>3469</td>\n",
       "      <td>NaN</td>\n",
       "      <td>NaN</td>\n",
       "      <td>NaN</td>\n",
       "      <td>68.8377</td>\n",
       "      <td>27.9951</td>\n",
       "      <td>20</td>\n",
       "      <td>48.8</td>\n",
       "      <td>74.45</td>\n",
       "      <td>90.95</td>\n",
       "      <td>118.65</td>\n",
       "    </tr>\n",
       "    <tr>\n",
       "      <th>MontoCargadoTotal</th>\n",
       "      <td>3609</td>\n",
       "      <td>3423</td>\n",
       "      <td>20.2</td>\n",
       "      <td>9</td>\n",
       "      <td>NaN</td>\n",
       "      <td>NaN</td>\n",
       "      <td>NaN</td>\n",
       "      <td>NaN</td>\n",
       "      <td>NaN</td>\n",
       "      <td>NaN</td>\n",
       "      <td>NaN</td>\n",
       "    </tr>\n",
       "    <tr>\n",
       "      <th>Churn</th>\n",
       "      <td>3800</td>\n",
       "      <td>NaN</td>\n",
       "      <td>NaN</td>\n",
       "      <td>NaN</td>\n",
       "      <td>0.269474</td>\n",
       "      <td>0.443745</td>\n",
       "      <td>0</td>\n",
       "      <td>0</td>\n",
       "      <td>0</td>\n",
       "      <td>1</td>\n",
       "      <td>1</td>\n",
       "    </tr>\n",
       "  </tbody>\n",
       "</table>\n",
       "</div>"
      ],
      "text/plain": [
       "                       count unique                top  freq      mean  \\\n",
       "ID                      3800   3800            ID01160     1       NaN   \n",
       "Sexo                    3800      2          Masculino  1941       NaN   \n",
       "AdultoMayor             3800      3                0.0  3177       NaN   \n",
       "Socio                   3774      2                 No  1987       NaN   \n",
       "Dependientes            3800      2                 No  2673       NaN   \n",
       "MesesCliente            3796    NaN                NaN   NaN   32.3567   \n",
       "ServicioTelefonico      3800      2                 Si  3426       NaN   \n",
       "LineasMultiples         3800      3                 No  1834       NaN   \n",
       "ServicioInternet        3800      3       Fibra Optica  1668       NaN   \n",
       "SeguridadOnline         3718      3                 No  1879       NaN   \n",
       "RespaldoOnline          3718      3                 No  1650       NaN   \n",
       "ProteccionDispositivo   3718      3                 No  1713       NaN   \n",
       "SoporteTecnico          3718      3                 No  1897       NaN   \n",
       "TransmisionTV           3718      3                 No  1530       NaN   \n",
       "TransmisionPeliculas    3718      3                 No  1518       NaN   \n",
       "TerminoContrato         3800      3          Mes a mes  2109       NaN   \n",
       "FacturacionElectronica  3756      2                 Si  2272       NaN   \n",
       "MetodoPago              3800      4  Checke por correo  1313       NaN   \n",
       "MontoCargadoMes         3469    NaN                NaN   NaN   68.8377   \n",
       "MontoCargadoTotal       3609   3423               20.2     9       NaN   \n",
       "Churn                   3800    NaN                NaN   NaN  0.269474   \n",
       "\n",
       "                             std  min   25%    50%    75%     max  \n",
       "ID                           NaN  NaN   NaN    NaN    NaN     NaN  \n",
       "Sexo                         NaN  NaN   NaN    NaN    NaN     NaN  \n",
       "AdultoMayor                  NaN  NaN   NaN    NaN    NaN     NaN  \n",
       "Socio                        NaN  NaN   NaN    NaN    NaN     NaN  \n",
       "Dependientes                 NaN  NaN   NaN    NaN    NaN     NaN  \n",
       "MesesCliente             24.7228    1     9     29     56      72  \n",
       "ServicioTelefonico           NaN  NaN   NaN    NaN    NaN     NaN  \n",
       "LineasMultiples              NaN  NaN   NaN    NaN    NaN     NaN  \n",
       "ServicioInternet             NaN  NaN   NaN    NaN    NaN     NaN  \n",
       "SeguridadOnline              NaN  NaN   NaN    NaN    NaN     NaN  \n",
       "RespaldoOnline               NaN  NaN   NaN    NaN    NaN     NaN  \n",
       "ProteccionDispositivo        NaN  NaN   NaN    NaN    NaN     NaN  \n",
       "SoporteTecnico               NaN  NaN   NaN    NaN    NaN     NaN  \n",
       "TransmisionTV                NaN  NaN   NaN    NaN    NaN     NaN  \n",
       "TransmisionPeliculas         NaN  NaN   NaN    NaN    NaN     NaN  \n",
       "TerminoContrato              NaN  NaN   NaN    NaN    NaN     NaN  \n",
       "FacturacionElectronica       NaN  NaN   NaN    NaN    NaN     NaN  \n",
       "MetodoPago                   NaN  NaN   NaN    NaN    NaN     NaN  \n",
       "MontoCargadoMes          27.9951   20  48.8  74.45  90.95  118.65  \n",
       "MontoCargadoTotal            NaN  NaN   NaN    NaN    NaN     NaN  \n",
       "Churn                   0.443745    0     0      0      1       1  "
      ]
     },
     "execution_count": 14,
     "metadata": {},
     "output_type": "execute_result"
    }
   ],
   "source": [
    "# Generar estadisticos básicos para cada variable:\n",
    "### count: Count number of non-NA/null observations.\t\n",
    "### unique: Count uniques numbers of non-NA/null observations.\n",
    "### top: Mean of the values.\n",
    "### freq: Mean of the values.\n",
    "\n",
    "### mean: Mean of the values.\n",
    "### std: Standard deviation of the observations.\n",
    "\n",
    "### min: Minimum of the values in the object.\n",
    "### X%: The value of Quartil: 25% - Q1 , 50% - Q2, 75% - Q3\n",
    "### max: Maximum of the values in the object.\n",
    "\n",
    "df_train['AdultoMayor'] = df_train['AdultoMayor'].astype(str) # Convertir a variable categorica\n",
    "df_train.describe(include = 'all').T"
   ]
  },
  {
   "cell_type": "code",
   "execution_count": 15,
   "metadata": {
    "colab": {},
    "colab_type": "code",
    "id": "dofE1GmsVP03"
   },
   "outputs": [],
   "source": [
    "df_train['AdultoMayor'] = df_train['AdultoMayor'].astype(float) # Convertir a variable numerica"
   ]
  },
  {
   "cell_type": "markdown",
   "metadata": {
    "colab_type": "text",
    "id": "iRIi0a0jZTJe"
   },
   "source": [
    "### 2.2.2) EDA (Exploratory Data Analysis)"
   ]
  },
  {
   "cell_type": "markdown",
   "metadata": {
    "colab_type": "text",
    "id": "7dJoUHDiRHcV"
   },
   "source": [
    "#### 2.2.2.a) Evaluando Nulos"
   ]
  },
  {
   "cell_type": "code",
   "execution_count": 16,
   "metadata": {
    "colab": {
     "base_uri": "https://localhost:8080/",
     "height": 770
    },
    "colab_type": "code",
    "id": "52fiuBSCRHZN",
    "outputId": "592804c7-a847-4df9-995e-b994947695ab"
   },
   "outputs": [
    {
     "data": {
      "text/plain": [
       "<matplotlib.axes._subplots.AxesSubplot at 0x173bc780780>"
      ]
     },
     "execution_count": 16,
     "metadata": {},
     "output_type": "execute_result"
    },
    {
     "data": {
      "image/png": "[encoded data removed]",
      "text/plain": [
       "<Figure size 1800x720 with 2 Axes>"
      ]
     },
     "metadata": {
      "needs_background": "light"
     },
     "output_type": "display_data"
    }
   ],
   "source": [
    "import missingno as msno\n",
    "msno.matrix(df_train)"
   ]
  },
  {
   "cell_type": "code",
   "execution_count": 17,
   "metadata": {
    "colab": {
     "base_uri": "https://localhost:8080/",
     "height": 770
    },
    "colab_type": "code",
    "id": "_QGMM1zPRHWM",
    "outputId": "0d41e64e-518c-4578-d7ea-adf128718b7a"
   },
   "outputs": [
    {
     "data": {
      "text/plain": [
       "<matplotlib.axes._subplots.AxesSubplot at 0x173bc8537f0>"
      ]
     },
     "execution_count": 17,
     "metadata": {},
     "output_type": "execute_result"
    },
    {
     "data": {
      "image/png": "[encoded data removed]",
      "text/plain": [
       "<Figure size 1800x720 with 2 Axes>"
      ]
     },
     "metadata": {
      "needs_background": "light"
     },
     "output_type": "display_data"
    }
   ],
   "source": [
    "msno.matrix(df_test)"
   ]
  },
  {
   "cell_type": "markdown",
   "metadata": {
    "colab_type": "text",
    "id": "F7iG2IaUJXI_"
   },
   "source": [
    "#### 2.2.3.b) Identificando outliers"
   ]
  },
  {
   "cell_type": "code",
   "execution_count": 18,
   "metadata": {
    "colab": {},
    "colab_type": "code",
    "id": "ZrScFpMGJdr1"
   },
   "outputs": [],
   "source": [
    "lista_obj = []\n",
    "lista_num = []\n",
    "\n",
    "for col in df_train.columns:\n",
    "    if df_train[col].dtype == 'object':\n",
    "        lista_obj.append(col)\n",
    "    else: \n",
    "        lista_num.append(col)"
   ]
  },
  {
   "cell_type": "code",
   "execution_count": 19,
   "metadata": {},
   "outputs": [
    {
     "data": {
      "image/png": "[encoded data removed]",
      "text/plain": [
       "<Figure size 432x288 with 1 Axes>"
      ]
     },
     "metadata": {
      "needs_background": "light"
     },
     "output_type": "display_data"
    },
    {
     "data": {
      "image/png": "[encoded data removed]",
      "text/plain": [
       "<Figure size 432x288 with 1 Axes>"
      ]
     },
     "metadata": {
      "needs_background": "light"
     },
     "output_type": "display_data"
    },
    {
     "data": {
      "image/png": "[encoded data removed]",
      "text/plain": [
       "<Figure size 432x288 with 1 Axes>"
      ]
     },
     "metadata": {
      "needs_background": "light"
     },
     "output_type": "display_data"
    },
    {
     "data": {
      "image/png": "[encoded data removed]",
      "text/plain": [
       "<Figure size 432x288 with 1 Axes>"
      ]
     },
     "metadata": {
      "needs_background": "light"
     },
     "output_type": "display_data"
    }
   ],
   "source": [
    "for col in lista_num:\n",
    "    sns.distplot(df_train[col].dropna())\n",
    "    plt.show()"
   ]
  },
  {
   "cell_type": "code",
   "execution_count": null,
   "metadata": {},
   "outputs": [],
   "source": []
  },
  {
   "cell_type": "markdown",
   "metadata": {
    "colab_type": "text",
    "id": "VWjwo_HsJpUY"
   },
   "source": [
    "#### 2.2.4.c) Adicionales"
   ]
  },
  {
   "cell_type": "code",
   "execution_count": 20,
   "metadata": {
    "colab": {},
    "colab_type": "code",
    "id": "5M3Hl6X_JzdU"
   },
   "outputs": [],
   "source": [
    "None"
   ]
  },
  {
   "cell_type": "markdown",
   "metadata": {
    "colab_type": "text",
    "id": "AWXglcCQtSeQ"
   },
   "source": [
    "# 3) Preparación de la data"
   ]
  },
  {
   "cell_type": "code",
   "execution_count": 21,
   "metadata": {
    "colab": {},
    "colab_type": "code",
    "id": "hCL3BNjgg7sw"
   },
   "outputs": [],
   "source": [
    "# Copy dataset and then apply transformation to copied dataset\n",
    "ds_train = df_train.copy()"
   ]
  },
  {
   "cell_type": "code",
   "execution_count": 22,
   "metadata": {
    "colab": {},
    "colab_type": "code",
    "id": "k3QMhc7uhMFO"
   },
   "outputs": [],
   "source": [
    "ds_test = df_test.copy()"
   ]
  },
  {
   "cell_type": "markdown",
   "metadata": {
    "colab_type": "text",
    "id": "8RlHmp8iSc8q"
   },
   "source": [
    "## 3.1) Limpieza de los datos"
   ]
  },
  {
   "cell_type": "markdown",
   "metadata": {
    "colab_type": "text",
    "id": "qSmqLuP1Sdsi"
   },
   "source": [
    "### 3.1.1) Imputando Nulos"
   ]
  },
  {
   "cell_type": "code",
   "execution_count": 23,
   "metadata": {
    "colab": {},
    "colab_type": "code",
    "id": "4-PBhyO-Sx5y"
   },
   "outputs": [],
   "source": [
    "# AdultoMayor (imputacion por MODA)\n",
    "\n",
    "\n",
    "ds_train[col].mode()[0]\n",
    "ds_train[col].mean()\n",
    "\n",
    "def replace_my_nulls(df, lista_obj, lista_num):\n",
    "    for col_obj in lista_obj:\n",
    "        df[col_obj].fillna(df[col_obj].mode()[0], inplace=True)\n",
    "    for col_num in lista_num:\n",
    "        df[col_num].fillna(df[col_num].mean(), inplace=True)"
   ]
  },
  {
   "cell_type": "code",
   "execution_count": 24,
   "metadata": {},
   "outputs": [],
   "source": [
    "replace_my_nulls(ds_train, lista_obj, lista_num)\n",
    "replace_my_nulls(ds_test, lista_obj, lista_num)                                "
   ]
  },
  {
   "cell_type": "code",
   "execution_count": null,
   "metadata": {},
   "outputs": [],
   "source": []
  },
  {
   "cell_type": "markdown",
   "metadata": {
    "colab_type": "text",
    "id": "EpWOSxEVmOZw"
   },
   "source": [
    "### 3.1.2) Tratando outliers"
   ]
  },
  {
   "cell_type": "code",
   "execution_count": 25,
   "metadata": {
    "colab": {},
    "colab_type": "code",
    "id": "1uicAsRQSxP8"
   },
   "outputs": [],
   "source": [
    "None"
   ]
  },
  {
   "cell_type": "markdown",
   "metadata": {
    "colab_type": "text",
    "id": "jTleGBPXtSeS"
   },
   "source": [
    "## 3.2) Transformando la data (Encoding)"
   ]
  },
  {
   "cell_type": "code",
   "execution_count": 26,
   "metadata": {
    "colab": {
     "base_uri": "https://localhost:8080/",
     "height": 249
    },
    "colab_type": "code",
    "id": "hRHZBhydeErU",
    "outputId": "75da7fdf-7bab-4b27-88e4-21e73b3fe3aa"
   },
   "outputs": [
    {
     "data": {
      "text/html": [
       "<div>\n",
       "<style scoped>\n",
       "    .dataframe tbody tr th:only-of-type {\n",
       "        vertical-align: middle;\n",
       "    }\n",
       "\n",
       "    .dataframe tbody tr th {\n",
       "        vertical-align: top;\n",
       "    }\n",
       "\n",
       "    .dataframe thead th {\n",
       "        text-align: right;\n",
       "    }\n",
       "</style>\n",
       "<table border=\"1\" class=\"dataframe\">\n",
       "  <thead>\n",
       "    <tr style=\"text-align: right;\">\n",
       "      <th></th>\n",
       "      <th>ID</th>\n",
       "      <th>Sexo</th>\n",
       "      <th>AdultoMayor</th>\n",
       "      <th>Socio</th>\n",
       "      <th>Dependientes</th>\n",
       "      <th>MesesCliente</th>\n",
       "      <th>ServicioTelefonico</th>\n",
       "      <th>LineasMultiples</th>\n",
       "      <th>ServicioInternet</th>\n",
       "      <th>SeguridadOnline</th>\n",
       "      <th>RespaldoOnline</th>\n",
       "      <th>ProteccionDispositivo</th>\n",
       "      <th>SoporteTecnico</th>\n",
       "      <th>TransmisionTV</th>\n",
       "      <th>TransmisionPeliculas</th>\n",
       "      <th>TerminoContrato</th>\n",
       "      <th>FacturacionElectronica</th>\n",
       "      <th>MetodoPago</th>\n",
       "      <th>MontoCargadoMes</th>\n",
       "      <th>MontoCargadoTotal</th>\n",
       "      <th>Churn</th>\n",
       "    </tr>\n",
       "  </thead>\n",
       "  <tbody>\n",
       "    <tr>\n",
       "      <th>0</th>\n",
       "      <td>ID01802</td>\n",
       "      <td>Masculino</td>\n",
       "      <td>1.0</td>\n",
       "      <td>No</td>\n",
       "      <td>No</td>\n",
       "      <td>11.0</td>\n",
       "      <td>Si</td>\n",
       "      <td>Si</td>\n",
       "      <td>DSL</td>\n",
       "      <td>Si</td>\n",
       "      <td>Si</td>\n",
       "      <td>No</td>\n",
       "      <td>No</td>\n",
       "      <td>No</td>\n",
       "      <td>No</td>\n",
       "      <td>Mes a mes</td>\n",
       "      <td>No</td>\n",
       "      <td>Tarjeta de credito (automatico)</td>\n",
       "      <td>60.25</td>\n",
       "      <td>662.95</td>\n",
       "      <td>0</td>\n",
       "    </tr>\n",
       "    <tr>\n",
       "      <th>1</th>\n",
       "      <td>ID05696</td>\n",
       "      <td>Masculino</td>\n",
       "      <td>0.0</td>\n",
       "      <td>No</td>\n",
       "      <td>No</td>\n",
       "      <td>1.0</td>\n",
       "      <td>Si</td>\n",
       "      <td>No</td>\n",
       "      <td>No</td>\n",
       "      <td>Sin servicio de internet</td>\n",
       "      <td>Sin servicio de internet</td>\n",
       "      <td>Sin servicio de internet</td>\n",
       "      <td>Sin servicio de internet</td>\n",
       "      <td>Sin servicio de internet</td>\n",
       "      <td>Sin servicio de internet</td>\n",
       "      <td>Mes a mes</td>\n",
       "      <td>No</td>\n",
       "      <td>Checke electronico</td>\n",
       "      <td>20.05</td>\n",
       "      <td>20.05</td>\n",
       "      <td>0</td>\n",
       "    </tr>\n",
       "    <tr>\n",
       "      <th>2</th>\n",
       "      <td>ID03166</td>\n",
       "      <td>Femenino</td>\n",
       "      <td>0.0</td>\n",
       "      <td>Si</td>\n",
       "      <td>Si</td>\n",
       "      <td>8.0</td>\n",
       "      <td>Si</td>\n",
       "      <td>No</td>\n",
       "      <td>Fibra Optica</td>\n",
       "      <td>No</td>\n",
       "      <td>No</td>\n",
       "      <td>Si</td>\n",
       "      <td>No</td>\n",
       "      <td>Si</td>\n",
       "      <td>Si</td>\n",
       "      <td>Mes a mes</td>\n",
       "      <td>Si</td>\n",
       "      <td>Checke por correo</td>\n",
       "      <td>94.20</td>\n",
       "      <td>777.3</td>\n",
       "      <td>1</td>\n",
       "    </tr>\n",
       "    <tr>\n",
       "      <th>3</th>\n",
       "      <td>ID00104</td>\n",
       "      <td>Masculino</td>\n",
       "      <td>0.0</td>\n",
       "      <td>Si</td>\n",
       "      <td>Si</td>\n",
       "      <td>50.0</td>\n",
       "      <td>No</td>\n",
       "      <td>Sin servicio telefonico</td>\n",
       "      <td>DSL</td>\n",
       "      <td>Si</td>\n",
       "      <td>No</td>\n",
       "      <td>No</td>\n",
       "      <td>No</td>\n",
       "      <td>Si</td>\n",
       "      <td>No</td>\n",
       "      <td>Mes a mes</td>\n",
       "      <td>Si</td>\n",
       "      <td>Transferencia bancaria (automatico)</td>\n",
       "      <td>39.45</td>\n",
       "      <td>2021.35</td>\n",
       "      <td>0</td>\n",
       "    </tr>\n",
       "    <tr>\n",
       "      <th>4</th>\n",
       "      <td>ID05060</td>\n",
       "      <td>Femenino</td>\n",
       "      <td>0.0</td>\n",
       "      <td>No</td>\n",
       "      <td>No</td>\n",
       "      <td>71.0</td>\n",
       "      <td>Si</td>\n",
       "      <td>Si</td>\n",
       "      <td>Fibra Optica</td>\n",
       "      <td>Si</td>\n",
       "      <td>Si</td>\n",
       "      <td>Si</td>\n",
       "      <td>Si</td>\n",
       "      <td>Si</td>\n",
       "      <td>Si</td>\n",
       "      <td>Bianual</td>\n",
       "      <td>Si</td>\n",
       "      <td>Checke por correo</td>\n",
       "      <td>118.65</td>\n",
       "      <td>20.2</td>\n",
       "      <td>0</td>\n",
       "    </tr>\n",
       "  </tbody>\n",
       "</table>\n",
       "</div>"
      ],
      "text/plain": [
       "        ID       Sexo  AdultoMayor Socio Dependientes  MesesCliente  \\\n",
       "0  ID01802  Masculino          1.0    No           No          11.0   \n",
       "1  ID05696  Masculino          0.0    No           No           1.0   \n",
       "2  ID03166   Femenino          0.0    Si           Si           8.0   \n",
       "3  ID00104  Masculino          0.0    Si           Si          50.0   \n",
       "4  ID05060   Femenino          0.0    No           No          71.0   \n",
       "\n",
       "  ServicioTelefonico          LineasMultiples ServicioInternet  \\\n",
       "0                 Si                       Si              DSL   \n",
       "1                 Si                       No               No   \n",
       "2                 Si                       No     Fibra Optica   \n",
       "3                 No  Sin servicio telefonico              DSL   \n",
       "4                 Si                       Si     Fibra Optica   \n",
       "\n",
       "            SeguridadOnline            RespaldoOnline  \\\n",
       "0                        Si                        Si   \n",
       "1  Sin servicio de internet  Sin servicio de internet   \n",
       "2                        No                        No   \n",
       "3                        Si                        No   \n",
       "4                        Si                        Si   \n",
       "\n",
       "      ProteccionDispositivo            SoporteTecnico  \\\n",
       "0                        No                        No   \n",
       "1  Sin servicio de internet  Sin servicio de internet   \n",
       "2                        Si                        No   \n",
       "3                        No                        No   \n",
       "4                        Si                        Si   \n",
       "\n",
       "              TransmisionTV      TransmisionPeliculas TerminoContrato  \\\n",
       "0                        No                        No       Mes a mes   \n",
       "1  Sin servicio de internet  Sin servicio de internet       Mes a mes   \n",
       "2                        Si                        Si       Mes a mes   \n",
       "3                        Si                        No       Mes a mes   \n",
       "4                        Si                        Si         Bianual   \n",
       "\n",
       "  FacturacionElectronica                           MetodoPago  \\\n",
       "0                     No      Tarjeta de credito (automatico)   \n",
       "1                     No                   Checke electronico   \n",
       "2                     Si                    Checke por correo   \n",
       "3                     Si  Transferencia bancaria (automatico)   \n",
       "4                     Si                    Checke por correo   \n",
       "\n",
       "   MontoCargadoMes MontoCargadoTotal  Churn  \n",
       "0            60.25            662.95      0  \n",
       "1            20.05             20.05      0  \n",
       "2            94.20             777.3      1  \n",
       "3            39.45           2021.35      0  \n",
       "4           118.65              20.2      0  "
      ]
     },
     "execution_count": 26,
     "metadata": {},
     "output_type": "execute_result"
    }
   ],
   "source": [
    "ds_train.head()"
   ]
  },
  {
   "cell_type": "code",
   "execution_count": 27,
   "metadata": {
    "colab": {},
    "colab_type": "code",
    "id": "YM4febuudhUh"
   },
   "outputs": [],
   "source": [
    "from sklearn.preprocessing import LabelEncoder\n",
    "le = LabelEncoder()\n",
    "for col in lista_obj:\n",
    "    ds_train[col] = le.fit_transform(ds_train[col])\n",
    "    ds_test[col] = le.fit_transform(ds_test[col])"
   ]
  },
  {
   "cell_type": "code",
   "execution_count": 28,
   "metadata": {},
   "outputs": [
    {
     "data": {
      "text/html": [
       "<div>\n",
       "<style scoped>\n",
       "    .dataframe tbody tr th:only-of-type {\n",
       "        vertical-align: middle;\n",
       "    }\n",
       "\n",
       "    .dataframe tbody tr th {\n",
       "        vertical-align: top;\n",
       "    }\n",
       "\n",
       "    .dataframe thead th {\n",
       "        text-align: right;\n",
       "    }\n",
       "</style>\n",
       "<table border=\"1\" class=\"dataframe\">\n",
       "  <thead>\n",
       "    <tr style=\"text-align: right;\">\n",
       "      <th></th>\n",
       "      <th>ID</th>\n",
       "      <th>Sexo</th>\n",
       "      <th>AdultoMayor</th>\n",
       "      <th>Socio</th>\n",
       "      <th>Dependientes</th>\n",
       "      <th>MesesCliente</th>\n",
       "      <th>ServicioTelefonico</th>\n",
       "      <th>LineasMultiples</th>\n",
       "      <th>ServicioInternet</th>\n",
       "      <th>SeguridadOnline</th>\n",
       "      <th>RespaldoOnline</th>\n",
       "      <th>ProteccionDispositivo</th>\n",
       "      <th>SoporteTecnico</th>\n",
       "      <th>TransmisionTV</th>\n",
       "      <th>TransmisionPeliculas</th>\n",
       "      <th>TerminoContrato</th>\n",
       "      <th>FacturacionElectronica</th>\n",
       "      <th>MetodoPago</th>\n",
       "      <th>MontoCargadoMes</th>\n",
       "      <th>MontoCargadoTotal</th>\n",
       "      <th>Churn</th>\n",
       "    </tr>\n",
       "  </thead>\n",
       "  <tbody>\n",
       "    <tr>\n",
       "      <th>0</th>\n",
       "      <td>930</td>\n",
       "      <td>1</td>\n",
       "      <td>1.0</td>\n",
       "      <td>0</td>\n",
       "      <td>0</td>\n",
       "      <td>11.0</td>\n",
       "      <td>1</td>\n",
       "      <td>1</td>\n",
       "      <td>0</td>\n",
       "      <td>1</td>\n",
       "      <td>1</td>\n",
       "      <td>0</td>\n",
       "      <td>0</td>\n",
       "      <td>0</td>\n",
       "      <td>0</td>\n",
       "      <td>2</td>\n",
       "      <td>0</td>\n",
       "      <td>2</td>\n",
       "      <td>60.25</td>\n",
       "      <td>2865</td>\n",
       "      <td>0</td>\n",
       "    </tr>\n",
       "    <tr>\n",
       "      <th>1</th>\n",
       "      <td>3078</td>\n",
       "      <td>1</td>\n",
       "      <td>0.0</td>\n",
       "      <td>0</td>\n",
       "      <td>0</td>\n",
       "      <td>1.0</td>\n",
       "      <td>1</td>\n",
       "      <td>0</td>\n",
       "      <td>2</td>\n",
       "      <td>2</td>\n",
       "      <td>2</td>\n",
       "      <td>2</td>\n",
       "      <td>2</td>\n",
       "      <td>2</td>\n",
       "      <td>2</td>\n",
       "      <td>2</td>\n",
       "      <td>0</td>\n",
       "      <td>0</td>\n",
       "      <td>20.05</td>\n",
       "      <td>869</td>\n",
       "      <td>0</td>\n",
       "    </tr>\n",
       "    <tr>\n",
       "      <th>2</th>\n",
       "      <td>1679</td>\n",
       "      <td>0</td>\n",
       "      <td>0.0</td>\n",
       "      <td>1</td>\n",
       "      <td>1</td>\n",
       "      <td>8.0</td>\n",
       "      <td>1</td>\n",
       "      <td>0</td>\n",
       "      <td>1</td>\n",
       "      <td>0</td>\n",
       "      <td>0</td>\n",
       "      <td>1</td>\n",
       "      <td>0</td>\n",
       "      <td>1</td>\n",
       "      <td>1</td>\n",
       "      <td>2</td>\n",
       "      <td>1</td>\n",
       "      <td>1</td>\n",
       "      <td>94.20</td>\n",
       "      <td>3120</td>\n",
       "      <td>1</td>\n",
       "    </tr>\n",
       "    <tr>\n",
       "      <th>3</th>\n",
       "      <td>66</td>\n",
       "      <td>1</td>\n",
       "      <td>0.0</td>\n",
       "      <td>1</td>\n",
       "      <td>1</td>\n",
       "      <td>50.0</td>\n",
       "      <td>0</td>\n",
       "      <td>2</td>\n",
       "      <td>0</td>\n",
       "      <td>1</td>\n",
       "      <td>0</td>\n",
       "      <td>0</td>\n",
       "      <td>0</td>\n",
       "      <td>1</td>\n",
       "      <td>0</td>\n",
       "      <td>2</td>\n",
       "      <td>1</td>\n",
       "      <td>3</td>\n",
       "      <td>39.45</td>\n",
       "      <td>895</td>\n",
       "      <td>0</td>\n",
       "    </tr>\n",
       "    <tr>\n",
       "      <th>4</th>\n",
       "      <td>2717</td>\n",
       "      <td>0</td>\n",
       "      <td>0.0</td>\n",
       "      <td>0</td>\n",
       "      <td>0</td>\n",
       "      <td>71.0</td>\n",
       "      <td>1</td>\n",
       "      <td>1</td>\n",
       "      <td>1</td>\n",
       "      <td>1</td>\n",
       "      <td>1</td>\n",
       "      <td>1</td>\n",
       "      <td>1</td>\n",
       "      <td>1</td>\n",
       "      <td>1</td>\n",
       "      <td>1</td>\n",
       "      <td>1</td>\n",
       "      <td>1</td>\n",
       "      <td>118.65</td>\n",
       "      <td>872</td>\n",
       "      <td>0</td>\n",
       "    </tr>\n",
       "  </tbody>\n",
       "</table>\n",
       "</div>"
      ],
      "text/plain": [
       "     ID  Sexo  AdultoMayor  Socio  Dependientes  MesesCliente  \\\n",
       "0   930     1          1.0      0             0          11.0   \n",
       "1  3078     1          0.0      0             0           1.0   \n",
       "2  1679     0          0.0      1             1           8.0   \n",
       "3    66     1          0.0      1             1          50.0   \n",
       "4  2717     0          0.0      0             0          71.0   \n",
       "\n",
       "   ServicioTelefonico  LineasMultiples  ServicioInternet  SeguridadOnline  \\\n",
       "0                   1                1                 0                1   \n",
       "1                   1                0                 2                2   \n",
       "2                   1                0                 1                0   \n",
       "3                   0                2                 0                1   \n",
       "4                   1                1                 1                1   \n",
       "\n",
       "   RespaldoOnline  ProteccionDispositivo  SoporteTecnico  TransmisionTV  \\\n",
       "0               1                      0               0              0   \n",
       "1               2                      2               2              2   \n",
       "2               0                      1               0              1   \n",
       "3               0                      0               0              1   \n",
       "4               1                      1               1              1   \n",
       "\n",
       "   TransmisionPeliculas  TerminoContrato  FacturacionElectronica  MetodoPago  \\\n",
       "0                     0                2                       0           2   \n",
       "1                     2                2                       0           0   \n",
       "2                     1                2                       1           1   \n",
       "3                     0                2                       1           3   \n",
       "4                     1                1                       1           1   \n",
       "\n",
       "   MontoCargadoMes  MontoCargadoTotal  Churn  \n",
       "0            60.25               2865      0  \n",
       "1            20.05                869      0  \n",
       "2            94.20               3120      1  \n",
       "3            39.45                895      0  \n",
       "4           118.65                872      0  "
      ]
     },
     "execution_count": 28,
     "metadata": {},
     "output_type": "execute_result"
    }
   ],
   "source": [
    "ds_train.head()"
   ]
  },
  {
   "cell_type": "code",
   "execution_count": null,
   "metadata": {
    "colab": {},
    "colab_type": "code",
    "id": "vpfUgV11dhRm"
   },
   "outputs": [],
   "source": [
    "# ServicioTelefonico \n",
    "dicc_serv_telef = {'Si': 1, 'No':0 }\n",
    "ds_train[\"ServicioTelefonico\"] = ds_train[\"ServicioTelefonico\"].map(dicc_serv_telef)\n",
    "ds_test[\"ServicioTelefonico\"] = ds_test[\"ServicioTelefonico\"].map(dicc_serv_telef)"
   ]
  },
  {
   "cell_type": "code",
   "execution_count": null,
   "metadata": {
    "colab": {},
    "colab_type": "code",
    "id": "0qNTef31gbhI"
   },
   "outputs": [],
   "source": [
    "# LineasMultiples \n",
    "dicc_lin_mult = {'Si': 2, 'No':1, 'Sin servicio telefonico':0 }\n",
    "ds_train[\"LineasMultiples\"] = ds_train[\"LineasMultiples\"].map(dicc_lin_mult)\n",
    "ds_test[\"LineasMultiples\"] = ds_test[\"LineasMultiples\"].map(dicc_lin_mult)"
   ]
  },
  {
   "cell_type": "code",
   "execution_count": null,
   "metadata": {
    "colab": {},
    "colab_type": "code",
    "id": "ex_OlFcLptUa"
   },
   "outputs": [],
   "source": [
    "# FacturacionElectronica \n",
    "dicc_fact_elect = {'Si': 1, 'No':0 }\n",
    "ds_train[\"FacturacionElectronica\"] = ds_train[\"FacturacionElectronica\"].map(dicc_fact_elect)\n",
    "ds_test[\"FacturacionElectronica\"] = ds_test[\"FacturacionElectronica\"].map(dicc_fact_elect)"
   ]
  },
  {
   "cell_type": "code",
   "execution_count": null,
   "metadata": {
    "colab": {},
    "colab_type": "code",
    "id": "e-YC4eyCdhNl"
   },
   "outputs": [],
   "source": [
    "# Crear Features Dummies\n",
    "ds_train.loc[ds_train['ProteccionDispositivo']=='Sin servicio de internet', 'ProteccionDispositivo'] = 'SinServInter'\n",
    "ds_train.loc[ds_train['SoporteTecnico']=='Sin servicio de internet', 'SoporteTecnico'] = 'SinServInter'\n",
    "\n",
    "ds_test.loc[ds_test['ProteccionDispositivo']=='Sin servicio de internet', 'ProteccionDispositivo'] = 'SinServInter'\n",
    "ds_test.loc[ds_test['SoporteTecnico']=='Sin servicio de internet', 'SoporteTecnico'] = 'SinServInter'\n",
    "\n",
    "ds_train = pd.get_dummies(ds_train, columns=['ProteccionDispositivo','SoporteTecnico'])\n",
    "ds_test = pd.get_dummies(ds_test, columns=['ProteccionDispositivo','SoporteTecnico'])"
   ]
  },
  {
   "cell_type": "code",
   "execution_count": null,
   "metadata": {
    "colab": {
     "base_uri": "https://localhost:8080/",
     "height": 215
    },
    "colab_type": "code",
    "id": "7q4t9o2zdhDZ",
    "outputId": "30f46e05-650a-4cc4-d74e-fc877c56b86a"
   },
   "outputs": [],
   "source": [
    "ds_train.head()"
   ]
  },
  {
   "cell_type": "markdown",
   "metadata": {
    "colab_type": "text",
    "id": "pAteMmFv3IGF"
   },
   "source": [
    "## 3.3) Feature Engineering"
   ]
  },
  {
   "cell_type": "code",
   "execution_count": 29,
   "metadata": {
    "colab": {
     "base_uri": "https://localhost:8080/",
     "height": 84
    },
    "colab_type": "code",
    "id": "oegKsADJtSfA",
    "outputId": "8abb60bb-deec-47fc-82eb-389fe9223086"
   },
   "outputs": [
    {
     "data": {
      "text/plain": [
       "AdultoMayor\n",
       "0.000000    69.0\n",
       "0.151895    80.0\n",
       "1.000000    85.0\n",
       "Name: MontoCargadoMes, dtype: float64"
      ]
     },
     "execution_count": 29,
     "metadata": {},
     "output_type": "execute_result"
    }
   ],
   "source": [
    "# New Feature 1\n",
    "tmp_byAdultoMayor_medianMontoMes = ds_train.groupby(['AdultoMayor'])['MontoCargadoMes'].median().round()\n",
    "tmp_byAdultoMayor_medianMontoMes"
   ]
  },
  {
   "cell_type": "code",
   "execution_count": null,
   "metadata": {
    "colab": {},
    "colab_type": "code",
    "id": "FOPXSqAN6sNi"
   },
   "outputs": [],
   "source": []
  },
  {
   "cell_type": "code",
   "execution_count": 31,
   "metadata": {
    "colab": {
     "base_uri": "https://localhost:8080/",
     "height": 363
    },
    "colab_type": "code",
    "id": "-f07WjWU75aS",
    "outputId": "a2217557-7f12-48dd-b483-87e9f0d0ed1b"
   },
   "outputs": [
    {
     "data": {
      "text/html": [
       "<div>\n",
       "<style scoped>\n",
       "    .dataframe tbody tr th:only-of-type {\n",
       "        vertical-align: middle;\n",
       "    }\n",
       "\n",
       "    .dataframe tbody tr th {\n",
       "        vertical-align: top;\n",
       "    }\n",
       "\n",
       "    .dataframe thead th {\n",
       "        text-align: right;\n",
       "    }\n",
       "</style>\n",
       "<table border=\"1\" class=\"dataframe\">\n",
       "  <thead>\n",
       "    <tr style=\"text-align: right;\">\n",
       "      <th></th>\n",
       "      <th>ID</th>\n",
       "      <th>Sexo</th>\n",
       "      <th>AdultoMayor</th>\n",
       "      <th>Socio</th>\n",
       "      <th>Dependientes</th>\n",
       "      <th>MesesCliente</th>\n",
       "      <th>ServicioTelefonico</th>\n",
       "      <th>LineasMultiples</th>\n",
       "      <th>ServicioInternet</th>\n",
       "      <th>SeguridadOnline</th>\n",
       "      <th>RespaldoOnline</th>\n",
       "      <th>ProteccionDispositivo</th>\n",
       "      <th>SoporteTecnico</th>\n",
       "      <th>TransmisionTV</th>\n",
       "      <th>TransmisionPeliculas</th>\n",
       "      <th>TerminoContrato</th>\n",
       "      <th>FacturacionElectronica</th>\n",
       "      <th>MetodoPago</th>\n",
       "      <th>MontoCargadoMes</th>\n",
       "      <th>MontoCargadoTotal</th>\n",
       "      <th>Churn</th>\n",
       "      <th>flg_bySexo_mayorMedianMontoMes</th>\n",
       "    </tr>\n",
       "  </thead>\n",
       "  <tbody>\n",
       "    <tr>\n",
       "      <th>0</th>\n",
       "      <td>930</td>\n",
       "      <td>1</td>\n",
       "      <td>1.0</td>\n",
       "      <td>0</td>\n",
       "      <td>0</td>\n",
       "      <td>11.0</td>\n",
       "      <td>1</td>\n",
       "      <td>1</td>\n",
       "      <td>0</td>\n",
       "      <td>1</td>\n",
       "      <td>1</td>\n",
       "      <td>0</td>\n",
       "      <td>0</td>\n",
       "      <td>0</td>\n",
       "      <td>0</td>\n",
       "      <td>2</td>\n",
       "      <td>0</td>\n",
       "      <td>2</td>\n",
       "      <td>60.25</td>\n",
       "      <td>2865</td>\n",
       "      <td>0</td>\n",
       "      <td>0</td>\n",
       "    </tr>\n",
       "    <tr>\n",
       "      <th>1</th>\n",
       "      <td>3078</td>\n",
       "      <td>1</td>\n",
       "      <td>0.0</td>\n",
       "      <td>0</td>\n",
       "      <td>0</td>\n",
       "      <td>1.0</td>\n",
       "      <td>1</td>\n",
       "      <td>0</td>\n",
       "      <td>2</td>\n",
       "      <td>2</td>\n",
       "      <td>2</td>\n",
       "      <td>2</td>\n",
       "      <td>2</td>\n",
       "      <td>2</td>\n",
       "      <td>2</td>\n",
       "      <td>2</td>\n",
       "      <td>0</td>\n",
       "      <td>0</td>\n",
       "      <td>20.05</td>\n",
       "      <td>869</td>\n",
       "      <td>0</td>\n",
       "      <td>0</td>\n",
       "    </tr>\n",
       "    <tr>\n",
       "      <th>2</th>\n",
       "      <td>1679</td>\n",
       "      <td>0</td>\n",
       "      <td>0.0</td>\n",
       "      <td>1</td>\n",
       "      <td>1</td>\n",
       "      <td>8.0</td>\n",
       "      <td>1</td>\n",
       "      <td>0</td>\n",
       "      <td>1</td>\n",
       "      <td>0</td>\n",
       "      <td>0</td>\n",
       "      <td>1</td>\n",
       "      <td>0</td>\n",
       "      <td>1</td>\n",
       "      <td>1</td>\n",
       "      <td>2</td>\n",
       "      <td>1</td>\n",
       "      <td>1</td>\n",
       "      <td>94.20</td>\n",
       "      <td>3120</td>\n",
       "      <td>1</td>\n",
       "      <td>1</td>\n",
       "    </tr>\n",
       "    <tr>\n",
       "      <th>3</th>\n",
       "      <td>66</td>\n",
       "      <td>1</td>\n",
       "      <td>0.0</td>\n",
       "      <td>1</td>\n",
       "      <td>1</td>\n",
       "      <td>50.0</td>\n",
       "      <td>0</td>\n",
       "      <td>2</td>\n",
       "      <td>0</td>\n",
       "      <td>1</td>\n",
       "      <td>0</td>\n",
       "      <td>0</td>\n",
       "      <td>0</td>\n",
       "      <td>1</td>\n",
       "      <td>0</td>\n",
       "      <td>2</td>\n",
       "      <td>1</td>\n",
       "      <td>3</td>\n",
       "      <td>39.45</td>\n",
       "      <td>895</td>\n",
       "      <td>0</td>\n",
       "      <td>0</td>\n",
       "    </tr>\n",
       "    <tr>\n",
       "      <th>4</th>\n",
       "      <td>2717</td>\n",
       "      <td>0</td>\n",
       "      <td>0.0</td>\n",
       "      <td>0</td>\n",
       "      <td>0</td>\n",
       "      <td>71.0</td>\n",
       "      <td>1</td>\n",
       "      <td>1</td>\n",
       "      <td>1</td>\n",
       "      <td>1</td>\n",
       "      <td>1</td>\n",
       "      <td>1</td>\n",
       "      <td>1</td>\n",
       "      <td>1</td>\n",
       "      <td>1</td>\n",
       "      <td>1</td>\n",
       "      <td>1</td>\n",
       "      <td>1</td>\n",
       "      <td>118.65</td>\n",
       "      <td>872</td>\n",
       "      <td>0</td>\n",
       "      <td>1</td>\n",
       "    </tr>\n",
       "    <tr>\n",
       "      <th>5</th>\n",
       "      <td>1759</td>\n",
       "      <td>0</td>\n",
       "      <td>0.0</td>\n",
       "      <td>1</td>\n",
       "      <td>1</td>\n",
       "      <td>35.0</td>\n",
       "      <td>1</td>\n",
       "      <td>0</td>\n",
       "      <td>1</td>\n",
       "      <td>1</td>\n",
       "      <td>0</td>\n",
       "      <td>1</td>\n",
       "      <td>1</td>\n",
       "      <td>1</td>\n",
       "      <td>1</td>\n",
       "      <td>2</td>\n",
       "      <td>1</td>\n",
       "      <td>1</td>\n",
       "      <td>106.90</td>\n",
       "      <td>1743</td>\n",
       "      <td>0</td>\n",
       "      <td>1</td>\n",
       "    </tr>\n",
       "    <tr>\n",
       "      <th>6</th>\n",
       "      <td>2237</td>\n",
       "      <td>0</td>\n",
       "      <td>1.0</td>\n",
       "      <td>0</td>\n",
       "      <td>0</td>\n",
       "      <td>11.0</td>\n",
       "      <td>1</td>\n",
       "      <td>1</td>\n",
       "      <td>0</td>\n",
       "      <td>1</td>\n",
       "      <td>0</td>\n",
       "      <td>0</td>\n",
       "      <td>0</td>\n",
       "      <td>0</td>\n",
       "      <td>0</td>\n",
       "      <td>2</td>\n",
       "      <td>1</td>\n",
       "      <td>1</td>\n",
       "      <td>55.60</td>\n",
       "      <td>2594</td>\n",
       "      <td>0</td>\n",
       "      <td>0</td>\n",
       "    </tr>\n",
       "    <tr>\n",
       "      <th>7</th>\n",
       "      <td>3081</td>\n",
       "      <td>1</td>\n",
       "      <td>0.0</td>\n",
       "      <td>0</td>\n",
       "      <td>0</td>\n",
       "      <td>1.0</td>\n",
       "      <td>1</td>\n",
       "      <td>0</td>\n",
       "      <td>2</td>\n",
       "      <td>2</td>\n",
       "      <td>2</td>\n",
       "      <td>2</td>\n",
       "      <td>2</td>\n",
       "      <td>2</td>\n",
       "      <td>2</td>\n",
       "      <td>2</td>\n",
       "      <td>0</td>\n",
       "      <td>0</td>\n",
       "      <td>20.10</td>\n",
       "      <td>870</td>\n",
       "      <td>1</td>\n",
       "      <td>0</td>\n",
       "    </tr>\n",
       "    <tr>\n",
       "      <th>8</th>\n",
       "      <td>1026</td>\n",
       "      <td>0</td>\n",
       "      <td>0.0</td>\n",
       "      <td>1</td>\n",
       "      <td>0</td>\n",
       "      <td>32.0</td>\n",
       "      <td>1</td>\n",
       "      <td>0</td>\n",
       "      <td>1</td>\n",
       "      <td>0</td>\n",
       "      <td>1</td>\n",
       "      <td>0</td>\n",
       "      <td>0</td>\n",
       "      <td>0</td>\n",
       "      <td>1</td>\n",
       "      <td>2</td>\n",
       "      <td>0</td>\n",
       "      <td>2</td>\n",
       "      <td>84.15</td>\n",
       "      <td>1220</td>\n",
       "      <td>1</td>\n",
       "      <td>1</td>\n",
       "    </tr>\n",
       "    <tr>\n",
       "      <th>9</th>\n",
       "      <td>108</td>\n",
       "      <td>0</td>\n",
       "      <td>0.0</td>\n",
       "      <td>0</td>\n",
       "      <td>0</td>\n",
       "      <td>4.0</td>\n",
       "      <td>1</td>\n",
       "      <td>0</td>\n",
       "      <td>2</td>\n",
       "      <td>2</td>\n",
       "      <td>2</td>\n",
       "      <td>2</td>\n",
       "      <td>2</td>\n",
       "      <td>2</td>\n",
       "      <td>2</td>\n",
       "      <td>2</td>\n",
       "      <td>1</td>\n",
       "      <td>3</td>\n",
       "      <td>20.15</td>\n",
       "      <td>2926</td>\n",
       "      <td>0</td>\n",
       "      <td>0</td>\n",
       "    </tr>\n",
       "  </tbody>\n",
       "</table>\n",
       "</div>"
      ],
      "text/plain": [
       "     ID  Sexo  AdultoMayor  Socio  Dependientes  MesesCliente  \\\n",
       "0   930     1          1.0      0             0          11.0   \n",
       "1  3078     1          0.0      0             0           1.0   \n",
       "2  1679     0          0.0      1             1           8.0   \n",
       "3    66     1          0.0      1             1          50.0   \n",
       "4  2717     0          0.0      0             0          71.0   \n",
       "5  1759     0          0.0      1             1          35.0   \n",
       "6  2237     0          1.0      0             0          11.0   \n",
       "7  3081     1          0.0      0             0           1.0   \n",
       "8  1026     0          0.0      1             0          32.0   \n",
       "9   108     0          0.0      0             0           4.0   \n",
       "\n",
       "   ServicioTelefonico  LineasMultiples  ServicioInternet  SeguridadOnline  \\\n",
       "0                   1                1                 0                1   \n",
       "1                   1                0                 2                2   \n",
       "2                   1                0                 1                0   \n",
       "3                   0                2                 0                1   \n",
       "4                   1                1                 1                1   \n",
       "5                   1                0                 1                1   \n",
       "6                   1                1                 0                1   \n",
       "7                   1                0                 2                2   \n",
       "8                   1                0                 1                0   \n",
       "9                   1                0                 2                2   \n",
       "\n",
       "   RespaldoOnline  ProteccionDispositivo  SoporteTecnico  TransmisionTV  \\\n",
       "0               1                      0               0              0   \n",
       "1               2                      2               2              2   \n",
       "2               0                      1               0              1   \n",
       "3               0                      0               0              1   \n",
       "4               1                      1               1              1   \n",
       "5               0                      1               1              1   \n",
       "6               0                      0               0              0   \n",
       "7               2                      2               2              2   \n",
       "8               1                      0               0              0   \n",
       "9               2                      2               2              2   \n",
       "\n",
       "   TransmisionPeliculas  TerminoContrato  FacturacionElectronica  MetodoPago  \\\n",
       "0                     0                2                       0           2   \n",
       "1                     2                2                       0           0   \n",
       "2                     1                2                       1           1   \n",
       "3                     0                2                       1           3   \n",
       "4                     1                1                       1           1   \n",
       "5                     1                2                       1           1   \n",
       "6                     0                2                       1           1   \n",
       "7                     2                2                       0           0   \n",
       "8                     1                2                       0           2   \n",
       "9                     2                2                       1           3   \n",
       "\n",
       "   MontoCargadoMes  MontoCargadoTotal  Churn  flg_bySexo_mayorMedianMontoMes  \n",
       "0            60.25               2865      0                               0  \n",
       "1            20.05                869      0                               0  \n",
       "2            94.20               3120      1                               1  \n",
       "3            39.45                895      0                               0  \n",
       "4           118.65                872      0                               1  \n",
       "5           106.90               1743      0                               1  \n",
       "6            55.60               2594      0                               0  \n",
       "7            20.10                870      1                               0  \n",
       "8            84.15               1220      1                               1  \n",
       "9            20.15               2926      0                               0  "
      ]
     },
     "execution_count": 31,
     "metadata": {},
     "output_type": "execute_result"
    }
   ],
   "source": [
    "ds_train.head(10)"
   ]
  },
  {
   "cell_type": "code",
   "execution_count": null,
   "metadata": {
    "colab": {},
    "colab_type": "code",
    "id": "tDx5plTU7p2x"
   },
   "outputs": [],
   "source": [
    "# New Feature 2,3,4, ...\n",
    "### Here"
   ]
  },
  {
   "cell_type": "markdown",
   "metadata": {
    "colab_type": "text",
    "id": "n6Z3sKdytSfJ"
   },
   "source": [
    "## 3.4) Seleccion de features"
   ]
  },
  {
   "cell_type": "code",
   "execution_count": null,
   "metadata": {
    "colab": {
     "base_uri": "https://localhost:8080/",
     "height": 252
    },
    "colab_type": "code",
    "id": "kYUkAEa0tSfK",
    "outputId": "d33cea92-95ee-432d-ddbc-63380d7c3bec"
   },
   "outputs": [],
   "source": [
    "features_to_model = list(ds_train.columns)\n",
    "\n",
    "features_to_model.remove(TARGET) # Eliminar variable Target\n",
    "features_to_model.remove(ID) # Eliminar variable ID\n",
    "\n",
    "list(features_to_model)"
   ]
  },
  {
   "cell_type": "markdown",
   "metadata": {
    "colab_type": "text",
    "id": "6MBa_ty7tSfP"
   },
   "source": [
    "***Select Final Features:***"
   ]
  },
  {
   "cell_type": "code",
   "execution_count": null,
   "metadata": {
    "colab": {},
    "colab_type": "code",
    "id": "dLjv0Cs9tSfQ"
   },
   "outputs": [],
   "source": [
    "# Selección de variables. \n",
    "### Una opción es: en base a un modelo basado en árboles, generar la importancia de Variables y seleccionar los features mas importantes.\n",
    "features_to_model = features_to_model # ['var1', 'var2', 'varn'] "
   ]
  },
  {
   "cell_type": "code",
   "execution_count": null,
   "metadata": {
    "colab": {
     "base_uri": "https://localhost:8080/",
     "height": 34
    },
    "colab_type": "code",
    "id": "sEiOSRIMtSfR",
    "outputId": "e57c6fc9-50c3-4a89-b5bf-e1f519e22792"
   },
   "outputs": [],
   "source": [
    "len(features_to_model)"
   ]
  },
  {
   "cell_type": "code",
   "execution_count": null,
   "metadata": {
    "colab": {},
    "colab_type": "code",
    "id": "AK9dkj6otSfU"
   },
   "outputs": [],
   "source": [
    "# Features & Target\n",
    "X = ds_train[features_to_model]\n",
    "y = ds_train[TARGET]\n",
    "\n",
    "X_summit = ds_test[features_to_model]"
   ]
  },
  {
   "cell_type": "code",
   "execution_count": null,
   "metadata": {
    "colab": {
     "base_uri": "https://localhost:8080/",
     "height": 34
    },
    "colab_type": "code",
    "id": "b6QkoPe1tSfW",
    "outputId": "c5c39b01-805d-4289-db74-271183bc9ce8"
   },
   "outputs": [],
   "source": [
    "print(\"train: \", X.shape,\", summit: \", X_summit.shape)"
   ]
  },
  {
   "cell_type": "markdown",
   "metadata": {
    "colab_type": "text",
    "id": "QjJoDLvFtSfY"
   },
   "source": [
    "## 3.5) Haciendo nuestra data de train y test"
   ]
  },
  {
   "cell_type": "code",
   "execution_count": null,
   "metadata": {
    "colab": {
     "base_uri": "https://localhost:8080/",
     "height": 34
    },
    "colab_type": "code",
    "id": "q4ByLCc8tSfZ",
    "outputId": "18edc7ca-d94e-4e63-97b6-df07563f5ece"
   },
   "outputs": [],
   "source": [
    "from sklearn import model_selection\n",
    "X_train, X_test, y_train, y_test = model_selection.train_test_split(X, y, train_size = 0.70, random_state=9)\n",
    "print((len(X_train), len(y_train)), (len(X_test), len(y_test)))"
   ]
  },
  {
   "cell_type": "code",
   "execution_count": null,
   "metadata": {
    "colab": {
     "base_uri": "https://localhost:8080/",
     "height": 336
    },
    "colab_type": "code",
    "id": "qUy5Jac5tSfc",
    "outputId": "ff4dd85c-3d6a-4ed3-e62f-0d1628d9ecd1"
   },
   "outputs": [],
   "source": [
    "X_train.info()"
   ]
  },
  {
   "cell_type": "markdown",
   "metadata": {
    "colab_type": "text",
    "id": "ZRes8j9qtSff"
   },
   "source": [
    "# 4) Evaluando nuestro modelo de forma simple"
   ]
  },
  {
   "cell_type": "markdown",
   "metadata": {
    "colab_type": "text",
    "id": "Rvak-A_btSfo"
   },
   "source": [
    "## 4.1.A. LogisticRegression"
   ]
  },
  {
   "cell_type": "markdown",
   "metadata": {
    "colab_type": "text",
    "id": "cSC7rEMjtSfo"
   },
   "source": [
    "### 4.1.1 Training"
   ]
  },
  {
   "cell_type": "code",
   "execution_count": 41,
   "metadata": {
    "colab": {},
    "colab_type": "code",
    "id": "pbNdF7tAtSfp"
   },
   "outputs": [],
   "source": [
    "from sklearn.linear_model import LogisticRegression"
   ]
  },
  {
   "cell_type": "code",
   "execution_count": 37,
   "metadata": {},
   "outputs": [],
   "source": [
    "X_train = ds_train.drop('Churn',axis=1)\n",
    "y_train = ds_train['Churn']"
   ]
  },
  {
   "cell_type": "code",
   "execution_count": 39,
   "metadata": {},
   "outputs": [],
   "source": [
    "X_test = ds_test.drop('Churn',axis=1)\n",
    "y_test = ds_test['Churn']"
   ]
  },
  {
   "cell_type": "code",
   "execution_count": 44,
   "metadata": {},
   "outputs": [
    {
     "name": "stdout",
     "output_type": "stream",
     "text": [
      "ID Sexo AdultoMayor Socio Dependientes MesesCliente ServicioTelefonico LineasMultiples ServicioInternet SeguridadOnline RespaldoOnline ProteccionDispositivo SoporteTecnico TransmisionTV TransmisionPeliculas TerminoContrato FacturacionElectronica MetodoPago MontoCargadoMes MontoCargadoTotal flg_bySexo_mayorMedianMontoMes\n",
      "ID Sexo AdultoMayor Socio Dependientes MesesCliente ServicioTelefonico LineasMultiples ServicioInternet SeguridadOnline RespaldoOnline ProteccionDispositivo SoporteTecnico TransmisionTV TransmisionPeliculas TerminoContrato FacturacionElectronica MetodoPago MontoCargadoMes MontoCargadoTotal\n"
     ]
    }
   ],
   "source": [
    "print(X_train.columns)\n",
    "print(X_test.columns)"
   ]
  },
  {
   "cell_type": "code",
   "execution_count": 46,
   "metadata": {},
   "outputs": [],
   "source": [
    "X_train.drop('flg_bySexo_mayorMedianMontoMes',axis=1,inplace=True)"
   ]
  },
  {
   "cell_type": "code",
   "execution_count": 51,
   "metadata": {
    "colab": {},
    "colab_type": "code",
    "id": "pvN_PW40tSfr"
   },
   "outputs": [
    {
     "data": {
      "text/plain": [
       "array([0.2104287 , 0.5547387 , 0.04991625, 0.1328468 , 0.31109855,\n",
       "       0.19867718, 0.54166545, 0.74730314, 0.1031256 , 0.12287715,\n",
       "       0.50763685, 0.65134179, 0.09522871, 0.15850728, 0.54926447,\n",
       "       0.13359289, 0.64385551, 0.23757196, 0.16018265, 0.0410329 ,\n",
       "       0.66915698, 0.59234177, 0.03295496, 0.77214185, 0.09883131,\n",
       "       0.33820301, 0.07855217, 0.07193705, 0.65981685, 0.31944814,\n",
       "       0.73691475, 0.61536664, 0.30425273, 0.16935376, 0.1211419 ,\n",
       "       0.07692881, 0.0235427 , 0.8136465 , 0.01443199, 0.5241804 ,\n",
       "       0.44230566, 0.01226915, 0.07962046, 0.60751293, 0.74616757,\n",
       "       0.47823668, 0.05162746, 0.56222592, 0.57890777, 0.38505113,\n",
       "       0.13174137, 0.74089485, 0.22490853, 0.12801161, 0.67883624,\n",
       "       0.05048001, 0.04883186, 0.23907889, 0.47765472, 0.58742786,\n",
       "       0.09600592, 0.77267981, 0.66427508, 0.34514662, 0.73210041,\n",
       "       0.5183873 , 0.40336897, 0.16231062, 0.26490513, 0.72905007,\n",
       "       0.13535718, 0.07520913, 0.03902936, 0.59180588, 0.21091205,\n",
       "       0.66454942, 0.3571646 , 0.26802202, 0.76170684, 0.15004991,\n",
       "       0.55703752, 0.08847998, 0.58713596, 0.21428685, 0.35161582,\n",
       "       0.21015057, 0.06014301, 0.14721119, 0.13788945, 0.19447601,\n",
       "       0.09006829, 0.14218995, 0.36768088, 0.72258683, 0.68752635,\n",
       "       0.66928397, 0.44879958, 0.06797721, 0.25495927, 0.44001126,\n",
       "       0.69989007, 0.0857466 , 0.48051772, 0.39810999, 0.04474647,\n",
       "       0.23822194, 0.60562988, 0.74021305, 0.23357365, 0.13496115,\n",
       "       0.83614604, 0.13042068, 0.06932601, 0.60415514, 0.25781504,\n",
       "       0.12759929, 0.68057038, 0.5494048 , 0.10678695, 0.53678883,\n",
       "       0.73411199, 0.02543853, 0.02922781, 0.75039383, 0.71083216,\n",
       "       0.61046882, 0.14083132, 0.77277015, 0.0521312 , 0.7917305 ,\n",
       "       0.44811395, 0.20194544, 0.11967736, 0.80812758, 0.61996907,\n",
       "       0.08312812, 0.14453686, 0.34075632, 0.57346763, 0.29404635,\n",
       "       0.33168864, 0.04640486, 0.14585505, 0.08747813, 0.02425591,\n",
       "       0.02926915, 0.54393246, 0.47834263, 0.08355611, 0.41457162,\n",
       "       0.03485713, 0.23453515, 0.4075714 , 0.28804071, 0.44272187,\n",
       "       0.11636652, 0.08555721, 0.18702197, 0.22278654, 0.42888578,\n",
       "       0.24559908, 0.43662768, 0.47179748, 0.13823513, 0.44022108,\n",
       "       0.75362667, 0.15759095, 0.04937653, 0.24828743, 0.70536745,\n",
       "       0.21349537, 0.15234236, 0.13262614, 0.07435142, 0.22460623,\n",
       "       0.5032246 , 0.15735489, 0.73488691, 0.28867521, 0.76702498,\n",
       "       0.16491978, 0.46047327, 0.59921507, 0.10670569, 0.31383719,\n",
       "       0.65495743, 0.48451572, 0.62260584, 0.14193483, 0.03050361,\n",
       "       0.12859696, 0.65914154, 0.35807418, 0.39001628, 0.44428402,\n",
       "       0.62276261, 0.65804211, 0.80465928, 0.15660086, 0.66606753,\n",
       "       0.49508993, 0.08465416, 0.69031958, 0.42244993, 0.74759501,\n",
       "       0.6244696 , 0.63941586, 0.25486403, 0.01208706, 0.41565793,\n",
       "       0.0929706 , 0.47791263, 0.52537776, 0.11437205, 0.17798797,\n",
       "       0.07209275, 0.35092056, 0.1020238 , 0.0905155 , 0.07620833,\n",
       "       0.22295772, 0.23586295, 0.01093317, 0.6730931 , 0.25846275,\n",
       "       0.50049481, 0.62288701, 0.34610277, 0.03179957, 0.76690068,\n",
       "       0.4156417 , 0.09433188, 0.76735105, 0.68327479, 0.14393867,\n",
       "       0.14519097, 0.24737064, 0.14445965, 0.47504436, 0.70747642,\n",
       "       0.20363882, 0.10189266, 0.12459017, 0.52684529, 0.49969333,\n",
       "       0.43312423, 0.04551859, 0.03090643, 0.10608905, 0.70695561,\n",
       "       0.51076407, 0.67462969, 0.59098517, 0.01189523, 0.24385032,\n",
       "       0.62203534, 0.45658814, 0.12969986, 0.5354273 , 0.08630525,\n",
       "       0.05007489, 0.72678445, 0.16835923, 0.0863195 , 0.18870659,\n",
       "       0.29175989, 0.05226704, 0.01497824, 0.42160355, 0.60692127,\n",
       "       0.09219074, 0.45863051, 0.47812918, 0.68061826, 0.07615141,\n",
       "       0.10329508, 0.14592233, 0.57122056, 0.04148944, 0.47929288,\n",
       "       0.15638915, 0.34245828, 0.5775714 , 0.83407393, 0.41025493,\n",
       "       0.5810499 , 0.56021152, 0.40713135, 0.41966121, 0.72673518,\n",
       "       0.52283919, 0.49705315, 0.28175113, 0.33658966, 0.64236527,\n",
       "       0.0339019 , 0.75394325, 0.10149853, 0.13301639, 0.25877561,\n",
       "       0.75516021, 0.1352623 , 0.19912085, 0.71251268, 0.63749056,\n",
       "       0.49152793, 0.12500316, 0.07841427, 0.18268349, 0.30301228,\n",
       "       0.30695851, 0.67315962, 0.47798377, 0.18421739, 0.12759929,\n",
       "       0.48160228, 0.61852472, 0.79444261, 0.50316218, 0.21432047,\n",
       "       0.21204747, 0.18383466, 0.54232426, 0.37682053, 0.55426185,\n",
       "       0.02568532, 0.47049783, 0.61423926, 0.01657748, 0.7121764 ,\n",
       "       0.27190541, 0.64476991, 0.49460858, 0.03932375, 0.596876  ,\n",
       "       0.73887395, 0.64202404, 0.5271745 , 0.08497908, 0.32962722,\n",
       "       0.6076719 , 0.38494879, 0.48030475, 0.29565771, 0.44081064,\n",
       "       0.26085046, 0.03736241, 0.24556011, 0.70880121, 0.33874943,\n",
       "       0.69921005, 0.1850349 , 0.0511381 , 0.16882545, 0.38652899,\n",
       "       0.29711367, 0.10235261, 0.25722394, 0.13971042, 0.77854131,\n",
       "       0.12369073, 0.20800483, 0.16374871, 0.32358504, 0.41332577,\n",
       "       0.59298827, 0.24558671, 0.37050957, 0.74942861, 0.41959477,\n",
       "       0.24026151, 0.36966815, 0.12570428, 0.14070612, 0.62977888,\n",
       "       0.11416226, 0.11862934, 0.1323983 , 0.07498466, 0.25821737,\n",
       "       0.14536397, 0.61408407, 0.06691769, 0.11291689, 0.71713807,\n",
       "       0.74008356, 0.16673919, 0.10811021, 0.19888116, 0.15710687,\n",
       "       0.44880878, 0.12827776, 0.0919942 , 0.01138245, 0.03387181,\n",
       "       0.59545189, 0.06369934, 0.19113066, 0.051031  , 0.31808516,\n",
       "       0.336534  , 0.04477389, 0.41155929, 0.18506062, 0.52857518,\n",
       "       0.76337538, 0.44474916, 0.15780788, 0.10119367, 0.148394  ,\n",
       "       0.06055485, 0.65772463, 0.08036132, 0.5356734 , 0.18077629,\n",
       "       0.70112509, 0.01666495, 0.43107742, 0.61963883, 0.15390594,\n",
       "       0.61791457, 0.73296876, 0.73847592, 0.3373504 , 0.34124531,\n",
       "       0.36039015, 0.22564374, 0.07287237, 0.44720011, 0.19659896,\n",
       "       0.01069464, 0.26546324, 0.08883079, 0.30738029, 0.11949074,\n",
       "       0.01140951, 0.09731257, 0.45347439, 0.08611668, 0.72137153,\n",
       "       0.19905122, 0.0615782 , 0.05527274, 0.17767605, 0.20433016,\n",
       "       0.4070357 , 0.52585423, 0.13840736, 0.1053763 , 0.23271855,\n",
       "       0.13136965, 0.78786251, 0.54288563, 0.5356194 , 0.70212122,\n",
       "       0.08778362, 0.32387989, 0.57034282, 0.01370006, 0.81402272,\n",
       "       0.21804992, 0.18991612, 0.67076673, 0.1978216 , 0.12751479,\n",
       "       0.36337712, 0.16674573, 0.33348988, 0.5751394 , 0.06695204,\n",
       "       0.07426966, 0.17880353, 0.04655268, 0.58002748, 0.77077829,\n",
       "       0.57209087, 0.14695345, 0.18660514, 0.49728174, 0.10454822,\n",
       "       0.51979763, 0.42603929, 0.81380685, 0.20736222, 0.71005019,\n",
       "       0.46293566, 0.53919733, 0.63564397, 0.18431695, 0.15872085,\n",
       "       0.07457031, 0.11339662, 0.29335234, 0.06207172, 0.07383678,\n",
       "       0.24085587, 0.32419132, 0.186285  , 0.26321563, 0.08664017,\n",
       "       0.74346409, 0.56939524, 0.09338666, 0.17426103, 0.25992975,\n",
       "       0.07781213, 0.66631414, 0.1121134 , 0.66234989, 0.17258833,\n",
       "       0.08260618, 0.24667058, 0.35378869, 0.31708482, 0.22492914,\n",
       "       0.06590285, 0.01080108, 0.09524399, 0.07314031, 0.47827148,\n",
       "       0.21623139, 0.16204943, 0.59218237, 0.4238747 , 0.26020003,\n",
       "       0.10545779, 0.12031826, 0.67547392, 0.01450801, 0.39645436,\n",
       "       0.05450977, 0.13130173, 0.39252238, 0.04964048, 0.08354406,\n",
       "       0.47820033, 0.02782713, 0.46737093, 0.5617221 , 0.02233608,\n",
       "       0.27253726, 0.50503267, 0.2480846 , 0.60895179, 0.45356026,\n",
       "       0.14158274, 0.54808306, 0.04092742, 0.21800535, 0.16596018,\n",
       "       0.19175511, 0.36060801, 0.44956679, 0.65792204, 0.55452818,\n",
       "       0.41625531, 0.70811911, 0.65797213, 0.16106677, 0.04580255,\n",
       "       0.242201  , 0.1223648 , 0.12223289, 0.27344676, 0.03666015,\n",
       "       0.48554051, 0.7431002 , 0.09336764, 0.01096255, 0.01078184,\n",
       "       0.45298128, 0.42133436, 0.25612295, 0.48943973, 0.50112119,\n",
       "       0.65049926, 0.34914276, 0.47360057, 0.11719614, 0.68436518,\n",
       "       0.08175931, 0.21436689, 0.47805492, 0.80044607, 0.22600945,\n",
       "       0.35825755, 0.25758165, 0.18353089, 0.19925058, 0.29286707,\n",
       "       0.11153312, 0.15341685, 0.06193925, 0.12327385, 0.10623111,\n",
       "       0.428368  , 0.2186717 , 0.16247244, 0.10877114, 0.27469178,\n",
       "       0.10843342, 0.5025369 , 0.29455114, 0.57578764, 0.27101858,\n",
       "       0.50156728, 0.50326833, 0.36410642, 0.10784718, 0.03158078,\n",
       "       0.41860951, 0.10054817, 0.1849202 , 0.15510642, 0.10145138,\n",
       "       0.59880757, 0.31815241, 0.54928146, 0.19962936, 0.10310575,\n",
       "       0.46976659, 0.75314543, 0.18926056, 0.63545143, 0.63454208,\n",
       "       0.08985348, 0.57010529, 0.51070361, 0.40554364, 0.01867407,\n",
       "       0.44061738, 0.42707021, 0.0332812 , 0.33979237, 0.68368486,\n",
       "       0.57248216, 0.7377876 , 0.45204829, 0.51403419, 0.05855694,\n",
       "       0.40991969, 0.1900816 , 0.25805053, 0.23300161, 0.4355636 ,\n",
       "       0.18641855, 0.42126788, 0.29273391, 0.81809044, 0.01115514,\n",
       "       0.54933882, 0.63832592, 0.01317736, 0.1631263 , 0.79118342,\n",
       "       0.10078781, 0.68993259, 0.43175916, 0.72641688, 0.44787402,\n",
       "       0.56407564, 0.72904922, 0.12235567, 0.3212981 , 0.74811992,\n",
       "       0.77301778, 0.7697123 , 0.08618399, 0.22781678, 0.13500076,\n",
       "       0.69842927, 0.62861901, 0.20483025, 0.51298629, 0.12874962,\n",
       "       0.02069144, 0.12811794, 0.52696926, 0.08691754, 0.53948615,\n",
       "       0.01075478, 0.68220579, 0.34943106, 0.28909945, 0.0559515 ,\n",
       "       0.75500088, 0.08393684, 0.01175139, 0.07450569, 0.43056192,\n",
       "       0.09416148, 0.13559547, 0.28541452, 0.27208136, 0.46293942,\n",
       "       0.51360841, 0.49084108, 0.33611878, 0.37718449, 0.64557682,\n",
       "       0.08986745, 0.09306129, 0.53355629, 0.0306165 , 0.05281722,\n",
       "       0.67679912, 0.07402439, 0.38293367, 0.07129644, 0.44622856,\n",
       "       0.63475999, 0.1272669 , 0.26605917, 0.53891115, 0.10332125,\n",
       "       0.48304611, 0.43514635, 0.4103052 , 0.25371731, 0.10706191,\n",
       "       0.30636347, 0.67736544, 0.06164259, 0.28932067, 0.5622492 ,\n",
       "       0.09359574, 0.13360697, 0.81770466, 0.05096133, 0.58400065,\n",
       "       0.35933212, 0.29902881, 0.63728028, 0.11188168, 0.23303249,\n",
       "       0.02384605, 0.01917797, 0.47250371, 0.3270563 , 0.72759585,\n",
       "       0.56587341, 0.74424096, 0.0604217 , 0.10087198, 0.54709292,\n",
       "       0.69837034, 0.50033469, 0.76821334, 0.0297742 , 0.07752414,\n",
       "       0.11961228, 0.31754407, 0.10274346, 0.31461732, 0.73529452,\n",
       "       0.29260858, 0.7224135 , 0.26116024, 0.0406902 , 0.1022184 ,\n",
       "       0.33030265, 0.36253927, 0.0476581 , 0.33874054, 0.22070142,\n",
       "       0.64052682, 0.75113158, 0.2650391 , 0.08389568, 0.23636272,\n",
       "       0.07282042, 0.26122404, 0.56749389, 0.07979293, 0.09767226,\n",
       "       0.14341638, 0.45804937])"
      ]
     },
     "execution_count": 51,
     "metadata": {},
     "output_type": "execute_result"
    }
   ],
   "source": [
    "# Create  model objet \n",
    "model_rlog = LogisticRegression(C=0.01, max_iter= 100, random_state=0, n_jobs = 4, penalty = 'l1')\n",
    "\n",
    "# Fit the model:\n",
    "model_rlog.fit(X_train, y_train)\n",
    "\n",
    "proba_pred_test = model_rlog.predict_proba(X_test)[:,1]\n",
    "proba_pred_test"
   ]
  },
  {
   "cell_type": "code",
   "execution_count": 53,
   "metadata": {},
   "outputs": [
    {
     "data": {
      "text/plain": [
       "[<matplotlib.lines.Line2D at 0x173be32e668>]"
      ]
     },
     "execution_count": 53,
     "metadata": {},
     "output_type": "execute_result"
    },
    {
     "data": {
      "image/png": "[encoded data removed]",
      "text/plain": [
       "<Figure size 576x432 with 1 Axes>"
      ]
     },
     "metadata": {
      "needs_background": "light"
     },
     "output_type": "display_data"
    }
   ],
   "source": [
    "from sklearn.metrics import accuracy_score\n",
    "\n",
    "lista_de_accuracy = [] #Esta será la lista donde meteré todas mis variables\n",
    "for punto_de_corte in range(0,100):  #Itero por sobre todos los puntos de corte posibles (nota que estoy iterando solamente por sobre enteros)\n",
    "    pred_0_1 = [1 if x >= punto_de_corte/100 else 0 for x in proba_pred_test] #Para cada x en la variable donde están mis probabilidades, dame 1 si este x es > punto_de_corte \n",
    "    lista_de_accuracy.append(accuracy_score(y_test, pred_0_1)) #Agrega el accuracy_score resultante para cada punto de corte por el que hemos iterado\n",
    "\n",
    "xs = [x/100 for x in range(0,100)] #Una lista de en qué porcentaje de la iteración vamos\n",
    "ys = lista_de_accuracy # La lista de los accuracys\n",
    "\n",
    "plt.figure(figsize=(8,6)) #Es para modificar el tamaño del gráfico\n",
    "plt.grid(True) #Para que nuestro gráfico tenga esa rayitas y nos ubiquemos mejor\n",
    "plt.title('Esta es nuestra curva punto de corte vs accuracy') #El título del gráfico\n",
    "plt.xlabel('Punto de corte') #El título del eje X\n",
    "plt.ylabel('Accuracy') #El título del eje Y\n",
    "plt.plot(xs, ys) #Ploteamos nuestro gráfico con las variables que antes hemos creado"
   ]
  },
  {
   "cell_type": "code",
   "execution_count": null,
   "metadata": {
    "colab": {
     "base_uri": "https://localhost:8080/",
     "height": 462
    },
    "colab_type": "code",
    "id": "ngUP2m_9tSfu",
    "outputId": "4059d313-51dc-4cee-fb23-8ff5b6386f3a",
    "scrolled": false
   },
   "outputs": [],
   "source": [
    "df_weights = pd.DataFrame({'feature':X_train.columns.values, 'beta': np.round(model_rlog.coef_[0],4) })\n",
    "df_weights"
   ]
  },
  {
   "cell_type": "code",
   "execution_count": 54,
   "metadata": {},
   "outputs": [
    {
     "name": "stdout",
     "output_type": "stream",
     "text": [
      "En el depth 2 tengo : 0.7554697554697555\n",
      "En el depth 3 tengo : 0.7863577863577863\n",
      "En el depth 4 tengo : 0.7824967824967825\n",
      "En el depth 5 tengo : 0.7837837837837838\n",
      "En el depth 6 tengo : 0.7786357786357786\n",
      "En el depth 7 tengo : 0.7644787644787645\n",
      "En el depth 8 tengo : 0.7619047619047619\n",
      "En el depth 9 tengo : 0.7464607464607464\n"
     ]
    }
   ],
   "source": [
    "from sklearn.tree import DecisionTreeClassifier\n",
    "dt = DecisionTreeClassifier()\n",
    "\n",
    "for depth in range(2,10):\n",
    "    dt = DecisionTreeClassifier(max_depth = depth)\n",
    "    dt.fit(X_train,y_train)\n",
    "    print('En el depth', depth, 'tengo :', dt.score(X_test, y_test))"
   ]
  },
  {
   "cell_type": "code",
   "execution_count": 55,
   "metadata": {},
   "outputs": [
    {
     "data": {
      "text/plain": [
       "0.7915057915057915"
      ]
     },
     "execution_count": 55,
     "metadata": {},
     "output_type": "execute_result"
    }
   ],
   "source": [
    "from sklearn.ensemble import RandomForestClassifier\n",
    "\n",
    "rf_clf = RandomForestClassifier(max_depth = 5)\n",
    "\n",
    "rf_clf.fit(X_train, y_train)\n",
    "\n",
    "rf_clf.score(X_test, y_test)"
   ]
  },
  {
   "cell_type": "code",
   "execution_count": null,
   "metadata": {},
   "outputs": [],
   "source": []
  },
  {
   "cell_type": "markdown",
   "metadata": {
    "colab_type": "text",
    "id": "TCis-a3EtSf4"
   },
   "source": [
    "### 4.1.2 Evaluación del Modelo"
   ]
  },
  {
   "cell_type": "code",
   "execution_count": null,
   "metadata": {
    "colab": {},
    "colab_type": "code",
    "id": "jvvKiBe1-odu"
   },
   "outputs": [],
   "source": [
    "# Generar las predicciones:\n",
    "y_pred_train = model.predict(X_train)\n",
    "y_pred_test = model.predict(X_test)\n",
    "\n",
    "# Generar las probabilidades\n",
    "y_pred_proba_train = model.predict_proba(X_train)[:,1]\n",
    "y_pred_proba_test = model.predict_proba(X_test)[:,1]"
   ]
  },
  {
   "cell_type": "code",
   "execution_count": null,
   "metadata": {
    "colab": {
     "base_uri": "https://localhost:8080/",
     "height": 50
    },
    "colab_type": "code",
    "id": "jA3cnd3Q-od3",
    "outputId": "2b4995a2-0a75-4e4d-c74b-67cc157ba8a9"
   },
   "outputs": [],
   "source": [
    "accuracy_train = mt.accuracy_score(y_train, y_pred_train)\n",
    "accuracy_test = mt.accuracy_score(y_test, y_pred_test)\n",
    "\n",
    "print(\"Accuracy - Train: {}\".format(accuracy_train))\n",
    "print(\"Accuracy - Test : {}\".format(accuracy_test))"
   ]
  },
  {
   "cell_type": "markdown",
   "metadata": {
    "colab_type": "text",
    "id": "oKyPD6XD-oeC"
   },
   "source": [
    "El punto de corte por defecto es de 0.50 para decidir si la predicción final será 1 ó 0. A continuación trataremos de encontrar ese punto de corte que optimice la métrica de evaluación del problema.."
   ]
  },
  {
   "cell_type": "markdown",
   "metadata": {
    "colab_type": "text",
    "id": "9tJxCLVE-oeF"
   },
   "source": [
    "### ****Find best threshold:****"
   ]
  },
  {
   "cell_type": "code",
   "execution_count": null,
   "metadata": {
    "colab": {},
    "colab_type": "code",
    "id": "JjU0SyXo-oeG"
   },
   "outputs": [],
   "source": [
    "list_accuracy_test = []\n",
    "for threshold in range(0,100):\n",
    "    pred_0_1 = [1 if x >= threshold/100 else 0 for x in y_pred_proba_test]\n",
    "    list_accuracy_test.append(mt.accuracy_score(y_test, pred_0_1))"
   ]
  },
  {
   "cell_type": "code",
   "execution_count": null,
   "metadata": {
    "colab": {
     "base_uri": "https://localhost:8080/",
     "height": 286
    },
    "colab_type": "code",
    "id": "HHMvAfr3-oeN",
    "outputId": "379da3b9-ea85-4ab7-af04-00da707f80e6"
   },
   "outputs": [],
   "source": [
    "xs = [x/100 for x in range(0,100)]\n",
    "ys = list_accuracy_test\n",
    "plt.plot(xs, ys)"
   ]
  },
  {
   "cell_type": "code",
   "execution_count": null,
   "metadata": {
    "colab": {
     "base_uri": "https://localhost:8080/",
     "height": 34
    },
    "colab_type": "code",
    "id": "vcTUgi-h-oeX",
    "outputId": "cef1047d-6613-4850-c7bd-1dfb5fb95588"
   },
   "outputs": [],
   "source": [
    "best_scoring = max(list_accuracy_test)\n",
    "best_threshold = list_accuracy_test.index(best_scoring)/100\n",
    "print(\"El mejor threshold es: {}\".format(best_threshold))"
   ]
  },
  {
   "cell_type": "code",
   "execution_count": null,
   "metadata": {
    "colab": {
     "base_uri": "https://localhost:8080/",
     "height": 50
    },
    "colab_type": "code",
    "id": "aHfBLMSu-oeg",
    "outputId": "1fd63fcd-96e7-4a30-d1b1-6a3f41ee7e7b"
   },
   "outputs": [],
   "source": [
    "accuracy_train = mt.accuracy_score(y_train, [1 if x >= best_threshold else 0 for x in y_pred_proba_train])\n",
    "accuracy_test = mt.accuracy_score(y_test, [1 if x >= best_threshold else 0 for x in y_pred_proba_test])\n",
    "\n",
    "print(\"Accuracy - Train: {}\".format(accuracy_train))\n",
    "print(\"Accuracy - Test : {}\".format(accuracy_test))"
   ]
  },
  {
   "cell_type": "markdown",
   "metadata": {
    "colab_type": "text",
    "id": "-1DC3WCrtSge"
   },
   "source": [
    "## 4.1.B. Árbol de decisión"
   ]
  },
  {
   "cell_type": "markdown",
   "metadata": {
    "colab_type": "text",
    "id": "Sn1ZmXjrtSge"
   },
   "source": [
    "### 4.1.1 Training"
   ]
  },
  {
   "cell_type": "code",
   "execution_count": null,
   "metadata": {
    "colab": {
     "base_uri": "https://localhost:8080/",
     "height": 118
    },
    "colab_type": "code",
    "id": "lFo_Ko-0tSgf",
    "outputId": "17e53db0-7625-4a10-ee87-276a5f4c0c48"
   },
   "outputs": [],
   "source": [
    "from sklearn.tree import DecisionTreeClassifier\n",
    "DecisionTreeClassifier()"
   ]
  },
  {
   "cell_type": "code",
   "execution_count": null,
   "metadata": {
    "colab": {},
    "colab_type": "code",
    "id": "z2DjunbNtSgi"
   },
   "outputs": [],
   "source": [
    "# Create  model objet \n",
    "model_tree = DecisionTreeClassifier(max_depth=6, min_samples_leaf=5,random_state=0)\n",
    "\n",
    "# Fit the model:\n",
    "model_tree.fit(X_train, y_train)\n",
    "\n",
    "model = model_tree"
   ]
  },
  {
   "cell_type": "markdown",
   "metadata": {
    "colab_type": "text",
    "id": "1dSIZjwStSgn"
   },
   "source": [
    "### 4.1.2 Evaluación del Modelo"
   ]
  },
  {
   "cell_type": "code",
   "execution_count": null,
   "metadata": {
    "colab": {},
    "colab_type": "code",
    "id": "Po5_fRk-tSgk"
   },
   "outputs": [],
   "source": [
    "# Generar las predicciones:\n",
    "y_pred_train = model.predict(X_train)\n",
    "y_pred_test = model.predict(X_test)\n",
    "\n",
    "# Generar las probabilidades\n",
    "y_pred_proba_train = model.predict_proba(X_train)[:,1]\n",
    "y_pred_proba_test = model.predict_proba(X_test)[:,1]"
   ]
  },
  {
   "cell_type": "code",
   "execution_count": null,
   "metadata": {
    "colab": {
     "base_uri": "https://localhost:8080/",
     "height": 50
    },
    "colab_type": "code",
    "id": "9XkSSTS74xDt",
    "outputId": "e0154ea4-4aa5-4ef5-8265-cef2351c1b10"
   },
   "outputs": [],
   "source": [
    "accuracy_train = mt.accuracy_score(y_train, y_pred_train)\n",
    "accuracy_test = mt.accuracy_score(y_test, y_pred_test)\n",
    "\n",
    "print(\"Accuracy - Train: {}\".format(accuracy_train))\n",
    "print(\"Accuracy - Test : {}\".format(accuracy_test))"
   ]
  },
  {
   "cell_type": "markdown",
   "metadata": {
    "colab_type": "text",
    "id": "Uki5re6889CC"
   },
   "source": [
    "El punto de corte por defecto es de 0.50 para decidir si la predicción final será 1 ó 0. A continuación trataremos de encontrar ese punto de corte que optimice la métrica de evaluación del problema.."
   ]
  },
  {
   "cell_type": "markdown",
   "metadata": {
    "colab_type": "text",
    "id": "uoCBdmNntSg3"
   },
   "source": [
    "### Feature Importances"
   ]
  },
  {
   "cell_type": "code",
   "execution_count": null,
   "metadata": {
    "colab": {
     "base_uri": "https://localhost:8080/",
     "height": 462
    },
    "colab_type": "code",
    "id": "5sgMvCrl9onj",
    "outputId": "bcc6e639-249c-4a35-85c5-7cdaf492bc95"
   },
   "outputs": [],
   "source": [
    "df_feature_importances = pd.DataFrame()\n",
    "df_feature_importances['feature'] = X_train.columns\n",
    "df_feature_importances['importance'] = model.feature_importances_/model.feature_importances_.sum()\n",
    "df_feature_importances = df_feature_importances.sort_values(by = ['importance','feature'],ascending=False)\n",
    "df_feature_importances.reset_index(drop = True,inplace=True)\n",
    "\n",
    "df_feature_importances"
   ]
  },
  {
   "cell_type": "code",
   "execution_count": null,
   "metadata": {
    "colab": {
     "base_uri": "https://localhost:8080/",
     "height": 340
    },
    "colab_type": "code",
    "id": "aBWfpWLP98iL",
    "outputId": "e06a6c5a-e483-429d-cd5f-b826e3163bf1"
   },
   "outputs": [],
   "source": [
    "df_feature_importances[['feature','importance']].sort_values(by=['importance'],\n",
    "                                                             ascending = [True]).plot(kind='barh',\n",
    "                                                             x='feature',\n",
    "                                                             y='importance',\n",
    "                                                             legend=True, \n",
    "                                                             figsize=(5, 5))"
   ]
  },
  {
   "cell_type": "markdown",
   "metadata": {
    "colab_type": "text",
    "id": "8h6Zrl3CtSg9"
   },
   "source": [
    "## 4.1.C. Random Forest"
   ]
  },
  {
   "cell_type": "markdown",
   "metadata": {
    "colab_type": "text",
    "id": "Sv-fXQpXtSg9"
   },
   "source": [
    "### 4.1.1 Training"
   ]
  },
  {
   "cell_type": "code",
   "execution_count": null,
   "metadata": {
    "colab": {
     "base_uri": "https://localhost:8080/",
     "height": 134
    },
    "colab_type": "code",
    "id": "B9bIt7GetSg-",
    "outputId": "8460d596-9f22-4c42-d24c-cb8d07561f34"
   },
   "outputs": [],
   "source": [
    "from sklearn.ensemble import RandomForestClassifier\n",
    "RandomForestClassifier()"
   ]
  },
  {
   "cell_type": "code",
   "execution_count": null,
   "metadata": {
    "colab": {},
    "colab_type": "code",
    "id": "Dr9Bor7EtShA"
   },
   "outputs": [],
   "source": [
    "# Create  model objet \n",
    "model_rf = RandomForestClassifier(n_estimators = 150, random_state = 0, max_depth=5, \n",
    "                                  max_features = 0.5, min_samples_leaf = 10, \n",
    "                                  n_jobs = -1)\n",
    "\n",
    "# Fit the model:\n",
    "model_rf.fit(X_train, y_train)\n",
    "\n",
    "model = model_rf"
   ]
  },
  {
   "cell_type": "markdown",
   "metadata": {
    "colab_type": "text",
    "id": "E-qk6gGStShE"
   },
   "source": [
    "### 4.1.2 Evaluación del Modelo"
   ]
  },
  {
   "cell_type": "code",
   "execution_count": null,
   "metadata": {
    "colab": {},
    "colab_type": "code",
    "id": "Vz_6lMXT_A3R"
   },
   "outputs": [],
   "source": [
    "# Generar las predicciones:\n",
    "y_pred_train = model.predict(X_train)\n",
    "y_pred_test = model.predict(X_test)\n",
    "\n",
    "# Generar las probabilidades\n",
    "y_pred_proba_train = model.predict_proba(X_train)[:,1]\n",
    "y_pred_proba_test = model.predict_proba(X_test)[:,1]"
   ]
  },
  {
   "cell_type": "code",
   "execution_count": null,
   "metadata": {
    "colab": {
     "base_uri": "https://localhost:8080/",
     "height": 50
    },
    "colab_type": "code",
    "id": "2vzmFDYQ_A3c",
    "outputId": "3e7f110e-3166-4fbd-d8a6-4e13a6879571"
   },
   "outputs": [],
   "source": [
    "accuracy_train = mt.accuracy_score(y_train, y_pred_train)\n",
    "accuracy_test = mt.accuracy_score(y_test, y_pred_test)\n",
    "\n",
    "print(\"Accuracy - Train: {}\".format(accuracy_train))\n",
    "print(\"Accuracy - Test : {}\".format(accuracy_test))"
   ]
  },
  {
   "cell_type": "markdown",
   "metadata": {
    "colab_type": "text",
    "id": "fvW6UlJP_A3m"
   },
   "source": [
    "El punto de corte por defecto es de 0.50 para decidir si la predicción final será 1 ó 0. A continuación trataremos de encontrar ese punto de corte que optimice la métrica de evaluación del problema.."
   ]
  },
  {
   "cell_type": "markdown",
   "metadata": {
    "colab_type": "text",
    "id": "1LN8QylgtShX"
   },
   "source": [
    "### Feature Importances"
   ]
  },
  {
   "cell_type": "code",
   "execution_count": null,
   "metadata": {
    "colab": {
     "base_uri": "https://localhost:8080/",
     "height": 462
    },
    "colab_type": "code",
    "id": "x5Hziz4p_R_c",
    "outputId": "79e918f7-fc11-431b-8ba5-7d1c4c13e385"
   },
   "outputs": [],
   "source": [
    "df_feature_importances = pd.DataFrame()\n",
    "df_feature_importances['feature'] = X_train.columns\n",
    "df_feature_importances['importance'] = model.feature_importances_/model.feature_importances_.sum()\n",
    "df_feature_importances = df_feature_importances.sort_values(by = ['importance','feature'],ascending=False)\n",
    "df_feature_importances.reset_index(drop = True,inplace=True)\n",
    "\n",
    "df_feature_importances"
   ]
  },
  {
   "cell_type": "code",
   "execution_count": null,
   "metadata": {
    "colab": {
     "base_uri": "https://localhost:8080/",
     "height": 340
    },
    "colab_type": "code",
    "id": "tsDvlIIU_R_1",
    "outputId": "5bf0fb90-9c57-4601-b98e-efe0931188ba"
   },
   "outputs": [],
   "source": [
    "df_feature_importances[['feature','importance']].sort_values(by=['importance'],\n",
    "                                                             ascending = [True]).plot(kind='barh',\n",
    "                                                             x='feature',\n",
    "                                                             y='importance',\n",
    "                                                             legend=True, \n",
    "                                                             figsize=(5, 5))"
   ]
  },
  {
   "cell_type": "markdown",
   "metadata": {
    "colab_type": "text",
    "id": "xpp8dOIDDWmv"
   },
   "source": [
    "**MODELO FINAL**"
   ]
  },
  {
   "cell_type": "markdown",
   "metadata": {
    "colab_type": "text",
    "id": "HERjQHFoDcCc"
   },
   "source": [
    "Como se puede notar, de los 3 tipos de algoritmos entrenados, el modelo basado en Random Forrest es el ganador con un accuracy optimizado por el punto de corte (threhold: 0.36)"
   ]
  },
  {
   "cell_type": "markdown",
   "metadata": {
    "colab_type": "text",
    "id": "cb_S6QGXtShc"
   },
   "source": [
    "# Predicciones on Submission DS"
   ]
  },
  {
   "cell_type": "code",
   "execution_count": null,
   "metadata": {
    "colab": {},
    "colab_type": "code",
    "id": "_KrAWJ2NtShd"
   },
   "outputs": [],
   "source": [
    "pred_prob_subm = model_rf.predict_proba(X_summit)[:,1]\n",
    "pred_subm = [1 if x >= best_threshold else 0 for x in pred_prob_subm]"
   ]
  },
  {
   "cell_type": "code",
   "execution_count": null,
   "metadata": {
    "colab": {
     "base_uri": "https://localhost:8080/",
     "height": 195
    },
    "colab_type": "code",
    "id": "u54bT83htShe",
    "outputId": "963182b2-055c-4136-ebff-880a079aed59"
   },
   "outputs": [],
   "source": [
    "Y_summit_pred = pd.DataFrame()\n",
    "Y_summit_pred[ID] = df_test[ID]\n",
    "Y_summit_pred[TARGET] = pred_subm #pred_prob_subm\n",
    "Y_summit_pred.head()"
   ]
  },
  {
   "cell_type": "markdown",
   "metadata": {
    "colab_type": "text",
    "id": "HZuqQb8stShf"
   },
   "source": [
    "To submission:"
   ]
  },
  {
   "cell_type": "code",
   "execution_count": null,
   "metadata": {
    "colab": {},
    "colab_type": "code",
    "id": "wFz5QCrQEa4u"
   },
   "outputs": [],
   "source": [
    "Y_summit_pred.to_csv(\"krfc_submission_01_baseline.csv\", index = False)"
   ]
  }
 ],
 "metadata": {
  "colab": {
   "collapsed_sections": [],
   "name": "DSRP - Semillero Kaggle Piloto_01.ipynb",
   "provenance": [],
   "toc_visible": true,
   "version": "0.3.2"
  },
  "kernelspec": {
   "display_name": "Python 3",
   "language": "python",
   "name": "python3"
  },
  "language_info": {
   "codemirror_mode": {
    "name": "ipython",
    "version": 3
   },
   "file_extension": ".py",
   "mimetype": "text/x-python",
   "name": "python",
   "nbconvert_exporter": "python",
   "pygments_lexer": "ipython3",
   "version": "3.7.1"
  }
 },
 "nbformat": 4,
 "nbformat_minor": 1
}
