{
 "cells": [
  {
   "cell_type": "code",
   "execution_count": null,
   "metadata": {
    "colab": {},
    "colab_type": "code",
    "id": "cC_oYPntHEym"
   },
   "outputs": [],
   "source": [
    "import pandas as pd\n",
    "import numpy as np\n",
    "import matplotlib.pyplot as plt\n",
    "import seaborn as sns\n",
    "import missingno as ms\n",
    "\n",
    "#Librerias antes no vistas\n",
    "from scipy import stats\n",
    "from scipy.stats import norm, skew\n",
    "\n",
    "pd.set_option('display.max_columns',None)"
   ]
  },
  {
   "cell_type": "code",
   "execution_count": null,
   "metadata": {},
   "outputs": [],
   "source": [
    "train=pd.read_csv('https://raw.githubusercontent.com/HackSpacePeru/Datasets_intro_Data_Science/master/House_pricing/train.csv')\n",
    "test = pd.read_csv('https://raw.githubusercontent.com/HackSpacePeru/Datasets_intro_Data_Science/master/House_pricing/test.csv')"
   ]
  },
  {
   "cell_type": "markdown",
   "metadata": {
    "colab_type": "text",
    "id": "vVoD4zSRICQ8"
   },
   "source": [
    "# Presentacion del dataset Housing Price California"
   ]
  },
  {
   "cell_type": "code",
   "execution_count": null,
   "metadata": {
    "colab": {
     "base_uri": "https://localhost:8080/",
     "height": 34
    },
    "colab_type": "code",
    "id": "Vji5CCLuGda0",
    "outputId": "16f01df0-15c2-49ab-88ad-3d369cb18d00"
   },
   "outputs": [],
   "source": [
    "print('Para la data de train:', train.shape)\n",
    "print('Para la data de test:',test.shape)"
   ]
  },
  {
   "cell_type": "code",
   "execution_count": null,
   "metadata": {
    "_cell_guid": "3678529f-9d76-4853-88c5-4b2d230a85b6",
    "_execution_state": "idle",
    "_uuid": "3a32f51460a02fbe7a9122db55a740eb378dda97",
    "colab": {
     "base_uri": "https://localhost:8080/",
     "height": 246
    },
    "colab_type": "code",
    "id": "HI3AVBp5Gda5",
    "outputId": "b7c29537-a57b-40ed-c85a-c7094eef2d70"
   },
   "outputs": [],
   "source": [
    "train.head()"
   ]
  },
  {
   "cell_type": "code",
   "execution_count": null,
   "metadata": {},
   "outputs": [],
   "source": [
    "test.head()"
   ]
  },
  {
   "cell_type": "code",
   "execution_count": null,
   "metadata": {},
   "outputs": [],
   "source": [
    "ms.matrix(train)"
   ]
  },
  {
   "cell_type": "code",
   "execution_count": null,
   "metadata": {},
   "outputs": [],
   "source": [
    "ms.matrix(test)"
   ]
  },
  {
   "cell_type": "code",
   "execution_count": null,
   "metadata": {},
   "outputs": [],
   "source": [
    "train.drop(\"Id\", axis = 1, inplace = True)\n",
    "test.drop(\"Id\",axis=1,inplace=True)"
   ]
  },
  {
   "cell_type": "markdown",
   "metadata": {},
   "source": [
    "### Limpiando Nulos\n",
    "\n",
    "- Nulos categoricos.\n",
    "\n",
    "- Nulos numéricos."
   ]
  },
  {
   "cell_type": "code",
   "execution_count": null,
   "metadata": {},
   "outputs": [],
   "source": [
    "columnas_object_nulos = [col for col in test.columns if ((train[col].dtype =='object')|(test[col].dtype == 'object')&((train[col].isna().any()|(test[col].isna().any()))))]"
   ]
  },
  {
   "cell_type": "code",
   "execution_count": null,
   "metadata": {},
   "outputs": [],
   "source": [
    "def reemplazando_non_nans(df, lista_cols_obj_nulos):\n",
    "    for col in lista_cols_obj_nulos:\n",
    "        df[col].fillna(\"None\",inplace=True)"
   ]
  },
  {
   "cell_type": "code",
   "execution_count": null,
   "metadata": {},
   "outputs": [],
   "source": [
    "reemplazando_non_nans(train,columnas_object_nulos)\n",
    "reemplazando_non_nans(test,columnas_object_nulos)"
   ]
  },
  {
   "cell_type": "code",
   "execution_count": null,
   "metadata": {},
   "outputs": [],
   "source": [
    "for col in ['BsmtFinSF2','BsmtFullBath','BsmtHalfBath','GarageCars']:\n",
    "    train.loc[train[col].isna(),col] = 0.0\n",
    "    test.loc[test[col].isna(),col] = 0"
   ]
  },
  {
   "cell_type": "code",
   "execution_count": null,
   "metadata": {},
   "outputs": [],
   "source": [
    "lista_nulos_numericos = [col for col in test.columns if (test[col].isna().any())]"
   ]
  },
  {
   "cell_type": "code",
   "execution_count": null,
   "metadata": {},
   "outputs": [],
   "source": [
    "for col in lista_nulos_numericos:\n",
    "    plt.title(train[col].isna().sum())\n",
    "    sns.distplot(train[col].dropna())\n",
    "    plt.show()"
   ]
  },
  {
   "cell_type": "code",
   "execution_count": null,
   "metadata": {},
   "outputs": [],
   "source": [
    "for col in lista_nulos_numericos:\n",
    "    plt.title(test[col].isna().sum())\n",
    "    sns.distplot(test[col].dropna())\n",
    "    plt.show()"
   ]
  },
  {
   "cell_type": "code",
   "execution_count": null,
   "metadata": {
    "_cell_guid": "b24451a1-fb8c-4094-ad0b-0940469d07fc",
    "_execution_state": "idle",
    "_uuid": "687813c270cbfdedccc7a9e4ec9fbb78a99d54ed",
    "colab": {},
    "colab_type": "code",
    "id": "XoC36OB-GdbC"
   },
   "outputs": [],
   "source": [
    "for col in lista_nulos_numericos:\n",
    "    train[col].fillna(train[col].mean(),inplace=True)\n",
    "    test[col].fillna(test[col].mean(),inplace=True)"
   ]
  },
  {
   "cell_type": "markdown",
   "metadata": {},
   "source": [
    "### Exportando a csv"
   ]
  },
  {
   "cell_type": "code",
   "execution_count": null,
   "metadata": {},
   "outputs": [],
   "source": [
    "train.to_csv('train_limpio.csv',index=False)\n",
    "test.to_csv('test_limpio.csv',index=False)"
   ]
  },
  {
   "cell_type": "code",
   "execution_count": null,
   "metadata": {},
   "outputs": [],
   "source": [
    "train = pd.read_csv('train_limpio.csv')\n",
    "summit = pd.read_csv('test_limpio.csv')"
   ]
  },
  {
   "cell_type": "markdown",
   "metadata": {
    "_cell_guid": "7d5829c4-b2f1-4ef3-8b02-11f02eb7aabf",
    "_execution_state": "idle",
    "_uuid": "228cb602f1c7a47d3c5250514cab57f7e7bc75e5",
    "colab_type": "text",
    "id": "b7zsBXZjGdbF"
   },
   "source": [
    "# Procesamiento de Datos"
   ]
  },
  {
   "cell_type": "markdown",
   "metadata": {
    "_cell_guid": "993f8fc0-1f5a-4432-80bc-6024b7bbc855",
    "_execution_state": "idle",
    "_uuid": "21bab04b0e0a451c912695d9238bf8304fc009d4",
    "colab_type": "text",
    "id": "pzxgqAcVGdbH"
   },
   "source": [
    "##### OUTLIERS"
   ]
  },
  {
   "cell_type": "code",
   "execution_count": null,
   "metadata": {
    "_cell_guid": "637bd0fd-7508-41d1-b240-ea0e8598dddf",
    "_execution_state": "idle",
    "_uuid": "8903aa1a4a700aa2160edb3baf806f3800ae7d9a",
    "colab": {
     "base_uri": "https://localhost:8080/",
     "height": 301
    },
    "colab_type": "code",
    "id": "X1P4IuDZGdbJ",
    "outputId": "cc0e9018-d387-401d-cbbd-ab4335025327"
   },
   "outputs": [],
   "source": [
    "sns.scatterplot(x = train['GrLivArea'], y = train['SalePrice'])"
   ]
  },
  {
   "cell_type": "code",
   "execution_count": null,
   "metadata": {},
   "outputs": [],
   "source": [
    "sns.distplot(train['GrLivArea'])"
   ]
  },
  {
   "cell_type": "code",
   "execution_count": null,
   "metadata": {},
   "outputs": [],
   "source": [
    "dict_outliers = {}\n",
    "for col in train.columns:\n",
    "    if train[col].dtype != 'object':        \n",
    "        if train[col].kurt() > 20:\n",
    "            dict_outliers[col] = train[col].kurt()\n",
    "    else:\n",
    "        pass"
   ]
  },
  {
   "cell_type": "code",
   "execution_count": null,
   "metadata": {},
   "outputs": [],
   "source": [
    "for k,v in dict_outliers.items():\n",
    "    sns.distplot(train[k])\n",
    "    plt.show()"
   ]
  },
  {
   "cell_type": "markdown",
   "metadata": {
    "_cell_guid": "30304b82-5846-4142-bc31-b629158fb040",
    "_execution_state": "idle",
    "_uuid": "edf186dc5169e450392ee8f809cc3de5d10d7dbd",
    "colab_type": "text",
    "id": "6DgmVYysGdbM"
   },
   "source": [
    "Se puede apreciar en la esquina inferior derecha dos datos que indican un **AreaHabitable** muy grande, y sin embargo registran un bajo precio. Estos valores se consideran outliers. Por ello procederemos a eliminarlos."
   ]
  },
  {
   "cell_type": "code",
   "execution_count": null,
   "metadata": {
    "_cell_guid": "6c5780b2-d4a8-42d9-b902-c6a23eef7d99",
    "_execution_state": "idle",
    "_uuid": "583bb417102d7bebb4aaf14bcb1aebcae86443bb",
    "colab": {
     "base_uri": "https://localhost:8080/",
     "height": 301
    },
    "colab_type": "code",
    "id": "w91rK6KcGdbN",
    "outputId": "6c8e92f2-14ee-492a-a7bd-9359231dd70a"
   },
   "outputs": [],
   "source": [
    "#Eliminamos los outliers acorde a las variables del gráfico\n",
    "train = train.drop(train[(train['GrLivArea']>4000) & (train['SalePrice']<300000)].index)\n",
    "\n",
    "#Verificamos el gráfico nuevamente para confirmar que los outliers hayan sido eliminados\n",
    "sns.scatterplot(x = train['GrLivArea'], y = train['SalePrice'])"
   ]
  },
  {
   "cell_type": "markdown",
   "metadata": {
    "_cell_guid": "e24be1ff-e186-4d0f-9ba1-64195c0eec4d",
    "_execution_state": "idle",
    "_uuid": "0f186c5806f14de1e9ea46ece78a4bed2a6830a7",
    "colab_type": "text",
    "id": "bgQyRhVmGdbR"
   },
   "source": [
    "Hay probabilidades de que otros valores atipicos existan en los datos de entrenamiento (si es que alli hubieran tambien outliers), sin embargo removerlos todos puede afectar negativamente nuestros modelos. Por ello vamos a permitir aquellos en los cuales los modelos son lo suficientemente robustos."
   ]
  },
  {
   "cell_type": "markdown",
   "metadata": {
    "_cell_guid": "f4dcb348-634e-4010-b0a1-27976a1d8353",
    "_execution_state": "idle",
    "_uuid": "886ad7c816f4c1fd9afda53b10990baf987e86d8",
    "colab_type": "text",
    "id": "ORK_jNf6GdbT"
   },
   "source": [
    "## Variable Objetivo"
   ]
  },
  {
   "cell_type": "markdown",
   "metadata": {
    "_cell_guid": "658f5b56-5830-486c-81a0-8514fb95e274",
    "_execution_state": "idle",
    "_uuid": "4b96a6a35983d1c765c11c929bcd32effd105b43",
    "colab_type": "text",
    "id": "L8EslLgqGdbU"
   },
   "source": [
    "**Precio** es la variable que vamos a predecir. Asi que vamos a hacer un poco de analisis en esta variable primero."
   ]
  },
  {
   "cell_type": "code",
   "execution_count": null,
   "metadata": {},
   "outputs": [],
   "source": [
    "from scipy.stats import norm, skew"
   ]
  },
  {
   "cell_type": "code",
   "execution_count": null,
   "metadata": {
    "_cell_guid": "a17ad845-6fca-4d47-8e44-7c4c44f0427d",
    "_execution_state": "idle",
    "_uuid": "be3b0157031685ed3dbc31a657ba712312691830",
    "colab": {
     "base_uri": "https://localhost:8080/",
     "height": 312
    },
    "colab_type": "code",
    "id": "GeVtEKrQGdbV",
    "outputId": "3dd3293b-0e02-43a9-8e49-bafeccd70359"
   },
   "outputs": [],
   "source": [
    "## Comparemos la distribución de Precio con una distribucion normal.\n",
    "sns.distplot(train['SalePrice'], fit = norm)\n",
    "plt.ylabel('Frecuencia')\n",
    "plt.title('Distribución del Precio')"
   ]
  },
  {
   "cell_type": "markdown",
   "metadata": {
    "_cell_guid": "313a535c-86c4-4db5-96de-6f65bc4adc2f",
    "_execution_state": "idle",
    "_uuid": "1da2d9831ae6c94b3f6304185f02896a9ee40aa5",
    "colab_type": "text",
    "id": "hP2olfzeGdbY"
   },
   "source": [
    "Se puede apreciar que los datos de la variable objetivo están inclinados a la izquierda. Sin embargo, los modelos lineales que veremos en la presente clase pueden optimizar su predición con datos distribuidos normalmente. Vamos a transformar los datos de esta variable para **aproximarlos a una distribución normal**."
   ]
  },
  {
   "cell_type": "markdown",
   "metadata": {
    "_cell_guid": "8df72eef-77de-4a71-aa6a-4b91784a7232",
    "_execution_state": "idle",
    "_uuid": "421775277fdab4e5a05f74aa4ea92e712a743928",
    "colab_type": "text",
    "id": "sJfYY-XoGdbZ"
   },
   "source": [
    " **Log-transformación de la variable objetivo**"
   ]
  },
  {
   "cell_type": "code",
   "execution_count": null,
   "metadata": {
    "_cell_guid": "21b3a0ad-bd68-49aa-a3d7-40a30b3c59dc",
    "_execution_state": "idle",
    "_uuid": "719cf6a9dca56cc529e97af21816d291fa8bd8c0",
    "colab": {
     "base_uri": "https://localhost:8080/",
     "height": 312
    },
    "colab_type": "code",
    "id": "o8GKaoGDGdba",
    "outputId": "41c188e7-fefa-4561-f5e2-4a4aca313f70"
   },
   "outputs": [],
   "source": [
    "#Utilizamos la función log1p de la librería numpy que aplica la función log(1+x) a todos los elementos de la variable Precio\n",
    "train[\"SalePrice\"] = np.log1p(train[\"SalePrice\"])\n",
    "\n",
    "#Dibujamos la distribución actualizada de la variable Precio\n",
    "sns.distplot(train['SalePrice'] , fit=norm);\n",
    "\n",
    "plt.ylabel('Frequency')\n",
    "plt.title('Distribución del Precio Real Ajustado')"
   ]
  },
  {
   "cell_type": "markdown",
   "metadata": {
    "colab_type": "text",
    "id": "Gw0GVURhtsuV"
   },
   "source": [
    "**Vamos a revisar el archivo \"DescripcionVariables.xlsx\" el cual contiene un diccionario sobre el significado de las variables predictoras**"
   ]
  },
  {
   "cell_type": "code",
   "execution_count": null,
   "metadata": {
    "_cell_guid": "1bd3e9b9-2f42-4251-aadd-5ced84eb1a27",
    "_execution_state": "idle",
    "_uuid": "efc576211e4eed962f04cd94d901c667e6912528",
    "colab": {},
    "colab_type": "code",
    "id": "RyGn197iGdbj"
   },
   "outputs": [],
   "source": []
  },
  {
   "cell_type": "markdown",
   "metadata": {
    "_cell_guid": "5d88502a-2484-45d7-a750-0d32075133dd",
    "_execution_state": "idle",
    "_uuid": "dbf28eddefa2c0825781a31cde823ac5ece5a1ee",
    "colab_type": "text",
    "id": "hiyCxNY9Gdb9"
   },
   "source": [
    "**Correlación de los Datos**\n"
   ]
  },
  {
   "cell_type": "code",
   "execution_count": null,
   "metadata": {
    "_cell_guid": "3fc115c7-33bb-456d-b3e5-4dd985bfbc9f",
    "_execution_state": "idle",
    "_uuid": "0f6b9912c752212f3f4bdca0b60f5fd01c12d2a0",
    "colab": {
     "base_uri": "https://localhost:8080/",
     "height": 788
    },
    "colab_type": "code",
    "id": "W6jWQsuKGdcB",
    "outputId": "9fc756a1-1fbc-4b0a-ebf3-56c5bf0d85ef"
   },
   "outputs": [],
   "source": [
    "#Mapa de correlación para ver cómo las variables predictoras están correlacionadas con Precio\n",
    "corrmat = train.corr()\n",
    "plt.subplots(figsize=(15,12))\n",
    "sns.heatmap(corrmat, vmax=0.9, square=True)"
   ]
  },
  {
   "cell_type": "markdown",
   "metadata": {
    "_cell_guid": "7996debf-c724-4365-9d63-f6104bae6140",
    "_execution_state": "idle",
    "_uuid": "915505b9c21b4dd84cc466660a68fb0d6b84cfae",
    "colab_type": "text",
    "id": "rO8p2eJ5GdeG"
   },
   "source": [
    "# Feature Engineering"
   ]
  },
  {
   "cell_type": "markdown",
   "metadata": {
    "_cell_guid": "0d5076fa-b4ab-4787-bebb-8fd445b8815a",
    "_execution_state": "idle",
    "_uuid": "1cfcb671a97068569efb4e7855da91aa30c5bbde",
    "colab_type": "text",
    "id": "q4XVIARxGdeI"
   },
   "source": [
    "**Transformando algunas variables númericas que realmente son categóricas**"
   ]
  },
  {
   "cell_type": "code",
   "execution_count": null,
   "metadata": {
    "_cell_guid": "a52dc2f9-ca02-4024-987a-165ce630b356",
    "_execution_state": "idle",
    "_uuid": "cc7557817a4442e799e4e4c84dd1efd8bd08867a",
    "colab": {},
    "colab_type": "code",
    "id": "uAKzmMtiGdeN"
   },
   "outputs": [],
   "source": [
    "#Cambiar las variables Año y Mes de venta de la casa a tipo entero\n",
    "train['YrSold'] = train['YrSold'].astype(int)\n",
    "train['MoSold'] = train['MoSold'].astype(int)\n",
    "\n",
    "summit['YrSold'] = summit['YrSold'].astype(int)\n",
    "summit['MoSold'] = summit['MoSold'].astype(int)"
   ]
  },
  {
   "cell_type": "code",
   "execution_count": null,
   "metadata": {},
   "outputs": [],
   "source": [
    "#Añadiendo tamaño total del area (TotalBsmtSF + 1stFlrSF + 2ndFlrSF)\n"
   ]
  },
  {
   "cell_type": "code",
   "execution_count": null,
   "metadata": {},
   "outputs": [],
   "source": [
    "#IfRemod será una columna dummy que nos ayudará a saber si la casa fue remodelada (1) o no (0)\n",
    "train['IfRemod'] = np.where(train['YearBuilt'] == train['YearRemodAdd'], 0,1)\n",
    "summit['IfRemod'] = np.where(summit['YearBuilt'] == summit['YearRemodAdd'], 0,1)"
   ]
  },
  {
   "cell_type": "code",
   "execution_count": null,
   "metadata": {},
   "outputs": [],
   "source": [
    "# YRemodAftConst: Cuántos años tuvo de diferencia la casa remodelada con respecto a su año de construcción\n",
    "train['YRemodAftConst'] = np.where(train['IfRemod'] == 1, train['YearRemodAdd'] - train['YearBuilt'], 0)\n",
    "summit['YRemodAftConst'] = np.where(summit['IfRemod'] == 1, summit['YearRemodAdd'] - summit['YearBuilt'], 0)"
   ]
  },
  {
   "cell_type": "code",
   "execution_count": null,
   "metadata": {},
   "outputs": [],
   "source": []
  },
  {
   "cell_type": "code",
   "execution_count": null,
   "metadata": {
    "_cell_guid": "fc1a8f1a-f003-4538-8e60-d819f46362a3",
    "_execution_state": "idle",
    "_uuid": "208f8d22188786227fff4a978dc3b11b4e1ffd90",
    "colab": {},
    "colab_type": "code",
    "id": "DHT7jgU5Gded"
   },
   "outputs": [],
   "source": []
  },
  {
   "cell_type": "markdown",
   "metadata": {
    "_cell_guid": "91c73aad-82d1-4301-b540-b2f69dc13902",
    "_execution_state": "idle",
    "_uuid": "aa36d6e3253e354b46d9c9c6f2e8a4089c76be16",
    "colab_type": "text",
    "id": "NWATCwEtGdeh"
   },
   "source": [
    "**Detectamos el grado de asimetría de las variables predictoras** - Solo aquellas con data numérica"
   ]
  },
  {
   "cell_type": "code",
   "execution_count": null,
   "metadata": {
    "_cell_guid": "c5972a73-7e86-4164-a9d6-58432dae1933",
    "_execution_state": "idle",
    "_uuid": "53c471c7008c66590f257e70866f8a3037813f13",
    "colab": {
     "base_uri": "https://localhost:8080/",
     "height": 401
    },
    "colab_type": "code",
    "id": "6KsCqWuMGdeh",
    "outputId": "4368f975-6060-44f4-e510-cb48175b533c"
   },
   "outputs": [],
   "source": [
    "#Filtramos aquellas variables que tengan datos diferentes al tipo object, es decir numéricas\n",
    "numeric_feats = train.dtypes[train.dtypes != \"object\"].index\n",
    "\n",
    "#Aplicamos la función skew a las variables filtradas y mostramos el resultado ordenando de forma ascendente\n",
    "skewed_feats = train[numeric_feats].apply(lambda x: skew(x.dropna())).sort_values(ascending=False)\n",
    "print(\"\\nSesgo en características numéricas: \\n\")\n",
    "skewness = pd.DataFrame({'Skew' :skewed_feats})\n",
    "skewness.head(10)"
   ]
  },
  {
   "cell_type": "code",
   "execution_count": null,
   "metadata": {},
   "outputs": [],
   "source": [
    "skewness.Skew.unique()"
   ]
  },
  {
   "cell_type": "markdown",
   "metadata": {
    "_cell_guid": "39639caf-31a4-4401-a663-0ba9536b39bf",
    "_execution_state": "idle",
    "_uuid": "5a13a6e2a3e48975de9129d1593bd38df44a1069",
    "colab_type": "text",
    "id": "BsRuL7uWGder"
   },
   "source": [
    "**Encodeamos rápidamente las variables categóricas**"
   ]
  },
  {
   "cell_type": "code",
   "execution_count": null,
   "metadata": {
    "_cell_guid": "c8e63516-e4e2-4f36-a60e-1c8316392c60",
    "_execution_state": "idle",
    "_uuid": "acd44e283867425257ffd1fb2f4893cdbff43f67",
    "colab": {
     "base_uri": "https://localhost:8080/",
     "height": 34
    },
    "colab_type": "code",
    "id": "vKjErBmMGdes",
    "outputId": "57cdba7c-6fb9-41bd-8552-9fee6f922d57"
   },
   "outputs": [],
   "source": [
    "cat_variables = [col for col in train.columns if train[col].dtype == 'object']"
   ]
  },
  {
   "cell_type": "code",
   "execution_count": null,
   "metadata": {},
   "outputs": [],
   "source": []
  },
  {
   "cell_type": "code",
   "execution_count": null,
   "metadata": {
    "colab": {
     "base_uri": "https://localhost:8080/",
     "height": 246
    },
    "colab_type": "code",
    "id": "Ywm4iQJDH2pf",
    "outputId": "34da5e40-a3b1-458c-c120-35883fd4b2dd"
   },
   "outputs": [],
   "source": [
    "from sklearn.preprocessing import LabelEncoder\n",
    "le = LabelEncoder()\n",
    "for cat in cat_variables:\n",
    "    le.fit(list(train[cat].values)+list(summit[cat].values))\n",
    "    train[cat] = le.transform(train[cat])\n",
    "    summit[cat] = le.transform(summit[cat])"
   ]
  },
  {
   "cell_type": "code",
   "execution_count": null,
   "metadata": {},
   "outputs": [],
   "source": [
    "train.columns"
   ]
  },
  {
   "cell_type": "markdown",
   "metadata": {
    "_cell_guid": "461af83d-a928-4645-8512-5e4dbcaf7be0",
    "_execution_state": "idle",
    "_uuid": "10aab4cee97832560e2627a490e01e80c0ffb814",
    "colab_type": "text",
    "id": "Kl1jncH5Gdew"
   },
   "source": [
    "# Modelos de Regresión"
   ]
  },
  {
   "cell_type": "markdown",
   "metadata": {
    "_cell_guid": "811925a6-341f-4cae-89c9-00983868a6b2",
    "_execution_state": "idle",
    "_uuid": "be4e4b315682b26359eba1ba3d65022aca9501e1",
    "colab_type": "text",
    "id": "WteOSg0tGde5"
   },
   "source": [
    "**Importamos librerías**"
   ]
  },
  {
   "cell_type": "code",
   "execution_count": null,
   "metadata": {
    "_cell_guid": "135e8ac5-ce46-4a5f-b205-13f827ef33b8",
    "_execution_state": "idle",
    "_uuid": "fc664fbe27561a3697d0210921107b0e14b7d211",
    "colab": {},
    "colab_type": "code",
    "id": "gE8y7oVgGde7"
   },
   "outputs": [],
   "source": [
    "from sklearn.linear_model import ElasticNet, Lasso, Ridge\n",
    "from sklearn.ensemble import RandomForestRegressor,  GradientBoostingRegressor\n",
    "from sklearn.kernel_ridge import KernelRidge\n",
    "from sklearn.pipeline import make_pipeline\n",
    "from sklearn.preprocessing import RobustScaler\n",
    "from sklearn.base import BaseEstimator, TransformerMixin, RegressorMixin, clone\n",
    "from sklearn.metrics import mean_squared_error\n",
    "from sklearn.model_selection import KFold, cross_val_score\n",
    "\n",
    "from sklearn.model_selection import train_test_split"
   ]
  },
  {
   "cell_type": "code",
   "execution_count": null,
   "metadata": {},
   "outputs": [],
   "source": []
  },
  {
   "cell_type": "code",
   "execution_count": null,
   "metadata": {},
   "outputs": [],
   "source": [
    "X = train.drop('SalePrice',axis=1)\n",
    "y = train.SalePrice.values\n",
    "X_train, X_test, y_train, y_test = train_test_split(X,y)"
   ]
  },
  {
   "cell_type": "markdown",
   "metadata": {
    "_cell_guid": "42e1565e-77a1-41a7-ac31-893e405d34ad",
    "_execution_state": "busy",
    "_uuid": "643ae2c4a88576ebbd55824ce8e654486087a6e0",
    "colab_type": "text",
    "id": "7mPiF4_HGdfC"
   },
   "source": [
    "## Regresión Lineal"
   ]
  },
  {
   "cell_type": "code",
   "execution_count": null,
   "metadata": {},
   "outputs": [],
   "source": [
    "from sklearn.linear_model import LinearRegression\n",
    "lr = LinearRegression()\n",
    "lr.fit(X_train,y_train)"
   ]
  },
  {
   "cell_type": "code",
   "execution_count": null,
   "metadata": {},
   "outputs": [],
   "source": [
    "predicciones_lr = lr.predict(X_test)"
   ]
  },
  {
   "cell_type": "code",
   "execution_count": null,
   "metadata": {},
   "outputs": [],
   "source": [
    "print('Mi Error cuadratico medio es de: {:.8f}'.format(mean_squared_error(y_test, predicciones_lr)))\n",
    "print('Mi RMSE es de: {:.8f}'.format(np.sqrt(mean_squared_error(y_test,predicciones_lr))))"
   ]
  },
  {
   "cell_type": "markdown",
   "metadata": {
    "_cell_guid": "578f088d-1a84-41cb-b945-ec64800f2308",
    "_execution_state": "idle",
    "_uuid": "370125198a0cbbc9336cbf179f00a2ebb02cb063",
    "colab_type": "text",
    "id": "6fdPUZuqGdfC"
   },
   "source": [
    "##  **Regresión Lasso**  : \n",
    "\n",
    "Este modelo es muy sensible a outliers, por ello necesitamos hacer más robusto el modelo a través del parámetro **Robustscaler** dentro de un pipeline"
   ]
  },
  {
   "cell_type": "code",
   "execution_count": null,
   "metadata": {
    "_cell_guid": "03f45cb7-0a40-45ea-94e8-64fd7ff1e8f6",
    "_execution_state": "idle",
    "_uuid": "2a50c954cb771d350c3092c3658486ba4d22aba5",
    "colab": {},
    "colab_type": "code",
    "id": "7oScyUEwGdfD"
   },
   "outputs": [],
   "source": [
    "lasso = Lasso(alpha=0.0005, random_state=1)\n",
    "lasso.fit(X_train, y_train)\n",
    "predicciones_lasso = lasso.predict(X_test)"
   ]
  },
  {
   "cell_type": "code",
   "execution_count": null,
   "metadata": {},
   "outputs": [],
   "source": [
    "print('Mi Error cuadratico medio es de: {:.8f}'.format(mean_squared_error(y_test, predicciones_lasso)))\n",
    "print('Mi RMSE es de: {:.8f}'.format(np.sqrt(mean_squared_error(y_test,predicciones_lasso))))"
   ]
  },
  {
   "cell_type": "markdown",
   "metadata": {},
   "source": [
    "## Regresión Ridge:"
   ]
  },
  {
   "cell_type": "code",
   "execution_count": null,
   "metadata": {},
   "outputs": [],
   "source": [
    "ridge = Ridge(alpha=1, solver = 'cholesky')\n",
    "ridge.fit(X_train,y_train)\n",
    "predicciones_ridge = ridge.predict(X_test)"
   ]
  },
  {
   "cell_type": "code",
   "execution_count": null,
   "metadata": {},
   "outputs": [],
   "source": [
    "print('Mi Error cuadratico medio es de: {:.8f}'.format(mean_squared_error(y_test, predicciones_ridge)))\n",
    "print('Mi RMSE es de: {:.8f}'.format(np.sqrt(mean_squared_error(y_test,predicciones_ridge))))"
   ]
  },
  {
   "cell_type": "markdown",
   "metadata": {
    "_cell_guid": "2c826f7b-ac66-421c-a7ae-29dfdd765bdb",
    "_execution_state": "idle",
    "_uuid": "30e9756cf63991715b48e8c53bc57906fc76f380",
    "colab_type": "text",
    "id": "NszThWNmGdfF"
   },
   "source": [
    "## **Regresión ElasticNet** :"
   ]
  },
  {
   "cell_type": "code",
   "execution_count": null,
   "metadata": {
    "_cell_guid": "e635cc7e-caeb-4f8b-ae78-c41f8eb0be59",
    "_execution_state": "idle",
    "_uuid": "b614cf1bdee86a3b1cbdde05298f9f7ae023799b",
    "colab": {},
    "colab_type": "code",
    "id": "kI7Em8DkGdfG"
   },
   "outputs": [],
   "source": [
    "elasticnet = ElasticNet(alpha=0.0005,l1_ratio=0.5)\n",
    "elasticnet.fit(X_train, y_train)\n",
    "predicciones_elasticnet = elasticnet.predict(X_test)"
   ]
  },
  {
   "cell_type": "code",
   "execution_count": null,
   "metadata": {},
   "outputs": [],
   "source": [
    "print('Mi Error cuadratico medio es de: {:.8f}'.format(mean_squared_error(y_test, predicciones_elasticnet)))\n",
    "print('Mi RMSE es de: {:.8f}'.format(np.sqrt(mean_squared_error(y_test,predicciones_elasticnet))))"
   ]
  },
  {
   "cell_type": "markdown",
   "metadata": {
    "_cell_guid": "7aae5316-4e32-4203-bff5-3b38c1f657c3",
    "_execution_state": "idle",
    "_uuid": "0775061bb477242f1332a048778e879ca540a216",
    "colab_type": "text",
    "id": "L-JvyppgGdfO"
   },
   "source": [
    "## Descenso estocástico de la Gradiente"
   ]
  },
  {
   "cell_type": "code",
   "execution_count": null,
   "metadata": {
    "_cell_guid": "805343d9-0af6-43a2-a351-c0b25c62fcf0",
    "_execution_state": "idle",
    "_uuid": "3199c83513d93407c818ce1ed43c6c52e7f5a8c6",
    "colab": {},
    "colab_type": "code",
    "id": "CN8lj9KXGdfP"
   },
   "outputs": [],
   "source": [
    "from sklearn.linear_model import SGDRegressor\n",
    "sgd_r = SGDRegressor(max_iter = 1200000, penalty='elasticnet', eta0=0.01, tol=1e-3)\n",
    "sgd_r.fit(X_train,y_train)"
   ]
  },
  {
   "cell_type": "code",
   "execution_count": null,
   "metadata": {},
   "outputs": [],
   "source": [
    "predicciones_sgd = sgd_r.predict(X_test)"
   ]
  },
  {
   "cell_type": "code",
   "execution_count": null,
   "metadata": {},
   "outputs": [],
   "source": [
    "print('Mi Error cuadratico medio es de: {:.8f}'.format(mean_squared_error(y_test, predicciones_sgd)))\n",
    "print('Mi RMSE es de: {:.8f}'.format(np.sqrt(mean_squared_error(y_test,predicciones_sgd))))"
   ]
  },
  {
   "cell_type": "markdown",
   "metadata": {},
   "source": [
    "## Regresión con Random Forests"
   ]
  },
  {
   "cell_type": "code",
   "execution_count": null,
   "metadata": {},
   "outputs": [],
   "source": [
    "from sklearn.ensemble import RandomForestRegressor\n",
    "from sklearn.model_selection import GridSearchCV\n",
    "rf = RandomForestRegressor(n_jobs=-1,max_depth=11,n_estimators=1500)\n",
    "rf.fit(X_train,y_train)"
   ]
  },
  {
   "cell_type": "code",
   "execution_count": null,
   "metadata": {},
   "outputs": [],
   "source": [
    "predicciones_rf = rf.predict(X_test)"
   ]
  },
  {
   "cell_type": "code",
   "execution_count": null,
   "metadata": {},
   "outputs": [],
   "source": [
    "print('Mi Error cuadratico medio es de: {:.8f}'.format(mean_squared_error(y_test, predicciones_rf)))\n",
    "print('Mi RMSE es de: {:.8f}'.format(np.sqrt(mean_squared_error(y_test,predicciones_rf))))"
   ]
  },
  {
   "cell_type": "markdown",
   "metadata": {},
   "source": [
    "## Pipelines!\n",
    "\n",
    "\n",
    "## Mejorando y evaluando los modelos"
   ]
  },
  {
   "cell_type": "code",
   "execution_count": null,
   "metadata": {},
   "outputs": [],
   "source": [
    "#Creamos la función rmsle_cv para aplicar cross_val_score\n",
    "def rmsle_cv(model,n_folds = 5):\n",
    "    kf = KFold(n_folds, shuffle=True, random_state=1).get_n_splits(X_train.values)\n",
    "    rmse= np.sqrt(-cross_val_score(model, X_train.values, y_train, scoring=\"neg_mean_squared_error\", cv = kf))\n",
    "    return(rmse)"
   ]
  },
  {
   "cell_type": "code",
   "execution_count": null,
   "metadata": {},
   "outputs": [],
   "source": [
    "lasso_pipeline = make_pipeline(RobustScaler(), Lasso(alpha=0.0005,random_state=1))\n",
    "score_lasso = rmsle_cv(lasso_pipeline)\n",
    "print(\"\\nLasso score: {:.8f} ({:.8f})\\n\".format(score.mean(), score.std()))"
   ]
  },
  {
   "cell_type": "code",
   "execution_count": null,
   "metadata": {},
   "outputs": [],
   "source": [
    "rf_pipeline = make_pipeline(RobustScaler(),RandomForestRegressor(n_jobs=-1,max_depth=11,n_estimators=1500))\n",
    "score_rf = rmsle_cv(rf_pipeline)\n",
    "\n",
    "print(\"\\RandomForestRegressor score: {:.8f} ({:.8f})\\n\".format(score.mean(), score.std()))"
   ]
  },
  {
   "cell_type": "markdown",
   "metadata": {},
   "source": [
    "## Evaluando nuestro mejor modelo"
   ]
  },
  {
   "cell_type": "code",
   "execution_count": null,
   "metadata": {
    "scrolled": true
   },
   "outputs": [],
   "source": [
    "#Mis mejores predicciones son de lasso sin pipeline (y sin transformacion)\n",
    "plt.figure(figsize=(12,8))\n",
    "plt.xlabel('Predicciones Lasso')\n",
    "plt.ylabel('Data de verdad')\n",
    "sns.regplot(x=predicciones_lasso,y=y_test)"
   ]
  },
  {
   "cell_type": "code",
   "execution_count": null,
   "metadata": {
    "scrolled": true
   },
   "outputs": [],
   "source": [
    "plt.figure(figsize=(12,8))\n",
    "sns.regplot(x=predicciones_elasticnet,y=y_test)\n",
    "plt.show()\n",
    "plt.figure(figsize=(12,8))\n",
    "sns.regplot(x=predicciones_ridge,y=y_test)\n",
    "plt.show()"
   ]
  },
  {
   "cell_type": "code",
   "execution_count": null,
   "metadata": {},
   "outputs": [],
   "source": [
    "# A ver ahora plotea el performance del Descenso Estocástico y del Random Forest...\n",
    "# NO ES RANDOM FOREST un Método muy lejano????\n",
    "\n"
   ]
  },
  {
   "cell_type": "markdown",
   "metadata": {},
   "source": [
    "#### La técnica blending (predecir en conjunto)\n",
    "\n",
    "- ¿Cómo varía nuestro performance si para lasso, ridge y elasticnet  hacemos un promedio de las predicciones?\n",
    "\n",
    "TAREA: \n",
    "\n",
    "Predigan para cada columna, sumen y promedien esa suma.\n",
    "Luego saquen el MSE de las predicciones sumadas"
   ]
  },
  {
   "cell_type": "code",
   "execution_count": null,
   "metadata": {},
   "outputs": [],
   "source": []
  },
  {
   "cell_type": "code",
   "execution_count": null,
   "metadata": {},
   "outputs": [],
   "source": []
  },
  {
   "cell_type": "code",
   "execution_count": null,
   "metadata": {},
   "outputs": [],
   "source": []
  },
  {
   "cell_type": "code",
   "execution_count": null,
   "metadata": {},
   "outputs": [],
   "source": []
  }
 ],
 "metadata": {
  "colab": {
   "collapsed_sections": [],
   "name": "Sesion4_LinearRegression.ipynb",
   "provenance": []
  },
  "kernelspec": {
   "display_name": "Python 3",
   "language": "python",
   "name": "python3"
  },
  "language_info": {
   "codemirror_mode": {
    "name": "ipython",
    "version": 3
   },
   "file_extension": ".py",
   "mimetype": "text/x-python",
   "name": "python",
   "nbconvert_exporter": "python",
   "pygments_lexer": "ipython3",
   "version": "3.7.5"
  }
 },
 "nbformat": 4,
 "nbformat_minor": 1
}
