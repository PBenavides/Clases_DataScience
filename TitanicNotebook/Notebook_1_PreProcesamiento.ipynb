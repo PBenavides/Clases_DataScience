{
  "nbformat": 4,
  "nbformat_minor": 0,
  "metadata": {
    "kernelspec": {
      "display_name": "Python 3",
      "language": "python",
      "name": "python3"
    },
    "language_info": {
      "codemirror_mode": {
        "name": "ipython",
        "version": 3
      },
      "file_extension": ".py",
      "mimetype": "text/x-python",
      "name": "python",
      "nbconvert_exporter": "python",
      "pygments_lexer": "ipython3",
      "version": "3.7.5"
    },
    "colab": {
      "name": "Sesion2_PreProcesamiento.ipynb",
      "provenance": [],
      "collapsed_sections": []
    }
  },
  "cells": [
    {
      "cell_type": "markdown",
      "metadata": {
        "id": "gntRVr93v5bS",
        "colab_type": "text"
      },
      "source": [
        "# Bienvenido a tu primer competencia de ciencia de datos!!!\n",
        "\n",
        "En este notebook desarrollaremos el problema del Titanic. Este dataset es el más popular entre todos los que quieren iniciar en este mundo de la Ciencia de Datos. Buscamos predecir si un pasajero, con ciertas caractéristicas, sobrevivió o no a esta tragedia ocurrida en el siglo 20."
      ]
    },
    {
      "cell_type": "markdown",
      "metadata": {
        "id": "63BgzqwPv5bc",
        "colab_type": "text"
      },
      "source": [
        "En este caso, tenemos dos tablas de datos: train y summit (test.csv). Ahora, esta data ha sido sacada de una **competencia de Kaggle** Por eso, la data que nombraremos como **summit contendrá la base para poder aplicar nuestro modelo ya completado**. El mismo Kaggle se encargará de saber si es un buen modelo o no. Posteriormente, esta tabla nombrada **train nos servirá tanto para entrenar como para testear nuestrso modelos**.\n",
        "El link de la competencia es: https://www.kaggle.com/c/titanic"
      ]
    },
    {
      "cell_type": "code",
      "metadata": {
        "id": "m6OYvTBFv5bX",
        "colab_type": "code",
        "colab": {}
      },
      "source": [
        "\"CELDA N°01\"\n",
        "import pandas as pd\n",
        "import numpy as np\n",
        "import matplotlib.pyplot as plt\n",
        "import seaborn as sns\n",
        "import random #Una librería para manejar números aleatorios\n",
        "import missingno as ms #Librería muy útil para ver los valores nulos\n",
        "\n",
        "#Usualmente salen advertencias de actualizaciones pasadas de las librerías, las ignoramos por ahora...\n",
        "import warnings\n",
        "warnings.filterwarnings('ignore')"
      ],
      "execution_count": 151,
      "outputs": []
    },
    {
      "cell_type": "code",
      "metadata": {
        "_kg_hide-input": false,
        "id": "6JULnV1Uv5bd",
        "colab_type": "code",
        "colab": {}
      },
      "source": [
        "\"CELDA N°02\"\n",
        "train = pd.read_csv('https://raw.githubusercontent.com/HackSpacePeru/Datasets_intro_Data_Science/master/Titanic/train.csv')\n",
        "summit = pd.read_csv('https://raw.githubusercontent.com/HackSpacePeru/Datasets_intro_Data_Science/master/Titanic/test.csv')"
      ],
      "execution_count": 152,
      "outputs": []
    },
    {
      "cell_type": "code",
      "metadata": {
        "id": "OByhot1rv5bg",
        "colab_type": "code",
        "colab": {
          "base_uri": "https://localhost:8080/",
          "height": 195
        },
        "outputId": "d9934e93-de95-4391-92f3-ac73e7a868ed"
      },
      "source": [
        "\"CELDA N°03\"\n",
        "train.head()"
      ],
      "execution_count": 153,
      "outputs": [
        {
          "output_type": "execute_result",
          "data": {
            "text/html": [
              "<div>\n",
              "<style scoped>\n",
              "    .dataframe tbody tr th:only-of-type {\n",
              "        vertical-align: middle;\n",
              "    }\n",
              "\n",
              "    .dataframe tbody tr th {\n",
              "        vertical-align: top;\n",
              "    }\n",
              "\n",
              "    .dataframe thead th {\n",
              "        text-align: right;\n",
              "    }\n",
              "</style>\n",
              "<table border=\"1\" class=\"dataframe\">\n",
              "  <thead>\n",
              "    <tr style=\"text-align: right;\">\n",
              "      <th></th>\n",
              "      <th>IdPasajero</th>\n",
              "      <th>Sobrevivio</th>\n",
              "      <th>Pclass</th>\n",
              "      <th>Name</th>\n",
              "      <th>Genero</th>\n",
              "      <th>Edad</th>\n",
              "      <th>Hermanos</th>\n",
              "      <th>Padres_hijos</th>\n",
              "      <th>Ticket</th>\n",
              "      <th>Tarifa</th>\n",
              "      <th>Cabin</th>\n",
              "      <th>P_embarque</th>\n",
              "    </tr>\n",
              "  </thead>\n",
              "  <tbody>\n",
              "    <tr>\n",
              "      <th>0</th>\n",
              "      <td>1</td>\n",
              "      <td>0</td>\n",
              "      <td>3</td>\n",
              "      <td>Braund, Mr. Owen Harris</td>\n",
              "      <td>male</td>\n",
              "      <td>22.0</td>\n",
              "      <td>1</td>\n",
              "      <td>0</td>\n",
              "      <td>A/5 21171</td>\n",
              "      <td>7.2500</td>\n",
              "      <td>NaN</td>\n",
              "      <td>S</td>\n",
              "    </tr>\n",
              "    <tr>\n",
              "      <th>1</th>\n",
              "      <td>2</td>\n",
              "      <td>1</td>\n",
              "      <td>1</td>\n",
              "      <td>Cumings, Mrs. John Bradley (Florence Briggs Th...</td>\n",
              "      <td>female</td>\n",
              "      <td>38.0</td>\n",
              "      <td>1</td>\n",
              "      <td>0</td>\n",
              "      <td>PC 17599</td>\n",
              "      <td>71.2833</td>\n",
              "      <td>C85</td>\n",
              "      <td>C</td>\n",
              "    </tr>\n",
              "    <tr>\n",
              "      <th>2</th>\n",
              "      <td>3</td>\n",
              "      <td>1</td>\n",
              "      <td>3</td>\n",
              "      <td>Heikkinen, Miss. Laina</td>\n",
              "      <td>female</td>\n",
              "      <td>26.0</td>\n",
              "      <td>0</td>\n",
              "      <td>0</td>\n",
              "      <td>STON/O2. 3101282</td>\n",
              "      <td>7.9250</td>\n",
              "      <td>NaN</td>\n",
              "      <td>S</td>\n",
              "    </tr>\n",
              "    <tr>\n",
              "      <th>3</th>\n",
              "      <td>4</td>\n",
              "      <td>1</td>\n",
              "      <td>1</td>\n",
              "      <td>Futrelle, Mrs. Jacques Heath (Lily May Peel)</td>\n",
              "      <td>female</td>\n",
              "      <td>35.0</td>\n",
              "      <td>1</td>\n",
              "      <td>0</td>\n",
              "      <td>113803</td>\n",
              "      <td>53.1000</td>\n",
              "      <td>C123</td>\n",
              "      <td>S</td>\n",
              "    </tr>\n",
              "    <tr>\n",
              "      <th>4</th>\n",
              "      <td>5</td>\n",
              "      <td>0</td>\n",
              "      <td>3</td>\n",
              "      <td>Allen, Mr. William Henry</td>\n",
              "      <td>male</td>\n",
              "      <td>35.0</td>\n",
              "      <td>0</td>\n",
              "      <td>0</td>\n",
              "      <td>373450</td>\n",
              "      <td>8.0500</td>\n",
              "      <td>NaN</td>\n",
              "      <td>S</td>\n",
              "    </tr>\n",
              "  </tbody>\n",
              "</table>\n",
              "</div>"
            ],
            "text/plain": [
              "   IdPasajero  Sobrevivio  Pclass  ...   Tarifa Cabin  P_embarque\n",
              "0           1           0       3  ...   7.2500   NaN           S\n",
              "1           2           1       1  ...  71.2833   C85           C\n",
              "2           3           1       3  ...   7.9250   NaN           S\n",
              "3           4           1       1  ...  53.1000  C123           S\n",
              "4           5           0       3  ...   8.0500   NaN           S\n",
              "\n",
              "[5 rows x 12 columns]"
            ]
          },
          "metadata": {
            "tags": []
          },
          "execution_count": 153
        }
      ]
    },
    {
      "cell_type": "code",
      "metadata": {
        "id": "v_SgFJXFv5bi",
        "colab_type": "code",
        "colab": {
          "base_uri": "https://localhost:8080/",
          "height": 35
        },
        "outputId": "ff4d4ea3-bd89-49c4-b83a-25226dc74875"
      },
      "source": [
        "\"CELDA N°04\"\n",
        "#Apliquemos los conceptos aprendidos de la clase pasada: tail, describe"
      ],
      "execution_count": 154,
      "outputs": [
        {
          "output_type": "execute_result",
          "data": {
            "application/vnd.google.colaboratory.intrinsic+json": {
              "type": "string"
            },
            "text/plain": [
              "'CELDA N°04'"
            ]
          },
          "metadata": {
            "tags": []
          },
          "execution_count": 154
        }
      ]
    },
    {
      "cell_type": "code",
      "metadata": {
        "id": "qHvsuOkav5bo",
        "colab_type": "code",
        "colab": {
          "base_uri": "https://localhost:8080/",
          "height": 34
        },
        "outputId": "e5603fbb-be99-4e2e-8f42-f3750fd9e1d9"
      },
      "source": [
        "\"CELDA N°05\"\n",
        "#Ahora usemos isna y sum para descubrir cuántos datos perdidos hay en la variable Edad\n",
        "train['Edad'].isna().sum()"
      ],
      "execution_count": 155,
      "outputs": [
        {
          "output_type": "execute_result",
          "data": {
            "text/plain": [
              "177"
            ]
          },
          "metadata": {
            "tags": []
          },
          "execution_count": 155
        }
      ]
    },
    {
      "cell_type": "markdown",
      "metadata": {
        "id": "RDiH6-SCBgac",
        "colab_type": "text"
      },
      "source": [
        "Ahora que conocemos la utilidad de ambos métodos **isna y sum** procedemos a aplicarlos en todas las columnas de ambos dataset"
      ]
    },
    {
      "cell_type": "code",
      "metadata": {
        "id": "IcZLp3AVFya4",
        "colab_type": "code",
        "colab": {
          "base_uri": "https://localhost:8080/",
          "height": 67
        },
        "outputId": "dbcd910d-7285-40a0-a45b-ed5ec6a8c51f"
      },
      "source": [
        "\"CELDA N°06\"\n",
        "#El método .columns muestra el nombre de todas las columnas del dataset\n",
        "train.columns"
      ],
      "execution_count": 156,
      "outputs": [
        {
          "output_type": "execute_result",
          "data": {
            "text/plain": [
              "Index(['IdPasajero', 'Sobrevivio', 'Pclass', 'Name', 'Genero', 'Edad',\n",
              "       'Hermanos', 'Padres_hijos', 'Ticket', 'Tarifa', 'Cabin', 'P_embarque'],\n",
              "      dtype='object')"
            ]
          },
          "metadata": {
            "tags": []
          },
          "execution_count": 156
        }
      ]
    },
    {
      "cell_type": "code",
      "metadata": {
        "id": "SzNrLgqxv5bp",
        "colab_type": "code",
        "colab": {
          "base_uri": "https://localhost:8080/",
          "height": 218
        },
        "outputId": "0d373334-9a23-4500-861c-44c3410e2caa"
      },
      "source": [
        "\"CELDA N°07\"\n",
        "#Elaboramos un bucle (repeticiones) para evaluar en cada columna isna y sum\n",
        "for col in train.columns:\n",
        "  print('En la columna',col,'hay',train[col].isna().sum(),'valores nulos')"
      ],
      "execution_count": 157,
      "outputs": [
        {
          "output_type": "stream",
          "text": [
            "En la columna IdPasajero hay 0 valores nulos\n",
            "En la columna Sobrevivio hay 0 valores nulos\n",
            "En la columna Pclass hay 0 valores nulos\n",
            "En la columna Name hay 0 valores nulos\n",
            "En la columna Genero hay 0 valores nulos\n",
            "En la columna Edad hay 177 valores nulos\n",
            "En la columna Hermanos hay 0 valores nulos\n",
            "En la columna Padres_hijos hay 0 valores nulos\n",
            "En la columna Ticket hay 0 valores nulos\n",
            "En la columna Tarifa hay 0 valores nulos\n",
            "En la columna Cabin hay 687 valores nulos\n",
            "En la columna P_embarque hay 2 valores nulos\n"
          ],
          "name": "stdout"
        }
      ]
    },
    {
      "cell_type": "code",
      "metadata": {
        "scrolled": true,
        "id": "qDVBwn1Gv5br",
        "colab_type": "code",
        "colab": {
          "base_uri": "https://localhost:8080/",
          "height": 67
        },
        "outputId": "5708ef52-6099-459e-a2b1-fa2ca456bbd6"
      },
      "source": [
        "\"CELDA N°08\"\n",
        "#A través del método .value_counts() -no olvidar los paréntesis- obtenemos los valores diferentes de la columna Sobrevivio y el número de veces que se repiten\n",
        "train['Sobrevivio'].value_counts()"
      ],
      "execution_count": 158,
      "outputs": [
        {
          "output_type": "execute_result",
          "data": {
            "text/plain": [
              "0    549\n",
              "1    342\n",
              "Name: Sobrevivio, dtype: int64"
            ]
          },
          "metadata": {
            "tags": []
          },
          "execution_count": 158
        }
      ]
    },
    {
      "cell_type": "code",
      "metadata": {
        "id": "LZPgYmoWv5bt",
        "colab_type": "code",
        "colab": {
          "base_uri": "https://localhost:8080/",
          "height": 299
        },
        "outputId": "574b6244-e0b5-4f63-a2d5-909410db8bd3"
      },
      "source": [
        "\"CELDA N°09\"\n",
        "#Podemos obtener el mismo resultado de forma gráfica a través del método countplot\n",
        "sns.countplot(train['Sobrevivio'])"
      ],
      "execution_count": 159,
      "outputs": [
        {
          "output_type": "execute_result",
          "data": {
            "text/plain": [
              "<matplotlib.axes._subplots.AxesSubplot at 0x7f786c5953c8>"
            ]
          },
          "metadata": {
            "tags": []
          },
          "execution_count": 159
        },
        {
          "output_type": "display_data",
          "data": {
            "image/png": "[encoded data removed]",
            "text/plain": [
              "<Figure size 432x288 with 1 Axes>"
            ]
          },
          "metadata": {
            "tags": []
          }
        }
      ]
    },
    {
      "cell_type": "markdown",
      "metadata": {
        "id": "9hy9ayGfv5bv",
        "colab_type": "text"
      },
      "source": [
        "**Explicaremos las variables que están dentro de la data**\n",
        "\n",
        "**Pclass**: Status socioeconómico 1st = ClaseAlta 2nd=ClaseMedia 3rd=ClaseBaja \n",
        "\n",
        "**Hermanos**: El dataset define relaciones familiares, es decir, nos dice el número de hermanos.\n",
        "\n",
        "**Padres_hijos**: Número de padres / hijos dentro del Titanic\n",
        "\n",
        "**Esposo_esposa** = marido / Mujer (se obvia novias o enamoradas)\n",
        "\n",
        "**Tarifa**: El costo del ticket que se compró para el pasaje\n",
        "\n",
        "**Sobrevivio**: Si la persona sobrevivió o no.\t0 = No, 1 = Sí\n",
        "\n",
        "**Ticket**: La clase de ticket que sacó el pasajero.\n",
        "\n",
        "**P_embarque**: Puerta de embarcación,\tC = Cherbourg, Q = Queenstown, S = Southampton\n",
        "\n",
        "**Cabin**: El número de cabina"
      ]
    },
    {
      "cell_type": "markdown",
      "metadata": {
        "id": "2V5tisvov5b6",
        "colab_type": "text"
      },
      "source": [
        "**Eliminaremos** los valores que nos parecen **irrelevantes** para predecir si una persona sobrevive o no dentro del Titanic. En este caso, intuimos que son:\n",
        "\n",
        "- Nombre: ¿Qué tiene que ver el nombre con que se sobreviva o no?\n",
        "\n",
        "\n",
        "- Ticket: Si bien se podría pensar que el ticket nos daría algún criterio, en este caso no se ha encontrado una relación directa.\n",
        "\n",
        "\n",
        "- PassengerId: Lo mismo que la variable Ticket. Asumimos que no tiene relación con la supervivencia y lo quitamos."
      ]
    },
    {
      "cell_type": "code",
      "metadata": {
        "id": "9QlR1AX2v5b7",
        "colab_type": "code",
        "colab": {}
      },
      "source": [
        "\"CELDA N°10\"\n",
        "#Con el método .drop se elimina lo que está detallado dentro de los paréntesis -si es una columna debes poner axis=1, si es una fila axis=0\n",
        "train.drop(['Name','Ticket','IdPasajero','Cabin'], axis = 1,inplace=True) #con el parámetro inplace=True se actualiza o sobreescribe el dataset train\n",
        "summit = summit.drop(['Name','Ticket','IdPasajero','Cabin'], axis = 1)"
      ],
      "execution_count": 160,
      "outputs": []
    },
    {
      "cell_type": "markdown",
      "metadata": {
        "id": "Gn-P6dDNv5b1",
        "colab_type": "text"
      },
      "source": [
        "## Missingno: Una forma más interactiva de ver mis nulos.\n",
        "\n",
        "Esta librería nos grafica nuestro dataframe de tal manera en la que vemos qué columnas tienen datos vacíos. Esto es representado por los espacios en blanco que tenemos. **Se recomienda su uso cuando el dataset no cuenta con muchas columnas**"
      ]
    },
    {
      "cell_type": "code",
      "metadata": {
        "id": "mEvhonLEv5b2",
        "colab_type": "code",
        "colab": {
          "base_uri": "https://localhost:8080/",
          "height": 670
        },
        "outputId": "cba20b59-00b0-43d8-e9e4-1d660129df87"
      },
      "source": [
        "\"CELDA N°11\"\n",
        "#A través del método .matrix de la librería missingno -renombrada como ms- obtenemos la gráfica de los nulos\n",
        "ms.matrix(train)"
      ],
      "execution_count": 161,
      "outputs": [
        {
          "output_type": "execute_result",
          "data": {
            "text/plain": [
              "<matplotlib.axes._subplots.AxesSubplot at 0x7f786c7f97f0>"
            ]
          },
          "metadata": {
            "tags": []
          },
          "execution_count": 161
        },
        {
          "output_type": "display_data",
          "data": {
            "image/png": "[encoded data removed]",
            "text/plain": [
              "<Figure size 1800x720 with 2 Axes>"
            ]
          },
          "metadata": {
            "tags": []
          }
        }
      ]
    },
    {
      "cell_type": "markdown",
      "metadata": {
        "id": "YJgIJutJv5b8",
        "colab_type": "text"
      },
      "source": [
        "#### Explicaremos brevemente cómo filtrar datos dentro de un dataframe (mask method) "
      ]
    },
    {
      "cell_type": "markdown",
      "metadata": {
        "id": "oJxxEDATmA_a",
        "colab_type": "text"
      },
      "source": [
        "Para utilizar las **máscaras de filtro** contamos con dos métodos que ingresar justo después del dataset (ej: train.loc, summit.iloc):\n",
        "\n",
        "- loc: Debes declarar dos parámetros en el siguiente orden: **(filas, columnas)**\n",
        "- iloc: **Es necesario indicar los índices de las filas y columnas** (número entero)\n",
        "\n",
        "Para mayor detalle puedes consultar [este artículo del blog de Analytics Vidhya](https://www.analyticsvidhya.com/blog/2020/02/loc-iloc-pandas/)"
      ]
    },
    {
      "cell_type": "code",
      "metadata": {
        "id": "Yv6ImPeMCEyG",
        "colab_type": "code",
        "colab": {}
      },
      "source": [
        "#¿Cómo filtrar datos?"
      ],
      "execution_count": null,
      "outputs": []
    },
    {
      "cell_type": "code",
      "metadata": {
        "id": "JwA_P76bCEju",
        "colab_type": "code",
        "colab": {}
      },
      "source": [
        "#Cómo agarrar una columna de mis datos?"
      ],
      "execution_count": null,
      "outputs": []
    },
    {
      "cell_type": "code",
      "metadata": {
        "id": "cH4WXIdkv5b_",
        "colab_type": "code",
        "colab": {
          "base_uri": "https://localhost:8080/",
          "height": 299
        },
        "outputId": "b78a3435-9f22-4586-b53b-b5da594c073b"
      },
      "source": [
        "\"CELDA N°12\"\n",
        "#Con el método .distplot realizamos un gráfico de barras y con el método .loc filtramos la columna Edad y mostramos los valores de la columna Tarifa\n",
        "sns.distplot(train.loc[train['Edad']>60,'Tarifa'])"
      ],
      "execution_count": 162,
      "outputs": [
        {
          "output_type": "execute_result",
          "data": {
            "text/plain": [
              "<matplotlib.axes._subplots.AxesSubplot at 0x7f787b444ac8>"
            ]
          },
          "metadata": {
            "tags": []
          },
          "execution_count": 162
        },
        {
          "output_type": "display_data",
          "data": {
            "image/png": "[encoded data removed]",
            "text/plain": [
              "<Figure size 432x288 with 1 Axes>"
            ]
          },
          "metadata": {
            "tags": []
          }
        }
      ]
    },
    {
      "cell_type": "code",
      "metadata": {
        "id": "23-_Nnpwv5cB",
        "colab_type": "code",
        "colab": {
          "base_uri": "https://localhost:8080/",
          "height": 1000
        },
        "outputId": "2e8bba84-354a-4586-bf88-88e2b467ad78"
      },
      "source": [
        "\"CELDA N°13\"\n",
        "#Con el método .iloc filtramos las filas por índice desde la número 400 al número 459 del dataset train\n",
        "train.iloc[400:450]"
      ],
      "execution_count": 163,
      "outputs": [
        {
          "output_type": "execute_result",
          "data": {
            "text/html": [
              "<div>\n",
              "<style scoped>\n",
              "    .dataframe tbody tr th:only-of-type {\n",
              "        vertical-align: middle;\n",
              "    }\n",
              "\n",
              "    .dataframe tbody tr th {\n",
              "        vertical-align: top;\n",
              "    }\n",
              "\n",
              "    .dataframe thead th {\n",
              "        text-align: right;\n",
              "    }\n",
              "</style>\n",
              "<table border=\"1\" class=\"dataframe\">\n",
              "  <thead>\n",
              "    <tr style=\"text-align: right;\">\n",
              "      <th></th>\n",
              "      <th>Sobrevivio</th>\n",
              "      <th>Pclass</th>\n",
              "      <th>Genero</th>\n",
              "      <th>Edad</th>\n",
              "      <th>Hermanos</th>\n",
              "      <th>Padres_hijos</th>\n",
              "      <th>Tarifa</th>\n",
              "      <th>P_embarque</th>\n",
              "    </tr>\n",
              "  </thead>\n",
              "  <tbody>\n",
              "    <tr>\n",
              "      <th>400</th>\n",
              "      <td>1</td>\n",
              "      <td>3</td>\n",
              "      <td>male</td>\n",
              "      <td>39.0</td>\n",
              "      <td>0</td>\n",
              "      <td>0</td>\n",
              "      <td>7.9250</td>\n",
              "      <td>S</td>\n",
              "    </tr>\n",
              "    <tr>\n",
              "      <th>401</th>\n",
              "      <td>0</td>\n",
              "      <td>3</td>\n",
              "      <td>male</td>\n",
              "      <td>26.0</td>\n",
              "      <td>0</td>\n",
              "      <td>0</td>\n",
              "      <td>8.0500</td>\n",
              "      <td>S</td>\n",
              "    </tr>\n",
              "    <tr>\n",
              "      <th>402</th>\n",
              "      <td>0</td>\n",
              "      <td>3</td>\n",
              "      <td>female</td>\n",
              "      <td>21.0</td>\n",
              "      <td>1</td>\n",
              "      <td>0</td>\n",
              "      <td>9.8250</td>\n",
              "      <td>S</td>\n",
              "    </tr>\n",
              "    <tr>\n",
              "      <th>403</th>\n",
              "      <td>0</td>\n",
              "      <td>3</td>\n",
              "      <td>male</td>\n",
              "      <td>28.0</td>\n",
              "      <td>1</td>\n",
              "      <td>0</td>\n",
              "      <td>15.8500</td>\n",
              "      <td>S</td>\n",
              "    </tr>\n",
              "    <tr>\n",
              "      <th>404</th>\n",
              "      <td>0</td>\n",
              "      <td>3</td>\n",
              "      <td>female</td>\n",
              "      <td>20.0</td>\n",
              "      <td>0</td>\n",
              "      <td>0</td>\n",
              "      <td>8.6625</td>\n",
              "      <td>S</td>\n",
              "    </tr>\n",
              "    <tr>\n",
              "      <th>405</th>\n",
              "      <td>0</td>\n",
              "      <td>2</td>\n",
              "      <td>male</td>\n",
              "      <td>34.0</td>\n",
              "      <td>1</td>\n",
              "      <td>0</td>\n",
              "      <td>21.0000</td>\n",
              "      <td>S</td>\n",
              "    </tr>\n",
              "    <tr>\n",
              "      <th>406</th>\n",
              "      <td>0</td>\n",
              "      <td>3</td>\n",
              "      <td>male</td>\n",
              "      <td>51.0</td>\n",
              "      <td>0</td>\n",
              "      <td>0</td>\n",
              "      <td>7.7500</td>\n",
              "      <td>S</td>\n",
              "    </tr>\n",
              "    <tr>\n",
              "      <th>407</th>\n",
              "      <td>1</td>\n",
              "      <td>2</td>\n",
              "      <td>male</td>\n",
              "      <td>3.0</td>\n",
              "      <td>1</td>\n",
              "      <td>1</td>\n",
              "      <td>18.7500</td>\n",
              "      <td>S</td>\n",
              "    </tr>\n",
              "    <tr>\n",
              "      <th>408</th>\n",
              "      <td>0</td>\n",
              "      <td>3</td>\n",
              "      <td>male</td>\n",
              "      <td>21.0</td>\n",
              "      <td>0</td>\n",
              "      <td>0</td>\n",
              "      <td>7.7750</td>\n",
              "      <td>S</td>\n",
              "    </tr>\n",
              "    <tr>\n",
              "      <th>409</th>\n",
              "      <td>0</td>\n",
              "      <td>3</td>\n",
              "      <td>female</td>\n",
              "      <td>NaN</td>\n",
              "      <td>3</td>\n",
              "      <td>1</td>\n",
              "      <td>25.4667</td>\n",
              "      <td>S</td>\n",
              "    </tr>\n",
              "    <tr>\n",
              "      <th>410</th>\n",
              "      <td>0</td>\n",
              "      <td>3</td>\n",
              "      <td>male</td>\n",
              "      <td>NaN</td>\n",
              "      <td>0</td>\n",
              "      <td>0</td>\n",
              "      <td>7.8958</td>\n",
              "      <td>S</td>\n",
              "    </tr>\n",
              "    <tr>\n",
              "      <th>411</th>\n",
              "      <td>0</td>\n",
              "      <td>3</td>\n",
              "      <td>male</td>\n",
              "      <td>NaN</td>\n",
              "      <td>0</td>\n",
              "      <td>0</td>\n",
              "      <td>6.8583</td>\n",
              "      <td>Q</td>\n",
              "    </tr>\n",
              "    <tr>\n",
              "      <th>412</th>\n",
              "      <td>1</td>\n",
              "      <td>1</td>\n",
              "      <td>female</td>\n",
              "      <td>33.0</td>\n",
              "      <td>1</td>\n",
              "      <td>0</td>\n",
              "      <td>90.0000</td>\n",
              "      <td>Q</td>\n",
              "    </tr>\n",
              "    <tr>\n",
              "      <th>413</th>\n",
              "      <td>0</td>\n",
              "      <td>2</td>\n",
              "      <td>male</td>\n",
              "      <td>NaN</td>\n",
              "      <td>0</td>\n",
              "      <td>0</td>\n",
              "      <td>0.0000</td>\n",
              "      <td>S</td>\n",
              "    </tr>\n",
              "    <tr>\n",
              "      <th>414</th>\n",
              "      <td>1</td>\n",
              "      <td>3</td>\n",
              "      <td>male</td>\n",
              "      <td>44.0</td>\n",
              "      <td>0</td>\n",
              "      <td>0</td>\n",
              "      <td>7.9250</td>\n",
              "      <td>S</td>\n",
              "    </tr>\n",
              "    <tr>\n",
              "      <th>415</th>\n",
              "      <td>0</td>\n",
              "      <td>3</td>\n",
              "      <td>female</td>\n",
              "      <td>NaN</td>\n",
              "      <td>0</td>\n",
              "      <td>0</td>\n",
              "      <td>8.0500</td>\n",
              "      <td>S</td>\n",
              "    </tr>\n",
              "    <tr>\n",
              "      <th>416</th>\n",
              "      <td>1</td>\n",
              "      <td>2</td>\n",
              "      <td>female</td>\n",
              "      <td>34.0</td>\n",
              "      <td>1</td>\n",
              "      <td>1</td>\n",
              "      <td>32.5000</td>\n",
              "      <td>S</td>\n",
              "    </tr>\n",
              "    <tr>\n",
              "      <th>417</th>\n",
              "      <td>1</td>\n",
              "      <td>2</td>\n",
              "      <td>female</td>\n",
              "      <td>18.0</td>\n",
              "      <td>0</td>\n",
              "      <td>2</td>\n",
              "      <td>13.0000</td>\n",
              "      <td>S</td>\n",
              "    </tr>\n",
              "    <tr>\n",
              "      <th>418</th>\n",
              "      <td>0</td>\n",
              "      <td>2</td>\n",
              "      <td>male</td>\n",
              "      <td>30.0</td>\n",
              "      <td>0</td>\n",
              "      <td>0</td>\n",
              "      <td>13.0000</td>\n",
              "      <td>S</td>\n",
              "    </tr>\n",
              "    <tr>\n",
              "      <th>419</th>\n",
              "      <td>0</td>\n",
              "      <td>3</td>\n",
              "      <td>female</td>\n",
              "      <td>10.0</td>\n",
              "      <td>0</td>\n",
              "      <td>2</td>\n",
              "      <td>24.1500</td>\n",
              "      <td>S</td>\n",
              "    </tr>\n",
              "    <tr>\n",
              "      <th>420</th>\n",
              "      <td>0</td>\n",
              "      <td>3</td>\n",
              "      <td>male</td>\n",
              "      <td>NaN</td>\n",
              "      <td>0</td>\n",
              "      <td>0</td>\n",
              "      <td>7.8958</td>\n",
              "      <td>C</td>\n",
              "    </tr>\n",
              "    <tr>\n",
              "      <th>421</th>\n",
              "      <td>0</td>\n",
              "      <td>3</td>\n",
              "      <td>male</td>\n",
              "      <td>21.0</td>\n",
              "      <td>0</td>\n",
              "      <td>0</td>\n",
              "      <td>7.7333</td>\n",
              "      <td>Q</td>\n",
              "    </tr>\n",
              "    <tr>\n",
              "      <th>422</th>\n",
              "      <td>0</td>\n",
              "      <td>3</td>\n",
              "      <td>male</td>\n",
              "      <td>29.0</td>\n",
              "      <td>0</td>\n",
              "      <td>0</td>\n",
              "      <td>7.8750</td>\n",
              "      <td>S</td>\n",
              "    </tr>\n",
              "    <tr>\n",
              "      <th>423</th>\n",
              "      <td>0</td>\n",
              "      <td>3</td>\n",
              "      <td>female</td>\n",
              "      <td>28.0</td>\n",
              "      <td>1</td>\n",
              "      <td>1</td>\n",
              "      <td>14.4000</td>\n",
              "      <td>S</td>\n",
              "    </tr>\n",
              "    <tr>\n",
              "      <th>424</th>\n",
              "      <td>0</td>\n",
              "      <td>3</td>\n",
              "      <td>male</td>\n",
              "      <td>18.0</td>\n",
              "      <td>1</td>\n",
              "      <td>1</td>\n",
              "      <td>20.2125</td>\n",
              "      <td>S</td>\n",
              "    </tr>\n",
              "    <tr>\n",
              "      <th>425</th>\n",
              "      <td>0</td>\n",
              "      <td>3</td>\n",
              "      <td>male</td>\n",
              "      <td>NaN</td>\n",
              "      <td>0</td>\n",
              "      <td>0</td>\n",
              "      <td>7.2500</td>\n",
              "      <td>S</td>\n",
              "    </tr>\n",
              "    <tr>\n",
              "      <th>426</th>\n",
              "      <td>1</td>\n",
              "      <td>2</td>\n",
              "      <td>female</td>\n",
              "      <td>28.0</td>\n",
              "      <td>1</td>\n",
              "      <td>0</td>\n",
              "      <td>26.0000</td>\n",
              "      <td>S</td>\n",
              "    </tr>\n",
              "    <tr>\n",
              "      <th>427</th>\n",
              "      <td>1</td>\n",
              "      <td>2</td>\n",
              "      <td>female</td>\n",
              "      <td>19.0</td>\n",
              "      <td>0</td>\n",
              "      <td>0</td>\n",
              "      <td>26.0000</td>\n",
              "      <td>S</td>\n",
              "    </tr>\n",
              "    <tr>\n",
              "      <th>428</th>\n",
              "      <td>0</td>\n",
              "      <td>3</td>\n",
              "      <td>male</td>\n",
              "      <td>NaN</td>\n",
              "      <td>0</td>\n",
              "      <td>0</td>\n",
              "      <td>7.7500</td>\n",
              "      <td>Q</td>\n",
              "    </tr>\n",
              "    <tr>\n",
              "      <th>429</th>\n",
              "      <td>1</td>\n",
              "      <td>3</td>\n",
              "      <td>male</td>\n",
              "      <td>32.0</td>\n",
              "      <td>0</td>\n",
              "      <td>0</td>\n",
              "      <td>8.0500</td>\n",
              "      <td>S</td>\n",
              "    </tr>\n",
              "    <tr>\n",
              "      <th>430</th>\n",
              "      <td>1</td>\n",
              "      <td>1</td>\n",
              "      <td>male</td>\n",
              "      <td>28.0</td>\n",
              "      <td>0</td>\n",
              "      <td>0</td>\n",
              "      <td>26.5500</td>\n",
              "      <td>S</td>\n",
              "    </tr>\n",
              "    <tr>\n",
              "      <th>431</th>\n",
              "      <td>1</td>\n",
              "      <td>3</td>\n",
              "      <td>female</td>\n",
              "      <td>NaN</td>\n",
              "      <td>1</td>\n",
              "      <td>0</td>\n",
              "      <td>16.1000</td>\n",
              "      <td>S</td>\n",
              "    </tr>\n",
              "    <tr>\n",
              "      <th>432</th>\n",
              "      <td>1</td>\n",
              "      <td>2</td>\n",
              "      <td>female</td>\n",
              "      <td>42.0</td>\n",
              "      <td>1</td>\n",
              "      <td>0</td>\n",
              "      <td>26.0000</td>\n",
              "      <td>S</td>\n",
              "    </tr>\n",
              "    <tr>\n",
              "      <th>433</th>\n",
              "      <td>0</td>\n",
              "      <td>3</td>\n",
              "      <td>male</td>\n",
              "      <td>17.0</td>\n",
              "      <td>0</td>\n",
              "      <td>0</td>\n",
              "      <td>7.1250</td>\n",
              "      <td>S</td>\n",
              "    </tr>\n",
              "    <tr>\n",
              "      <th>434</th>\n",
              "      <td>0</td>\n",
              "      <td>1</td>\n",
              "      <td>male</td>\n",
              "      <td>50.0</td>\n",
              "      <td>1</td>\n",
              "      <td>0</td>\n",
              "      <td>55.9000</td>\n",
              "      <td>S</td>\n",
              "    </tr>\n",
              "    <tr>\n",
              "      <th>435</th>\n",
              "      <td>1</td>\n",
              "      <td>1</td>\n",
              "      <td>female</td>\n",
              "      <td>14.0</td>\n",
              "      <td>1</td>\n",
              "      <td>2</td>\n",
              "      <td>120.0000</td>\n",
              "      <td>S</td>\n",
              "    </tr>\n",
              "    <tr>\n",
              "      <th>436</th>\n",
              "      <td>0</td>\n",
              "      <td>3</td>\n",
              "      <td>female</td>\n",
              "      <td>21.0</td>\n",
              "      <td>2</td>\n",
              "      <td>2</td>\n",
              "      <td>34.3750</td>\n",
              "      <td>S</td>\n",
              "    </tr>\n",
              "    <tr>\n",
              "      <th>437</th>\n",
              "      <td>1</td>\n",
              "      <td>2</td>\n",
              "      <td>female</td>\n",
              "      <td>24.0</td>\n",
              "      <td>2</td>\n",
              "      <td>3</td>\n",
              "      <td>18.7500</td>\n",
              "      <td>S</td>\n",
              "    </tr>\n",
              "    <tr>\n",
              "      <th>438</th>\n",
              "      <td>0</td>\n",
              "      <td>1</td>\n",
              "      <td>male</td>\n",
              "      <td>64.0</td>\n",
              "      <td>1</td>\n",
              "      <td>4</td>\n",
              "      <td>263.0000</td>\n",
              "      <td>S</td>\n",
              "    </tr>\n",
              "    <tr>\n",
              "      <th>439</th>\n",
              "      <td>0</td>\n",
              "      <td>2</td>\n",
              "      <td>male</td>\n",
              "      <td>31.0</td>\n",
              "      <td>0</td>\n",
              "      <td>0</td>\n",
              "      <td>10.5000</td>\n",
              "      <td>S</td>\n",
              "    </tr>\n",
              "    <tr>\n",
              "      <th>440</th>\n",
              "      <td>1</td>\n",
              "      <td>2</td>\n",
              "      <td>female</td>\n",
              "      <td>45.0</td>\n",
              "      <td>1</td>\n",
              "      <td>1</td>\n",
              "      <td>26.2500</td>\n",
              "      <td>S</td>\n",
              "    </tr>\n",
              "    <tr>\n",
              "      <th>441</th>\n",
              "      <td>0</td>\n",
              "      <td>3</td>\n",
              "      <td>male</td>\n",
              "      <td>20.0</td>\n",
              "      <td>0</td>\n",
              "      <td>0</td>\n",
              "      <td>9.5000</td>\n",
              "      <td>S</td>\n",
              "    </tr>\n",
              "    <tr>\n",
              "      <th>442</th>\n",
              "      <td>0</td>\n",
              "      <td>3</td>\n",
              "      <td>male</td>\n",
              "      <td>25.0</td>\n",
              "      <td>1</td>\n",
              "      <td>0</td>\n",
              "      <td>7.7750</td>\n",
              "      <td>S</td>\n",
              "    </tr>\n",
              "    <tr>\n",
              "      <th>443</th>\n",
              "      <td>1</td>\n",
              "      <td>2</td>\n",
              "      <td>female</td>\n",
              "      <td>28.0</td>\n",
              "      <td>0</td>\n",
              "      <td>0</td>\n",
              "      <td>13.0000</td>\n",
              "      <td>S</td>\n",
              "    </tr>\n",
              "    <tr>\n",
              "      <th>444</th>\n",
              "      <td>1</td>\n",
              "      <td>3</td>\n",
              "      <td>male</td>\n",
              "      <td>NaN</td>\n",
              "      <td>0</td>\n",
              "      <td>0</td>\n",
              "      <td>8.1125</td>\n",
              "      <td>S</td>\n",
              "    </tr>\n",
              "    <tr>\n",
              "      <th>445</th>\n",
              "      <td>1</td>\n",
              "      <td>1</td>\n",
              "      <td>male</td>\n",
              "      <td>4.0</td>\n",
              "      <td>0</td>\n",
              "      <td>2</td>\n",
              "      <td>81.8583</td>\n",
              "      <td>S</td>\n",
              "    </tr>\n",
              "    <tr>\n",
              "      <th>446</th>\n",
              "      <td>1</td>\n",
              "      <td>2</td>\n",
              "      <td>female</td>\n",
              "      <td>13.0</td>\n",
              "      <td>0</td>\n",
              "      <td>1</td>\n",
              "      <td>19.5000</td>\n",
              "      <td>S</td>\n",
              "    </tr>\n",
              "    <tr>\n",
              "      <th>447</th>\n",
              "      <td>1</td>\n",
              "      <td>1</td>\n",
              "      <td>male</td>\n",
              "      <td>34.0</td>\n",
              "      <td>0</td>\n",
              "      <td>0</td>\n",
              "      <td>26.5500</td>\n",
              "      <td>S</td>\n",
              "    </tr>\n",
              "    <tr>\n",
              "      <th>448</th>\n",
              "      <td>1</td>\n",
              "      <td>3</td>\n",
              "      <td>female</td>\n",
              "      <td>5.0</td>\n",
              "      <td>2</td>\n",
              "      <td>1</td>\n",
              "      <td>19.2583</td>\n",
              "      <td>C</td>\n",
              "    </tr>\n",
              "    <tr>\n",
              "      <th>449</th>\n",
              "      <td>1</td>\n",
              "      <td>1</td>\n",
              "      <td>male</td>\n",
              "      <td>52.0</td>\n",
              "      <td>0</td>\n",
              "      <td>0</td>\n",
              "      <td>30.5000</td>\n",
              "      <td>S</td>\n",
              "    </tr>\n",
              "  </tbody>\n",
              "</table>\n",
              "</div>"
            ],
            "text/plain": [
              "     Sobrevivio  Pclass  Genero  ...  Padres_hijos    Tarifa  P_embarque\n",
              "400           1       3    male  ...             0    7.9250           S\n",
              "401           0       3    male  ...             0    8.0500           S\n",
              "402           0       3  female  ...             0    9.8250           S\n",
              "403           0       3    male  ...             0   15.8500           S\n",
              "404           0       3  female  ...             0    8.6625           S\n",
              "405           0       2    male  ...             0   21.0000           S\n",
              "406           0       3    male  ...             0    7.7500           S\n",
              "407           1       2    male  ...             1   18.7500           S\n",
              "408           0       3    male  ...             0    7.7750           S\n",
              "409           0       3  female  ...             1   25.4667           S\n",
              "410           0       3    male  ...             0    7.8958           S\n",
              "411           0       3    male  ...             0    6.8583           Q\n",
              "412           1       1  female  ...             0   90.0000           Q\n",
              "413           0       2    male  ...             0    0.0000           S\n",
              "414           1       3    male  ...             0    7.9250           S\n",
              "415           0       3  female  ...             0    8.0500           S\n",
              "416           1       2  female  ...             1   32.5000           S\n",
              "417           1       2  female  ...             2   13.0000           S\n",
              "418           0       2    male  ...             0   13.0000           S\n",
              "419           0       3  female  ...             2   24.1500           S\n",
              "420           0       3    male  ...             0    7.8958           C\n",
              "421           0       3    male  ...             0    7.7333           Q\n",
              "422           0       3    male  ...             0    7.8750           S\n",
              "423           0       3  female  ...             1   14.4000           S\n",
              "424           0       3    male  ...             1   20.2125           S\n",
              "425           0       3    male  ...             0    7.2500           S\n",
              "426           1       2  female  ...             0   26.0000           S\n",
              "427           1       2  female  ...             0   26.0000           S\n",
              "428           0       3    male  ...             0    7.7500           Q\n",
              "429           1       3    male  ...             0    8.0500           S\n",
              "430           1       1    male  ...             0   26.5500           S\n",
              "431           1       3  female  ...             0   16.1000           S\n",
              "432           1       2  female  ...             0   26.0000           S\n",
              "433           0       3    male  ...             0    7.1250           S\n",
              "434           0       1    male  ...             0   55.9000           S\n",
              "435           1       1  female  ...             2  120.0000           S\n",
              "436           0       3  female  ...             2   34.3750           S\n",
              "437           1       2  female  ...             3   18.7500           S\n",
              "438           0       1    male  ...             4  263.0000           S\n",
              "439           0       2    male  ...             0   10.5000           S\n",
              "440           1       2  female  ...             1   26.2500           S\n",
              "441           0       3    male  ...             0    9.5000           S\n",
              "442           0       3    male  ...             0    7.7750           S\n",
              "443           1       2  female  ...             0   13.0000           S\n",
              "444           1       3    male  ...             0    8.1125           S\n",
              "445           1       1    male  ...             2   81.8583           S\n",
              "446           1       2  female  ...             1   19.5000           S\n",
              "447           1       1    male  ...             0   26.5500           S\n",
              "448           1       3  female  ...             1   19.2583           C\n",
              "449           1       1    male  ...             0   30.5000           S\n",
              "\n",
              "[50 rows x 8 columns]"
            ]
          },
          "metadata": {
            "tags": []
          },
          "execution_count": 163
        }
      ]
    },
    {
      "cell_type": "markdown",
      "metadata": {
        "id": "-8CUUHSkv5cD",
        "colab_type": "text"
      },
      "source": [
        "## Procesamiento de Nulos: \n",
        "\n",
        "Un valor Nulo no es más que data que no ha sido recogida (o imputada), osea **data vacía**. Esta nulidad puede deberse a diferentes casos y las maneras en las que podemos lidiar con ellos son varias. La forma en cómo podemos tratar con este tipo de variable depende de diferentes factores como la cantidad, la dispersión y la importancia de la variable para el target (recuerda que target es la variable que vamos a predecir). \n",
        "\n"
      ]
    },
    {
      "cell_type": "code",
      "metadata": {
        "id": "tle4lh6av5cN",
        "colab_type": "code",
        "colab": {
          "base_uri": "https://localhost:8080/",
          "height": 84
        },
        "outputId": "27f723c1-e18d-43d9-86d1-a096de10f882"
      },
      "source": [
        "\"CELDA N°14\"\n",
        "#Con los métodos .mean() y .std() podemos mostrar el promedio y la desviación estándar de la columna Edad\n",
        "print(\"La edad media de nuestro train dataset es:\",train['Edad'].mean(),\"\\nLa desviación estandar de la edad de nuestro train dataset es:\",train['Edad'].std())\n",
        "print(\"La edad media de nuestro summitdataset es:\",summit['Edad'].mean(),\"\\nLa desviación estándar de la edad de nuestro summites:\",summit['Edad'].std())"
      ],
      "execution_count": 164,
      "outputs": [
        {
          "output_type": "stream",
          "text": [
            "La edad media de nuestro train dataset es: 29.69911764705882 \n",
            "La desviación estandar de la edad de nuestro train dataset es: 14.526497332334044\n",
            "La edad media de nuestro summitdataset es: 30.272590361445783 \n",
            "La desviación estándar de la edad de nuestro summites: 14.18120923562442\n"
          ],
          "name": "stdout"
        }
      ]
    },
    {
      "cell_type": "code",
      "metadata": {
        "id": "z0ZcrmIRv5cR",
        "colab_type": "code",
        "colab": {
          "base_uri": "https://localhost:8080/",
          "height": 34
        },
        "outputId": "6f30d073-39e5-42c5-fbfc-f19a3dbe1360"
      },
      "source": [
        "\"CELDA N°15\"\n",
        "#Con el método .quantile(.90) podemos definir el percentil 90 de la columna Edad\n",
        "train['Edad'].quantile(.90)"
      ],
      "execution_count": 165,
      "outputs": [
        {
          "output_type": "execute_result",
          "data": {
            "text/plain": [
              "50.0"
            ]
          },
          "metadata": {
            "tags": []
          },
          "execution_count": 165
        }
      ]
    },
    {
      "cell_type": "code",
      "metadata": {
        "id": "FeAXqfzKJJ4O",
        "colab_type": "code",
        "colab": {
          "base_uri": "https://localhost:8080/",
          "height": 35
        },
        "outputId": "ea7ee84c-e2e4-48c2-feaf-78e192abe5fc"
      },
      "source": [
        "\"CELDA N°16\"\n",
        "#Con el método .mode() -no olvidar escribir [0] porque modas pueden ser varias.- obtenemos la moda o el valor más frecuente de la columna P_embarque \n",
        "train['P_embarque'].mode()[0]"
      ],
      "execution_count": 166,
      "outputs": [
        {
          "output_type": "execute_result",
          "data": {
            "application/vnd.google.colaboratory.intrinsic+json": {
              "type": "string"
            },
            "text/plain": [
              "'S'"
            ]
          },
          "metadata": {
            "tags": []
          },
          "execution_count": 166
        }
      ]
    },
    {
      "cell_type": "markdown",
      "metadata": {
        "id": "M6UC8ttrv5cS",
        "colab_type": "text"
      },
      "source": [
        "Vamos a definir una **función** para llenar automáticamente los vacíos:\n",
        ". Un conjunto lógico de código que se une para hacerlo generalizado.\n",
        ". Tiene parámetros necesarios al llamarlo y a su vez parámetros por default"
      ]
    },
    {
      "cell_type": "markdown",
      "metadata": {
        "id": "wBIfmEY8v5cT",
        "colab_type": "text"
      },
      "source": [
        "### Reemplazando nulos"
      ]
    },
    {
      "cell_type": "code",
      "metadata": {
        "id": "7r-i84sdv5cZ",
        "colab_type": "code",
        "colab": {}
      },
      "source": [
        "\"CELDA N°17\"\n",
        "#Crearemos una función para llenar de manera random dentro del intervalo de la media y desviación estándar\n",
        "def llena_nan_con_media_y_std(df,col='Edad'):\n",
        "    nan = df[df[col].isna()] #el dataset de los que tienen la columna (col = 'Edad' ) con valores nulos\n",
        "    min_ = df[col].mean() - df[col].std() #El comienzo de nuestro intervalo, la media menos la desv. estandar.\n",
        "    max_ = df[col].mean() + df[col].std() #El final de nuestro intervalo, la media más la desv. estandar.\n",
        "    for i in nan.index: #Para cada i en los index de mi data nula\n",
        "        random_num = random.uniform(int(min_),int(max_)) #randomizo dentro de los intervalos que quiero y especifico que quiero enteros\n",
        "        df[col].loc[i] = random_num #Reemplazo los valores dentro de mi data original."
      ],
      "execution_count": 167,
      "outputs": []
    },
    {
      "cell_type": "code",
      "metadata": {
        "id": "AIYQReWHv5cb",
        "colab_type": "code",
        "colab": {}
      },
      "source": [
        "\"CELDA N°18\"\n",
        "#Aplicamos la función para reemplazar los nulos de la columna Edad de los dataset train y summit\n",
        "llena_nan_con_media_y_std(train) #Aplico la función para train\n",
        "llena_nan_con_media_y_std(summit) #Aplico la función para summit"
      ],
      "execution_count": 168,
      "outputs": []
    },
    {
      "cell_type": "markdown",
      "metadata": {
        "id": "JoZIHGJDv5cd",
        "colab_type": "text"
      },
      "source": [
        "Ahora tenemos que hacernos cargo de los valores nulos de la columna P_embarque y Tarifa dentro de los dos dataframes (summit y train)"
      ]
    },
    {
      "cell_type": "code",
      "metadata": {
        "id": "DZtUkkd2KWqB",
        "colab_type": "code",
        "colab": {
          "base_uri": "https://localhost:8080/",
          "height": 299
        },
        "outputId": "b743e82a-74e2-4f36-c0f6-d4324891ad7e"
      },
      "source": [
        "\"CELDA N°19\"\n",
        "#Realizamos una gráfica de barras a través del método countplot de la columna P_embarque\n",
        "sns.countplot(train['P_embarque'])"
      ],
      "execution_count": 169,
      "outputs": [
        {
          "output_type": "execute_result",
          "data": {
            "text/plain": [
              "<matplotlib.axes._subplots.AxesSubplot at 0x7f7879fc1f98>"
            ]
          },
          "metadata": {
            "tags": []
          },
          "execution_count": 169
        },
        {
          "output_type": "display_data",
          "data": {
            "image/png": "[encoded data removed]",
            "text/plain": [
              "<Figure size 432x288 with 1 Axes>"
            ]
          },
          "metadata": {
            "tags": []
          }
        }
      ]
    },
    {
      "cell_type": "code",
      "metadata": {
        "id": "q2EchGgTv5ce",
        "colab_type": "code",
        "colab": {}
      },
      "source": [
        "\"CELDA N°20\"\n",
        "#Con el método .fillna reemplazamos los vacíos de la columna P_embarque con la moda por ser el puerto de embarque más repetido \n",
        "train['P_embarque'].fillna(train['P_embarque'].mode()[0], inplace=True)\n",
        "summit['P_embarque'].fillna(train['P_embarque'].mode()[0], inplace=True)"
      ],
      "execution_count": 170,
      "outputs": []
    },
    {
      "cell_type": "code",
      "metadata": {
        "id": "36GcI3xkv5cl",
        "colab_type": "code",
        "colab": {}
      },
      "source": [
        "\"CELDA N°21\"\n",
        "#Volvemos a aplicar .fillna sobre la columna Tarifa del dataset summit\n",
        "summit['Tarifa'].fillna(summit['Tarifa'].mean(),inplace=True)"
      ],
      "execution_count": 171,
      "outputs": []
    },
    {
      "cell_type": "code",
      "metadata": {
        "id": "HE7PXhRAv5cr",
        "colab_type": "code",
        "colab": {
          "base_uri": "https://localhost:8080/",
          "height": 670
        },
        "outputId": "f9837441-d3e2-4c37-ac57-1b455ce586c6"
      },
      "source": [
        "\"CELDA N°22\"\n",
        "#Volvemos a aplicar el método .matrix para comprobar que no haya vacíos\n",
        "ms.matrix(summit)"
      ],
      "execution_count": 172,
      "outputs": [
        {
          "output_type": "execute_result",
          "data": {
            "text/plain": [
              "<matplotlib.axes._subplots.AxesSubplot at 0x7f786ba4e278>"
            ]
          },
          "metadata": {
            "tags": []
          },
          "execution_count": 172
        },
        {
          "output_type": "display_data",
          "data": {
            "image/png": "[encoded data removed]",
            "text/plain": [
              "<Figure size 1800x720 with 2 Axes>"
            ]
          },
          "metadata": {
            "tags": []
          }
        }
      ]
    },
    {
      "cell_type": "markdown",
      "metadata": {
        "id": "fJDP8khMLsoK",
        "colab_type": "text"
      },
      "source": [
        "##Detectando y procesando outliers"
      ]
    },
    {
      "cell_type": "code",
      "metadata": {
        "scrolled": true,
        "id": "Xb1EPvBjv5cu",
        "colab_type": "code",
        "colab": {
          "base_uri": "https://localhost:8080/",
          "height": 705
        },
        "outputId": "59632d32-c5fa-4416-e140-cdb61199ff68"
      },
      "source": [
        "\"CELDA N°23\"\n",
        "#Aplicamos el método boxplot de la librería seaborn -que denominamos sns\n",
        "plt.style.use('ggplot') #Es el estilo que le ponemos a la data\n",
        "plt.figure(figsize=(4,6))\n",
        "sns.boxplot(train['Edad'], orient=\"v\")\n",
        "plt.show()\n",
        "plt.figure(figsize=(4,6))\n",
        "sns.boxplot(train['Tarifa'], orient='v')\n",
        "plt.show()"
      ],
      "execution_count": 173,
      "outputs": [
        {
          "output_type": "display_data",
          "data": {
            "image/png": "[encoded data removed]",
            "text/plain": [
              "<Figure size 288x432 with 1 Axes>"
            ]
          },
          "metadata": {
            "tags": []
          }
        },
        {
          "output_type": "display_data",
          "data": {
            "image/png": "[encoded data removed]",
            "text/plain": [
              "<Figure size 288x432 with 1 Axes>"
            ]
          },
          "metadata": {
            "tags": []
          }
        }
      ]
    },
    {
      "cell_type": "markdown",
      "metadata": {
        "id": "d_tWHmB8v5cw",
        "colab_type": "text"
      },
      "source": [
        "Viendo el boxplot, con la variable Edad habrá problema.\n",
        "Reemplazaremos los outliers de Tarifa por encima del percentil 95%:"
      ]
    },
    {
      "cell_type": "code",
      "metadata": {
        "id": "-8No6zFov5c0",
        "colab_type": "code",
        "colab": {}
      },
      "source": [
        "\"CELDA N°24\"\n",
        "#Aplicamos .index para obtener las filas superiores del percentil 95 y .loc para reemplazar los outliers por el percentil 95\n",
        "outliers_train_tarifa = train[train['Tarifa'] > train['Tarifa'].quantile(.95)].index\n",
        "train.loc[outliers_train_tarifa,'Tarifa'] = train['Tarifa'].quantile(.95)"
      ],
      "execution_count": 174,
      "outputs": []
    },
    {
      "cell_type": "code",
      "metadata": {
        "id": "jlbV6GxIv5c2",
        "colab_type": "code",
        "colab": {}
      },
      "source": [
        "\"CELDA N°25\"\n",
        "#Repetimos el procedimiento para el dataset summit\n",
        "outliers_train_summit = summit[summit['Tarifa']> summit['Tarifa'].quantile(.95)].index\n",
        "summit.loc[outliers_train_summit,'Tarifa'] = summit['Tarifa'].quantile(.95)"
      ],
      "execution_count": 175,
      "outputs": []
    },
    {
      "cell_type": "code",
      "metadata": {
        "id": "5ddDvcowv5c4",
        "colab_type": "code",
        "colab": {
          "base_uri": "https://localhost:8080/",
          "height": 705
        },
        "outputId": "9fae5c43-414b-45dd-94ce-818cad75a1a5"
      },
      "source": [
        "\"CELDA N°26\"\n",
        "#Repetimos el boxplot para comprobar los cambios realizados\n",
        "plt.style.use('ggplot') #Es el estilo que le ponemos a la data\n",
        "plt.figure(figsize=(4,6))\n",
        "sns.boxplot(train['Edad'], orient=\"v\")\n",
        "plt.show()\n",
        "plt.figure(figsize=(4,6))\n",
        "sns.boxplot(train['Tarifa'], orient='v')\n",
        "plt.show()"
      ],
      "execution_count": 176,
      "outputs": [
        {
          "output_type": "display_data",
          "data": {
            "image/png": "[encoded data removed]",
            "text/plain": [
              "<Figure size 288x432 with 1 Axes>"
            ]
          },
          "metadata": {
            "tags": []
          }
        },
        {
          "output_type": "display_data",
          "data": {
            "image/png": "[encoded data removed]",
            "text/plain": [
              "<Figure size 288x432 with 1 Axes>"
            ]
          },
          "metadata": {
            "tags": []
          }
        }
      ]
    },
    {
      "cell_type": "markdown",
      "metadata": {
        "id": "wol7QT33v5c_",
        "colab_type": "text"
      },
      "source": [
        "## **Feature Engineering:** Podemos (y debemos) crear otros features a la data\n",
        "\n"
      ]
    },
    {
      "cell_type": "markdown",
      "metadata": {
        "id": "k7XlTHXcv5dA",
        "colab_type": "text"
      },
      "source": [
        "Hemos visto que hay dos variables que se relacionan a la familia del pasajero (Hermanos & Padres_hijos), por ello creamos una variable que resuma la cantidad de familiares y si la persona viaja sola o acompañada en la nave."
      ]
    },
    {
      "cell_type": "code",
      "metadata": {
        "id": "Qn2Eqlmvv5dA",
        "colab_type": "code",
        "colab": {}
      },
      "source": [
        "\"CELDA N°27\"\n",
        "#Creamos una columna nueva para contar el total entre las columnas Hermanos y Padres_Hijos\n",
        "train['Miembros_de_fam'] = train['Hermanos'] + train['Padres_hijos'] + 1 #(1 reempresenta a él o ella)\n",
        "summit['Miembros_de_fam'] = summit['Hermanos'] + summit['Padres_hijos'] + 1"
      ],
      "execution_count": 177,
      "outputs": []
    },
    {
      "cell_type": "code",
      "metadata": {
        "id": "hy8WAgP7j814",
        "colab_type": "code",
        "colab": {}
      },
      "source": [
        "\"CELDA N°28\"\n",
        "#Creamos una columna nueva para distinguir los pasajeros que viajan solos\n",
        "train['Viaja_solo'] = 1 \n",
        "train['Viaja_solo'].loc[train['Miembros_de_fam'] > 1] = 0\n",
        "summit['Viaja_solo'] = 1 \n",
        "summit['Viaja_solo'].loc[summit['Miembros_de_fam'] > 1] = 0"
      ],
      "execution_count": 178,
      "outputs": []
    },
    {
      "cell_type": "code",
      "metadata": {
        "id": "4zYKZFECv5dE",
        "colab_type": "code",
        "colab": {
          "base_uri": "https://localhost:8080/",
          "height": 195
        },
        "outputId": "9238bf96-bd02-496f-c246-f7b610ec50a9"
      },
      "source": [
        "\"CELDA N°29\"\n",
        "#Comprobamos las columnas creadas\n",
        "train.head()"
      ],
      "execution_count": 179,
      "outputs": [
        {
          "output_type": "execute_result",
          "data": {
            "text/html": [
              "<div>\n",
              "<style scoped>\n",
              "    .dataframe tbody tr th:only-of-type {\n",
              "        vertical-align: middle;\n",
              "    }\n",
              "\n",
              "    .dataframe tbody tr th {\n",
              "        vertical-align: top;\n",
              "    }\n",
              "\n",
              "    .dataframe thead th {\n",
              "        text-align: right;\n",
              "    }\n",
              "</style>\n",
              "<table border=\"1\" class=\"dataframe\">\n",
              "  <thead>\n",
              "    <tr style=\"text-align: right;\">\n",
              "      <th></th>\n",
              "      <th>Sobrevivio</th>\n",
              "      <th>Pclass</th>\n",
              "      <th>Genero</th>\n",
              "      <th>Edad</th>\n",
              "      <th>Hermanos</th>\n",
              "      <th>Padres_hijos</th>\n",
              "      <th>Tarifa</th>\n",
              "      <th>P_embarque</th>\n",
              "      <th>Miembros_de_fam</th>\n",
              "      <th>Viaja_solo</th>\n",
              "    </tr>\n",
              "  </thead>\n",
              "  <tbody>\n",
              "    <tr>\n",
              "      <th>0</th>\n",
              "      <td>0</td>\n",
              "      <td>3</td>\n",
              "      <td>male</td>\n",
              "      <td>22.0</td>\n",
              "      <td>1</td>\n",
              "      <td>0</td>\n",
              "      <td>7.2500</td>\n",
              "      <td>S</td>\n",
              "      <td>2</td>\n",
              "      <td>0</td>\n",
              "    </tr>\n",
              "    <tr>\n",
              "      <th>1</th>\n",
              "      <td>1</td>\n",
              "      <td>1</td>\n",
              "      <td>female</td>\n",
              "      <td>38.0</td>\n",
              "      <td>1</td>\n",
              "      <td>0</td>\n",
              "      <td>71.2833</td>\n",
              "      <td>C</td>\n",
              "      <td>2</td>\n",
              "      <td>0</td>\n",
              "    </tr>\n",
              "    <tr>\n",
              "      <th>2</th>\n",
              "      <td>1</td>\n",
              "      <td>3</td>\n",
              "      <td>female</td>\n",
              "      <td>26.0</td>\n",
              "      <td>0</td>\n",
              "      <td>0</td>\n",
              "      <td>7.9250</td>\n",
              "      <td>S</td>\n",
              "      <td>1</td>\n",
              "      <td>1</td>\n",
              "    </tr>\n",
              "    <tr>\n",
              "      <th>3</th>\n",
              "      <td>1</td>\n",
              "      <td>1</td>\n",
              "      <td>female</td>\n",
              "      <td>35.0</td>\n",
              "      <td>1</td>\n",
              "      <td>0</td>\n",
              "      <td>53.1000</td>\n",
              "      <td>S</td>\n",
              "      <td>2</td>\n",
              "      <td>0</td>\n",
              "    </tr>\n",
              "    <tr>\n",
              "      <th>4</th>\n",
              "      <td>0</td>\n",
              "      <td>3</td>\n",
              "      <td>male</td>\n",
              "      <td>35.0</td>\n",
              "      <td>0</td>\n",
              "      <td>0</td>\n",
              "      <td>8.0500</td>\n",
              "      <td>S</td>\n",
              "      <td>1</td>\n",
              "      <td>1</td>\n",
              "    </tr>\n",
              "  </tbody>\n",
              "</table>\n",
              "</div>"
            ],
            "text/plain": [
              "   Sobrevivio  Pclass  Genero  ...  P_embarque  Miembros_de_fam  Viaja_solo\n",
              "0           0       3    male  ...           S                2           0\n",
              "1           1       1  female  ...           C                2           0\n",
              "2           1       3  female  ...           S                1           1\n",
              "3           1       1  female  ...           S                2           0\n",
              "4           0       3    male  ...           S                1           1\n",
              "\n",
              "[5 rows x 10 columns]"
            ]
          },
          "metadata": {
            "tags": []
          },
          "execution_count": 179
        }
      ]
    },
    {
      "cell_type": "markdown",
      "metadata": {
        "id": "uCNo11x8v5dF",
        "colab_type": "text"
      },
      "source": [
        "#### Dándole sentido a nuestra variable... \n",
        "\n",
        "**Pensando el problema**: ¿Qué es lo que pasa en un desastre como este? No le dan prioridad a las mujeres y niños para que puedan ir directo a las naves de rescate? Entonces, sería conveniente identificar si el pasajero es Hombre, Mujer o **niño** Para esto, crearemos la variable niño. "
      ]
    },
    {
      "cell_type": "code",
      "metadata": {
        "id": "KVZu9BhWv5dG",
        "colab_type": "code",
        "colab": {}
      },
      "source": [
        "\"CELDA N°30\"\n",
        "#Añadimos la categoría niño en la columna Genero para todas las filas cuyo valor en la columna Edad sea menor o igual a 15\n",
        "train.loc[train['Edad']<=15,'Genero'] = 'niño'\n",
        "summit.loc[(summit['Edad']<=15),'Genero'] = 'niño'"
      ],
      "execution_count": 180,
      "outputs": []
    },
    {
      "cell_type": "markdown",
      "metadata": {
        "id": "VCE6xFxNnpPp",
        "colab_type": "text"
      },
      "source": [
        "#### Analizando la relación de las nuevas variables vs el target"
      ]
    },
    {
      "cell_type": "markdown",
      "metadata": {
        "id": "yki6A2O0pYzU",
        "colab_type": "text"
      },
      "source": [
        "**Comparando el target con el Género**: ¿Influye el Género del pasajero con el valor de la columna Sobrevivio?"
      ]
    },
    {
      "cell_type": "code",
      "metadata": {
        "id": "nK5IqKMlpifS",
        "colab_type": "code",
        "colab": {
          "base_uri": "https://localhost:8080/",
          "height": 408
        },
        "outputId": "32d56f19-3137-4388-ea43-3466c25e210c"
      },
      "source": [
        "\"CELDA N°31\"\n",
        "#Utilizamos .countplot para realizar una gráfica de barras de la columna Genero distinguiendo los valores de la columna Sobrevivio\n",
        "plt.figure(figsize=(8,6))\n",
        "sns.countplot(x = 'Genero', data = train, hue=\"Sobrevivio\")"
      ],
      "execution_count": 181,
      "outputs": [
        {
          "output_type": "execute_result",
          "data": {
            "text/plain": [
              "<matplotlib.axes._subplots.AxesSubplot at 0x7f7879f0bf28>"
            ]
          },
          "metadata": {
            "tags": []
          },
          "execution_count": 181
        },
        {
          "output_type": "display_data",
          "data": {
            "image/png": "[encoded data removed]",
            "text/plain": [
              "<Figure size 576x432 with 1 Axes>"
            ]
          },
          "metadata": {
            "tags": []
          }
        }
      ]
    },
    {
      "cell_type": "markdown",
      "metadata": {
        "id": "orCSwzdZpRaK",
        "colab_type": "text"
      },
      "source": [
        "**Comparando el target con el Puerto de embarque**: ¿Influye el Puerto de embarque del pasajero con el valor de la columna Sobrevivio?"
      ]
    },
    {
      "cell_type": "code",
      "metadata": {
        "id": "AcOhkHpiv5dW",
        "colab_type": "code",
        "colab": {
          "base_uri": "https://localhost:8080/",
          "height": 408
        },
        "outputId": "c667206e-d5f6-49f8-ed08-3b00c5e7f38a"
      },
      "source": [
        "\"CELDA N°32\"\n",
        "#Utilizamos .countplot para realizar una gráfica de barras de la columna P_embarque distinguiendo los valores de la columna Sobrevivio\n",
        "plt.figure(figsize=(8,6))\n",
        "sns.countplot(x = 'P_embarque', data = train, hue=\"Sobrevivio\")"
      ],
      "execution_count": 182,
      "outputs": [
        {
          "output_type": "execute_result",
          "data": {
            "text/plain": [
              "<matplotlib.axes._subplots.AxesSubplot at 0x7f787b61c3c8>"
            ]
          },
          "metadata": {
            "tags": []
          },
          "execution_count": 182
        },
        {
          "output_type": "display_data",
          "data": {
            "image/png": "[encoded data removed]",
            "text/plain": [
              "<Figure size 576x432 with 1 Axes>"
            ]
          },
          "metadata": {
            "tags": []
          }
        }
      ]
    },
    {
      "cell_type": "code",
      "metadata": {
        "id": "HNsIThuNv5dX",
        "colab_type": "code",
        "colab": {}
      },
      "source": [
        "\"CELDA N°33\"\n",
        "#Ahora podemos decir qué prioridades de categorías hay dentro de las variables P_embarque y Genero\n",
        "cat_to_nums = {\"P_embarque\":  {\"S\": 1, \"C\": 3, \"Q\":5},\n",
        "               \"Genero\": {\"male\":1,\"niño\":3,\"female\":5}}\n",
        "train.replace(cat_to_nums, inplace = True)\n",
        "summit.replace(cat_to_nums, inplace = True)"
      ],
      "execution_count": 183,
      "outputs": []
    },
    {
      "cell_type": "code",
      "metadata": {
        "id": "XCvgr8S8v5dZ",
        "colab_type": "code",
        "colab": {
          "base_uri": "https://localhost:8080/",
          "height": 195
        },
        "outputId": "2e06edfb-cf46-4cae-ab6b-df546bffe434"
      },
      "source": [
        "\"CELDA N°34\"\n",
        "#Comprobamos los cambios realizados\n",
        "train.head()"
      ],
      "execution_count": 184,
      "outputs": [
        {
          "output_type": "execute_result",
          "data": {
            "text/html": [
              "<div>\n",
              "<style scoped>\n",
              "    .dataframe tbody tr th:only-of-type {\n",
              "        vertical-align: middle;\n",
              "    }\n",
              "\n",
              "    .dataframe tbody tr th {\n",
              "        vertical-align: top;\n",
              "    }\n",
              "\n",
              "    .dataframe thead th {\n",
              "        text-align: right;\n",
              "    }\n",
              "</style>\n",
              "<table border=\"1\" class=\"dataframe\">\n",
              "  <thead>\n",
              "    <tr style=\"text-align: right;\">\n",
              "      <th></th>\n",
              "      <th>Sobrevivio</th>\n",
              "      <th>Pclass</th>\n",
              "      <th>Genero</th>\n",
              "      <th>Edad</th>\n",
              "      <th>Hermanos</th>\n",
              "      <th>Padres_hijos</th>\n",
              "      <th>Tarifa</th>\n",
              "      <th>P_embarque</th>\n",
              "      <th>Miembros_de_fam</th>\n",
              "      <th>Viaja_solo</th>\n",
              "    </tr>\n",
              "  </thead>\n",
              "  <tbody>\n",
              "    <tr>\n",
              "      <th>0</th>\n",
              "      <td>0</td>\n",
              "      <td>3</td>\n",
              "      <td>1</td>\n",
              "      <td>22.0</td>\n",
              "      <td>1</td>\n",
              "      <td>0</td>\n",
              "      <td>7.2500</td>\n",
              "      <td>1</td>\n",
              "      <td>2</td>\n",
              "      <td>0</td>\n",
              "    </tr>\n",
              "    <tr>\n",
              "      <th>1</th>\n",
              "      <td>1</td>\n",
              "      <td>1</td>\n",
              "      <td>5</td>\n",
              "      <td>38.0</td>\n",
              "      <td>1</td>\n",
              "      <td>0</td>\n",
              "      <td>71.2833</td>\n",
              "      <td>3</td>\n",
              "      <td>2</td>\n",
              "      <td>0</td>\n",
              "    </tr>\n",
              "    <tr>\n",
              "      <th>2</th>\n",
              "      <td>1</td>\n",
              "      <td>3</td>\n",
              "      <td>5</td>\n",
              "      <td>26.0</td>\n",
              "      <td>0</td>\n",
              "      <td>0</td>\n",
              "      <td>7.9250</td>\n",
              "      <td>1</td>\n",
              "      <td>1</td>\n",
              "      <td>1</td>\n",
              "    </tr>\n",
              "    <tr>\n",
              "      <th>3</th>\n",
              "      <td>1</td>\n",
              "      <td>1</td>\n",
              "      <td>5</td>\n",
              "      <td>35.0</td>\n",
              "      <td>1</td>\n",
              "      <td>0</td>\n",
              "      <td>53.1000</td>\n",
              "      <td>1</td>\n",
              "      <td>2</td>\n",
              "      <td>0</td>\n",
              "    </tr>\n",
              "    <tr>\n",
              "      <th>4</th>\n",
              "      <td>0</td>\n",
              "      <td>3</td>\n",
              "      <td>1</td>\n",
              "      <td>35.0</td>\n",
              "      <td>0</td>\n",
              "      <td>0</td>\n",
              "      <td>8.0500</td>\n",
              "      <td>1</td>\n",
              "      <td>1</td>\n",
              "      <td>1</td>\n",
              "    </tr>\n",
              "  </tbody>\n",
              "</table>\n",
              "</div>"
            ],
            "text/plain": [
              "   Sobrevivio  Pclass  Genero  ...  P_embarque  Miembros_de_fam  Viaja_solo\n",
              "0           0       3       1  ...           1                2           0\n",
              "1           1       1       5  ...           3                2           0\n",
              "2           1       3       5  ...           1                1           1\n",
              "3           1       1       5  ...           1                2           0\n",
              "4           0       3       1  ...           1                1           1\n",
              "\n",
              "[5 rows x 10 columns]"
            ]
          },
          "metadata": {
            "tags": []
          },
          "execution_count": 184
        }
      ]
    },
    {
      "cell_type": "markdown",
      "metadata": {
        "id": "31Z2-p7a0kgR",
        "colab_type": "text"
      },
      "source": [
        "### Viendo correlaciones entre mis datos"
      ]
    },
    {
      "cell_type": "code",
      "metadata": {
        "id": "MyFddGYK0yq5",
        "colab_type": "code",
        "colab": {
          "base_uri": "https://localhost:8080/",
          "height": 584
        },
        "outputId": "1f7a3de7-5cf7-475d-9840-eca201ebb267"
      },
      "source": [
        "\"CELDA N°35\"\n",
        "#Con .corr() -no olvidar los paréntesis- podemos realizar un mapa de calor para identificar si hay correlación entre variables\n",
        "corr_ = train.corr()\n",
        "plt.figure(figsize=(10,8))\n",
        "sns.heatmap(corr_)"
      ],
      "execution_count": 185,
      "outputs": [
        {
          "output_type": "execute_result",
          "data": {
            "text/plain": [
              "<matplotlib.axes._subplots.AxesSubplot at 0x7f786c69fac8>"
            ]
          },
          "metadata": {
            "tags": []
          },
          "execution_count": 185
        },
        {
          "output_type": "display_data",
          "data": {
            "image/png": "[encoded data removed]",
            "text/plain": [
              "<Figure size 720x576 with 2 Axes>"
            ]
          },
          "metadata": {
            "tags": []
          }
        }
      ]
    },
    {
      "cell_type": "markdown",
      "metadata": {
        "id": "O0q9qbPmwsMl",
        "colab_type": "text"
      },
      "source": [
        "Según el gráfico las columnas **Miembros_de_fam**, **Hermanos**, **Padres_hijos** están correlacionadas.\n",
        "\n",
        "Por ello solo nos quedaremos con la columna que nos aporta mayor información: **Miembros_de_fam**"
      ]
    },
    {
      "cell_type": "code",
      "metadata": {
        "id": "qewWrxauSnZV",
        "colab_type": "code",
        "colab": {}
      },
      "source": [
        "\"CELDA N°36\"\n",
        "#Con .drop eliminamos las columnas Hermanos y Padres_hijos\n",
        "train.drop(['Hermanos','Padres_hijos'],axis=1, inplace=True)\n",
        "summit.drop(['Hermanos','Padres_hijos'],axis=1,inplace=True)"
      ],
      "execution_count": 186,
      "outputs": []
    },
    {
      "cell_type": "code",
      "metadata": {
        "id": "R_boiR0fxfli",
        "colab_type": "code",
        "colab": {
          "base_uri": "https://localhost:8080/",
          "height": 402
        },
        "outputId": "84da3ef6-894e-49fa-bc30-f3c7e0b13019"
      },
      "source": [
        "\"CELDA N°37\"\n",
        "#Comprobamos los cambios realizados\n",
        "train"
      ],
      "execution_count": 187,
      "outputs": [
        {
          "output_type": "execute_result",
          "data": {
            "text/html": [
              "<div>\n",
              "<style scoped>\n",
              "    .dataframe tbody tr th:only-of-type {\n",
              "        vertical-align: middle;\n",
              "    }\n",
              "\n",
              "    .dataframe tbody tr th {\n",
              "        vertical-align: top;\n",
              "    }\n",
              "\n",
              "    .dataframe thead th {\n",
              "        text-align: right;\n",
              "    }\n",
              "</style>\n",
              "<table border=\"1\" class=\"dataframe\">\n",
              "  <thead>\n",
              "    <tr style=\"text-align: right;\">\n",
              "      <th></th>\n",
              "      <th>Sobrevivio</th>\n",
              "      <th>Pclass</th>\n",
              "      <th>Genero</th>\n",
              "      <th>Edad</th>\n",
              "      <th>Tarifa</th>\n",
              "      <th>P_embarque</th>\n",
              "      <th>Miembros_de_fam</th>\n",
              "      <th>Viaja_solo</th>\n",
              "    </tr>\n",
              "  </thead>\n",
              "  <tbody>\n",
              "    <tr>\n",
              "      <th>0</th>\n",
              "      <td>0</td>\n",
              "      <td>3</td>\n",
              "      <td>1</td>\n",
              "      <td>22.000000</td>\n",
              "      <td>7.2500</td>\n",
              "      <td>1</td>\n",
              "      <td>2</td>\n",
              "      <td>0</td>\n",
              "    </tr>\n",
              "    <tr>\n",
              "      <th>1</th>\n",
              "      <td>1</td>\n",
              "      <td>1</td>\n",
              "      <td>5</td>\n",
              "      <td>38.000000</td>\n",
              "      <td>71.2833</td>\n",
              "      <td>3</td>\n",
              "      <td>2</td>\n",
              "      <td>0</td>\n",
              "    </tr>\n",
              "    <tr>\n",
              "      <th>2</th>\n",
              "      <td>1</td>\n",
              "      <td>3</td>\n",
              "      <td>5</td>\n",
              "      <td>26.000000</td>\n",
              "      <td>7.9250</td>\n",
              "      <td>1</td>\n",
              "      <td>1</td>\n",
              "      <td>1</td>\n",
              "    </tr>\n",
              "    <tr>\n",
              "      <th>3</th>\n",
              "      <td>1</td>\n",
              "      <td>1</td>\n",
              "      <td>5</td>\n",
              "      <td>35.000000</td>\n",
              "      <td>53.1000</td>\n",
              "      <td>1</td>\n",
              "      <td>2</td>\n",
              "      <td>0</td>\n",
              "    </tr>\n",
              "    <tr>\n",
              "      <th>4</th>\n",
              "      <td>0</td>\n",
              "      <td>3</td>\n",
              "      <td>1</td>\n",
              "      <td>35.000000</td>\n",
              "      <td>8.0500</td>\n",
              "      <td>1</td>\n",
              "      <td>1</td>\n",
              "      <td>1</td>\n",
              "    </tr>\n",
              "    <tr>\n",
              "      <th>...</th>\n",
              "      <td>...</td>\n",
              "      <td>...</td>\n",
              "      <td>...</td>\n",
              "      <td>...</td>\n",
              "      <td>...</td>\n",
              "      <td>...</td>\n",
              "      <td>...</td>\n",
              "      <td>...</td>\n",
              "    </tr>\n",
              "    <tr>\n",
              "      <th>886</th>\n",
              "      <td>0</td>\n",
              "      <td>2</td>\n",
              "      <td>1</td>\n",
              "      <td>27.000000</td>\n",
              "      <td>13.0000</td>\n",
              "      <td>1</td>\n",
              "      <td>1</td>\n",
              "      <td>1</td>\n",
              "    </tr>\n",
              "    <tr>\n",
              "      <th>887</th>\n",
              "      <td>1</td>\n",
              "      <td>1</td>\n",
              "      <td>5</td>\n",
              "      <td>19.000000</td>\n",
              "      <td>30.0000</td>\n",
              "      <td>1</td>\n",
              "      <td>1</td>\n",
              "      <td>1</td>\n",
              "    </tr>\n",
              "    <tr>\n",
              "      <th>888</th>\n",
              "      <td>0</td>\n",
              "      <td>3</td>\n",
              "      <td>5</td>\n",
              "      <td>19.823609</td>\n",
              "      <td>23.4500</td>\n",
              "      <td>1</td>\n",
              "      <td>4</td>\n",
              "      <td>0</td>\n",
              "    </tr>\n",
              "    <tr>\n",
              "      <th>889</th>\n",
              "      <td>1</td>\n",
              "      <td>1</td>\n",
              "      <td>1</td>\n",
              "      <td>26.000000</td>\n",
              "      <td>30.0000</td>\n",
              "      <td>3</td>\n",
              "      <td>1</td>\n",
              "      <td>1</td>\n",
              "    </tr>\n",
              "    <tr>\n",
              "      <th>890</th>\n",
              "      <td>0</td>\n",
              "      <td>3</td>\n",
              "      <td>1</td>\n",
              "      <td>32.000000</td>\n",
              "      <td>7.7500</td>\n",
              "      <td>5</td>\n",
              "      <td>1</td>\n",
              "      <td>1</td>\n",
              "    </tr>\n",
              "  </tbody>\n",
              "</table>\n",
              "<p>891 rows × 8 columns</p>\n",
              "</div>"
            ],
            "text/plain": [
              "     Sobrevivio  Pclass  Genero  ...  P_embarque  Miembros_de_fam  Viaja_solo\n",
              "0             0       3       1  ...           1                2           0\n",
              "1             1       1       5  ...           3                2           0\n",
              "2             1       3       5  ...           1                1           1\n",
              "3             1       1       5  ...           1                2           0\n",
              "4             0       3       1  ...           1                1           1\n",
              "..          ...     ...     ...  ...         ...              ...         ...\n",
              "886           0       2       1  ...           1                1           1\n",
              "887           1       1       5  ...           1                1           1\n",
              "888           0       3       5  ...           1                4           0\n",
              "889           1       1       1  ...           3                1           1\n",
              "890           0       3       1  ...           5                1           1\n",
              "\n",
              "[891 rows x 8 columns]"
            ]
          },
          "metadata": {
            "tags": []
          },
          "execution_count": 187
        }
      ]
    },
    {
      "cell_type": "markdown",
      "metadata": {
        "id": "tldFlVtgv5db",
        "colab_type": "text"
      },
      "source": [
        "## Normalizando mi data:\n",
        "Cuándo normalizar o standarizar?: https://medium.com/@rrfd/standardize-or-normalize-examples-in-python-e3f174b65dfc\n",
        "\n",
        "Veamos la distribución de nuestros dos datos netamente numéricos que tenemos: Tarifa y Edad\n"
      ]
    },
    {
      "cell_type": "code",
      "metadata": {
        "id": "oVqBV0_Gv5db",
        "colab_type": "code",
        "colab": {
          "base_uri": "https://localhost:8080/",
          "height": 547
        },
        "outputId": "93b58afd-c6be-4bf0-9d2f-f6054538b1f8"
      },
      "source": [
        "\"CELDA N°38\"\n",
        "#Con .distplot mostramos un histograma con una línea de tendencia de ambas variables\n",
        "sns.distplot(train['Tarifa'])\n",
        "plt.show()\n",
        "sns.distplot(train['Edad'])\n",
        "plt.show()"
      ],
      "execution_count": 188,
      "outputs": [
        {
          "output_type": "display_data",
          "data": {
            "image/png": "[encoded data removed]",
            "text/plain": [
              "<Figure size 432x288 with 1 Axes>"
            ]
          },
          "metadata": {
            "tags": []
          }
        },
        {
          "output_type": "display_data",
          "data": {
            "image/png": "[encoded data removed]",
            "text/plain": [
              "<Figure size 432x288 with 1 Axes>"
            ]
          },
          "metadata": {
            "tags": []
          }
        }
      ]
    },
    {
      "cell_type": "code",
      "metadata": {
        "id": "MzkXiw98v5dc",
        "colab_type": "code",
        "colab": {}
      },
      "source": [
        "\"CELDA N°39\"\n",
        "#Importamos la librería normalize para la normalización de la data.\n",
        "from sklearn.preprocessing import normalize"
      ],
      "execution_count": 189,
      "outputs": []
    },
    {
      "cell_type": "code",
      "metadata": {
        "id": "dRhO3I6my3Wp",
        "colab_type": "code",
        "colab": {}
      },
      "source": [
        "\"CELDA N°40\"\n",
        "#Seleccionamos las columnas que vamos a normalizar\n",
        "X_train_to_norm = [train['Tarifa'],train['Edad']]\n",
        "X_summit_to_norm = [summit['Tarifa'],summit['Edad']]"
      ],
      "execution_count": 190,
      "outputs": []
    },
    {
      "cell_type": "code",
      "metadata": {
        "id": "qrtnYTFLv5di",
        "colab_type": "code",
        "colab": {}
      },
      "source": [
        "\"CELDA N°41\"\n",
        "#Aplicamos normalize sobre las columnas seleccionadas\n",
        "X_train_normalizada = normalize(X_train_to_norm)\n",
        "X_summit_normalizada = normalize(X_summit_to_norm)"
      ],
      "execution_count": 191,
      "outputs": []
    },
    {
      "cell_type": "code",
      "metadata": {
        "id": "wL29qC3vzTJf",
        "colab_type": "code",
        "colab": {}
      },
      "source": [
        "\"CELDA N°42\"\n",
        "#Asignamos cada los datos normalizados de cada columna: Tarifa y Edad en cada uno de los dos dataset: train y summit\n",
        "train = train.assign(Tarifa = X_train_normalizada[0]) \n",
        "train = train.assign(Edad = X_train_normalizada[1])\n",
        "\n",
        "summit= summit.assign(Tarifa = X_summit_normalizada[0])\n",
        "summit= summit.assign(Edad = X_summit_normalizada[1])"
      ],
      "execution_count": 192,
      "outputs": []
    },
    {
      "cell_type": "code",
      "metadata": {
        "id": "vclevy2Qv5dk",
        "colab_type": "code",
        "colab": {
          "base_uri": "https://localhost:8080/",
          "height": 195
        },
        "outputId": "c0619a0a-e965-4896-ca63-ef9c9262bf12"
      },
      "source": [
        "\"CELDA N°43\"\n",
        "#Comprobamos los cambios realizados\n",
        "train.head()"
      ],
      "execution_count": 193,
      "outputs": [
        {
          "output_type": "execute_result",
          "data": {
            "text/html": [
              "<div>\n",
              "<style scoped>\n",
              "    .dataframe tbody tr th:only-of-type {\n",
              "        vertical-align: middle;\n",
              "    }\n",
              "\n",
              "    .dataframe tbody tr th {\n",
              "        vertical-align: top;\n",
              "    }\n",
              "\n",
              "    .dataframe thead th {\n",
              "        text-align: right;\n",
              "    }\n",
              "</style>\n",
              "<table border=\"1\" class=\"dataframe\">\n",
              "  <thead>\n",
              "    <tr style=\"text-align: right;\">\n",
              "      <th></th>\n",
              "      <th>Sobrevivio</th>\n",
              "      <th>Pclass</th>\n",
              "      <th>Genero</th>\n",
              "      <th>Edad</th>\n",
              "      <th>Tarifa</th>\n",
              "      <th>P_embarque</th>\n",
              "      <th>Miembros_de_fam</th>\n",
              "      <th>Viaja_solo</th>\n",
              "    </tr>\n",
              "  </thead>\n",
              "  <tbody>\n",
              "    <tr>\n",
              "      <th>0</th>\n",
              "      <td>0</td>\n",
              "      <td>3</td>\n",
              "      <td>1</td>\n",
              "      <td>0.022668</td>\n",
              "      <td>0.006032</td>\n",
              "      <td>1</td>\n",
              "      <td>2</td>\n",
              "      <td>0</td>\n",
              "    </tr>\n",
              "    <tr>\n",
              "      <th>1</th>\n",
              "      <td>1</td>\n",
              "      <td>1</td>\n",
              "      <td>5</td>\n",
              "      <td>0.039153</td>\n",
              "      <td>0.059304</td>\n",
              "      <td>3</td>\n",
              "      <td>2</td>\n",
              "      <td>0</td>\n",
              "    </tr>\n",
              "    <tr>\n",
              "      <th>2</th>\n",
              "      <td>1</td>\n",
              "      <td>3</td>\n",
              "      <td>5</td>\n",
              "      <td>0.026789</td>\n",
              "      <td>0.006593</td>\n",
              "      <td>1</td>\n",
              "      <td>1</td>\n",
              "      <td>1</td>\n",
              "    </tr>\n",
              "    <tr>\n",
              "      <th>3</th>\n",
              "      <td>1</td>\n",
              "      <td>1</td>\n",
              "      <td>5</td>\n",
              "      <td>0.036062</td>\n",
              "      <td>0.044176</td>\n",
              "      <td>1</td>\n",
              "      <td>2</td>\n",
              "      <td>0</td>\n",
              "    </tr>\n",
              "    <tr>\n",
              "      <th>4</th>\n",
              "      <td>0</td>\n",
              "      <td>3</td>\n",
              "      <td>1</td>\n",
              "      <td>0.036062</td>\n",
              "      <td>0.006697</td>\n",
              "      <td>1</td>\n",
              "      <td>1</td>\n",
              "      <td>1</td>\n",
              "    </tr>\n",
              "  </tbody>\n",
              "</table>\n",
              "</div>"
            ],
            "text/plain": [
              "   Sobrevivio  Pclass  Genero  ...  P_embarque  Miembros_de_fam  Viaja_solo\n",
              "0           0       3       1  ...           1                2           0\n",
              "1           1       1       5  ...           3                2           0\n",
              "2           1       3       5  ...           1                1           1\n",
              "3           1       1       5  ...           1                2           0\n",
              "4           0       3       1  ...           1                1           1\n",
              "\n",
              "[5 rows x 8 columns]"
            ]
          },
          "metadata": {
            "tags": []
          },
          "execution_count": 193
        }
      ]
    },
    {
      "cell_type": "code",
      "metadata": {
        "id": "2889v5Ju-oEG",
        "colab_type": "code",
        "colab": {
          "base_uri": "https://localhost:8080/",
          "height": 547
        },
        "outputId": "56acdbaf-d5eb-409d-e9d6-de3c68bbb099"
      },
      "source": [
        "\"CELDA N°44\"\n",
        "#Con .distplot mostramos un histograma con la distribución ambas variables\n",
        "sns.distplot(train['Tarifa'])\n",
        "plt.show()\n",
        "sns.distplot(train['Edad'])\n",
        "plt.show()"
      ],
      "execution_count": 197,
      "outputs": [
        {
          "output_type": "display_data",
          "data": {
            "image/png": "[encoded data removed]",
            "text/plain": [
              "<Figure size 432x288 with 1 Axes>"
            ]
          },
          "metadata": {
            "tags": []
          }
        },
        {
          "output_type": "display_data",
          "data": {
            "image/png": "[encoded data removed]",
            "text/plain": [
              "<Figure size 432x288 with 1 Axes>"
            ]
          },
          "metadata": {
            "tags": []
          }
        }
      ]
    },
    {
      "cell_type": "markdown",
      "metadata": {
        "id": "OeRX0HFg0dNx",
        "colab_type": "text"
      },
      "source": [
        "##**Partición de la data para entrenamiento**"
      ]
    },
    {
      "cell_type": "code",
      "metadata": {
        "id": "_ImtWm5ELlIG",
        "colab_type": "code",
        "colab": {}
      },
      "source": [
        "\"CELDA N°45\"\n",
        "#Tendremos que crear nuestras variables predictoras X y nuestra variable objetivo Y\n",
        "X = train.drop('Sobrevivio',axis=1)\n",
        "y = train['Sobrevivio']"
      ],
      "execution_count": 194,
      "outputs": []
    },
    {
      "cell_type": "code",
      "metadata": {
        "id": "W076YUJhMR_v",
        "colab_type": "code",
        "colab": {}
      },
      "source": [
        "\"CELDA N°46\"\n",
        "#Dividimos nuestros datos para el entrenamiento del modelo importando la lilbrería train_test_split\n",
        "from sklearn.model_selection import train_test_split\n",
        "X_train, X_test, y_train, y_test= train_test_split(X,y,test_size = 0.15,random_state=1) #Separa el 15% de la data para generar las predicciones"
      ],
      "execution_count": 195,
      "outputs": []
    },
    {
      "cell_type": "code",
      "metadata": {
        "id": "5QsCbDrtOGjO",
        "colab_type": "code",
        "colab": {
          "base_uri": "https://localhost:8080/",
          "height": 50
        },
        "outputId": "41bf5830-6fe1-42ad-95b2-97a360857acf"
      },
      "source": [
        "\"CELDA N°47\"\n",
        "#Mostramos con el parámetro shape la cantidad de filas que resultaron en cada parte\n",
        "print('Para el X_train:', X_train.shape, 'y para el y_train',y_train.shape)\n",
        "print('Para el X_test:',X_test.shape,'y para el y_test',y_test.shape)"
      ],
      "execution_count": 196,
      "outputs": [
        {
          "output_type": "stream",
          "text": [
            "Para el X_train: (757, 7) y para el y_train (757,)\n",
            "Para el X_test: (134, 7) y para el y_test (134,)\n"
          ],
          "name": "stdout"
        }
      ]
    }
  ]
}