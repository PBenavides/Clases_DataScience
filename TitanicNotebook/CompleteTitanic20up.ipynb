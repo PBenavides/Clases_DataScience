{
 "cells": [
  {
   "cell_type": "markdown",
   "metadata": {},
   "source": [
    "# Bienvenido a tu primer notebook de ciencia de datos!!!\n",
    "\n",
    "En este notebook desarrollaremos el problema del Titanic. Este dataset es el más popular entre todos los que quieren iniciar en este mundo de la Ciencia de Datos. Básicamente se busca predecir si un pasajero, con ciertas caractéristicas, sobrevivió o no a esta tragedia ocurrida en el siglo 20. \n",
    "\n",
    "Recuerda que para comenzar a hacer el análisis,  tenemos que involucrarnos con el problema en sí y conocer nuestra data. Así que comencemos! "
   ]
  },
  {
   "cell_type": "code",
   "execution_count": 1,
   "metadata": {},
   "outputs": [],
   "source": [
    "import pandas as pd\n",
    "import numpy as np\n",
    "import matplotlib.pyplot as plt\n",
    "import seaborn as sns\n",
    "import random\n",
    "\n",
    "import missingno as ms\n",
    "\n",
    "from sklearn.preprocessing import normalize #Porque normalizaremos alguna de nuestra variables\n",
    "from sklearn.linear_model import LogisticRegression #Uno de los modelos que usaremos (los demas los importaremos mas adelante)\n",
    "from sklearn.model_selection import train_test_split #Para dividir nuestra en train y test\n",
    "from sklearn.model_selection import GridSearchCV #Usaremos GridSearch para optimizar nuestros parámetros de nuestros Modelos.\n",
    "\n",
    "import warnings\n",
    "warnings.filterwarnings('ignore')"
   ]
  },
  {
   "cell_type": "code",
   "execution_count": 2,
   "metadata": {
    "_kg_hide-input": false
   },
   "outputs": [],
   "source": [
    "train = pd.read_csv('train.csv')\n",
    "\n",
    "summit = pd.read_csv('test.csv')"
   ]
  },
  {
   "cell_type": "code",
   "execution_count": 3,
   "metadata": {},
   "outputs": [
    {
     "name": "stdout",
     "output_type": "stream",
     "text": [
      "<class 'pandas.core.frame.DataFrame'>\n",
      "RangeIndex: 418 entries, 0 to 417\n",
      "Data columns (total 11 columns):\n",
      "PassengerId    418 non-null int64\n",
      "Pclass         418 non-null int64\n",
      "Name           418 non-null object\n",
      "Sex            418 non-null object\n",
      "Age            332 non-null float64\n",
      "SibSp          418 non-null int64\n",
      "Parch          418 non-null int64\n",
      "Ticket         418 non-null object\n",
      "Fare           417 non-null float64\n",
      "Cabin          91 non-null object\n",
      "Embarked       418 non-null object\n",
      "dtypes: float64(2), int64(4), object(5)\n",
      "memory usage: 36.0+ KB\n"
     ]
    }
   ],
   "source": [
    "summit.info()"
   ]
  },
  {
   "cell_type": "code",
   "execution_count": 4,
   "metadata": {
    "scrolled": true
   },
   "outputs": [
    {
     "name": "stdout",
     "output_type": "stream",
     "text": [
      "<class 'pandas.core.frame.DataFrame'>\n",
      "RangeIndex: 891 entries, 0 to 890\n",
      "Data columns (total 12 columns):\n",
      "PassengerId    891 non-null int64\n",
      "Survived       891 non-null int64\n",
      "Pclass         891 non-null int64\n",
      "Name           891 non-null object\n",
      "Sex            891 non-null object\n",
      "Age            714 non-null float64\n",
      "SibSp          891 non-null int64\n",
      "Parch          891 non-null int64\n",
      "Ticket         891 non-null object\n",
      "Fare           891 non-null float64\n",
      "Cabin          204 non-null object\n",
      "Embarked       889 non-null object\n",
      "dtypes: float64(2), int64(5), object(5)\n",
      "memory usage: 83.6+ KB\n"
     ]
    }
   ],
   "source": [
    "train.info()"
   ]
  },
  {
   "cell_type": "markdown",
   "metadata": {},
   "source": [
    "**Explicaremos las variables que están dentro de la data**\n",
    "\n",
    "**Pclass**: Status socioeconómico 1st = ClaseAlta 2nd=ClaseMedia 3rd=ClaseBaja \n",
    "\n",
    "**SibSp**: El dataset define relaciones familiares, es decir, nos dice el número de hermanos / espos@s dentro del Titanic.\n",
    "\n",
    "**Parch**: Número de padres / hijos dentro del Titanic\n",
    "\n",
    "**Spouse** = marido / Mujer (se obvia novias o enamoradas)\n",
    "\n",
    "**parch**: También se defines relaciones familiares en general de esta forma. Por ejemplo, algunos niños viajan solamente con su nana, por eso en esta variable tendrían 0.\n",
    "\n",
    "**Survival**: Si la persona sobrevivió o no.\t0 = No, 1 = Sí\n",
    "\n",
    "**Pclass***: La clase de ticket que sacó el pasajero   1 = 1st, 2 = 2nd, 3 = 3rd\n",
    "\n",
    "**Embarked**: Puerta de embarcación,\tC = Cherbourg, Q = Queenstown, S = Southampton\n",
    "\n",
    "**Cabin**: El número de cabina"
   ]
  },
  {
   "cell_type": "code",
   "execution_count": 5,
   "metadata": {},
   "outputs": [
    {
     "name": "stdout",
     "output_type": "stream",
     "text": [
      "Para la data en train, tendremos:\n",
      "--------------------------------------------------------------------------------------------\n",
      "El número de valores diferentes en la columna PassengerId es: 891\n",
      "El número de valores diferentes en la columna Survived es: 2\n",
      "El número de valores diferentes en la columna Pclass es: 3\n",
      "El número de valores diferentes en la columna Name es: 891\n",
      "El número de valores diferentes en la columna Sex es: 2\n",
      "El número de valores diferentes en la columna Age es: 89\n",
      "El número de valores diferentes en la columna SibSp es: 7\n",
      "El número de valores diferentes en la columna Parch es: 7\n",
      "El número de valores diferentes en la columna Ticket es: 681\n",
      "El número de valores diferentes en la columna Fare es: 248\n",
      "El número de valores diferentes en la columna Cabin es: 148\n",
      "El número de valores diferentes en la columna Embarked es: 4\n",
      "--------------------------------------------------------------------------------------------\n",
      "Existen 177 valores nulos en la columna Age\n",
      "Existen 687 valores nulos en la columna Cabin\n",
      "Existen 2 valores nulos en la columna Embarked\n"
     ]
    }
   ],
   "source": [
    "print('Para la data en train, tendremos:')\n",
    "print('--------------------------------------------------------------------------------------------')\n",
    "for n in train.columns:\n",
    "    print('El número de valores diferentes en la columna', n, 'es:', len(train[n].unique()))\n",
    "print('--------------------------------------------------------------------------------------------')\n",
    "#Ahora buscaremos el número de valores nulos dentro de la data\n",
    "for n in train.columns:\n",
    "    if train[n].isnull().values.any() == True:\n",
    "        print('Existen' , train[n].isna().sum(), 'valores nulos en la columna', n)"
   ]
  },
  {
   "cell_type": "code",
   "execution_count": 6,
   "metadata": {},
   "outputs": [
    {
     "name": "stdout",
     "output_type": "stream",
     "text": [
      "Para la data que summitearemos, tendremos:\n",
      "-------------------------------------------------------------------------------\n"
     ]
    },
    {
     "ename": "NameError",
     "evalue": "name 'test' is not defined",
     "output_type": "error",
     "traceback": [
      "\u001b[1;31m---------------------------------------------------------------------------\u001b[0m",
      "\u001b[1;31mNameError\u001b[0m                                 Traceback (most recent call last)",
      "\u001b[1;32m<ipython-input-6-df37a2ad2858>\u001b[0m in \u001b[0;36m<module>\u001b[1;34m\u001b[0m\n\u001b[0;32m      2\u001b[0m \u001b[0mprint\u001b[0m\u001b[1;33m(\u001b[0m\u001b[1;34m'-------------------------------------------------------------------------------'\u001b[0m\u001b[1;33m)\u001b[0m\u001b[1;33m\u001b[0m\u001b[1;33m\u001b[0m\u001b[0m\n\u001b[0;32m      3\u001b[0m \u001b[1;32mfor\u001b[0m \u001b[0mn\u001b[0m \u001b[1;32min\u001b[0m \u001b[0msummit\u001b[0m\u001b[1;33m.\u001b[0m\u001b[0mcolumns\u001b[0m\u001b[1;33m:\u001b[0m\u001b[1;33m\u001b[0m\u001b[1;33m\u001b[0m\u001b[0m\n\u001b[1;32m----> 4\u001b[1;33m     \u001b[0mprint\u001b[0m\u001b[1;33m(\u001b[0m\u001b[1;34m'El número de valores diferentes en la columna'\u001b[0m\u001b[1;33m,\u001b[0m \u001b[0mn\u001b[0m\u001b[1;33m,\u001b[0m \u001b[1;34m'es:'\u001b[0m\u001b[1;33m,\u001b[0m \u001b[0mlen\u001b[0m\u001b[1;33m(\u001b[0m\u001b[0mtest\u001b[0m\u001b[1;33m[\u001b[0m\u001b[0mn\u001b[0m\u001b[1;33m]\u001b[0m\u001b[1;33m.\u001b[0m\u001b[0munique\u001b[0m\u001b[1;33m(\u001b[0m\u001b[1;33m)\u001b[0m\u001b[1;33m)\u001b[0m\u001b[1;33m)\u001b[0m\u001b[1;33m\u001b[0m\u001b[1;33m\u001b[0m\u001b[0m\n\u001b[0m\u001b[0;32m      5\u001b[0m \u001b[0mprint\u001b[0m\u001b[1;33m(\u001b[0m\u001b[1;34m'-------------------------------------------------------------------------------'\u001b[0m\u001b[1;33m)\u001b[0m\u001b[1;33m\u001b[0m\u001b[1;33m\u001b[0m\u001b[0m\n\u001b[0;32m      6\u001b[0m \u001b[1;31m#Ahora buscaremos el número de valores nulos dentro de la data\u001b[0m\u001b[1;33m\u001b[0m\u001b[1;33m\u001b[0m\u001b[1;33m\u001b[0m\u001b[0m\n",
      "\u001b[1;31mNameError\u001b[0m: name 'test' is not defined"
     ]
    }
   ],
   "source": [
    "print('Para la data que summitearemos, tendremos:')\n",
    "print('-------------------------------------------------------------------------------')\n",
    "for n in summit.columns:\n",
    "    print('El número de valores diferentes en la columna', n, 'es:', len(test[n].unique()))\n",
    "print('-------------------------------------------------------------------------------')\n",
    "#Ahora buscaremos el número de valores nulos dentro de la data\n",
    "for n in summit.columns:\n",
    "    if test[n].isnull().values.any() == True:\n",
    "        print('Existen' , test[n].isna().sum(), 'valores nulos en la columna', n)"
   ]
  },
  {
   "cell_type": "markdown",
   "metadata": {},
   "source": [
    "## Missingno: Una forma más interactiva de ver mis nulos.\n",
    "\n",
    "Esta librería nos grafica nuestro dataframe de tal manera en la que vemos qué columnas tienen datos vacíos. Esto es representado por los espacios en blanco que tenemos. Es más intuitivo y fácil de mapear cuáles son los problemas de los nulos dentro de nuestro dataset. "
   ]
  },
  {
   "cell_type": "code",
   "execution_count": null,
   "metadata": {},
   "outputs": [],
   "source": [
    "ms.matrix(train)"
   ]
  },
  {
   "cell_type": "code",
   "execution_count": null,
   "metadata": {},
   "outputs": [],
   "source": [
    "ms.matrix(summit)"
   ]
  },
  {
   "cell_type": "markdown",
   "metadata": {},
   "source": [
    "**Eliminaremos** los valores que nos parecen **irrelevantes** para predecir si una persona sobrevive o no dentro del Titanic. En este caso, intuimos que son:\n",
    "\n",
    "- Nombre: ¿Qué tiene que ver el nombre con que se sobreviva o no?\n",
    "\n",
    "\n",
    "- Ticket: Si bien se podría pensar que el ticket nos daría algún criterio, en este caso no se ha encontrado una relación directa. Ah pero eso no quita que la podamos usar. Puedes ponerte creativo y sacar una conclusión!\n",
    "\n",
    "\n",
    "- PassengerId: Lo mismo que la variable Ticket. Asumimos que no tiene relación con la supervivencia y lo quitamos."
   ]
  },
  {
   "cell_type": "code",
   "execution_count": null,
   "metadata": {},
   "outputs": [],
   "source": [
    "train = train.drop(['Name','Ticket','PassengerId'], axis = 1)\n",
    "summit = summit.drop(['Name','Ticket','PassengerId'], axis = 1)"
   ]
  },
  {
   "cell_type": "markdown",
   "metadata": {},
   "source": [
    "## Reemplazando Nulos: \n",
    "\n",
    "Un valor Nulo no es más que data que no ha sido recogida (o imputada), osea **data vacía**. Esta nulidad puede deberse a diferentes casos y las maneras en las que podemos lidiar con ellos son varias. La forma en cómo podemos tratar con este tipo de variable depende de diferentes factores como la cantidad, la dispersión y la importancia de la variable para el target (recuerda que target es la variable que vamos a predecir). \n",
    "\n"
   ]
  },
  {
   "cell_type": "code",
   "execution_count": null,
   "metadata": {},
   "outputs": [],
   "source": [
    "#Primero, crearemos una copia de los dataframes (principalmente para poder editar y hacer cambios libremente)\n",
    "train_bf = train.copy()\n",
    "summit_bf = summit.copy()"
   ]
  },
  {
   "cell_type": "markdown",
   "metadata": {},
   "source": [
    "Ahora llenaremos los valores NaN de las columnas Age y Embarked. En la columna Age llenaremos de manera random definiendo un intervalo en el que nuestra data va iterar. Ese intervalo será definido por **(media +- DesviaciónEstandar)**"
   ]
  },
  {
   "cell_type": "code",
   "execution_count": null,
   "metadata": {},
   "outputs": [],
   "source": [
    "print(\"La edad media de nuestro train dataset es:\",train['Age'].mean(),\"\\nLa desviación estandar de la edad de nuestro train dataset es:\",train['Age'].std())\n",
    "print(\"La edad media de nuestro summitdataset es:\",summit['Age'].mean(),\"\\nLa desviación estándar de la edad de nuestro summites:\",summit['Age'].std())"
   ]
  },
  {
   "cell_type": "markdown",
   "metadata": {},
   "source": [
    "##### Crearemos una función para llenarlo automáticamente:\n",
    "\n",
    "Recuerda que una función es...\n",
    "\n",
    ".\n",
    "\n",
    "\n",
    ".\n",
    "\n",
    ".\n"
   ]
  },
  {
   "cell_type": "code",
   "execution_count": null,
   "metadata": {},
   "outputs": [],
   "source": [
    "#Crearemos una función para llenar de manera random dentro del intervalo de la media y desv stand (std)\n",
    "def llena_nan_con_media_y_std(df,col='Age'):\n",
    "    nan = df[df[col].isna()] #el dataset de los que tienen la columna (col = 'Age' ) con valores nulos\n",
    "    min_ = df[col].mean() - df[col].std() #El comienzo de nuestro intervalo, la media menos la desv. estandar.\n",
    "    max_ = df[col].mean() + df[col].std() #El final de nuestro intervalo, la media más la desv. estandar.\n",
    "    for i in nan.index: #Para cada i en los index de mi data nula\n",
    "        random_num = random.uniform(min_,max_) #randomizo dentro de los intervalos que quiero\n",
    "        df[col].loc[i] = random_num #Reemplazo los valores dentro de mi data original."
   ]
  },
  {
   "cell_type": "code",
   "execution_count": null,
   "metadata": {},
   "outputs": [],
   "source": [
    "llena_nan_con_media_y_std(train) #Aplico la función para train\n",
    "llena_nan_con_media_y_std(summit) #Aplico la función para summit"
   ]
  },
  {
   "cell_type": "code",
   "execution_count": null,
   "metadata": {},
   "outputs": [],
   "source": [
    "#Vamos a tranformar los valores a integer (enteros)\n",
    "\n",
    "#Hacemos esto porque al randomizar hemos obtenido valores decimales. ¿Es lógico tener 3.5 años? Por eso reemplazamos y \n",
    "#se transforman los datos.\n",
    "train['Age'] = train['Age'].astype(int)\n",
    "summit['Age'] = summit['Age'].astype(int)"
   ]
  },
  {
   "cell_type": "markdown",
   "metadata": {},
   "source": [
    "Ahora, podemos visualizar las diferencias entre la data antes y después de reemplazar (recuerda que hemos hecho una copia del dataframe para poder trabajar en ello)"
   ]
  },
  {
   "cell_type": "code",
   "execution_count": null,
   "metadata": {},
   "outputs": [],
   "source": [
    "plt.style.use('ggplot') #Es el estilo que le ponemos a la data\n",
    "fig = plt.figure(figsize = (25,10)) #Podemos elegir de qué tamaño poner nuestra data\n",
    "fig.subplots_adjust(hspace=0.6, wspace=0.15) #Para que se pongan juntos los gráficos\n",
    "ax = fig.add_subplot(1,2,1) #La posición de mi primer gráfico\n",
    "ax.set_ylim([0,0.04]) #Los límites del eje y\n",
    "ax.set_title('Antes de llenar los valos Nulos') #El título \n",
    "sns.distplot(train_bf['Age'].dropna(), bins=20) #El gráfico de distribución\n",
    "ax_2 = fig.add_subplot(1,2,2) #agrego el otro gráfico\n",
    "ax_2.set_ylim([0,0.04])\n",
    "ax_2.set_title('Después de llenar los valores Nulos')\n",
    "sns.distplot(train['Age'],bins=20)"
   ]
  },
  {
   "cell_type": "markdown",
   "metadata": {},
   "source": [
    "Podemos decir a simple vista que no hay diferencia significativa entre la data que hemos llenado y que no. La distribución es casi la misma, pero lo curioso es que tiene dos picos. Luego lidiaremos con eso. \n",
    "\n",
    "Ahora tenemos que hacernos cargo de los valores nulos de la columna Embarked y Fare dentro de los dos dataframes (summit y train)\n"
   ]
  },
  {
   "cell_type": "code",
   "execution_count": 7,
   "metadata": {},
   "outputs": [
    {
     "data": {
      "text/plain": [
       "<matplotlib.axes._subplots.AxesSubplot at 0x267562b4940>"
      ]
     },
     "execution_count": 7,
     "metadata": {},
     "output_type": "execute_result"
    },
    {
     "data": {
      "image/png": "[encoded data removed]",
      "text/plain": [
       "<Figure size 432x288 with 1 Axes>"
      ]
     },
     "metadata": {
      "needs_background": "light"
     },
     "output_type": "display_data"
    }
   ],
   "source": [
    "#Visualizaremos los datos de la columna Embarked en nuestra data de entrenamiento:\n",
    "sns.countplot(x='Embarked',data=train)"
   ]
  },
  {
   "cell_type": "markdown",
   "metadata": {},
   "source": [
    "A pesar de que podamos llenarlo con la moda directamente con fillna, prefiero ver con mis propios ojos qué tanto difiere la moda de su segundo valor más recurrente...."
   ]
  },
  {
   "cell_type": "code",
   "execution_count": 8,
   "metadata": {},
   "outputs": [],
   "source": [
    "#Ahora veremos que la mayoría de data en la variable Embarked es S, podemos llenarlo con esta moda. \n",
    "nan_emb = train[train['Embarked'].isna()]\n",
    "for i in nan_emb.index:\n",
    "    train['Embarked'].loc[i] = 'S'"
   ]
  },
  {
   "cell_type": "code",
   "execution_count": 9,
   "metadata": {},
   "outputs": [],
   "source": [
    "#We deal with that one nan value in fare column of summitdata\n",
    "nan_fare = summit[summit['Fare'].isna()]\n",
    "for i in nan_fare.index:\n",
    "    summit['Fare'].loc[i] = summit['Fare'].mean()"
   ]
  },
  {
   "cell_type": "markdown",
   "metadata": {},
   "source": [
    "## Podemos (y debemos) crear otros features a la data:"
   ]
  },
  {
   "cell_type": "markdown",
   "metadata": {},
   "source": [
    "\n",
    " "
   ]
  },
  {
   "cell_type": "markdown",
   "metadata": {},
   "source": [
    "Hemos visto que hay dos variables que se relacionan a la familia del pasajero (SibSP & Parch), asi que por qué no creamos una variable que resuma la cantidad de familiares de una persona? Y también contar si la persona viaja sola o acompañada en la nave."
   ]
  },
  {
   "cell_type": "code",
   "execution_count": 10,
   "metadata": {},
   "outputs": [],
   "source": [
    "train['Family_members'] = train['SibSp'] + train['Parch'] + 1 #him/her\n",
    "summit['Family_members'] = summit['SibSp'] + summit['Parch'] + 1\n",
    "\n",
    "#Crearemos la variable Alone para nuestra data\n",
    "train['not_Alone'] = 0 \n",
    "train['not_Alone'].loc[train['Family_members'] > 1] = 1\n",
    "\n",
    "summit['not_Alone'] = 0 \n",
    "summit['not_Alone'].loc[summit['Family_members'] > 1] = 1"
   ]
  },
  {
   "cell_type": "code",
   "execution_count": 11,
   "metadata": {},
   "outputs": [
    {
     "data": {
      "text/html": [
       "<div>\n",
       "<style scoped>\n",
       "    .dataframe tbody tr th:only-of-type {\n",
       "        vertical-align: middle;\n",
       "    }\n",
       "\n",
       "    .dataframe tbody tr th {\n",
       "        vertical-align: top;\n",
       "    }\n",
       "\n",
       "    .dataframe thead th {\n",
       "        text-align: right;\n",
       "    }\n",
       "</style>\n",
       "<table border=\"1\" class=\"dataframe\">\n",
       "  <thead>\n",
       "    <tr style=\"text-align: right;\">\n",
       "      <th></th>\n",
       "      <th>PassengerId</th>\n",
       "      <th>Survived</th>\n",
       "      <th>Pclass</th>\n",
       "      <th>Name</th>\n",
       "      <th>Sex</th>\n",
       "      <th>Age</th>\n",
       "      <th>SibSp</th>\n",
       "      <th>Parch</th>\n",
       "      <th>Ticket</th>\n",
       "      <th>Fare</th>\n",
       "      <th>Cabin</th>\n",
       "      <th>Embarked</th>\n",
       "      <th>Family_members</th>\n",
       "      <th>not_Alone</th>\n",
       "    </tr>\n",
       "  </thead>\n",
       "  <tbody>\n",
       "    <tr>\n",
       "      <th>0</th>\n",
       "      <td>1</td>\n",
       "      <td>0</td>\n",
       "      <td>3</td>\n",
       "      <td>Braund, Mr. Owen Harris</td>\n",
       "      <td>male</td>\n",
       "      <td>22.0</td>\n",
       "      <td>1</td>\n",
       "      <td>0</td>\n",
       "      <td>A/5 21171</td>\n",
       "      <td>7.2500</td>\n",
       "      <td>NaN</td>\n",
       "      <td>S</td>\n",
       "      <td>2</td>\n",
       "      <td>1</td>\n",
       "    </tr>\n",
       "    <tr>\n",
       "      <th>1</th>\n",
       "      <td>2</td>\n",
       "      <td>1</td>\n",
       "      <td>1</td>\n",
       "      <td>Cumings, Mrs. John Bradley (Florence Briggs Th...</td>\n",
       "      <td>female</td>\n",
       "      <td>38.0</td>\n",
       "      <td>1</td>\n",
       "      <td>0</td>\n",
       "      <td>PC 17599</td>\n",
       "      <td>71.2833</td>\n",
       "      <td>C85</td>\n",
       "      <td>C</td>\n",
       "      <td>2</td>\n",
       "      <td>1</td>\n",
       "    </tr>\n",
       "    <tr>\n",
       "      <th>2</th>\n",
       "      <td>3</td>\n",
       "      <td>1</td>\n",
       "      <td>3</td>\n",
       "      <td>Heikkinen, Miss. Laina</td>\n",
       "      <td>female</td>\n",
       "      <td>26.0</td>\n",
       "      <td>0</td>\n",
       "      <td>0</td>\n",
       "      <td>STON/O2. 3101282</td>\n",
       "      <td>7.9250</td>\n",
       "      <td>NaN</td>\n",
       "      <td>S</td>\n",
       "      <td>1</td>\n",
       "      <td>0</td>\n",
       "    </tr>\n",
       "    <tr>\n",
       "      <th>3</th>\n",
       "      <td>4</td>\n",
       "      <td>1</td>\n",
       "      <td>1</td>\n",
       "      <td>Futrelle, Mrs. Jacques Heath (Lily May Peel)</td>\n",
       "      <td>female</td>\n",
       "      <td>35.0</td>\n",
       "      <td>1</td>\n",
       "      <td>0</td>\n",
       "      <td>113803</td>\n",
       "      <td>53.1000</td>\n",
       "      <td>C123</td>\n",
       "      <td>S</td>\n",
       "      <td>2</td>\n",
       "      <td>1</td>\n",
       "    </tr>\n",
       "    <tr>\n",
       "      <th>4</th>\n",
       "      <td>5</td>\n",
       "      <td>0</td>\n",
       "      <td>3</td>\n",
       "      <td>Allen, Mr. William Henry</td>\n",
       "      <td>male</td>\n",
       "      <td>35.0</td>\n",
       "      <td>0</td>\n",
       "      <td>0</td>\n",
       "      <td>373450</td>\n",
       "      <td>8.0500</td>\n",
       "      <td>NaN</td>\n",
       "      <td>S</td>\n",
       "      <td>1</td>\n",
       "      <td>0</td>\n",
       "    </tr>\n",
       "  </tbody>\n",
       "</table>\n",
       "</div>"
      ],
      "text/plain": [
       "   PassengerId  Survived  Pclass  \\\n",
       "0            1         0       3   \n",
       "1            2         1       1   \n",
       "2            3         1       3   \n",
       "3            4         1       1   \n",
       "4            5         0       3   \n",
       "\n",
       "                                                Name     Sex   Age  SibSp  \\\n",
       "0                            Braund, Mr. Owen Harris    male  22.0      1   \n",
       "1  Cumings, Mrs. John Bradley (Florence Briggs Th...  female  38.0      1   \n",
       "2                             Heikkinen, Miss. Laina  female  26.0      0   \n",
       "3       Futrelle, Mrs. Jacques Heath (Lily May Peel)  female  35.0      1   \n",
       "4                           Allen, Mr. William Henry    male  35.0      0   \n",
       "\n",
       "   Parch            Ticket     Fare Cabin Embarked  Family_members  not_Alone  \n",
       "0      0         A/5 21171   7.2500   NaN        S               2          1  \n",
       "1      0          PC 17599  71.2833   C85        C               2          1  \n",
       "2      0  STON/O2. 3101282   7.9250   NaN        S               1          0  \n",
       "3      0            113803  53.1000  C123        S               2          1  \n",
       "4      0            373450   8.0500   NaN        S               1          0  "
      ]
     },
     "execution_count": 11,
     "metadata": {},
     "output_type": "execute_result"
    }
   ],
   "source": [
    "train.head()"
   ]
  },
  {
   "cell_type": "markdown",
   "metadata": {},
   "source": [
    "#### Dándole sentido a nuestra variable... \n",
    "\n",
    "**Pensando el problema**: ¿Qué es lo que pasa en un desastre natural? No le dan prioridad a las mujeres y niños para que puedan ir directo a las naves de rescate? Entonces, sería conveniente identificar si el pasajero es Hombre, Mujer o **niño** Para esto, crearemos la variable child (niño en ingles, jeje) "
   ]
  },
  {
   "cell_type": "code",
   "execution_count": 12,
   "metadata": {},
   "outputs": [],
   "source": [
    "def agg_child(df,col='Age'):\n",
    "    mask = (df[col] <= 15)\n",
    "    df.loc[mask,'Sex'] = 'child'\n",
    "\n",
    "#We apply the function\n",
    "agg_child(train)\n",
    "agg_child(summit)"
   ]
  },
  {
   "cell_type": "markdown",
   "metadata": {},
   "source": [
    "Ahora, vamos a trabajar la variable Cabin. En realidad, a nosotros nos importa solamente si fue a Cabina o no. Por eso, binarizaremos la variable Cabin..."
   ]
  },
  {
   "cell_type": "code",
   "execution_count": 13,
   "metadata": {},
   "outputs": [],
   "source": [
    "def agg_cabin_bin(df,col='Cabin'):\n",
    "    df['with_Cabin'] = 0\n",
    "    mask = (df[col].isna() == False)\n",
    "    df.loc[mask,'with_Cabin'] = 1\n",
    "#0 if the passenger had not a Cabin, 1 if he has a cabin"
   ]
  },
  {
   "cell_type": "code",
   "execution_count": 14,
   "metadata": {},
   "outputs": [],
   "source": [
    "agg_cabin_bin(train)\n",
    "agg_cabin_bin(summit)\n",
    "\n",
    "del train['Cabin']\n",
    "del summit['Cabin']"
   ]
  },
  {
   "cell_type": "code",
   "execution_count": 15,
   "metadata": {},
   "outputs": [
    {
     "data": {
      "text/html": [
       "<div>\n",
       "<style scoped>\n",
       "    .dataframe tbody tr th:only-of-type {\n",
       "        vertical-align: middle;\n",
       "    }\n",
       "\n",
       "    .dataframe tbody tr th {\n",
       "        vertical-align: top;\n",
       "    }\n",
       "\n",
       "    .dataframe thead th {\n",
       "        text-align: right;\n",
       "    }\n",
       "</style>\n",
       "<table border=\"1\" class=\"dataframe\">\n",
       "  <thead>\n",
       "    <tr style=\"text-align: right;\">\n",
       "      <th></th>\n",
       "      <th>PassengerId</th>\n",
       "      <th>Survived</th>\n",
       "      <th>Pclass</th>\n",
       "      <th>Name</th>\n",
       "      <th>Sex</th>\n",
       "      <th>Age</th>\n",
       "      <th>SibSp</th>\n",
       "      <th>Parch</th>\n",
       "      <th>Ticket</th>\n",
       "      <th>Fare</th>\n",
       "      <th>Embarked</th>\n",
       "      <th>Family_members</th>\n",
       "      <th>not_Alone</th>\n",
       "      <th>with_Cabin</th>\n",
       "    </tr>\n",
       "  </thead>\n",
       "  <tbody>\n",
       "    <tr>\n",
       "      <th>0</th>\n",
       "      <td>1</td>\n",
       "      <td>0</td>\n",
       "      <td>3</td>\n",
       "      <td>Braund, Mr. Owen Harris</td>\n",
       "      <td>male</td>\n",
       "      <td>22.0</td>\n",
       "      <td>1</td>\n",
       "      <td>0</td>\n",
       "      <td>A/5 21171</td>\n",
       "      <td>7.2500</td>\n",
       "      <td>S</td>\n",
       "      <td>2</td>\n",
       "      <td>1</td>\n",
       "      <td>0</td>\n",
       "    </tr>\n",
       "    <tr>\n",
       "      <th>1</th>\n",
       "      <td>2</td>\n",
       "      <td>1</td>\n",
       "      <td>1</td>\n",
       "      <td>Cumings, Mrs. John Bradley (Florence Briggs Th...</td>\n",
       "      <td>female</td>\n",
       "      <td>38.0</td>\n",
       "      <td>1</td>\n",
       "      <td>0</td>\n",
       "      <td>PC 17599</td>\n",
       "      <td>71.2833</td>\n",
       "      <td>C</td>\n",
       "      <td>2</td>\n",
       "      <td>1</td>\n",
       "      <td>1</td>\n",
       "    </tr>\n",
       "    <tr>\n",
       "      <th>2</th>\n",
       "      <td>3</td>\n",
       "      <td>1</td>\n",
       "      <td>3</td>\n",
       "      <td>Heikkinen, Miss. Laina</td>\n",
       "      <td>female</td>\n",
       "      <td>26.0</td>\n",
       "      <td>0</td>\n",
       "      <td>0</td>\n",
       "      <td>STON/O2. 3101282</td>\n",
       "      <td>7.9250</td>\n",
       "      <td>S</td>\n",
       "      <td>1</td>\n",
       "      <td>0</td>\n",
       "      <td>0</td>\n",
       "    </tr>\n",
       "    <tr>\n",
       "      <th>3</th>\n",
       "      <td>4</td>\n",
       "      <td>1</td>\n",
       "      <td>1</td>\n",
       "      <td>Futrelle, Mrs. Jacques Heath (Lily May Peel)</td>\n",
       "      <td>female</td>\n",
       "      <td>35.0</td>\n",
       "      <td>1</td>\n",
       "      <td>0</td>\n",
       "      <td>113803</td>\n",
       "      <td>53.1000</td>\n",
       "      <td>S</td>\n",
       "      <td>2</td>\n",
       "      <td>1</td>\n",
       "      <td>1</td>\n",
       "    </tr>\n",
       "    <tr>\n",
       "      <th>4</th>\n",
       "      <td>5</td>\n",
       "      <td>0</td>\n",
       "      <td>3</td>\n",
       "      <td>Allen, Mr. William Henry</td>\n",
       "      <td>male</td>\n",
       "      <td>35.0</td>\n",
       "      <td>0</td>\n",
       "      <td>0</td>\n",
       "      <td>373450</td>\n",
       "      <td>8.0500</td>\n",
       "      <td>S</td>\n",
       "      <td>1</td>\n",
       "      <td>0</td>\n",
       "      <td>0</td>\n",
       "    </tr>\n",
       "  </tbody>\n",
       "</table>\n",
       "</div>"
      ],
      "text/plain": [
       "   PassengerId  Survived  Pclass  \\\n",
       "0            1         0       3   \n",
       "1            2         1       1   \n",
       "2            3         1       3   \n",
       "3            4         1       1   \n",
       "4            5         0       3   \n",
       "\n",
       "                                                Name     Sex   Age  SibSp  \\\n",
       "0                            Braund, Mr. Owen Harris    male  22.0      1   \n",
       "1  Cumings, Mrs. John Bradley (Florence Briggs Th...  female  38.0      1   \n",
       "2                             Heikkinen, Miss. Laina  female  26.0      0   \n",
       "3       Futrelle, Mrs. Jacques Heath (Lily May Peel)  female  35.0      1   \n",
       "4                           Allen, Mr. William Henry    male  35.0      0   \n",
       "\n",
       "   Parch            Ticket     Fare Embarked  Family_members  not_Alone  \\\n",
       "0      0         A/5 21171   7.2500        S               2          1   \n",
       "1      0          PC 17599  71.2833        C               2          1   \n",
       "2      0  STON/O2. 3101282   7.9250        S               1          0   \n",
       "3      0            113803  53.1000        S               2          1   \n",
       "4      0            373450   8.0500        S               1          0   \n",
       "\n",
       "   with_Cabin  \n",
       "0           0  \n",
       "1           1  \n",
       "2           0  \n",
       "3           1  \n",
       "4           0  "
      ]
     },
     "execution_count": 15,
     "metadata": {},
     "output_type": "execute_result"
    }
   ],
   "source": [
    "train.head()"
   ]
  },
  {
   "cell_type": "markdown",
   "metadata": {},
   "source": [
    "## Data Visualization:\n",
    "\n",
    "**Por qué es importante visualizar nuestros datos?**:"
   ]
  },
  {
   "cell_type": "code",
   "execution_count": 16,
   "metadata": {
    "scrolled": false
   },
   "outputs": [
    {
     "data": {
      "text/plain": [
       "Text(0.5, 1.0, 'Sex vs Survived')"
      ]
     },
     "execution_count": 16,
     "metadata": {},
     "output_type": "execute_result"
    },
    {
     "data": {
      "image/png": "[encoded data removed]",
      "text/plain": [
       "<Figure size 432x288 with 1 Axes>"
      ]
     },
     "metadata": {
      "needs_background": "light"
     },
     "output_type": "display_data"
    }
   ],
   "source": [
    "sns.barplot(x='Sex',y='Survived',data=train, order=['female','child','male'])\n",
    "plt.title('Sex vs Survived')"
   ]
  },
  {
   "cell_type": "code",
   "execution_count": 17,
   "metadata": {},
   "outputs": [
    {
     "data": {
      "text/plain": [
       "<matplotlib.axes._subplots.AxesSubplot at 0x26756bb4dd8>"
      ]
     },
     "execution_count": 17,
     "metadata": {},
     "output_type": "execute_result"
    },
    {
     "data": {
      "image/png": "[encoded data removed]",
      "text/plain": [
       "<Figure size 864x720 with 3 Axes>"
      ]
     },
     "metadata": {
      "needs_background": "light"
     },
     "output_type": "display_data"
    }
   ],
   "source": [
    "gs = plt.GridSpec(2,3,wspace=0.45, hspace=0.8) #Creo un espacio para poner mis gráficos\n",
    "plt.figure(figsize=(12,10)) #tamaño del grafico total \n",
    "ax1 = plt.subplot2grid((3,3),(0,0),rowspan=2,colspan=2) #Creo espacio para mi subplot más grande: Para ver age vs survived vs sex\n",
    "plt.title('Age vs Survived vs Sex')\n",
    "sns.swarmplot(x = 'Survived',y='Age', \n",
    "              data=train, linewidth=1,hue='Sex', palette = 'muted')\n",
    "ax2 = plt.subplot2grid((3,3),(0,2)) #Creo espacio para mi segundo subplot, embarked vs survides\n",
    "plt.title('Embarked vs Survived')\n",
    "sns.barplot(x='Embarked',y='Survived',\n",
    "            data=train,order=['C','Q','S'])\n",
    "ax3 = plt.subplot2grid((3,3),(1,2)) #Creo espacio para mi tercer subplot...\n",
    "plt.title('Pclass vs Survived')\n",
    "sns.barplot(x='Pclass',y='Survived',\n",
    "            data=train, palette = 'muted')"
   ]
  },
  {
   "cell_type": "code",
   "execution_count": 25,
   "metadata": {},
   "outputs": [
    {
     "data": {
      "text/plain": [
       "<matplotlib.axes._subplots.AxesSubplot at 0x26756d1c860>"
      ]
     },
     "execution_count": 25,
     "metadata": {},
     "output_type": "execute_result"
    },
    {
     "data": {
      "image/png": "[encoded data removed]",
      "text/plain": [
       "<Figure size 576x432 with 1 Axes>"
      ]
     },
     "metadata": {
      "needs_background": "light"
     },
     "output_type": "display_data"
    }
   ],
   "source": [
    "plt.figure(figsize=(8,6))\n",
    "sns.swarmplot(x = 'Survived',y='Age', \n",
    "              data=train, linewidth=1,hue='Embarked', palette = 'muted')\n",
    "# No vemos acaso que los verdes están más dispersos a sobrevivir?"
   ]
  },
  {
   "cell_type": "code",
   "execution_count": 19,
   "metadata": {},
   "outputs": [],
   "source": [
    "#Now we can say that Embarked class/Pclass/sex have priorities for survive. So we can transform the categorical data to numbers\n",
    "cat_to_nums = {\"Embarked\":  {\"S\": 0, \"Q\": 1, \"C\":2},\n",
    "               \"Sex\": {\"male\":0,\"child\":1,\"female\":2}}\n",
    "#We will use replace to convert the values\n",
    "train.replace(cat_to_nums, inplace = True)"
   ]
  },
  {
   "cell_type": "code",
   "execution_count": 20,
   "metadata": {},
   "outputs": [],
   "source": [
    "summit.replace(cat_to_nums, inplace = True)"
   ]
  },
  {
   "cell_type": "code",
   "execution_count": 21,
   "metadata": {},
   "outputs": [
    {
     "data": {
      "text/html": [
       "<div>\n",
       "<style scoped>\n",
       "    .dataframe tbody tr th:only-of-type {\n",
       "        vertical-align: middle;\n",
       "    }\n",
       "\n",
       "    .dataframe tbody tr th {\n",
       "        vertical-align: top;\n",
       "    }\n",
       "\n",
       "    .dataframe thead th {\n",
       "        text-align: right;\n",
       "    }\n",
       "</style>\n",
       "<table border=\"1\" class=\"dataframe\">\n",
       "  <thead>\n",
       "    <tr style=\"text-align: right;\">\n",
       "      <th></th>\n",
       "      <th>PassengerId</th>\n",
       "      <th>Survived</th>\n",
       "      <th>Pclass</th>\n",
       "      <th>Name</th>\n",
       "      <th>Sex</th>\n",
       "      <th>Age</th>\n",
       "      <th>SibSp</th>\n",
       "      <th>Parch</th>\n",
       "      <th>Ticket</th>\n",
       "      <th>Fare</th>\n",
       "      <th>Embarked</th>\n",
       "      <th>Family_members</th>\n",
       "      <th>not_Alone</th>\n",
       "      <th>with_Cabin</th>\n",
       "    </tr>\n",
       "  </thead>\n",
       "  <tbody>\n",
       "    <tr>\n",
       "      <th>0</th>\n",
       "      <td>1</td>\n",
       "      <td>0</td>\n",
       "      <td>3</td>\n",
       "      <td>Braund, Mr. Owen Harris</td>\n",
       "      <td>0</td>\n",
       "      <td>22.0</td>\n",
       "      <td>1</td>\n",
       "      <td>0</td>\n",
       "      <td>A/5 21171</td>\n",
       "      <td>7.2500</td>\n",
       "      <td>0</td>\n",
       "      <td>2</td>\n",
       "      <td>1</td>\n",
       "      <td>0</td>\n",
       "    </tr>\n",
       "    <tr>\n",
       "      <th>1</th>\n",
       "      <td>2</td>\n",
       "      <td>1</td>\n",
       "      <td>1</td>\n",
       "      <td>Cumings, Mrs. John Bradley (Florence Briggs Th...</td>\n",
       "      <td>2</td>\n",
       "      <td>38.0</td>\n",
       "      <td>1</td>\n",
       "      <td>0</td>\n",
       "      <td>PC 17599</td>\n",
       "      <td>71.2833</td>\n",
       "      <td>2</td>\n",
       "      <td>2</td>\n",
       "      <td>1</td>\n",
       "      <td>1</td>\n",
       "    </tr>\n",
       "    <tr>\n",
       "      <th>2</th>\n",
       "      <td>3</td>\n",
       "      <td>1</td>\n",
       "      <td>3</td>\n",
       "      <td>Heikkinen, Miss. Laina</td>\n",
       "      <td>2</td>\n",
       "      <td>26.0</td>\n",
       "      <td>0</td>\n",
       "      <td>0</td>\n",
       "      <td>STON/O2. 3101282</td>\n",
       "      <td>7.9250</td>\n",
       "      <td>0</td>\n",
       "      <td>1</td>\n",
       "      <td>0</td>\n",
       "      <td>0</td>\n",
       "    </tr>\n",
       "    <tr>\n",
       "      <th>3</th>\n",
       "      <td>4</td>\n",
       "      <td>1</td>\n",
       "      <td>1</td>\n",
       "      <td>Futrelle, Mrs. Jacques Heath (Lily May Peel)</td>\n",
       "      <td>2</td>\n",
       "      <td>35.0</td>\n",
       "      <td>1</td>\n",
       "      <td>0</td>\n",
       "      <td>113803</td>\n",
       "      <td>53.1000</td>\n",
       "      <td>0</td>\n",
       "      <td>2</td>\n",
       "      <td>1</td>\n",
       "      <td>1</td>\n",
       "    </tr>\n",
       "    <tr>\n",
       "      <th>4</th>\n",
       "      <td>5</td>\n",
       "      <td>0</td>\n",
       "      <td>3</td>\n",
       "      <td>Allen, Mr. William Henry</td>\n",
       "      <td>0</td>\n",
       "      <td>35.0</td>\n",
       "      <td>0</td>\n",
       "      <td>0</td>\n",
       "      <td>373450</td>\n",
       "      <td>8.0500</td>\n",
       "      <td>0</td>\n",
       "      <td>1</td>\n",
       "      <td>0</td>\n",
       "      <td>0</td>\n",
       "    </tr>\n",
       "  </tbody>\n",
       "</table>\n",
       "</div>"
      ],
      "text/plain": [
       "   PassengerId  Survived  Pclass  \\\n",
       "0            1         0       3   \n",
       "1            2         1       1   \n",
       "2            3         1       3   \n",
       "3            4         1       1   \n",
       "4            5         0       3   \n",
       "\n",
       "                                                Name  Sex   Age  SibSp  Parch  \\\n",
       "0                            Braund, Mr. Owen Harris    0  22.0      1      0   \n",
       "1  Cumings, Mrs. John Bradley (Florence Briggs Th...    2  38.0      1      0   \n",
       "2                             Heikkinen, Miss. Laina    2  26.0      0      0   \n",
       "3       Futrelle, Mrs. Jacques Heath (Lily May Peel)    2  35.0      1      0   \n",
       "4                           Allen, Mr. William Henry    0  35.0      0      0   \n",
       "\n",
       "             Ticket     Fare  Embarked  Family_members  not_Alone  with_Cabin  \n",
       "0         A/5 21171   7.2500         0               2          1           0  \n",
       "1          PC 17599  71.2833         2               2          1           1  \n",
       "2  STON/O2. 3101282   7.9250         0               1          0           0  \n",
       "3            113803  53.1000         0               2          1           1  \n",
       "4            373450   8.0500         0               1          0           0  "
      ]
     },
     "execution_count": 21,
     "metadata": {},
     "output_type": "execute_result"
    }
   ],
   "source": [
    "train.head()"
   ]
  },
  {
   "cell_type": "markdown",
   "metadata": {},
   "source": [
    "## Encontrando correlaciones en la data:\n",
    "\n",
    "Si una variable está **muy correlacionada** con otra, entonces deberíamos eliminarla para que no caiga en el problema de la **multicolinealidad**. La multicolinealidad es definida cuando las variables predictoras se obstaculizan unas y otras. Por ejemplo, si tengo dos variables que son al final lo mismo... ¿para qué tener dos cuando debería tener una? Le estaría dando como doble peso a la misma variable y eso sesga al modelo..."
   ]
  },
  {
   "cell_type": "code",
   "execution_count": 22,
   "metadata": {},
   "outputs": [
    {
     "data": {
      "text/html": [
       "<div>\n",
       "<style scoped>\n",
       "    .dataframe tbody tr th:only-of-type {\n",
       "        vertical-align: middle;\n",
       "    }\n",
       "\n",
       "    .dataframe tbody tr th {\n",
       "        vertical-align: top;\n",
       "    }\n",
       "\n",
       "    .dataframe thead th {\n",
       "        text-align: right;\n",
       "    }\n",
       "</style>\n",
       "<table border=\"1\" class=\"dataframe\">\n",
       "  <thead>\n",
       "    <tr style=\"text-align: right;\">\n",
       "      <th></th>\n",
       "      <th>PassengerId</th>\n",
       "      <th>Survived</th>\n",
       "      <th>Pclass</th>\n",
       "      <th>Sex</th>\n",
       "      <th>Age</th>\n",
       "      <th>SibSp</th>\n",
       "      <th>Parch</th>\n",
       "      <th>Fare</th>\n",
       "      <th>Embarked</th>\n",
       "      <th>Family_members</th>\n",
       "      <th>not_Alone</th>\n",
       "      <th>with_Cabin</th>\n",
       "    </tr>\n",
       "  </thead>\n",
       "  <tbody>\n",
       "    <tr>\n",
       "      <th>PassengerId</th>\n",
       "      <td>1.000000</td>\n",
       "      <td>-0.005007</td>\n",
       "      <td>-0.035144</td>\n",
       "      <td>-0.038618</td>\n",
       "      <td>0.036847</td>\n",
       "      <td>-0.057527</td>\n",
       "      <td>-0.001652</td>\n",
       "      <td>0.012658</td>\n",
       "      <td>-0.013128</td>\n",
       "      <td>-0.040143</td>\n",
       "      <td>-0.057462</td>\n",
       "      <td>0.019919</td>\n",
       "    </tr>\n",
       "    <tr>\n",
       "      <th>Survived</th>\n",
       "      <td>-0.005007</td>\n",
       "      <td>1.000000</td>\n",
       "      <td>-0.338481</td>\n",
       "      <td>0.559169</td>\n",
       "      <td>-0.077221</td>\n",
       "      <td>-0.035322</td>\n",
       "      <td>0.081629</td>\n",
       "      <td>0.257307</td>\n",
       "      <td>0.167675</td>\n",
       "      <td>0.016639</td>\n",
       "      <td>0.203367</td>\n",
       "      <td>0.316912</td>\n",
       "    </tr>\n",
       "    <tr>\n",
       "      <th>Pclass</th>\n",
       "      <td>-0.035144</td>\n",
       "      <td>-0.338481</td>\n",
       "      <td>1.000000</td>\n",
       "      <td>-0.140959</td>\n",
       "      <td>-0.369226</td>\n",
       "      <td>0.083081</td>\n",
       "      <td>0.018443</td>\n",
       "      <td>-0.549500</td>\n",
       "      <td>-0.162098</td>\n",
       "      <td>0.065997</td>\n",
       "      <td>-0.135207</td>\n",
       "      <td>-0.725541</td>\n",
       "    </tr>\n",
       "    <tr>\n",
       "      <th>Sex</th>\n",
       "      <td>-0.038618</td>\n",
       "      <td>0.559169</td>\n",
       "      <td>-0.140959</td>\n",
       "      <td>1.000000</td>\n",
       "      <td>-0.100089</td>\n",
       "      <td>0.161172</td>\n",
       "      <td>0.265765</td>\n",
       "      <td>0.195794</td>\n",
       "      <td>0.096173</td>\n",
       "      <td>0.242927</td>\n",
       "      <td>0.326386</td>\n",
       "      <td>0.153317</td>\n",
       "    </tr>\n",
       "    <tr>\n",
       "      <th>Age</th>\n",
       "      <td>0.036847</td>\n",
       "      <td>-0.077221</td>\n",
       "      <td>-0.369226</td>\n",
       "      <td>-0.100089</td>\n",
       "      <td>1.000000</td>\n",
       "      <td>-0.308247</td>\n",
       "      <td>-0.189119</td>\n",
       "      <td>0.096067</td>\n",
       "      <td>0.030394</td>\n",
       "      <td>-0.301914</td>\n",
       "      <td>-0.198270</td>\n",
       "      <td>0.249732</td>\n",
       "    </tr>\n",
       "    <tr>\n",
       "      <th>SibSp</th>\n",
       "      <td>-0.057527</td>\n",
       "      <td>-0.035322</td>\n",
       "      <td>0.083081</td>\n",
       "      <td>0.161172</td>\n",
       "      <td>-0.308247</td>\n",
       "      <td>1.000000</td>\n",
       "      <td>0.414838</td>\n",
       "      <td>0.159651</td>\n",
       "      <td>-0.068230</td>\n",
       "      <td>0.890712</td>\n",
       "      <td>0.584471</td>\n",
       "      <td>-0.040460</td>\n",
       "    </tr>\n",
       "    <tr>\n",
       "      <th>Parch</th>\n",
       "      <td>-0.001652</td>\n",
       "      <td>0.081629</td>\n",
       "      <td>0.018443</td>\n",
       "      <td>0.265765</td>\n",
       "      <td>-0.189119</td>\n",
       "      <td>0.414838</td>\n",
       "      <td>1.000000</td>\n",
       "      <td>0.216225</td>\n",
       "      <td>-0.039798</td>\n",
       "      <td>0.783111</td>\n",
       "      <td>0.583398</td>\n",
       "      <td>0.036987</td>\n",
       "    </tr>\n",
       "    <tr>\n",
       "      <th>Fare</th>\n",
       "      <td>0.012658</td>\n",
       "      <td>0.257307</td>\n",
       "      <td>-0.549500</td>\n",
       "      <td>0.195794</td>\n",
       "      <td>0.096067</td>\n",
       "      <td>0.159651</td>\n",
       "      <td>0.216225</td>\n",
       "      <td>1.000000</td>\n",
       "      <td>0.224719</td>\n",
       "      <td>0.217138</td>\n",
       "      <td>0.271832</td>\n",
       "      <td>0.482075</td>\n",
       "    </tr>\n",
       "    <tr>\n",
       "      <th>Embarked</th>\n",
       "      <td>-0.013128</td>\n",
       "      <td>0.167675</td>\n",
       "      <td>-0.162098</td>\n",
       "      <td>0.096173</td>\n",
       "      <td>0.030394</td>\n",
       "      <td>-0.068230</td>\n",
       "      <td>-0.039798</td>\n",
       "      <td>0.224719</td>\n",
       "      <td>1.000000</td>\n",
       "      <td>-0.066516</td>\n",
       "      <td>0.063532</td>\n",
       "      <td>0.160196</td>\n",
       "    </tr>\n",
       "    <tr>\n",
       "      <th>Family_members</th>\n",
       "      <td>-0.040143</td>\n",
       "      <td>0.016639</td>\n",
       "      <td>0.065997</td>\n",
       "      <td>0.242927</td>\n",
       "      <td>-0.301914</td>\n",
       "      <td>0.890712</td>\n",
       "      <td>0.783111</td>\n",
       "      <td>0.217138</td>\n",
       "      <td>-0.066516</td>\n",
       "      <td>1.000000</td>\n",
       "      <td>0.690922</td>\n",
       "      <td>-0.009175</td>\n",
       "    </tr>\n",
       "    <tr>\n",
       "      <th>not_Alone</th>\n",
       "      <td>-0.057462</td>\n",
       "      <td>0.203367</td>\n",
       "      <td>-0.135207</td>\n",
       "      <td>0.326386</td>\n",
       "      <td>-0.198270</td>\n",
       "      <td>0.584471</td>\n",
       "      <td>0.583398</td>\n",
       "      <td>0.271832</td>\n",
       "      <td>0.063532</td>\n",
       "      <td>0.690922</td>\n",
       "      <td>1.000000</td>\n",
       "      <td>0.158029</td>\n",
       "    </tr>\n",
       "    <tr>\n",
       "      <th>with_Cabin</th>\n",
       "      <td>0.019919</td>\n",
       "      <td>0.316912</td>\n",
       "      <td>-0.725541</td>\n",
       "      <td>0.153317</td>\n",
       "      <td>0.249732</td>\n",
       "      <td>-0.040460</td>\n",
       "      <td>0.036987</td>\n",
       "      <td>0.482075</td>\n",
       "      <td>0.160196</td>\n",
       "      <td>-0.009175</td>\n",
       "      <td>0.158029</td>\n",
       "      <td>1.000000</td>\n",
       "    </tr>\n",
       "  </tbody>\n",
       "</table>\n",
       "</div>"
      ],
      "text/plain": [
       "                PassengerId  Survived    Pclass       Sex       Age     SibSp  \\\n",
       "PassengerId        1.000000 -0.005007 -0.035144 -0.038618  0.036847 -0.057527   \n",
       "Survived          -0.005007  1.000000 -0.338481  0.559169 -0.077221 -0.035322   \n",
       "Pclass            -0.035144 -0.338481  1.000000 -0.140959 -0.369226  0.083081   \n",
       "Sex               -0.038618  0.559169 -0.140959  1.000000 -0.100089  0.161172   \n",
       "Age                0.036847 -0.077221 -0.369226 -0.100089  1.000000 -0.308247   \n",
       "SibSp             -0.057527 -0.035322  0.083081  0.161172 -0.308247  1.000000   \n",
       "Parch             -0.001652  0.081629  0.018443  0.265765 -0.189119  0.414838   \n",
       "Fare               0.012658  0.257307 -0.549500  0.195794  0.096067  0.159651   \n",
       "Embarked          -0.013128  0.167675 -0.162098  0.096173  0.030394 -0.068230   \n",
       "Family_members    -0.040143  0.016639  0.065997  0.242927 -0.301914  0.890712   \n",
       "not_Alone         -0.057462  0.203367 -0.135207  0.326386 -0.198270  0.584471   \n",
       "with_Cabin         0.019919  0.316912 -0.725541  0.153317  0.249732 -0.040460   \n",
       "\n",
       "                   Parch      Fare  Embarked  Family_members  not_Alone  \\\n",
       "PassengerId    -0.001652  0.012658 -0.013128       -0.040143  -0.057462   \n",
       "Survived        0.081629  0.257307  0.167675        0.016639   0.203367   \n",
       "Pclass          0.018443 -0.549500 -0.162098        0.065997  -0.135207   \n",
       "Sex             0.265765  0.195794  0.096173        0.242927   0.326386   \n",
       "Age            -0.189119  0.096067  0.030394       -0.301914  -0.198270   \n",
       "SibSp           0.414838  0.159651 -0.068230        0.890712   0.584471   \n",
       "Parch           1.000000  0.216225 -0.039798        0.783111   0.583398   \n",
       "Fare            0.216225  1.000000  0.224719        0.217138   0.271832   \n",
       "Embarked       -0.039798  0.224719  1.000000       -0.066516   0.063532   \n",
       "Family_members  0.783111  0.217138 -0.066516        1.000000   0.690922   \n",
       "not_Alone       0.583398  0.271832  0.063532        0.690922   1.000000   \n",
       "with_Cabin      0.036987  0.482075  0.160196       -0.009175   0.158029   \n",
       "\n",
       "                with_Cabin  \n",
       "PassengerId       0.019919  \n",
       "Survived          0.316912  \n",
       "Pclass           -0.725541  \n",
       "Sex               0.153317  \n",
       "Age               0.249732  \n",
       "SibSp            -0.040460  \n",
       "Parch             0.036987  \n",
       "Fare              0.482075  \n",
       "Embarked          0.160196  \n",
       "Family_members   -0.009175  \n",
       "not_Alone         0.158029  \n",
       "with_Cabin        1.000000  "
      ]
     },
     "execution_count": 22,
     "metadata": {},
     "output_type": "execute_result"
    }
   ],
   "source": [
    "train.corr()"
   ]
  },
  {
   "cell_type": "code",
   "execution_count": 29,
   "metadata": {},
   "outputs": [],
   "source": [
    "def correlation_heatmap(df): #from \"A Data Science Framework: To Achieve 99% Accuracy\" kernel by LD Freedman\n",
    "    s , ax = plt.subplots(figsize =(14, 12))\n",
    "    colormap = sns.diverging_palette(220, 10, as_cmap = True)\n",
    "    g = sns.heatmap(df.corr(), cmap = colormap,square=True, \n",
    "        cbar_kws={'shrink':.9 }, \n",
    "        ax=ax, annot=True,linewidths=0.1,vmax=1.0, linecolor='white',\n",
    "        annot_kws={'fontsize':12 })\n",
    "    \n",
    "    plt.title('Pearson Correlation of Features', y=1.05, size=15)"
   ]
  },
  {
   "cell_type": "code",
   "execution_count": 30,
   "metadata": {},
   "outputs": [
    {
     "data": {
      "image/png": "[encoded data removed]",
      "text/plain": [
       "<Figure size 1008x864 with 2 Axes>"
      ]
     },
     "metadata": {},
     "output_type": "display_data"
    }
   ],
   "source": [
    "correlation_heatmap(train)"
   ]
  },
  {
   "cell_type": "markdown",
   "metadata": {},
   "source": [
    "## Normalizando mi data\n",
    "https://medium.com/@rrfd/standardize-or-normalize-examples-in-python-e3f174b65dfc\n"
   ]
  },
  {
   "cell_type": "code",
   "execution_count": 31,
   "metadata": {},
   "outputs": [],
   "source": [
    "# Normalize 'Fare' & 'Age' values for summitand train dataset\n",
    "X = [train['Fare'],\n",
    "     train['Age']]\n",
    "X_normalize = normalize(X)\n",
    "\n",
    "X_2 = [test['Fare'],\n",
    "      test['Age']]\n",
    "X_2_normalize = normalize(X_2)\n",
    "\n",
    "train = train.assign(Fare = X_normalize[0])\n",
    "\n",
    "train = train.assign(Age = X_normalize[1])\n",
    "\n",
    "summit= summit.assign(Fare = X_2_normalize[0])\n",
    "\n",
    "summit= summit.assign(Age = X_2_normalize[1])"
   ]
  },
  {
   "cell_type": "code",
   "execution_count": 32,
   "metadata": {},
   "outputs": [
    {
     "data": {
      "text/html": [
       "<div>\n",
       "<style scoped>\n",
       "    .dataframe tbody tr th:only-of-type {\n",
       "        vertical-align: middle;\n",
       "    }\n",
       "\n",
       "    .dataframe tbody tr th {\n",
       "        vertical-align: top;\n",
       "    }\n",
       "\n",
       "    .dataframe thead th {\n",
       "        text-align: right;\n",
       "    }\n",
       "</style>\n",
       "<table border=\"1\" class=\"dataframe\">\n",
       "  <thead>\n",
       "    <tr style=\"text-align: right;\">\n",
       "      <th></th>\n",
       "      <th>Survived</th>\n",
       "      <th>Pclass</th>\n",
       "      <th>Sex</th>\n",
       "      <th>Age</th>\n",
       "      <th>SibSp</th>\n",
       "      <th>Parch</th>\n",
       "      <th>Fare</th>\n",
       "      <th>Embarked</th>\n",
       "      <th>Family_members</th>\n",
       "      <th>not_Alone</th>\n",
       "      <th>with_Cabin</th>\n",
       "    </tr>\n",
       "  </thead>\n",
       "  <tbody>\n",
       "    <tr>\n",
       "      <th>0</th>\n",
       "      <td>0</td>\n",
       "      <td>3</td>\n",
       "      <td>0</td>\n",
       "      <td>0.022735</td>\n",
       "      <td>1</td>\n",
       "      <td>0</td>\n",
       "      <td>0.004103</td>\n",
       "      <td>0</td>\n",
       "      <td>2</td>\n",
       "      <td>1</td>\n",
       "      <td>0</td>\n",
       "    </tr>\n",
       "    <tr>\n",
       "      <th>1</th>\n",
       "      <td>1</td>\n",
       "      <td>1</td>\n",
       "      <td>2</td>\n",
       "      <td>0.039269</td>\n",
       "      <td>1</td>\n",
       "      <td>0</td>\n",
       "      <td>0.040344</td>\n",
       "      <td>2</td>\n",
       "      <td>2</td>\n",
       "      <td>1</td>\n",
       "      <td>1</td>\n",
       "    </tr>\n",
       "    <tr>\n",
       "      <th>2</th>\n",
       "      <td>1</td>\n",
       "      <td>3</td>\n",
       "      <td>2</td>\n",
       "      <td>0.026868</td>\n",
       "      <td>0</td>\n",
       "      <td>0</td>\n",
       "      <td>0.004485</td>\n",
       "      <td>0</td>\n",
       "      <td>1</td>\n",
       "      <td>0</td>\n",
       "      <td>0</td>\n",
       "    </tr>\n",
       "    <tr>\n",
       "      <th>3</th>\n",
       "      <td>1</td>\n",
       "      <td>1</td>\n",
       "      <td>2</td>\n",
       "      <td>0.036169</td>\n",
       "      <td>1</td>\n",
       "      <td>0</td>\n",
       "      <td>0.030053</td>\n",
       "      <td>0</td>\n",
       "      <td>2</td>\n",
       "      <td>1</td>\n",
       "      <td>1</td>\n",
       "    </tr>\n",
       "    <tr>\n",
       "      <th>4</th>\n",
       "      <td>0</td>\n",
       "      <td>3</td>\n",
       "      <td>0</td>\n",
       "      <td>0.036169</td>\n",
       "      <td>0</td>\n",
       "      <td>0</td>\n",
       "      <td>0.004556</td>\n",
       "      <td>0</td>\n",
       "      <td>1</td>\n",
       "      <td>0</td>\n",
       "      <td>0</td>\n",
       "    </tr>\n",
       "  </tbody>\n",
       "</table>\n",
       "</div>"
      ],
      "text/plain": [
       "   Survived  Pclass  Sex     ...      Family_members  not_Alone  with_Cabin\n",
       "0         0       3    0     ...                   2          1           0\n",
       "1         1       1    2     ...                   2          1           1\n",
       "2         1       3    2     ...                   1          0           0\n",
       "3         1       1    2     ...                   2          1           1\n",
       "4         0       3    0     ...                   1          0           0\n",
       "\n",
       "[5 rows x 11 columns]"
      ]
     },
     "execution_count": 32,
     "metadata": {},
     "output_type": "execute_result"
    }
   ],
   "source": [
    "#Now we have all numerical values!\n",
    "train.head()"
   ]
  },
  {
   "cell_type": "markdown",
   "metadata": {},
   "source": [
    "# Machine Learning\n",
    "\n",
    "-Logistic regression vs SVM"
   ]
  },
  {
   "cell_type": "markdown",
   "metadata": {},
   "source": [
    "Importaremos de esta manera los archivos csv donde encontraremos la data que nos interesa. Se puede observar que tenemos dos conjuntos de datos: **train** y **test**. Esto es porque el **objetivo** es hacer un modelo de aprendizaje automático (machine learning), específicamente uno supervizado que nos prediga si el pasajero **sobrevive** o **no sobrevive**. Se divide la data porque cierto grupo de datos nos servirá para **entrenar** el modelo y el otro grupo de datos para **testearlo**. Luego de hacer el respectivo testeo del modelo podremos mandarlo a producción, es decir, que interactúe con data real.    "
   ]
  },
  {
   "cell_type": "code",
   "execution_count": 33,
   "metadata": {
    "scrolled": true
   },
   "outputs": [],
   "source": [
    "X_train = train.loc[:,'Pclass':]\n",
    "y_train = train.loc[:,'Survived']\n",
    "X_test_final = test"
   ]
  },
  {
   "cell_type": "markdown",
   "metadata": {},
   "source": [
    "### Logistic Regression  (81.7)"
   ]
  },
  {
   "cell_type": "code",
   "execution_count": 34,
   "metadata": {},
   "outputs": [],
   "source": [
    "\n",
    "\n",
    "#Dividing the data before tuning the model\n",
    "X_train, X_test, y_train, y_summit= train_test_split(X_train,y_train,test_size = 0.3, \n",
    "                                                    random_state=21)"
   ]
  },
  {
   "cell_type": "code",
   "execution_count": 35,
   "metadata": {},
   "outputs": [
    {
     "data": {
      "text/plain": [
       "GridSearchCV(cv='warn', error_score='raise-deprecating',\n",
       "       estimator=LogisticRegression(C=1.0, class_weight=None, dual=False, fit_intercept=True,\n",
       "          intercept_scaling=1, max_iter=100, multi_class='warn',\n",
       "          n_jobs=None, penalty='l2', random_state=None, solver='warn',\n",
       "          tol=0.0001, verbose=0, warm_start=False),\n",
       "       fit_params=None, iid='warn', n_jobs=None,\n",
       "       param_grid={'C': [1, 6, 11, 16, 21, 26, 31, 36, 41, 46, 51, 56, 61, 66, 71, 76, 81, 86, 91, 96, 101, 106, 111, 116, 121, 126, 131, 136, 141, 146, 151, 156, 161, 166, 171, 176, 181, 186, 191, 196, 201, 206, 211, 216, 221, 226, 231, 236, 241, 246, 251, 256, 261, 266, 271, 276, 281, 286, 291, 296, 301,...16, 4921, 4926, 4931, 4936, 4941, 4946, 4951, 4956, 4961, 4966, 4971, 4976, 4981, 4986, 4991, 4996]},\n",
       "       pre_dispatch='2*n_jobs', refit=True, return_train_score='warn',\n",
       "       scoring=None, verbose=0)"
      ]
     },
     "execution_count": 35,
     "metadata": {},
     "output_type": "execute_result"
    }
   ],
   "source": [
    "#Logistic Regression:\n",
    "\n",
    "logreg = LogisticRegression()\n",
    "\n",
    "param_grid = {'C' : [x for x in range(1,5000,5)]  }\n",
    "#finding the best parameter:\n",
    "searcher = GridSearchCV(logreg, param_grid)\n",
    "\n",
    "searcher.fit(X_train,y_train)"
   ]
  },
  {
   "cell_type": "code",
   "execution_count": 36,
   "metadata": {},
   "outputs": [
    {
     "name": "stdout",
     "output_type": "stream",
     "text": [
      "Best CV params {'C': 4581}\n",
      "Best CV accuracy 0.8057784911717496\n",
      "Test accuracy of best grid search hypers: 0.8171641791044776\n"
     ]
    }
   ],
   "source": [
    "# Report the best parameters and the corresponding score\n",
    "print(\"Best CV params\", searcher.best_params_)\n",
    "print(\"Best CV accuracy\", searcher.best_score_)\n",
    "\n",
    "# Report the summitaccuracy using these best parameters\n",
    "print(\"summitaccuracy of best grid search hypers:\", searcher.score(X_test, y_test))"
   ]
  },
  {
   "cell_type": "code",
   "execution_count": 37,
   "metadata": {
    "scrolled": true
   },
   "outputs": [],
   "source": [
    "pred = searcher.predict(X_test_final)"
   ]
  },
  {
   "cell_type": "markdown",
   "metadata": {},
   "source": [
    "## Support Vector Machines: \n",
    "#### Support Vector Classifier (81,7)"
   ]
  },
  {
   "cell_type": "code",
   "execution_count": 38,
   "metadata": {},
   "outputs": [
    {
     "data": {
      "text/plain": [
       "GridSearchCV(cv='warn', error_score='raise-deprecating',\n",
       "       estimator=SVC(C=1.0, cache_size=200, class_weight=None, coef0=0.0,\n",
       "  decision_function_shape='ovr', degree=3, gamma='auto_deprecated',\n",
       "  kernel='rbf', max_iter=-1, probability=False, random_state=None,\n",
       "  shrinking=True, tol=0.001, verbose=False),\n",
       "       fit_params=None, iid='warn', n_jobs=None,\n",
       "       param_grid={'gamma': [1e-05, 0.0001, 0.001, 0.01, 0.1, 1, 10, 100], 'C': [0.1, 0.2, 0.30000000000000004, 0.4, 0.5, 0.6, 0.7000000000000001, 0.8, 0.9, 1.0, 1.1, 1.2000000000000002, 1.3000000000000003, 1.4000000000000001, 1.5000000000000002, 1.6, 1.7000000000000002, 1.8000000000000003, 1.9000000000000...8.4, 8.5, 8.6, 8.7, 8.8, 8.9, 9.0, 9.1, 9.2, 9.3, 9.4, 9.5, 9.6, 9.700000000000001, 9.8, 9.9, 10.0]},\n",
       "       pre_dispatch='2*n_jobs', refit=True, return_train_score='warn',\n",
       "       scoring=None, verbose=0)"
      ]
     },
     "execution_count": 38,
     "metadata": {},
     "output_type": "execute_result"
    }
   ],
   "source": [
    "from sklearn.svm import SVC\n",
    "svc = SVC()\n",
    "parameters = {'gamma':[0.00001, 0.0001, 0.001, 0.01, 0.1,1,10,100],\n",
    "              'C':[x for x in np.linspace(0.1,10,100)]}\n",
    "ssp = GridSearchCV(svc,parameters)\n",
    "\n",
    "ssp.fit(X_train,y_train)"
   ]
  },
  {
   "cell_type": "code",
   "execution_count": 39,
   "metadata": {},
   "outputs": [
    {
     "name": "stdout",
     "output_type": "stream",
     "text": [
      "Best CV params {'C': 1.1, 'gamma': 0.1}\n",
      "Best CV accuracy 0.8186195826645265\n",
      "Test accuracy of best grid search hypers: 0.8171641791044776\n"
     ]
    }
   ],
   "source": [
    "# Report the best parameters and the corresponding score\n",
    "print(\"Best CV params\", ssp.best_params_)\n",
    "print(\"Best CV accuracy\", ssp.best_score_)\n",
    "\n",
    "# Report the summitaccuracy using these best parameters\n",
    "print(\"summitaccuracy of best grid search hypers:\", searcher.score(X_test, y_test))"
   ]
  },
  {
   "cell_type": "code",
   "execution_count": 40,
   "metadata": {},
   "outputs": [
    {
     "data": {
      "text/plain": [
       "268"
      ]
     },
     "execution_count": 40,
     "metadata": {},
     "output_type": "execute_result"
    }
   ],
   "source": [
    "pred23 = ssp.predict(X_test)\n",
    "len(y_test)"
   ]
  },
  {
   "cell_type": "code",
   "execution_count": 41,
   "metadata": {
    "_kg_hide-output": true,
    "collapsed": true
   },
   "outputs": [
    {
     "data": {
      "text/plain": [
       "617    0\n",
       "379    0\n",
       "725    0\n",
       "826    0\n",
       "450    0\n",
       "147    0\n",
       "698    0\n",
       "397    0\n",
       "525    0\n",
       "505    0\n",
       "180    0\n",
       "255    1\n",
       "433    0\n",
       "232    0\n",
       "405    0\n",
       "131    0\n",
       "723    0\n",
       "16     0\n",
       "516    1\n",
       "128    1\n",
       "119    0\n",
       "383    1\n",
       "536    0\n",
       "126    0\n",
       "44     1\n",
       "618    1\n",
       "65     1\n",
       "627    1\n",
       "567    0\n",
       "426    1\n",
       "      ..\n",
       "750    1\n",
       "375    1\n",
       "148    0\n",
       "381    1\n",
       "823    1\n",
       "439    0\n",
       "52     1\n",
       "290    1\n",
       "713    0\n",
       "597    0\n",
       "351    0\n",
       "822    0\n",
       "398    0\n",
       "173    0\n",
       "142    1\n",
       "200    0\n",
       "441    0\n",
       "68     1\n",
       "170    0\n",
       "272    1\n",
       "648    0\n",
       "805    0\n",
       "178    0\n",
       "714    0\n",
       "520    1\n",
       "394    1\n",
       "463    0\n",
       "13     0\n",
       "12     0\n",
       "649    1\n",
       "Name: Survived, Length: 268, dtype: int64"
      ]
     },
     "execution_count": 41,
     "metadata": {},
     "output_type": "execute_result"
    }
   ],
   "source": [
    "y_test"
   ]
  },
  {
   "cell_type": "markdown",
   "metadata": {},
   "source": [
    "## Stochastic Gradient Descent Classifier (81,7)\n"
   ]
  },
  {
   "cell_type": "code",
   "execution_count": 42,
   "metadata": {},
   "outputs": [],
   "source": [
    "from sklearn.linear_model import SGDClassifier"
   ]
  },
  {
   "cell_type": "code",
   "execution_count": 43,
   "metadata": {},
   "outputs": [
    {
     "name": "stdout",
     "output_type": "stream",
     "text": [
      "Best CV params {'C': 4581}\n",
      "Best CV accuracy 0.8057784911717496\n",
      "Test accuracy of best grid search hypers: 0.8171641791044776\n"
     ]
    }
   ],
   "source": [
    "# We set random_state=0 for reproducibility \n",
    "linear_classifier = SGDClassifier(random_state=0)\n",
    "\n",
    "# Instantiate the GridSearchCV object and run the search\n",
    "parameters = {'alpha':[0.00001, 0.0001, 0.001, 0.01, 0.1, 1], \n",
    "             'loss':['hinge', 'log'], 'penalty':['l1','l2']}\n",
    "searcher_sgd = GridSearchCV(linear_classifier, parameters, cv=10)\n",
    "searcher_sgd.fit(X_train, y_train)\n",
    "\n",
    "# Report the best parameters and the corresponding score\n",
    "print(\"Best CV params\", searcher.best_params_)\n",
    "print(\"Best CV accuracy\", searcher.best_score_)\n",
    "print(\"summitaccuracy of best grid search hypers:\", searcher.score(X_test, y_test))"
   ]
  },
  {
   "cell_type": "markdown",
   "metadata": {},
   "source": [
    "## Decision Trees Classifier (0.79)"
   ]
  },
  {
   "cell_type": "code",
   "execution_count": 44,
   "metadata": {},
   "outputs": [],
   "source": [
    "from sklearn.tree import DecisionTreeClassifier, export_graphviz #importing the module\n",
    "from sklearn.metrics import accuracy_score"
   ]
  },
  {
   "cell_type": "code",
   "execution_count": 45,
   "metadata": {},
   "outputs": [
    {
     "name": "stdout",
     "output_type": "stream",
     "text": [
      "Test accuracy of the Decision Trees model: 0.7873134328358209 for max_depth:  1\n",
      "Test accuracy of the Decision Trees model: 0.8022388059701493 for max_depth:  2\n",
      "Test accuracy of the Decision Trees model: 0.832089552238806 for max_depth:  3\n",
      "Test accuracy of the Decision Trees model: 0.835820895522388 for max_depth:  4\n",
      "Test accuracy of the Decision Trees model: 0.8097014925373134 for max_depth:  5\n",
      "Test accuracy of the Decision Trees model: 0.7985074626865671 for max_depth:  6\n",
      "Test accuracy of the Decision Trees model: 0.8208955223880597 for max_depth:  7\n",
      "Test accuracy of the Decision Trees model: 0.8171641791044776 for max_depth:  8\n",
      "Test accuracy of the Decision Trees model: 0.8134328358208955 for max_depth:  9\n",
      "Test accuracy of the Decision Trees model: 0.8171641791044776 for max_depth:  10\n",
      "Test accuracy of the Decision Trees model: 0.7985074626865671 for max_depth:  11\n",
      "Test accuracy of the Decision Trees model: 0.7798507462686567 for max_depth:  12\n",
      "Test accuracy of the Decision Trees model: 0.7835820895522388 for max_depth:  13\n",
      "Test accuracy of the Decision Trees model: 0.7798507462686567 for max_depth:  14\n",
      "Test accuracy of the Decision Trees model: 0.7798507462686567 for max_depth:  15\n",
      "Test accuracy of the Decision Trees model: 0.7723880597014925 for max_depth:  16\n",
      "Test accuracy of the Decision Trees model: 0.7649253731343284 for max_depth:  17\n"
     ]
    }
   ],
   "source": [
    "#Finding our optimize max_depth\n",
    "for i in range(1,18):\n",
    "    tree_clf = DecisionTreeClassifier(max_depth=i)\n",
    "    tree_clf.fit(X_train,y_train)\n",
    "    y_pred = tree_clf.predict(X_test)\n",
    "    print(\"summitaccuracy of the Decision Trees model:\", accuracy_score(y_pred,y_test), \"for max_depth: \", i)"
   ]
  },
  {
   "cell_type": "code",
   "execution_count": 46,
   "metadata": {},
   "outputs": [
    {
     "name": "stdout",
     "output_type": "stream",
     "text": [
      "Test accuracy of the Decision Trees model: 0.8022388059701493\n"
     ]
    }
   ],
   "source": [
    "#Basic Decision Tree model\n",
    "tree_clf = DecisionTreeClassifier(max_depth = 2)\n",
    "tree_clf.fit(X_train,y_train) #training the model\n",
    "\n",
    "#Predicting with the model\n",
    "y_pred = tree_clf.predict(X_test)\n",
    "\n",
    "#We will try to evaluate the accuracy score\n",
    "print(\"summitaccuracy of the Decision Trees model:\", accuracy_score(y_pred,y_test))"
   ]
  },
  {
   "cell_type": "code",
   "execution_count": 47,
   "metadata": {},
   "outputs": [],
   "source": [
    "pred = tree_clf.predict(X_test_final)"
   ]
  },
  {
   "cell_type": "markdown",
   "metadata": {},
   "source": [
    "## RANDOM FOREST MODEL  (0.81)"
   ]
  },
  {
   "cell_type": "code",
   "execution_count": 48,
   "metadata": {},
   "outputs": [],
   "source": [
    "from sklearn.ensemble import RandomForestClassifier"
   ]
  },
  {
   "cell_type": "code",
   "execution_count": 49,
   "metadata": {},
   "outputs": [
    {
     "name": "stdout",
     "output_type": "stream",
     "text": [
      "Test accuracy of the Decision Trees model: 0.8283582089552238\n"
     ]
    }
   ],
   "source": [
    "#Random Forest Classifier model\n",
    "rnd_clf = RandomForestClassifier(n_estimators = 500, max_leaf_nodes = 16, n_jobs = -1)\n",
    "rnd_clf.fit(X_train,y_train)\n",
    "\n",
    "#Predicting\n",
    "y_pred = rnd_clf.predict(X_test)\n",
    "\n",
    "#Evaluate the accuracy score\n",
    "print(\"summitaccuracy of the Decision Trees model:\", accuracy_score(y_pred,y_test))"
   ]
  },
  {
   "cell_type": "code",
   "execution_count": 50,
   "metadata": {},
   "outputs": [],
   "source": [
    "pred = rnd_clf.predict(X_test_final)"
   ]
  },
  {
   "cell_type": "markdown",
   "metadata": {},
   "source": [
    "## Ensemble Method (all the models) [0.805]"
   ]
  },
  {
   "cell_type": "code",
   "execution_count": 51,
   "metadata": {},
   "outputs": [],
   "source": [
    "from sklearn.ensemble import VotingClassifier"
   ]
  },
  {
   "cell_type": "code",
   "execution_count": 52,
   "metadata": {},
   "outputs": [
    {
     "data": {
      "text/plain": [
       "VotingClassifier(estimators=[('lr', GridSearchCV(cv='warn', error_score='raise-deprecating',\n",
       "       estimator=LogisticRegression(C=1.0, class_weight=None, dual=False, fit_intercept=True,\n",
       "          intercept_scaling=1, max_iter=100, multi_class='warn',\n",
       "          n_jobs=None, penalty='l2', random_state=None, solver='w...      min_weight_fraction_leaf=0.0, presort=False, random_state=None,\n",
       "            splitter='best'))],\n",
       "         flatten_transform=None, n_jobs=None, voting='hard', weights=None)"
      ]
     },
     "execution_count": 52,
     "metadata": {},
     "output_type": "execute_result"
    }
   ],
   "source": [
    "#We will now try an ensemble method\n",
    "voting_clf = VotingClassifier(estimators = [('lr',searcher),('rf',rnd_clf),('svc',ssp),\n",
    "                                            ('sgd',searcher_sgd),('dt',tree_clf)],\n",
    "                             voting = 'hard')\n",
    "voting_clf.fit(X_train,y_train)"
   ]
  },
  {
   "cell_type": "code",
   "execution_count": 53,
   "metadata": {},
   "outputs": [],
   "source": [
    "y_pred = voting_clf.predict(X_test)"
   ]
  },
  {
   "cell_type": "code",
   "execution_count": 54,
   "metadata": {},
   "outputs": [
    {
     "name": "stdout",
     "output_type": "stream",
     "text": [
      "Test accuracy of the Decision Trees model: 0.8208955223880597\n"
     ]
    }
   ],
   "source": [
    "#Evaluate the accuracy score\n",
    "print(\"summitaccuracy of the Decision Trees model:\", accuracy_score(y_pred,y_test))\n",
    "pred = voting_clf.predict(X_test_final)"
   ]
  },
  {
   "cell_type": "markdown",
   "metadata": {},
   "source": [
    "## AdaBoost"
   ]
  },
  {
   "cell_type": "code",
   "execution_count": 55,
   "metadata": {},
   "outputs": [],
   "source": [
    "from sklearn.ensemble import AdaBoostClassifier"
   ]
  },
  {
   "cell_type": "code",
   "execution_count": 56,
   "metadata": {},
   "outputs": [
    {
     "data": {
      "text/plain": [
       "AdaBoostClassifier(algorithm='SAMME.R',\n",
       "          base_estimator=DecisionTreeClassifier(class_weight=None, criterion='gini', max_depth=2,\n",
       "            max_features=None, max_leaf_nodes=None,\n",
       "            min_impurity_decrease=0.0, min_impurity_split=None,\n",
       "            min_samples_leaf=1, min_samples_split=2,\n",
       "            min_weight_fraction_leaf=0.0, presort=False, random_state=None,\n",
       "            splitter='best'),\n",
       "          learning_rate=1.0, n_estimators=100, random_state=None)"
      ]
     },
     "execution_count": 56,
     "metadata": {},
     "output_type": "execute_result"
    }
   ],
   "source": [
    "adb_clf = AdaBoostClassifier(base_estimator = tree_clf,\n",
    "                             n_estimators = 100)\n",
    "adb_clf.fit(X_train,y_train)\n"
   ]
  },
  {
   "cell_type": "code",
   "execution_count": 57,
   "metadata": {
    "_kg_hide-output": true,
    "collapsed": true
   },
   "outputs": [
    {
     "data": {
      "text/plain": [
       "array([1, 0, 1, 0, 1, 0, 1, 0, 1, 0, 0, 0, 1, 1, 1, 1, 0, 0, 1, 0, 1, 0,\n",
       "       1, 0, 1, 0, 1, 1, 0, 0, 0, 0, 0, 1, 0, 0, 1, 1, 0, 0, 0, 1, 0, 1,\n",
       "       0, 0, 0, 1, 1, 1, 0, 0, 1, 1, 0, 0, 0, 0, 0, 1, 0, 0, 0, 1, 1, 1,\n",
       "       0, 0, 0, 1, 1, 0, 1, 0, 1, 0, 0, 1, 1, 1, 1, 1, 0, 0, 0, 0, 1, 0,\n",
       "       0, 1, 0, 0, 1, 0, 0, 0, 1, 0, 1, 0, 1, 0, 0, 0, 1, 0, 0, 0, 0, 1,\n",
       "       0, 0, 1, 1, 1, 0, 0, 1, 0, 1, 0, 0, 1, 0, 0, 0, 0, 1, 0, 0, 0, 1,\n",
       "       0, 0, 1, 0, 0, 0, 1, 0, 0, 1, 1, 0, 0, 0, 0, 0, 0, 0, 1, 0, 1, 1,\n",
       "       0, 0, 1, 1, 0, 0, 0, 0, 0, 0, 0, 0, 0, 0, 1, 1, 0, 0, 0, 0, 0, 0,\n",
       "       1, 1, 1, 1, 1, 0, 1, 0, 1, 0, 1, 0, 0, 0, 1, 0, 1, 1, 0, 0, 1, 0,\n",
       "       0, 0, 1, 1, 0, 0, 0, 1, 0, 0, 1, 0, 0, 0, 1, 1, 1, 0, 1, 1, 1, 0,\n",
       "       0, 0, 1, 0, 1, 1, 0, 1, 0, 0, 1, 1, 0, 0, 0, 0, 1, 1, 1, 1, 1, 0,\n",
       "       0, 0, 0, 0, 1, 0, 1, 1, 1, 0, 0, 0, 0, 0, 0, 0, 1, 0, 0, 0, 1, 1,\n",
       "       1, 0, 0, 0, 0, 0, 0, 1, 1, 1, 0, 1, 0, 0, 0, 1, 1, 1, 1, 1, 1, 0,\n",
       "       0, 0, 0, 0, 0, 1, 0, 1, 0, 0, 1, 0, 1, 0, 0, 0, 1, 0, 0, 1, 0, 1,\n",
       "       1, 0, 0, 1, 0, 0, 1, 0, 1, 0, 0, 0, 0, 0, 0, 0, 1, 0, 1, 1, 0, 1,\n",
       "       0, 1, 0, 1, 0, 0, 0, 0, 0, 0, 0, 0, 0, 1, 0, 0, 0, 0, 0, 1, 1, 0,\n",
       "       1, 1, 1, 0, 1, 0, 0, 1, 0, 1, 1, 0, 1, 0, 0, 1, 1, 0, 0, 1, 0, 1,\n",
       "       1, 1, 1, 0, 1, 0, 0, 0, 1, 0, 1, 1, 0, 1, 0, 0, 0, 0, 1, 0, 0, 1,\n",
       "       0, 1, 0, 0, 1, 0, 1, 0, 0, 0, 0, 0, 0, 1, 1, 1, 0, 0, 1, 0, 1, 0])"
      ]
     },
     "execution_count": 57,
     "metadata": {},
     "output_type": "execute_result"
    }
   ],
   "source": [
    "y_pred = adb_clf.predict(X_test_final)\n",
    "y_pred"
   ]
  },
  {
   "cell_type": "markdown",
   "metadata": {},
   "source": [
    "# Basic Neural Network"
   ]
  },
  {
   "cell_type": "code",
   "execution_count": 58,
   "metadata": {},
   "outputs": [
    {
     "name": "stderr",
     "output_type": "stream",
     "text": [
      "Using TensorFlow backend.\n"
     ]
    }
   ],
   "source": [
    "from keras.layers import Dense\n",
    "from keras.models import Sequential\n",
    "from keras.utils import to_categorical"
   ]
  },
  {
   "cell_type": "code",
   "execution_count": 59,
   "metadata": {},
   "outputs": [],
   "source": [
    "y_train2 = to_categorical(y_train)"
   ]
  },
  {
   "cell_type": "code",
   "execution_count": 60,
   "metadata": {},
   "outputs": [
    {
     "name": "stdout",
     "output_type": "stream",
     "text": [
      "WARNING:tensorflow:From /opt/conda/lib/python3.6/site-packages/tensorflow/python/framework/op_def_library.py:263: colocate_with (from tensorflow.python.framework.ops) is deprecated and will be removed in a future version.\n",
      "Instructions for updating:\n",
      "Colocations handled automatically by placer.\n"
     ]
    }
   ],
   "source": [
    "n_cols = X_train.shape[1]\n",
    "model = Sequential()\n",
    "model.add(Dense(100,activation='relu',input_shape = (n_cols,)))\n",
    "model.add(Dense(100,activation='relu'))\n",
    "model.add(Dense(2,activation='softmax'))\n",
    "model.compile(optimizer='sgd', \n",
    "              loss='categorical_crossentropy', \n",
    "              metrics=['accuracy'])"
   ]
  },
  {
   "cell_type": "code",
   "execution_count": 61,
   "metadata": {
    "_kg_hide-output": true,
    "collapsed": true
   },
   "outputs": [
    {
     "name": "stdout",
     "output_type": "stream",
     "text": [
      "WARNING:tensorflow:From /opt/conda/lib/python3.6/site-packages/tensorflow/python/ops/math_ops.py:3066: to_int32 (from tensorflow.python.ops.math_ops) is deprecated and will be removed in a future version.\n",
      "Instructions for updating:\n",
      "Use tf.cast instead.\n",
      "Epoch 1/100\n",
      "623/623 [==============================] - 1s 1ms/step - loss: 0.6882 - acc: 0.5939\n",
      "Epoch 2/100\n",
      "623/623 [==============================] - 0s 60us/step - loss: 0.5930 - acc: 0.7352\n",
      "Epoch 3/100\n",
      "623/623 [==============================] - 0s 48us/step - loss: 0.5575 - acc: 0.7608\n",
      "Epoch 4/100\n",
      "623/623 [==============================] - 0s 54us/step - loss: 0.5314 - acc: 0.7785\n",
      "Epoch 5/100\n",
      "623/623 [==============================] - 0s 55us/step - loss: 0.5129 - acc: 0.7801\n",
      "Epoch 6/100\n",
      "623/623 [==============================] - 0s 56us/step - loss: 0.4997 - acc: 0.7833\n",
      "Epoch 7/100\n",
      "623/623 [==============================] - 0s 56us/step - loss: 0.4896 - acc: 0.7833\n",
      "Epoch 8/100\n",
      "623/623 [==============================] - 0s 50us/step - loss: 0.4814 - acc: 0.7897\n",
      "Epoch 9/100\n",
      "623/623 [==============================] - 0s 52us/step - loss: 0.4757 - acc: 0.7865\n",
      "Epoch 10/100\n",
      "623/623 [==============================] - 0s 56us/step - loss: 0.4731 - acc: 0.7849\n",
      "Epoch 11/100\n",
      "623/623 [==============================] - 0s 57us/step - loss: 0.4684 - acc: 0.7849\n",
      "Epoch 12/100\n",
      "623/623 [==============================] - 0s 57us/step - loss: 0.4658 - acc: 0.7913\n",
      "Epoch 13/100\n",
      "623/623 [==============================] - 0s 48us/step - loss: 0.4663 - acc: 0.7833\n",
      "Epoch 14/100\n",
      "623/623 [==============================] - 0s 55us/step - loss: 0.4628 - acc: 0.7849\n",
      "Epoch 15/100\n",
      "623/623 [==============================] - 0s 57us/step - loss: 0.4619 - acc: 0.7978\n",
      "Epoch 16/100\n",
      "623/623 [==============================] - 0s 58us/step - loss: 0.4604 - acc: 0.7929\n",
      "Epoch 17/100\n",
      "623/623 [==============================] - 0s 51us/step - loss: 0.4604 - acc: 0.7897\n",
      "Epoch 18/100\n",
      "623/623 [==============================] - 0s 46us/step - loss: 0.4601 - acc: 0.7961\n",
      "Epoch 19/100\n",
      "623/623 [==============================] - 0s 47us/step - loss: 0.4576 - acc: 0.7961\n",
      "Epoch 20/100\n",
      "623/623 [==============================] - 0s 49us/step - loss: 0.4592 - acc: 0.7881\n",
      "Epoch 21/100\n",
      "623/623 [==============================] - 0s 53us/step - loss: 0.4578 - acc: 0.7913\n",
      "Epoch 22/100\n",
      "623/623 [==============================] - 0s 48us/step - loss: 0.4563 - acc: 0.7913\n",
      "Epoch 23/100\n",
      "623/623 [==============================] - 0s 48us/step - loss: 0.4561 - acc: 0.7865\n",
      "Epoch 24/100\n",
      "623/623 [==============================] - 0s 43us/step - loss: 0.4552 - acc: 0.7978\n",
      "Epoch 25/100\n",
      "623/623 [==============================] - 0s 47us/step - loss: 0.4563 - acc: 0.7897\n",
      "Epoch 26/100\n",
      "623/623 [==============================] - 0s 46us/step - loss: 0.4559 - acc: 0.7929\n",
      "Epoch 27/100\n",
      "623/623 [==============================] - 0s 52us/step - loss: 0.4541 - acc: 0.7961\n",
      "Epoch 28/100\n",
      "623/623 [==============================] - 0s 50us/step - loss: 0.4553 - acc: 0.7929\n",
      "Epoch 29/100\n",
      "623/623 [==============================] - 0s 55us/step - loss: 0.4544 - acc: 0.7945\n",
      "Epoch 30/100\n",
      "623/623 [==============================] - 0s 55us/step - loss: 0.4541 - acc: 0.7945\n",
      "Epoch 31/100\n",
      "623/623 [==============================] - 0s 60us/step - loss: 0.4519 - acc: 0.7913\n",
      "Epoch 32/100\n",
      "623/623 [==============================] - 0s 59us/step - loss: 0.4541 - acc: 0.7897\n",
      "Epoch 33/100\n",
      "623/623 [==============================] - 0s 59us/step - loss: 0.4525 - acc: 0.7994\n",
      "Epoch 34/100\n",
      "623/623 [==============================] - 0s 61us/step - loss: 0.4534 - acc: 0.7978\n",
      "Epoch 35/100\n",
      "623/623 [==============================] - 0s 54us/step - loss: 0.4524 - acc: 0.7978\n",
      "Epoch 36/100\n",
      "623/623 [==============================] - 0s 53us/step - loss: 0.4520 - acc: 0.7978\n",
      "Epoch 37/100\n",
      "623/623 [==============================] - 0s 48us/step - loss: 0.4525 - acc: 0.7978\n",
      "Epoch 38/100\n",
      "623/623 [==============================] - 0s 48us/step - loss: 0.4514 - acc: 0.7945\n",
      "Epoch 39/100\n",
      "623/623 [==============================] - 0s 57us/step - loss: 0.4506 - acc: 0.7978\n",
      "Epoch 40/100\n",
      "623/623 [==============================] - 0s 60us/step - loss: 0.4506 - acc: 0.8042\n",
      "Epoch 41/100\n",
      "623/623 [==============================] - 0s 54us/step - loss: 0.4499 - acc: 0.8010\n",
      "Epoch 42/100\n",
      "623/623 [==============================] - 0s 55us/step - loss: 0.4498 - acc: 0.7978\n",
      "Epoch 43/100\n",
      "623/623 [==============================] - 0s 58us/step - loss: 0.4498 - acc: 0.8026\n",
      "Epoch 44/100\n",
      "623/623 [==============================] - 0s 50us/step - loss: 0.4493 - acc: 0.8010\n",
      "Epoch 45/100\n",
      "623/623 [==============================] - 0s 48us/step - loss: 0.4480 - acc: 0.7978\n",
      "Epoch 46/100\n",
      "623/623 [==============================] - 0s 45us/step - loss: 0.4491 - acc: 0.7978\n",
      "Epoch 47/100\n",
      "623/623 [==============================] - 0s 44us/step - loss: 0.4474 - acc: 0.8026\n",
      "Epoch 48/100\n",
      "623/623 [==============================] - 0s 43us/step - loss: 0.4504 - acc: 0.7961\n",
      "Epoch 49/100\n",
      "623/623 [==============================] - 0s 43us/step - loss: 0.4483 - acc: 0.7978\n",
      "Epoch 50/100\n",
      "623/623 [==============================] - 0s 44us/step - loss: 0.4471 - acc: 0.8010\n",
      "Epoch 51/100\n",
      "623/623 [==============================] - 0s 42us/step - loss: 0.4482 - acc: 0.7929\n",
      "Epoch 52/100\n",
      "623/623 [==============================] - 0s 42us/step - loss: 0.4482 - acc: 0.7961\n",
      "Epoch 53/100\n",
      "623/623 [==============================] - 0s 42us/step - loss: 0.4486 - acc: 0.8026\n",
      "Epoch 54/100\n",
      "623/623 [==============================] - 0s 43us/step - loss: 0.4473 - acc: 0.7994\n",
      "Epoch 55/100\n",
      "623/623 [==============================] - 0s 48us/step - loss: 0.4474 - acc: 0.8042\n",
      "Epoch 56/100\n",
      "623/623 [==============================] - 0s 47us/step - loss: 0.4467 - acc: 0.7978\n",
      "Epoch 57/100\n",
      "623/623 [==============================] - 0s 45us/step - loss: 0.4463 - acc: 0.8042\n",
      "Epoch 58/100\n",
      "623/623 [==============================] - 0s 44us/step - loss: 0.4463 - acc: 0.8010\n",
      "Epoch 59/100\n",
      "623/623 [==============================] - 0s 47us/step - loss: 0.4451 - acc: 0.8138\n",
      "Epoch 60/100\n",
      "623/623 [==============================] - 0s 44us/step - loss: 0.4463 - acc: 0.8010\n",
      "Epoch 61/100\n",
      "623/623 [==============================] - 0s 44us/step - loss: 0.4455 - acc: 0.7961\n",
      "Epoch 62/100\n",
      "623/623 [==============================] - 0s 52us/step - loss: 0.4444 - acc: 0.8106\n",
      "Epoch 63/100\n",
      "623/623 [==============================] - 0s 52us/step - loss: 0.4446 - acc: 0.8010\n",
      "Epoch 64/100\n",
      "623/623 [==============================] - 0s 50us/step - loss: 0.4451 - acc: 0.7994\n",
      "Epoch 65/100\n",
      "623/623 [==============================] - 0s 42us/step - loss: 0.4442 - acc: 0.7961\n",
      "Epoch 66/100\n",
      "623/623 [==============================] - 0s 43us/step - loss: 0.4450 - acc: 0.8042\n",
      "Epoch 67/100\n",
      "623/623 [==============================] - 0s 42us/step - loss: 0.4453 - acc: 0.8026\n",
      "Epoch 68/100\n",
      "623/623 [==============================] - 0s 40us/step - loss: 0.4438 - acc: 0.8042\n",
      "Epoch 69/100\n",
      "623/623 [==============================] - 0s 46us/step - loss: 0.4452 - acc: 0.7994\n",
      "Epoch 70/100\n",
      "623/623 [==============================] - 0s 40us/step - loss: 0.4436 - acc: 0.7978\n",
      "Epoch 71/100\n",
      "623/623 [==============================] - 0s 39us/step - loss: 0.4436 - acc: 0.8058\n",
      "Epoch 72/100\n",
      "623/623 [==============================] - 0s 43us/step - loss: 0.4426 - acc: 0.7978\n",
      "Epoch 73/100\n",
      "623/623 [==============================] - 0s 48us/step - loss: 0.4422 - acc: 0.8042\n",
      "Epoch 74/100\n",
      "623/623 [==============================] - 0s 42us/step - loss: 0.4417 - acc: 0.8042\n",
      "Epoch 75/100\n",
      "623/623 [==============================] - 0s 42us/step - loss: 0.4436 - acc: 0.8042\n",
      "Epoch 76/100\n",
      "623/623 [==============================] - 0s 42us/step - loss: 0.4426 - acc: 0.8042\n",
      "Epoch 77/100\n",
      "623/623 [==============================] - 0s 41us/step - loss: 0.4425 - acc: 0.8074\n",
      "Epoch 78/100\n",
      "623/623 [==============================] - 0s 41us/step - loss: 0.4407 - acc: 0.8090\n",
      "Epoch 79/100\n",
      "623/623 [==============================] - 0s 44us/step - loss: 0.4416 - acc: 0.8026\n",
      "Epoch 80/100\n",
      "623/623 [==============================] - 0s 43us/step - loss: 0.4402 - acc: 0.8026\n",
      "Epoch 81/100\n",
      "623/623 [==============================] - 0s 43us/step - loss: 0.4426 - acc: 0.8074\n",
      "Epoch 82/100\n",
      "623/623 [==============================] - 0s 46us/step - loss: 0.4413 - acc: 0.8106\n",
      "Epoch 83/100\n",
      "623/623 [==============================] - 0s 40us/step - loss: 0.4409 - acc: 0.8058\n",
      "Epoch 84/100\n",
      "623/623 [==============================] - 0s 43us/step - loss: 0.4421 - acc: 0.8058\n",
      "Epoch 85/100\n",
      "623/623 [==============================] - 0s 42us/step - loss: 0.4407 - acc: 0.8074\n",
      "Epoch 86/100\n",
      "623/623 [==============================] - 0s 40us/step - loss: 0.4418 - acc: 0.8074\n",
      "Epoch 87/100\n",
      "623/623 [==============================] - 0s 40us/step - loss: 0.4392 - acc: 0.8090\n",
      "Epoch 88/100\n",
      "623/623 [==============================] - 0s 41us/step - loss: 0.4403 - acc: 0.8058\n",
      "Epoch 89/100\n",
      "623/623 [==============================] - 0s 44us/step - loss: 0.4414 - acc: 0.8106\n",
      "Epoch 90/100\n",
      "623/623 [==============================] - 0s 42us/step - loss: 0.4398 - acc: 0.8042\n",
      "Epoch 91/100\n",
      "623/623 [==============================] - 0s 51us/step - loss: 0.4399 - acc: 0.8074\n",
      "Epoch 92/100\n",
      "623/623 [==============================] - 0s 52us/step - loss: 0.4388 - acc: 0.8106\n",
      "Epoch 93/100\n",
      "623/623 [==============================] - 0s 42us/step - loss: 0.4400 - acc: 0.8074\n",
      "Epoch 94/100\n",
      "623/623 [==============================] - 0s 43us/step - loss: 0.4394 - acc: 0.8042\n",
      "Epoch 95/100\n",
      "623/623 [==============================] - 0s 50us/step - loss: 0.4404 - acc: 0.8058\n",
      "Epoch 96/100\n",
      "623/623 [==============================] - 0s 44us/step - loss: 0.4384 - acc: 0.8074\n",
      "Epoch 97/100\n",
      "623/623 [==============================] - 0s 41us/step - loss: 0.4390 - acc: 0.8074\n",
      "Epoch 98/100\n",
      "623/623 [==============================] - 0s 41us/step - loss: 0.4407 - acc: 0.8058\n",
      "Epoch 99/100\n",
      "623/623 [==============================] - 0s 41us/step - loss: 0.4395 - acc: 0.8122\n",
      "Epoch 100/100\n",
      "623/623 [==============================] - 0s 42us/step - loss: 0.4368 - acc: 0.8138\n"
     ]
    },
    {
     "data": {
      "text/plain": [
       "<keras.callbacks.History at 0x7f4861790e80>"
      ]
     },
     "execution_count": 61,
     "metadata": {},
     "output_type": "execute_result"
    }
   ],
   "source": [
    "model.fit(X_train, y_train2, epochs = 100)"
   ]
  },
  {
   "cell_type": "code",
   "execution_count": 62,
   "metadata": {},
   "outputs": [],
   "source": [
    "preds = model.predict(X_test)"
   ]
  },
  {
   "cell_type": "code",
   "execution_count": 63,
   "metadata": {},
   "outputs": [],
   "source": []
  }
 ],
 "metadata": {
  "kernelspec": {
   "display_name": "Python 3",
   "language": "python",
   "name": "python3"
  },
  "language_info": {
   "codemirror_mode": {
    "name": "ipython",
    "version": 3
   },
   "file_extension": ".py",
   "mimetype": "text/x-python",
   "name": "python",
   "nbconvert_exporter": "python",
   "pygments_lexer": "ipython3",
   "version": "3.7.1"
  }
 },
 "nbformat": 4,
 "nbformat_minor": 1
}
