{
 "cells": [
  {
   "cell_type": "markdown",
   "metadata": {},
   "source": [
    "# Bienvenido a tu primer competencia de ciencia de datos!!!\n",
    "\n",
    "En este notebook desarrollaremos el problema del Titanic. Este dataset es el más popular entre todos los que quieren iniciar en este mundo de la Ciencia de Datos. Básicamente se busca predecir si un pasajero, con ciertas caractéristicas, sobrevivió o no a esta trEdaddia ocurrida en el siglo 20. \n",
    "\n",
    "Recuerda que para comenzar a hacer el análisis,  tenemos que involucrarnos con el problema en sí y conocer nuestra data. Así que comencemos! \n"
   ]
  },
  {
   "cell_type": "code",
   "execution_count": 1,
   "metadata": {},
   "outputs": [
    {
     "name": "stderr",
     "output_type": "stream",
     "text": [
      "C:\\Users\\pablo\\Anaconda3\\lib\\site-packages\\statsmodels\\tools\\_testing.py:19: FutureWarning: pandas.util.testing is deprecated. Use the functions in the public API at pandas.testing instead.\n",
      "  import pandas.util.testing as tm\n"
     ]
    }
   ],
   "source": [
    "import pandas as pd  #Sirve para manejar y manipular la data en forma de dataframe\n",
    "import numpy as np #Calculos vectoriales que pueden ser aplicados al dataframe\n",
    "import matplotlib.pyplot as plt #Para darle estructura y desplegar el gráfico \n",
    "import seaborn as sns #Para hacer el gráfico todo bonito y chulo \n",
    "import random #Una librería para randomizar \n",
    "\n",
    "#En este notebook usaremos:\n",
    "\n",
    "import missingno as ms #Librería muy útil para ver los valores nulos\n",
    "\n",
    "#Usualmente salen advertencias de actualizaciones pasadas de las librerías, las ignoramos por ahora...\n",
    "import warnings\n",
    "warnings.filterwarnings('ignore')"
   ]
  },
  {
   "cell_type": "markdown",
   "metadata": {},
   "source": [
    "En este caso, tenemos dos tablas de datos: train y summit (test.csv). Ahora, esta data ha sido sacada de una **competencia de Kaggle** Por eso, la data que nombraremos como **summit contendrá la base para poder aplicar nuestro modelo ya completado**. El mismo Kaggle se encargará de saber si es un buen modelo o no. Posteriormente, esta tabla nombrada **train nos servirá tanto para entrenar como para testear nuestro modelos**. Así que no te sorprendas si es que más adelante dividimos este train en dos dataframes diferentes...\n",
    "\n",
    "El link de la competencia es: https://www.kaggle.com/c/titanic"
   ]
  },
  {
   "cell_type": "code",
   "execution_count": 2,
   "metadata": {
    "_kg_hide-input": false
   },
   "outputs": [],
   "source": [
    "train = pd.read_csv('https://raw.githubusercontent.com/HackSpacePeru/Datasets_intro_Data_Science/master/Titanic/train.csv')\n",
    "\n",
    "summit = pd.read_csv('https://raw.githubusercontent.com/HackSpacePeru/Datasets_intro_Data_Science/master/Titanic/test.csv')"
   ]
  },
  {
   "cell_type": "code",
   "execution_count": 3,
   "metadata": {},
   "outputs": [],
   "source": [
    "#head"
   ]
  },
  {
   "cell_type": "code",
   "execution_count": 4,
   "metadata": {},
   "outputs": [],
   "source": []
  },
  {
   "cell_type": "code",
   "execution_count": null,
   "metadata": {},
   "outputs": [],
   "source": [
    "# .info para las dos tablas. .shape"
   ]
  },
  {
   "cell_type": "code",
   "execution_count": null,
   "metadata": {},
   "outputs": [],
   "source": [
    "#columnas. Cuáles son y cuántas son?"
   ]
  },
  {
   "cell_type": "code",
   "execution_count": null,
   "metadata": {},
   "outputs": [],
   "source": []
  },
  {
   "cell_type": "code",
   "execution_count": 5,
   "metadata": {
    "scrolled": true
   },
   "outputs": [],
   "source": [
    "# Cómo podríamos visualizar los nulos dentro de una columna?"
   ]
  },
  {
   "cell_type": "code",
   "execution_count": null,
   "metadata": {},
   "outputs": [],
   "source": []
  },
  {
   "cell_type": "code",
   "execution_count": null,
   "metadata": {},
   "outputs": [],
   "source": [
    "#Cuántos valores diferentes tengo dentro de una columa? unique y value_counts"
   ]
  },
  {
   "cell_type": "code",
   "execution_count": null,
   "metadata": {},
   "outputs": [],
   "source": []
  },
  {
   "cell_type": "markdown",
   "metadata": {},
   "source": [
    "**Explicaremos las variables que están dentro de la data**\n",
    "\n",
    "**Pclass**: Status socioeconómico 1st = ClaseAlta 2nd=ClaseMedia 3rd=ClaseBaja \n",
    "\n",
    "**Hermanos**: El dataset define relaciones familiares, es decir, nos dice el número de hermanos.\n",
    "\n",
    "**Padres_hijos**: Número de padres / hijos dentro del Titanic\n",
    "\n",
    "**Esposo_esposa** = marido / Mujer (se obvia novias o enamoradas)\n",
    "\n",
    "**Tarifa**: El costo del ticket que se compró para el pasaje\n",
    "\n",
    "**Sobrevivio**: Si la persona sobrevivió o no.\t0 = No, 1 = Sí\n",
    "\n",
    "**Ticket***: La clase de ticket que sacó el pasajero.\n",
    "\n",
    "**P_embarque**: Puerta de embarcación,\tC = Cherbourg, Q = Queenstown, S = Southampton\n",
    "\n",
    "**Cabin**: El número de cabina"
   ]
  },
  {
   "cell_type": "code",
   "execution_count": 6,
   "metadata": {},
   "outputs": [
    {
     "name": "stdout",
     "output_type": "stream",
     "text": [
      "Para la data en train, tendremos:\n",
      "--------------------------------------------------------------------------------------------\n",
      "El número de valores diferentes en la columna IdPasajero es: 891\n",
      "El número de valores diferentes en la columna Sobrevivio es: 2\n",
      "El número de valores diferentes en la columna Pclass es: 3\n",
      "El número de valores diferentes en la columna Name es: 891\n",
      "El número de valores diferentes en la columna Genero es: 2\n",
      "El número de valores diferentes en la columna Edad es: 89\n",
      "El número de valores diferentes en la columna Hermanos es: 7\n",
      "El número de valores diferentes en la columna Padres_hijos es: 7\n",
      "El número de valores diferentes en la columna Ticket es: 681\n",
      "El número de valores diferentes en la columna Tarifa es: 248\n",
      "El número de valores diferentes en la columna Cabin es: 148\n",
      "El número de valores diferentes en la columna P_embarque es: 4\n",
      "--------------------------------------------------------------------------------------------\n",
      "Existen 177 valores nulos en la columna Edad\n",
      "Existen 687 valores nulos en la columna Cabin\n",
      "Existen 2 valores nulos en la columna P_embarque\n"
     ]
    }
   ],
   "source": [
    "print('Para la data en train, tendremos:')\n",
    "print('--------------------------------------------------------------------------------------------')\n",
    "for n in train.columns:\n",
    "    print('El número de valores diferentes en la columna', n, 'es:', len(train[n].unique()))\n",
    "print('--------------------------------------------------------------------------------------------')\n",
    "#Ahora buscaremos el número de valores nulos dentro de la data\n",
    "for n in train.columns:\n",
    "    if train[n].isnull().values.any() == True:\n",
    "        print('Existen' , train[n].isna().sum(), 'valores nulos en la columna', n)"
   ]
  },
  {
   "cell_type": "code",
   "execution_count": 7,
   "metadata": {},
   "outputs": [
    {
     "name": "stdout",
     "output_type": "stream",
     "text": [
      "Para la data que summitearemos, tendremos:\n",
      "-------------------------------------------------------------------------------\n",
      "El número de valores diferentes en la columna IdPasajero es: 418\n",
      "El número de valores diferentes en la columna Pclass es: 3\n",
      "El número de valores diferentes en la columna Name es: 418\n",
      "El número de valores diferentes en la columna Genero es: 2\n",
      "El número de valores diferentes en la columna Edad es: 80\n",
      "El número de valores diferentes en la columna Hermanos es: 7\n",
      "El número de valores diferentes en la columna Padres_hijos es: 8\n",
      "El número de valores diferentes en la columna Ticket es: 363\n",
      "El número de valores diferentes en la columna Tarifa es: 170\n",
      "El número de valores diferentes en la columna Cabin es: 77\n",
      "El número de valores diferentes en la columna P_embarque es: 3\n",
      "-------------------------------------------------------------------------------\n",
      "Existen 86 valores nulos en la columna Edad\n",
      "Existen 1 valores nulos en la columna Tarifa\n",
      "Existen 327 valores nulos en la columna Cabin\n"
     ]
    }
   ],
   "source": [
    "print('Para la data que summitearemos, tendremos:')\n",
    "print('-------------------------------------------------------------------------------')\n",
    "for n in summit.columns:\n",
    "    print('El número de valores diferentes en la columna', n, 'es:', len(summit[n].unique()))\n",
    "print('-------------------------------------------------------------------------------')\n",
    "#Ahora buscaremos el número de valores nulos dentro de la data\n",
    "for n in summit.columns:\n",
    "    if summit[n].isnull().values.any() == True:\n",
    "        print('Existen' , summit[n].isna().sum(), 'valores nulos en la columna', n)"
   ]
  },
  {
   "cell_type": "markdown",
   "metadata": {},
   "source": [
    "## Missingno: Una forma más interactiva de ver mis nulos.\n",
    "\n",
    "Esta librería nos grafica nuestro dataframe de tal manera en la que vemos qué columnas tienen datos vacíos. Esto es representado por los espacios en blanco que tenemos. Es más intuitivo y fácil de mapear cuáles son los problemas de los nulos dentro de nuestro dataset. "
   ]
  },
  {
   "cell_type": "code",
   "execution_count": 1,
   "metadata": {},
   "outputs": [],
   "source": [
    "#Nulo de train\n"
   ]
  },
  {
   "cell_type": "code",
   "execution_count": 2,
   "metadata": {},
   "outputs": [],
   "source": [
    "#Nulos de summit"
   ]
  },
  {
   "cell_type": "markdown",
   "metadata": {},
   "source": [
    "### Eliminando valores irrelevantes para nuestro análisis:\n",
    "\n",
    "**Eliminaremos** los valores que nos parecen **irrelevantes** para predecir si una persona sobrevive o no dentro del Titanic. En este caso, asumimos que son:\n",
    "\n",
    "- Nombre: ¿Qué tiene que ver el nombre con que se sobreviva o no?\n",
    "\n",
    "\n",
    "- Ticket: Si bien se podría pensar que el ticket nos daría algún criterio, en este caso no se ha encontrado una relación directa. Ah pero eso no quita que la podamos usar. Puedes ponerte creativo y sacar una conclusión!\n",
    "\n",
    "\n",
    "- PassengerId: Lo mismo que la variable Ticket. Asumimos que no tiene relación con la supervivencia y lo quitamos."
   ]
  },
  {
   "cell_type": "code",
   "execution_count": 10,
   "metadata": {},
   "outputs": [],
   "source": []
  },
  {
   "cell_type": "markdown",
   "metadata": {},
   "source": [
    "#### Explicaremos brevemente cómo filtrar datos dentro de un dataframe (mask method).\n",
    "\n",
    "Imagínate que queremos filtrar a toda la **población vulnerable**. \n",
    "\n",
    "- Cómo haríamos para solo analizar a los mayores de 60?\n",
    "\n",
    "- Cómo haríamos para analizar a los mayores de 50 que no tienen familia en el barco?"
   ]
  },
  {
   "cell_type": "code",
   "execution_count": 11,
   "metadata": {},
   "outputs": [],
   "source": [
    "#Máscaras generales pregunta 1"
   ]
  },
  {
   "cell_type": "code",
   "execution_count": null,
   "metadata": {},
   "outputs": [],
   "source": []
  },
  {
   "cell_type": "code",
   "execution_count": 12,
   "metadata": {},
   "outputs": [],
   "source": [
    "#Máscaras generales: pregunta 2"
   ]
  },
  {
   "cell_type": "code",
   "execution_count": null,
   "metadata": {},
   "outputs": [],
   "source": []
  },
  {
   "cell_type": "markdown",
   "metadata": {},
   "source": [
    "## Reemplazando Nulos: \n",
    "\n",
    "Un valor Nulo no es más que data que no ha sido recogida (o imputada), osea **data vacía**. Esta nulidad puede deberse a diferentes casos y las maneras en las que podemos lidiar con ellos son varias. La forma en cómo podemos tratar con este tipo de variable depende de diferentes factores como la cantidad, la dispersión y la importancia de la variable para el target (recuerda que target es la variable que vamos a predecir). \n",
    "\n"
   ]
  },
  {
   "cell_type": "markdown",
   "metadata": {},
   "source": [
    "Ahora llenaremos los valores NaN de las columnas Edad y P_embarque. En la columna Edad llenaremos de manera random definiendo un intervalo en el que nuestra data va iterar. Ese intervalo será definido por **(media +- DesviaciónEstandar)**"
   ]
  },
  {
   "cell_type": "code",
   "execution_count": 13,
   "metadata": {},
   "outputs": [],
   "source": [
    "#media y std"
   ]
  },
  {
   "cell_type": "code",
   "execution_count": null,
   "metadata": {},
   "outputs": [],
   "source": []
  },
  {
   "cell_type": "code",
   "execution_count": 14,
   "metadata": {},
   "outputs": [
    {
     "name": "stdout",
     "output_type": "stream",
     "text": [
      "La edad media de nuestro train dataset es: 29.69911764705882 \n",
      "La desviación estandar de la edad de nuestro train dataset es: 14.526497332334044\n",
      "La edad media de nuestro summitdataset es: 30.272590361445783 \n",
      "La desviación estándar de la edad de nuestro summites: 14.18120923562442\n"
     ]
    }
   ],
   "source": [
    "print(\"La edad media de nuestro train dataset es:\",train['Edad'].mean(),\"\\nLa desviación estandar de la edad de nuestro train dataset es:\",train['Edad'].std())\n",
    "print(\"La edad media de nuestro summitdataset es:\",summit['Edad'].mean(),\"\\nLa desviación estándar de la edad de nuestro summites:\",summit['Edad'].std())"
   ]
  },
  {
   "cell_type": "code",
   "execution_count": 15,
   "metadata": {},
   "outputs": [],
   "source": [
    "#Quantiles y moda(con plot) / boxplot - orient"
   ]
  },
  {
   "cell_type": "markdown",
   "metadata": {},
   "source": [
    "##### Crearemos una función para llenarlo automáticamente:\n",
    "\n",
    "Recuerda que una función es...\n",
    "\n",
    ". Un conjunto lógico de código que se une para hacerlo generalizado.\n",
    "\n",
    "\n",
    ". Una función tiene parámetros necesarios al llamarlo y a su vez parámetros por default que pueden ser alterados.\n",
    "\n"
   ]
  },
  {
   "cell_type": "markdown",
   "metadata": {},
   "source": [
    "### Punto de decisión!!!\n",
    "\n",
    "Acá vas a poder decidir entre **dos métodos** !! \n",
    "\n",
    "##### Llenar los nulos con la media directamente en una línea de código.\n",
    "\n",
    "##### LLenar los nulos randomizando por sobre un intervalo definido por la media y la desv.estándar. "
   ]
  },
  {
   "cell_type": "code",
   "execution_count": null,
   "metadata": {},
   "outputs": [],
   "source": [
    "#Cuáles son las columnas que tienen valores nulos?"
   ]
  },
  {
   "cell_type": "code",
   "execution_count": null,
   "metadata": {},
   "outputs": [],
   "source": []
  },
  {
   "cell_type": "code",
   "execution_count": null,
   "metadata": {},
   "outputs": [],
   "source": []
  },
  {
   "cell_type": "markdown",
   "metadata": {},
   "source": [
    "Llenaremos primero la columna Edad"
   ]
  },
  {
   "cell_type": "code",
   "execution_count": null,
   "metadata": {},
   "outputs": [],
   "source": [
    "#SI QUIERES LLENARLO DE LA PRIMERA MANERA, CORRE ESTE CODIGO:\n"
   ]
  },
  {
   "cell_type": "code",
   "execution_count": null,
   "metadata": {},
   "outputs": [],
   "source": []
  },
  {
   "cell_type": "code",
   "execution_count": null,
   "metadata": {},
   "outputs": [],
   "source": []
  },
  {
   "cell_type": "code",
   "execution_count": 1,
   "metadata": {},
   "outputs": [],
   "source": [
    "#SI QUIERES LLENARLO DE LA SEGUNDA MANERA, CORRE ESTE CODIGO. Pero desbloquealo primero:\n",
    "\n",
    "#Crearemos una función para llenar de manera random dentro del intervalo de la media y desv stand (std)\n",
    "def llena_nan_con_media_y_std(df,col='Edad'):\n",
    "    nan = df[df[col].isna()] #el dataset de los que tienen la columna (col = 'Edad' ) con valores nulos\n",
    "    min_ = df[col].mean() - df[col].std() #El comienzo de nuestro intervalo, la media menos la desv. estandar.\n",
    "    max_ = df[col].mean() + df[col].std() #El final de nuestro intervalo, la media más la desv. estandar.\n",
    "    for i in nan.index: #Para cada i en los index de mi data nula\n",
    "        random_num = random.uniform(int(min_),int(max_)) #randomizo dentro de los intervalos que quiero y especifico que quiero enteros\n",
    "        df[col].loc[i] = random_num #Reemplazo los valores dentro de mi data original."
   ]
  },
  {
   "cell_type": "code",
   "execution_count": null,
   "metadata": {},
   "outputs": [],
   "source": [
    " #Aplico la función para train\n",
    "llena_nan_con_media_y_std(summit) #Aplico la función para summit"
   ]
  },
  {
   "cell_type": "markdown",
   "metadata": {},
   "source": [
    "Ahora tenemos que hacernos cargo de los valores nulos de la columna P_embarque y Tarifa dentro de los dos dataframes (summit y train)"
   ]
  },
  {
   "cell_type": "code",
   "execution_count": null,
   "metadata": {},
   "outputs": [],
   "source": [
    "#reemplazar por la moda"
   ]
  },
  {
   "cell_type": "markdown",
   "metadata": {},
   "source": [
    "A pesar de que podamos llenarlo con la moda directamente con fillna, prefiero ver con mis propios ojos qué tanto difiere la moda de su segundo valor más recurrente...."
   ]
  },
  {
   "cell_type": "code",
   "execution_count": null,
   "metadata": {},
   "outputs": [],
   "source": [
    "# Visualizaremos los datos de la columna P_embarque en nuestra data de entrenamiento. #countplot:\n"
   ]
  },
  {
   "cell_type": "code",
   "execution_count": null,
   "metadata": {},
   "outputs": [],
   "source": [
    "# Ahora sí, podemos llenar los nulos de P_embarque de esta manera:\n",
    "train['P_embarque'].fillna(train['P_embarque'].mode()[0], inplace=True)\n",
    "summit['P_embarque'].fillna(train['P_embarque'].mode()[0], inplace=True)"
   ]
  },
  {
   "cell_type": "code",
   "execution_count": null,
   "metadata": {},
   "outputs": [],
   "source": [
    "#Cuántos valores reemplazariamos en Tarifa?"
   ]
  },
  {
   "cell_type": "code",
   "execution_count": null,
   "metadata": {},
   "outputs": [],
   "source": [
    "#Cambia mucho la distribución luego de reemplazarla?"
   ]
  },
  {
   "cell_type": "code",
   "execution_count": null,
   "metadata": {},
   "outputs": [],
   "source": [
    "#Ahora lo hacemos para el summit data (solamente el Tarifa, 1 dato nulo)\n",
    "summit['Tarifa'].fillna(summit['Tarifa'].mean(),inplace=True)"
   ]
  },
  {
   "cell_type": "code",
   "execution_count": null,
   "metadata": {},
   "outputs": [],
   "source": [
    "# Siguen habiendo nulos en nuestra data?\n"
   ]
  },
  {
   "cell_type": "code",
   "execution_count": null,
   "metadata": {},
   "outputs": [],
   "source": []
  },
  {
   "cell_type": "markdown",
   "metadata": {},
   "source": [
    "## Detectando y tratando outliers\n",
    "\n",
    "- Uno de los mejores gráficos para poder ver los outliers es el **grafico de caja** o **boxplot** que nos grafica los cuantiles de la data y nos dice qué tan pronunciados son nuestros outliers con respecto a ellos."
   ]
  },
  {
   "cell_type": "code",
   "execution_count": null,
   "metadata": {
    "scrolled": true
   },
   "outputs": [],
   "source": [
    "plt.style.use('ggplot') #Es el estilo que le ponemos a la data\n",
    "plt.figure(figsize=(4,6))\n",
    "sns.boxplot(train['Edad'], orient=\"v\") #El gráfico de distribución\n",
    "plt.show()\n",
    "plt.figure(figsize=(4,6))\n",
    "sns.boxplot(train['Tarifa'], orient='v')\n",
    "plt.show()"
   ]
  },
  {
   "cell_type": "markdown",
   "metadata": {},
   "source": [
    "Viendo el boxplot, con la variable Edad no me haré tanto problema. Sino lo que me interesa reemplazar son los outliers de la variable \n",
    "Reemplazaremos los outliers de Tarifa por los valores que tengamos en el 95% de los datos:"
   ]
  },
  {
   "cell_type": "code",
   "execution_count": null,
   "metadata": {},
   "outputs": [],
   "source": [
    "#Plotea la distribución de Tarifa\n"
   ]
  },
  {
   "cell_type": "code",
   "execution_count": null,
   "metadata": {},
   "outputs": [],
   "source": []
  },
  {
   "cell_type": "code",
   "execution_count": null,
   "metadata": {},
   "outputs": [],
   "source": [
    "#Reemplazando los outliers con los cuantiles 95 y etc\n",
    "\n",
    "outliers_a_reemplazar = train[train['Tarifa'] > train['Tarifa'].quantile(.95)].index\n",
    "train.loc[outliers_a_reemplazar,'Tarifa'] = train['Tarifa'].quantile(.95)"
   ]
  },
  {
   "cell_type": "code",
   "execution_count": null,
   "metadata": {},
   "outputs": [],
   "source": [
    "outliers_a_reemplazar = summit[summit['Tarifa']> summit['Tarifa'].quantile(.95)].index\n",
    "summit.loc[outliers_a_reemplazar,'Tarifa'] = summit['Tarifa'].quantile(.95)"
   ]
  },
  {
   "cell_type": "code",
   "execution_count": null,
   "metadata": {},
   "outputs": [],
   "source": [
    "#Ploteemos denuevo Tarifa... Para ver un antes y un después"
   ]
  },
  {
   "cell_type": "code",
   "execution_count": null,
   "metadata": {},
   "outputs": [],
   "source": []
  },
  {
   "cell_type": "code",
   "execution_count": null,
   "metadata": {},
   "outputs": [],
   "source": []
  },
  {
   "cell_type": "code",
   "execution_count": null,
   "metadata": {},
   "outputs": [],
   "source": []
  },
  {
   "cell_type": "markdown",
   "metadata": {},
   "source": [
    "#### Advertencia!!!  No siempre es la mejor opción... Podríamos crear otra variable para indicar que estamos reemplazando los datos._"
   ]
  },
  {
   "cell_type": "markdown",
   "metadata": {},
   "source": [
    "## Podemos (y debemos) crear otros features a la data:"
   ]
  },
  {
   "cell_type": "markdown",
   "metadata": {},
   "source": [
    "\n",
    " "
   ]
  },
  {
   "cell_type": "markdown",
   "metadata": {},
   "source": [
    "Hemos visto que hay dos variables que se relacionan a la familia del pasajero (Hermanos & Padres_hijos), asi que por qué no creamos una variable que resuma la cantidad de familiares de una persona? Y también contar si la persona viaja sola o acompañada en la nave."
   ]
  },
  {
   "cell_type": "code",
   "execution_count": null,
   "metadata": {},
   "outputs": [],
   "source": [
    "#Creamos la variable miembros de familia. \n",
    "\n",
    "train['Miembros_de_fam'] = train['Hermanos'] + train['Padres_hijos'] + 1 #(1 reempresenta a él o ella)\n",
    "summit['Miembros_de_fam'] = summit['Hermanos'] + summit['Padres_hijos'] + 1\n",
    "\n",
    "#Crearemos la variable Alone para nuestra data\n",
    "train['Viaja_solo'] = 1 \n",
    "train['Viaja_solo'].loc[train['Miembros_de_fam'] > 1] = 0\n",
    "\n",
    "summit['Viaja_solo'] = 1 \n",
    "summit['Viaja_solo'].loc[summit['Miembros_de_fam'] > 1] = 1"
   ]
  },
  {
   "cell_type": "code",
   "execution_count": null,
   "metadata": {},
   "outputs": [],
   "source": [
    "#Ver los features."
   ]
  },
  {
   "cell_type": "markdown",
   "metadata": {},
   "source": [
    "#### Dándole sentido a nuestra variable... \n",
    "\n",
    "**Pensando el problema**: ¿Qué es lo que pasa en un desastre natural? No le dan prioridad a las mujeres,niños y personas adultas para que puedan ir directo a las naves de rescate? Entonces, sería conveniente identificar si el pasajero es Hombre, Mujer o **niño**. A su vez si es un anciano. Para esto, por ahora, solo crearemos la variable niño. \n",
    "\n",
    "Pero **vas a tener que decidir** porque puedes:\n",
    "\n",
    "- Crear una nueva categoría para identificar los niños dentro de la columna género\n",
    "\n",
    "- Crear una columna extra donde nos diga si es niño = 1, si no es niño = 0"
   ]
  },
  {
   "cell_type": "code",
   "execution_count": null,
   "metadata": {},
   "outputs": [],
   "source": [
    "#RETO: Crear una variable dummy de niño o crear una variable en la que reemplaces la variable categórica dentro del género."
   ]
  },
  {
   "cell_type": "code",
   "execution_count": null,
   "metadata": {},
   "outputs": [],
   "source": []
  },
  {
   "cell_type": "code",
   "execution_count": null,
   "metadata": {},
   "outputs": [],
   "source": []
  },
  {
   "cell_type": "markdown",
   "metadata": {},
   "source": [
    "## Data Visualization:\n",
    "\n",
    "**Por qué es importante visualizar nuestros datos?**:"
   ]
  },
  {
   "cell_type": "code",
   "execution_count": null,
   "metadata": {},
   "outputs": [],
   "source": []
  },
  {
   "cell_type": "code",
   "execution_count": null,
   "metadata": {},
   "outputs": [],
   "source": [
    "plt.style.use('ggplot') #Para ponerle el estilo tipo R\n",
    "plt.figure(figsize=(8,6)) #Podemos modificar la imagen \n",
    "plt.title('Vemos la data filtrada por supervivencia, año y género') #Le ponemos título a la imagen\n",
    "sns.swarmplot(x = 'Sobrevivio',y='Edad', \n",
    "              data=train, linewidth=1,hue='Genero', palette = 'muted')"
   ]
  },
  {
   "cell_type": "code",
   "execution_count": null,
   "metadata": {},
   "outputs": [],
   "source": [
    "plt.figure(figsize=(8,6))\n",
    "plt.title('Vemos el Nro de supervivencias según puerta de embarcación (P_embarque)')\n",
    "sns.countplot(x = 'P_embarque', data = train[train['Sobrevivio'] == 1])"
   ]
  },
  {
   "cell_type": "markdown",
   "metadata": {},
   "source": [
    "Con lo gráficos anteriores, ya tenemos una intuición acerca de **cómo deberíamos reemplazar los datos**, es decir, ahora podemos hacer el encoding de manera intuitiva."
   ]
  },
  {
   "cell_type": "code",
   "execution_count": null,
   "metadata": {},
   "outputs": [],
   "source": [
    "#Ahora podemos decir qué prioridades de categorías hay dentro de las variables P_embarque y Genero\n",
    "cat_to_nums = {\"P_embarque\":  {\"S\": 2, \"C\": 1, \"Q\":0},\n",
    "               \"Genero\": {\"male\":0,\"niño\":1,\"female\":2}}\n",
    "#Vamos a reemplazarlo en el train y en el summit\n",
    "\n",
    "train.replace(cat_to_nums, inplace = True)\n",
    "summit.replace(cat_to_nums, inplace = True)"
   ]
  },
  {
   "cell_type": "code",
   "execution_count": null,
   "metadata": {},
   "outputs": [],
   "source": [
    "train.head()"
   ]
  },
  {
   "cell_type": "markdown",
   "metadata": {},
   "source": [
    "## Normalizando mi data:\n",
    "Cuándo normalizar o standarizar?: https://medium.com/@rrfd/standardize-or-normalize-examples-in-python-e3f174b65dfc\n",
    "\n",
    "Veamos la distribución de nuestros dos datos netamente numéricos que tenemos:\n"
   ]
  },
  {
   "cell_type": "code",
   "execution_count": null,
   "metadata": {},
   "outputs": [],
   "source": [
    "sns.distplot(train['Tarifa']) #El gráfico de distribución\n",
    "plt.show()\n",
    "sns.distplot(train['Edad'])\n",
    "plt.show()"
   ]
  },
  {
   "cell_type": "code",
   "execution_count": null,
   "metadata": {},
   "outputs": [],
   "source": [
    "from sklearn.preprocessing import normalize #Para la normalización de la data."
   ]
  },
  {
   "cell_type": "code",
   "execution_count": null,
   "metadata": {},
   "outputs": [],
   "source": [
    "# Normalizando 'Tarifa' & 'Edad' para summitear dataset y train\n",
    "X_to_norm = [train['Tarifa'],\n",
    "     train['Edad']] #Asigno las variables que quiero normalizar\n",
    "\n",
    "X_normalize = normalize(X_to_norm) #Le aplico la normalización\n",
    "\n",
    "X_2_to_norm = [summit['Tarifa'],\n",
    "      summit['Edad']]  #El mismo procedimiento para el summir\n",
    "\n",
    "X_2_normalize = normalize(X_2_to_norm)\n",
    "\n",
    "#Asigno la variable normalizada a mi df\n",
    "\n",
    "train = train.assign(Tarifa = X_normalize[0]) \n",
    "\n",
    "train = train.assign(Edad = X_normalize[1])\n",
    "\n",
    "summit= summit.assign(Tarifa = X_2_normalize[0])\n",
    "\n",
    "summit= summit.assign(Edad = X_2_normalize[1])"
   ]
  },
  {
   "cell_type": "code",
   "execution_count": null,
   "metadata": {},
   "outputs": [],
   "source": [
    "#Now we have all numerical values!\n",
    "train.head()"
   ]
  },
  {
   "cell_type": "code",
   "execution_count": null,
   "metadata": {},
   "outputs": [],
   "source": [
    "plt.style.use('ggplot') #Es el estilo que le ponemos a la data \n",
    "sns.distplot(train['Tarifa']) \n",
    "plt.show()\n",
    "sns.distplot(train['Edad'])\n",
    "plt.show()"
   ]
  },
  {
   "cell_type": "markdown",
   "metadata": {},
   "source": [
    "## Guardamos nuestro trabajo hasta ahora"
   ]
  },
  {
   "cell_type": "code",
   "execution_count": null,
   "metadata": {},
   "outputs": [],
   "source": [
    "import dill"
   ]
  },
  {
   "cell_type": "code",
   "execution_count": null,
   "metadata": {},
   "outputs": [],
   "source": [
    "dill.dump_session('Titanic01.db')"
   ]
  },
  {
   "cell_type": "code",
   "execution_count": null,
   "metadata": {},
   "outputs": [],
   "source": []
  },
  {
   "cell_type": "code",
   "execution_count": null,
   "metadata": {},
   "outputs": [],
   "source": [
    "#Solucion 1\n",
    "train.loc[(train['Edad'] < 15),'Genero'] = 'niño'\n",
    "summit.loc[(summit['Edad']<15),'Genero'] = 'niño'\n",
    "\n",
    "#Solucion2\n",
    "train['es_niño'] = 0\n",
    "train.loc[(train['Edad'])<15,'es_niño'] = 1\n",
    "\n",
    "summit['es_niño'] = 0\n",
    "summit.loc[(summit['Edad']<15),'es_niño'] = 1"
   ]
  },
  {
   "cell_type": "markdown",
   "metadata": {},
   "source": [
    "\n"
   ]
  }
 ],
 "metadata": {
  "kernelspec": {
   "display_name": "Python 3",
   "language": "python",
   "name": "python3"
  },
  "language_info": {
   "codemirror_mode": {
    "name": "ipython",
    "version": 3
   },
   "file_extension": ".py",
   "mimetype": "text/x-python",
   "name": "python",
   "nbconvert_exporter": "python",
   "pygments_lexer": "ipython3",
   "version": "3.7.5"
  }
 },
 "nbformat": 4,
 "nbformat_minor": 1
}
