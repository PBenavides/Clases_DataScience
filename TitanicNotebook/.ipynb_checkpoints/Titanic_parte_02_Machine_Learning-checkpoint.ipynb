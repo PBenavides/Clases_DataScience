{
 "cells": [
  {
   "cell_type": "markdown",
   "metadata": {
    "colab_type": "text",
    "id": "z2U0z5NE7bli"
   },
   "source": [
    "## Cargando nuestra sesion"
   ]
  },
  {
   "cell_type": "code",
   "execution_count": 0,
   "metadata": {
    "colab": {
     "base_uri": "https://localhost:8080/",
     "height": 121
    },
    "colab_type": "code",
    "id": "6P5VGRP47bll",
    "outputId": "a13579b3-ee22-4cec-97a7-2a6e577c88d4"
   },
   "outputs": [
    {
     "name": "stdout",
     "output_type": "stream",
     "text": [
      "Go to this URL in a browser: https://accounts.google.com/o/oauth2/auth?client_id=947318989803-6bn6qk8qdgf4n4g3pfee6491hc0brc4i.apps.googleusercontent.com&redirect_uri=urn%3Aietf%3Awg%3Aoauth%3A2.0%3Aoob&scope=email%20https%3A%2F%2Fwww.googleapis.com%2Fauth%2Fdocs.test%20https%3A%2F%2Fwww.googleapis.com%2Fauth%2Fdrive%20https%3A%2F%2Fwww.googleapis.com%2Fauth%2Fdrive.photos.readonly%20https%3A%2F%2Fwww.googleapis.com%2Fauth%2Fpeopleapi.readonly&response_type=code\n",
      "\n",
      "Enter your authorization code:\n",
      "··········\n",
      "Mounted at /content/drive\n"
     ]
    }
   ],
   "source": [
    "from google.colab import drive\n",
    "drive.mount('/content/drive')"
   ]
  },
  {
   "cell_type": "code",
   "execution_count": 0,
   "metadata": {
    "colab": {
     "base_uri": "https://localhost:8080/",
     "height": 34
    },
    "colab_type": "code",
    "id": "00oObowA7bls",
    "outputId": "05f2bcd1-48f6-45cc-c039-7cc81bc94d68"
   },
   "outputs": [
    {
     "name": "stdout",
     "output_type": "stream",
     "text": [
      "/content/drive/My Drive/Sesion2\n"
     ]
    }
   ],
   "source": [
    "cd /content/drive/My Drive/Sesion2"
   ]
  },
  {
   "cell_type": "code",
   "execution_count": 1,
   "metadata": {
    "colab": {},
    "colab_type": "code",
    "id": "vCEfl7U97bly"
   },
   "outputs": [],
   "source": [
    "import warnings\n",
    "warnings.filterwarnings('ignore')"
   ]
  },
  {
   "cell_type": "code",
   "execution_count": 2,
   "metadata": {
    "colab": {},
    "colab_type": "code",
    "id": "Wbe0Pv6s7bl5"
   },
   "outputs": [],
   "source": [
    "import dill\n",
    "dill.load_session('Titanic01.db')"
   ]
  },
  {
   "cell_type": "code",
   "execution_count": 3,
   "metadata": {
    "colab": {},
    "colab_type": "code",
    "id": "dIMfmROW7bmC"
   },
   "outputs": [],
   "source": [
    "train['P_embarque'].fillna(2,inplace=True)"
   ]
  },
  {
   "cell_type": "markdown",
   "metadata": {},
   "source": [
    "Tenemos que importar los id para poder summitear al final. Porque recuerda que los eliminamos en la anterior sesion"
   ]
  },
  {
   "cell_type": "code",
   "execution_count": 15,
   "metadata": {},
   "outputs": [],
   "source": [
    "summit_id = pd.read_csv('test.csv')"
   ]
  },
  {
   "cell_type": "code",
   "execution_count": 19,
   "metadata": {},
   "outputs": [
    {
     "data": {
      "text/plain": [
       "Index(['IdPasajero', 'Pclass', 'Name', 'Genero', 'Edad', 'Hermanos',\n",
       "       'Padres_hijos', 'Ticket', 'Tarifa', 'Cabin', 'P_embarque'],\n",
       "      dtype='object')"
      ]
     },
     "execution_count": 19,
     "metadata": {},
     "output_type": "execute_result"
    }
   ],
   "source": [
    "summit_id.columns"
   ]
  },
  {
   "cell_type": "code",
   "execution_count": 57,
   "metadata": {},
   "outputs": [],
   "source": [
    "def csv_a_submitir(model = logreg, name = 'csv_a_submitir.csv'):\n",
    "    pred = model.predict(summit)\n",
    "    submissions =  pd.DataFrame({'PassengerId':summit_id['IdPasajero'],'Survived': pred})\n",
    "    submissions = submissions.set_index('PassengerId')\n",
    "    submissions.to_csv(name)\n",
    "    print('Se ha generado un csv con el nombre: ', name)\n",
    "    return submissions"
   ]
  },
  {
   "cell_type": "markdown",
   "metadata": {
    "colab_type": "text",
    "id": "BpbdcLzC7bmJ"
   },
   "source": [
    "## Recordando las variables"
   ]
  },
  {
   "cell_type": "code",
   "execution_count": 4,
   "metadata": {
    "colab": {},
    "colab_type": "code",
    "id": "vHQ-aO7Q7bmL",
    "outputId": "a4579220-114e-4356-c50c-eb59e0f856ce"
   },
   "outputs": [
    {
     "data": {
      "text/html": [
       "<div>\n",
       "<style scoped>\n",
       "    .dataframe tbody tr th:only-of-type {\n",
       "        vertical-align: middle;\n",
       "    }\n",
       "\n",
       "    .dataframe tbody tr th {\n",
       "        vertical-align: top;\n",
       "    }\n",
       "\n",
       "    .dataframe thead th {\n",
       "        text-align: right;\n",
       "    }\n",
       "</style>\n",
       "<table border=\"1\" class=\"dataframe\">\n",
       "  <thead>\n",
       "    <tr style=\"text-align: right;\">\n",
       "      <th></th>\n",
       "      <th>Sobrevivio</th>\n",
       "      <th>Pclass</th>\n",
       "      <th>Genero</th>\n",
       "      <th>Edad</th>\n",
       "      <th>Hermanos</th>\n",
       "      <th>Padres_hijos</th>\n",
       "      <th>Tarifa</th>\n",
       "      <th>P_embarque</th>\n",
       "      <th>Miembros_de_fam</th>\n",
       "      <th>Viaja_solo</th>\n",
       "      <th>es_niño</th>\n",
       "    </tr>\n",
       "  </thead>\n",
       "  <tbody>\n",
       "    <tr>\n",
       "      <th>0</th>\n",
       "      <td>0</td>\n",
       "      <td>3</td>\n",
       "      <td>0</td>\n",
       "      <td>0.022824</td>\n",
       "      <td>1</td>\n",
       "      <td>0</td>\n",
       "      <td>0.006032</td>\n",
       "      <td>2.0</td>\n",
       "      <td>2</td>\n",
       "      <td>0</td>\n",
       "      <td>0</td>\n",
       "    </tr>\n",
       "    <tr>\n",
       "      <th>1</th>\n",
       "      <td>1</td>\n",
       "      <td>1</td>\n",
       "      <td>2</td>\n",
       "      <td>0.039423</td>\n",
       "      <td>1</td>\n",
       "      <td>0</td>\n",
       "      <td>0.059304</td>\n",
       "      <td>1.0</td>\n",
       "      <td>2</td>\n",
       "      <td>0</td>\n",
       "      <td>0</td>\n",
       "    </tr>\n",
       "    <tr>\n",
       "      <th>2</th>\n",
       "      <td>1</td>\n",
       "      <td>3</td>\n",
       "      <td>2</td>\n",
       "      <td>0.026974</td>\n",
       "      <td>0</td>\n",
       "      <td>0</td>\n",
       "      <td>0.006593</td>\n",
       "      <td>2.0</td>\n",
       "      <td>1</td>\n",
       "      <td>1</td>\n",
       "      <td>0</td>\n",
       "    </tr>\n",
       "    <tr>\n",
       "      <th>3</th>\n",
       "      <td>1</td>\n",
       "      <td>1</td>\n",
       "      <td>2</td>\n",
       "      <td>0.036311</td>\n",
       "      <td>1</td>\n",
       "      <td>0</td>\n",
       "      <td>0.044176</td>\n",
       "      <td>2.0</td>\n",
       "      <td>2</td>\n",
       "      <td>0</td>\n",
       "      <td>0</td>\n",
       "    </tr>\n",
       "    <tr>\n",
       "      <th>4</th>\n",
       "      <td>0</td>\n",
       "      <td>3</td>\n",
       "      <td>0</td>\n",
       "      <td>0.036311</td>\n",
       "      <td>0</td>\n",
       "      <td>0</td>\n",
       "      <td>0.006697</td>\n",
       "      <td>2.0</td>\n",
       "      <td>1</td>\n",
       "      <td>1</td>\n",
       "      <td>0</td>\n",
       "    </tr>\n",
       "  </tbody>\n",
       "</table>\n",
       "</div>"
      ],
      "text/plain": [
       "   Sobrevivio  Pclass  Genero      Edad  Hermanos  Padres_hijos    Tarifa  \\\n",
       "0           0       3       0  0.022824         1             0  0.006032   \n",
       "1           1       1       2  0.039423         1             0  0.059304   \n",
       "2           1       3       2  0.026974         0             0  0.006593   \n",
       "3           1       1       2  0.036311         1             0  0.044176   \n",
       "4           0       3       0  0.036311         0             0  0.006697   \n",
       "\n",
       "   P_embarque  Miembros_de_fam  Viaja_solo  es_niño  \n",
       "0         2.0                2           0        0  \n",
       "1         1.0                2           0        0  \n",
       "2         2.0                1           1        0  \n",
       "3         2.0                2           0        0  \n",
       "4         2.0                1           1        0  "
      ]
     },
     "execution_count": 4,
     "metadata": {},
     "output_type": "execute_result"
    }
   ],
   "source": [
    "train.head()"
   ]
  },
  {
   "cell_type": "code",
   "execution_count": 5,
   "metadata": {
    "colab": {},
    "colab_type": "code",
    "id": "RfbKN-M67bmY",
    "outputId": "ddd8b5a8-9561-46b6-c7ef-959e69dac585"
   },
   "outputs": [
    {
     "data": {
      "text/html": [
       "<div>\n",
       "<style scoped>\n",
       "    .dataframe tbody tr th:only-of-type {\n",
       "        vertical-align: middle;\n",
       "    }\n",
       "\n",
       "    .dataframe tbody tr th {\n",
       "        vertical-align: top;\n",
       "    }\n",
       "\n",
       "    .dataframe thead th {\n",
       "        text-align: right;\n",
       "    }\n",
       "</style>\n",
       "<table border=\"1\" class=\"dataframe\">\n",
       "  <thead>\n",
       "    <tr style=\"text-align: right;\">\n",
       "      <th></th>\n",
       "      <th>Pclass</th>\n",
       "      <th>Genero</th>\n",
       "      <th>Edad</th>\n",
       "      <th>Hermanos</th>\n",
       "      <th>Padres_hijos</th>\n",
       "      <th>Tarifa</th>\n",
       "      <th>P_embarque</th>\n",
       "      <th>Miembros_de_fam</th>\n",
       "      <th>Viaja_solo</th>\n",
       "      <th>es_niño</th>\n",
       "    </tr>\n",
       "  </thead>\n",
       "  <tbody>\n",
       "    <tr>\n",
       "      <th>0</th>\n",
       "      <td>3</td>\n",
       "      <td>0</td>\n",
       "      <td>0.051826</td>\n",
       "      <td>0</td>\n",
       "      <td>0</td>\n",
       "      <td>0.007803</td>\n",
       "      <td>0</td>\n",
       "      <td>1</td>\n",
       "      <td>1</td>\n",
       "      <td>0</td>\n",
       "    </tr>\n",
       "    <tr>\n",
       "      <th>1</th>\n",
       "      <td>3</td>\n",
       "      <td>2</td>\n",
       "      <td>0.070603</td>\n",
       "      <td>1</td>\n",
       "      <td>0</td>\n",
       "      <td>0.006977</td>\n",
       "      <td>2</td>\n",
       "      <td>2</td>\n",
       "      <td>1</td>\n",
       "      <td>0</td>\n",
       "    </tr>\n",
       "    <tr>\n",
       "      <th>2</th>\n",
       "      <td>2</td>\n",
       "      <td>0</td>\n",
       "      <td>0.093136</td>\n",
       "      <td>0</td>\n",
       "      <td>0</td>\n",
       "      <td>0.009656</td>\n",
       "      <td>0</td>\n",
       "      <td>1</td>\n",
       "      <td>1</td>\n",
       "      <td>0</td>\n",
       "    </tr>\n",
       "    <tr>\n",
       "      <th>3</th>\n",
       "      <td>3</td>\n",
       "      <td>0</td>\n",
       "      <td>0.040559</td>\n",
       "      <td>0</td>\n",
       "      <td>0</td>\n",
       "      <td>0.008634</td>\n",
       "      <td>2</td>\n",
       "      <td>1</td>\n",
       "      <td>1</td>\n",
       "      <td>0</td>\n",
       "    </tr>\n",
       "    <tr>\n",
       "      <th>4</th>\n",
       "      <td>3</td>\n",
       "      <td>2</td>\n",
       "      <td>0.033048</td>\n",
       "      <td>1</td>\n",
       "      <td>1</td>\n",
       "      <td>0.012247</td>\n",
       "      <td>2</td>\n",
       "      <td>3</td>\n",
       "      <td>1</td>\n",
       "      <td>0</td>\n",
       "    </tr>\n",
       "  </tbody>\n",
       "</table>\n",
       "</div>"
      ],
      "text/plain": [
       "   Pclass  Genero      Edad  Hermanos  Padres_hijos    Tarifa  P_embarque  \\\n",
       "0       3       0  0.051826         0             0  0.007803           0   \n",
       "1       3       2  0.070603         1             0  0.006977           2   \n",
       "2       2       0  0.093136         0             0  0.009656           0   \n",
       "3       3       0  0.040559         0             0  0.008634           2   \n",
       "4       3       2  0.033048         1             1  0.012247           2   \n",
       "\n",
       "   Miembros_de_fam  Viaja_solo  es_niño  \n",
       "0                1           1        0  \n",
       "1                2           1        0  \n",
       "2                1           1        0  \n",
       "3                1           1        0  \n",
       "4                3           1        0  "
      ]
     },
     "execution_count": 5,
     "metadata": {},
     "output_type": "execute_result"
    }
   ],
   "source": [
    "summit.head()"
   ]
  },
  {
   "cell_type": "markdown",
   "metadata": {
    "colab_type": "text",
    "id": "YieYJ7kO7bmc"
   },
   "source": [
    "# Machine Learning\n",
    "\n",
    "- Hoy haremos nuestros primeros modelos de machine learning.Nos centraremos específicamente en tres modelos: Regresión Logística, Árboles de Decisión y RandomForest. A lo largo de la clase iteraremos entre código y teoría. Así que, empecemos!"
   ]
  },
  {
   "cell_type": "markdown",
   "metadata": {
    "colab_type": "text",
    "id": "IUjvnd6m7bme"
   },
   "source": [
    "Recuerda que tenemos dos conjuntos de datos: **train** y **summit**. Esto es porque el **objetivo** es hacer un modelo de aprendizaje automático (machine learning) para poder postearlo en la competencia de Kaggle. Específicamente haremos un **modelo suppervisado** que nos prediga si el pasajero **sobrevive** o **no sobrevive**. Se va a dividir la data porque cierto grupo de datos (train) nos servirá para **entrenar** el modelo y el otro grupo de datos para **testearlo** (crearemos otro grupo test). Luego de hacer el respectivo testeo del modelo podremos mandarlo a producción, es decir, que interactúe con data real.    "
   ]
  },
  {
   "cell_type": "code",
   "execution_count": 6,
   "metadata": {
    "colab": {},
    "colab_type": "code",
    "id": "FygbVd8B7bmf",
    "scrolled": true
   },
   "outputs": [],
   "source": [
    "X_train = train.drop('Sobrevivio',axis=1)\n",
    "y_train = train['Sobrevivio']"
   ]
  },
  {
   "cell_type": "markdown",
   "metadata": {
    "colab_type": "text",
    "id": "Fai2F3ez7bmk"
   },
   "source": [
    "### Dividiremos nuestra data para poder entrenar y evaluar nuestros modelos."
   ]
  },
  {
   "cell_type": "code",
   "execution_count": 7,
   "metadata": {
    "colab": {},
    "colab_type": "code",
    "id": "Xf85e2U57bml"
   },
   "outputs": [],
   "source": [
    "#Dense cuenta de que se importa desde model_selection, porque efectivamente sirve para poder seleccionar nuestros modelos\n",
    "from sklearn.model_selection import train_test_split\n",
    "\n",
    "from sklearn.metrics import accuracy_score #Vamos a medir el accuracy de nuestro modelo... "
   ]
  },
  {
   "cell_type": "code",
   "execution_count": 8,
   "metadata": {
    "colab": {},
    "colab_type": "code",
    "id": "JXvtWRUr7bmw"
   },
   "outputs": [],
   "source": [
    "#Dividing the data before tuning the model\n",
    "X_train, X_test, y_train, y_test= train_test_split(X_train,y_train,test_size = 0.3, \n",
    "                                                    random_state=21)"
   ]
  },
  {
   "cell_type": "code",
   "execution_count": 9,
   "metadata": {
    "colab": {},
    "colab_type": "code",
    "id": "U7xCk7Rb7bm1"
   },
   "outputs": [],
   "source": [
    "#Explorar los nuevos datos partidos"
   ]
  },
  {
   "cell_type": "code",
   "execution_count": null,
   "metadata": {
    "colab": {},
    "colab_type": "code",
    "id": "Gv_uVb_D9u87"
   },
   "outputs": [],
   "source": []
  },
  {
   "cell_type": "code",
   "execution_count": null,
   "metadata": {
    "colab": {},
    "colab_type": "code",
    "id": "B9eZYDQD9vEC"
   },
   "outputs": [],
   "source": []
  },
  {
   "cell_type": "markdown",
   "metadata": {
    "colab_type": "text",
    "id": "wnYO5zYi7bnA"
   },
   "source": [
    "- Los pasos para entrenar un modelo son simples: Fitear y predecir. Nada más. Luego haremos algunas métricas para poder ver qué tan bien nos ha servido nuestro clasificador. "
   ]
  },
  {
   "cell_type": "markdown",
   "metadata": {
    "colab_type": "text",
    "id": "5-he_32h7bnC"
   },
   "source": [
    "### Regresión Logística con Python. \n",
    "\n",
    "La famosa Regresión Logística es el modelo más básico (y no le quita que aún así sea poderoso y el mejor en algunos casos) de los modelos disponibles dentro de la librería scikit learn. Veamos como podemos ponerlo a prueba. Pero antes, recordemos y **veamos un poco de teoría**."
   ]
  },
  {
   "cell_type": "code",
   "execution_count": 10,
   "metadata": {
    "colab": {
     "base_uri": "https://localhost:8080/",
     "height": 101
    },
    "colab_type": "code",
    "id": "tX1aYzOf7bnE",
    "outputId": "2dafb6bf-42e3-4feb-8df8-073a59a34dc9"
   },
   "outputs": [
    {
     "data": {
      "text/plain": [
       "LogisticRegression(C=1.0, class_weight=None, dual=False, fit_intercept=True,\n",
       "          intercept_scaling=1, max_iter=100, multi_class='warn',\n",
       "          n_jobs=None, penalty='l2', random_state=None, solver='warn',\n",
       "          tol=0.0001, verbose=0, warm_start=False)"
      ]
     },
     "execution_count": 10,
     "metadata": {},
     "output_type": "execute_result"
    }
   ],
   "source": [
    "from sklearn.linear_model import LogisticRegression\n",
    "#Logistic Regression:\n",
    "logreg = LogisticRegression()\n",
    "\n",
    "logreg.fit(X_train, y_train)"
   ]
  },
  {
   "cell_type": "markdown",
   "metadata": {
    "colab_type": "text",
    "id": "2reNrFQs7bnM"
   },
   "source": [
    "- Una vez hecho el fiteo de los datos. Tenemos nuestro modelo **almacenado** y **entrenado** en la variable **LogReg** "
   ]
  },
  {
   "cell_type": "code",
   "execution_count": 11,
   "metadata": {
    "colab": {},
    "colab_type": "code",
    "id": "sZqIt3Qc7bnU"
   },
   "outputs": [],
   "source": [
    "logreg_pred = logreg.predict(X_test)\n",
    "#show"
   ]
  },
  {
   "cell_type": "markdown",
   "metadata": {
    "colab_type": "text",
    "id": "IxQfzto9-X6j"
   },
   "source": [
    "- Recuerda que la función **accuracy_score** nos va a decir el porcentaje de predicción de nuestro modelo, es decir, cuánto del total de registros nos está prediciendo bien. Esta función nos va a aceptar como primer parámetro las verdaderas predicciones y como segundo parámetro las predicciones hechas por nuestro modelo."
   ]
  },
  {
   "cell_type": "code",
   "execution_count": 12,
   "metadata": {
    "colab": {
     "base_uri": "https://localhost:8080/",
     "height": 34
    },
    "colab_type": "code",
    "id": "pube4NDo7bnj",
    "outputId": "467bf767-88b9-4e60-a890-700e0a5b8d54",
    "scrolled": true
   },
   "outputs": [
    {
     "name": "stdout",
     "output_type": "stream",
     "text": [
      "El accuracy para mi primero modelo es :0.83208955\n"
     ]
    }
   ],
   "source": [
    "print('El accuracy para mi primero modelo es :{0:.8f}'.format(accuracy_score(y_test,logreg_pred)))"
   ]
  },
  {
   "cell_type": "markdown",
   "metadata": {
    "colab_type": "text",
    "id": "qhwNF5TN7bnp"
   },
   "source": [
    "#### Intentaremos hacer un poquito mejor nuestro modelo:  Recuerda que hemos sacado un 83.208% en este caso. A lo mejor tu modelo bota un resultado diferente, y eso es normal si es que tu data estaba transformada de manera diferente.\n",
    "\n",
    "\n",
    "- Lo chévere de nuestro modelo de Regresión Logística es que nos permite ver las probabilidades que ha generado con cada fila de datos. Es decir, nos dice qué tan probable es (según nuestro modelo) que el pasajero N haya sobrevivido a la catástrofe del Titanic. "
   ]
  },
  {
   "cell_type": "code",
   "execution_count": 0,
   "metadata": {
    "colab": {
     "base_uri": "https://localhost:8080/",
     "height": 402
    },
    "colab_type": "code",
    "id": "kQcNpb037bnu",
    "outputId": "70aa48ea-3672-449b-c98b-22e29dd56bb2"
   },
   "outputs": [
    {
     "data": {
      "text/html": [
       "<div>\n",
       "<style scoped>\n",
       "    .dataframe tbody tr th:only-of-type {\n",
       "        vertical-align: middle;\n",
       "    }\n",
       "\n",
       "    .dataframe tbody tr th {\n",
       "        vertical-align: top;\n",
       "    }\n",
       "\n",
       "    .dataframe thead th {\n",
       "        text-align: right;\n",
       "    }\n",
       "</style>\n",
       "<table border=\"1\" class=\"dataframe\">\n",
       "  <thead>\n",
       "    <tr style=\"text-align: right;\">\n",
       "      <th></th>\n",
       "      <th>feature</th>\n",
       "      <th>beta</th>\n",
       "    </tr>\n",
       "  </thead>\n",
       "  <tbody>\n",
       "    <tr>\n",
       "      <th>0</th>\n",
       "      <td>Pclass</td>\n",
       "      <td>-0.8430</td>\n",
       "    </tr>\n",
       "    <tr>\n",
       "      <th>1</th>\n",
       "      <td>Genero</td>\n",
       "      <td>1.3972</td>\n",
       "    </tr>\n",
       "    <tr>\n",
       "      <th>2</th>\n",
       "      <td>Edad</td>\n",
       "      <td>-0.1154</td>\n",
       "    </tr>\n",
       "    <tr>\n",
       "      <th>3</th>\n",
       "      <td>Hermanos</td>\n",
       "      <td>-0.6070</td>\n",
       "    </tr>\n",
       "    <tr>\n",
       "      <th>4</th>\n",
       "      <td>Padres_hijos</td>\n",
       "      <td>-0.4665</td>\n",
       "    </tr>\n",
       "    <tr>\n",
       "      <th>5</th>\n",
       "      <td>Tarifa</td>\n",
       "      <td>0.1491</td>\n",
       "    </tr>\n",
       "    <tr>\n",
       "      <th>6</th>\n",
       "      <td>P_embarque</td>\n",
       "      <td>-0.1233</td>\n",
       "    </tr>\n",
       "    <tr>\n",
       "      <th>7</th>\n",
       "      <td>Miembros_de_fam</td>\n",
       "      <td>0.0765</td>\n",
       "    </tr>\n",
       "    <tr>\n",
       "      <th>8</th>\n",
       "      <td>Viaja_solo</td>\n",
       "      <td>-0.4492</td>\n",
       "    </tr>\n",
       "    <tr>\n",
       "      <th>9</th>\n",
       "      <td>es_mujer</td>\n",
       "      <td>-0.0623</td>\n",
       "    </tr>\n",
       "    <tr>\n",
       "      <th>10</th>\n",
       "      <td>es_niño</td>\n",
       "      <td>1.5218</td>\n",
       "    </tr>\n",
       "    <tr>\n",
       "      <th>11</th>\n",
       "      <td>es_hombre</td>\n",
       "      <td>-0.3095</td>\n",
       "    </tr>\n",
       "  </tbody>\n",
       "</table>\n",
       "</div>"
      ],
      "text/plain": [
       "            feature    beta\n",
       "0            Pclass -0.8430\n",
       "1            Genero  1.3972\n",
       "2              Edad -0.1154\n",
       "3          Hermanos -0.6070\n",
       "4      Padres_hijos -0.4665\n",
       "5            Tarifa  0.1491\n",
       "6        P_embarque -0.1233\n",
       "7   Miembros_de_fam  0.0765\n",
       "8        Viaja_solo -0.4492\n",
       "9          es_mujer -0.0623\n",
       "10          es_niño  1.5218\n",
       "11        es_hombre -0.3095"
      ]
     },
     "execution_count": 39,
     "metadata": {
      "tags": []
     },
     "output_type": "execute_result"
    }
   ],
   "source": [
    "#Quiero saber qué coeficientes de la ecuación logística mi modelo me está botando... \n",
    "\n",
    "#Esto también es una forma de decir qué tanto mi modelo valora cada variable predictora\n",
    "df_weights = pd.DataFrame({'feature':X_train.columns.values, 'beta': np.round(logreg.coef_[0],4) })\n",
    "df_weights"
   ]
  },
  {
   "cell_type": "code",
   "execution_count": 0,
   "metadata": {
    "colab": {},
    "colab_type": "code",
    "id": "VYsk9g9t7bn1"
   },
   "outputs": [],
   "source": [
    "proba_pred_test = logreg.predict_proba(X_test)[:,1] #  #Quiero la probabilidades de mi modelo en un array de una dimensión"
   ]
  },
  {
   "cell_type": "markdown",
   "metadata": {},
   "source": [
    "### Podemos summitear las predicciones de nuestro modelo:"
   ]
  },
  {
   "cell_type": "code",
   "execution_count": 59,
   "metadata": {},
   "outputs": [
    {
     "name": "stdout",
     "output_type": "stream",
     "text": [
      "Se ha generado un csv con el nombre:  csv_logereg.csv\n"
     ]
    },
    {
     "data": {
      "text/html": [
       "<div>\n",
       "<style scoped>\n",
       "    .dataframe tbody tr th:only-of-type {\n",
       "        vertical-align: middle;\n",
       "    }\n",
       "\n",
       "    .dataframe tbody tr th {\n",
       "        vertical-align: top;\n",
       "    }\n",
       "\n",
       "    .dataframe thead th {\n",
       "        text-align: right;\n",
       "    }\n",
       "</style>\n",
       "<table border=\"1\" class=\"dataframe\">\n",
       "  <thead>\n",
       "    <tr style=\"text-align: right;\">\n",
       "      <th></th>\n",
       "      <th>Survived</th>\n",
       "    </tr>\n",
       "    <tr>\n",
       "      <th>PassengerId</th>\n",
       "      <th></th>\n",
       "    </tr>\n",
       "  </thead>\n",
       "  <tbody>\n",
       "    <tr>\n",
       "      <th>892</th>\n",
       "      <td>0</td>\n",
       "    </tr>\n",
       "    <tr>\n",
       "      <th>893</th>\n",
       "      <td>1</td>\n",
       "    </tr>\n",
       "    <tr>\n",
       "      <th>894</th>\n",
       "      <td>0</td>\n",
       "    </tr>\n",
       "    <tr>\n",
       "      <th>895</th>\n",
       "      <td>0</td>\n",
       "    </tr>\n",
       "    <tr>\n",
       "      <th>896</th>\n",
       "      <td>0</td>\n",
       "    </tr>\n",
       "  </tbody>\n",
       "</table>\n",
       "</div>"
      ],
      "text/plain": [
       "             Survived\n",
       "PassengerId          \n",
       "892                 0\n",
       "893                 1\n",
       "894                 0\n",
       "895                 0\n",
       "896                 0"
      ]
     },
     "execution_count": 59,
     "metadata": {},
     "output_type": "execute_result"
    }
   ],
   "source": [
    "sub_logreg = csv_a_submitir(logreg,name='csv_logereg.csv')\n",
    "sub_logreg.head()\n",
    "#Luego podemos editar nuestro dataframe sub_logreg para poder summitear con los cambios que hacemos a mano haciendo nuetra\n",
    "#edicion de dataframe."
   ]
  },
  {
   "cell_type": "markdown",
   "metadata": {
    "colab_type": "text",
    "id": "wX4qOlK5C64W"
   },
   "source": [
    "- Con el siguiente gráfico podemos evaluar si efectivamente nuestro punto de corte por default sería el mejor. Lamentablemente, scikitlearn no tiene un parámetro que nos ayude a optimizar nuestro punto de corte, sino tendremos que hacerlo a mano. Pero descuida. Esto no es tan difícil. Veremos:"
   ]
  },
  {
   "cell_type": "code",
   "execution_count": 0,
   "metadata": {
    "colab": {
     "base_uri": "https://localhost:8080/",
     "height": 421
    },
    "colab_type": "code",
    "id": "-9j0CI_e7boE",
    "outputId": "8b8b2ea0-0071-4f32-be15-fd4b2974f64f"
   },
   "outputs": [
    {
     "data": {
      "text/plain": [
       "[<matplotlib.lines.Line2D at 0x7f0ad19a0390>]"
      ]
     },
     "execution_count": 43,
     "metadata": {
      "tags": []
     },
     "output_type": "execute_result"
    },
    {
     "data": {
      "image/png": "[encoded data removed]",
      "text/plain": [
       "<Figure size 576x432 with 1 Axes>"
      ]
     },
     "metadata": {
      "tags": []
     },
     "output_type": "display_data"
    }
   ],
   "source": [
    "lista_de_accuracy = [] #Esta será la lista donde meteré todas mis variables\n",
    "for punto_de_corte in range(0,100):  #Itero por sobre todos los puntos de corte posibles (nota que estoy iterando solamente por sobre enteros)\n",
    "    pred_0_1 = [1 if x >= punto_de_corte/100 else 0 for x in proba_pred_test] #Para cada x en la variable donde están mis probabilidades, dame 1 si este x es > punto_de_corte \n",
    "    lista_de_accuracy.append(accuracy_score(y_test, pred_0_1)) #Agrega el accuracy_score resultante para cada punto de corte por el que hemos iterado\n",
    "\n",
    "xs = [x/100 for x in range(0,100)] #Una lista de en qué porcentaje de la iteración vamos\n",
    "ys = lista_de_accuracy # La lista de los accuracys\n",
    "\n",
    "plt.figure(figsize=(8,6)) #Es para modificar el tamaño del gráfico\n",
    "plt.grid(True) #Para que nuestro gráfico tenga esa rayitas y nos ubiquemos mejor\n",
    "plt.title('Esta es nuestra curva punto de corte vs accuracy') #El título del gráfico\n",
    "plt.xlabel('Punto de corte') #El título del eje X\n",
    "plt.ylabel('Accuracy') #El título del eje Y\n",
    "plt.plot(xs, ys) #Ploteamos nuestro gráfico con las variables que antes hemos creado"
   ]
  },
  {
   "cell_type": "markdown",
   "metadata": {
    "colab_type": "text",
    "id": "r7WDgnvV7boT"
   },
   "source": [
    "-  Cuál es entonces el punto de corte óptimo para maximizar nuestro accuracy? Ahora tendremos que **probar el modelo con ese punto de corte** \n",
    "\n",
    "Para esto haremos una lista donde podamos redondear las probabilidades que tenemos que son mayores a nuestro nuevo punto de corte"
   ]
  },
  {
   "cell_type": "code",
   "execution_count": 0,
   "metadata": {
    "colab": {
     "base_uri": "https://localhost:8080/",
     "height": 235
    },
    "colab_type": "code",
    "id": "64aEKjAS7boW",
    "outputId": "31f67340-b499-4f6b-ad9c-22b9a4f959fe"
   },
   "outputs": [
    {
     "data": {
      "text/plain": [
       "array([[1, 0, 0, 0, 0, 0, 0, 0, 0, 0, 0, 1, 0, 0, 0, 0, 0, 0, 1, 1, 0, 1,\n",
       "        0, 0, 1, 1, 0, 1, 1, 1, 0, 1, 0, 0, 0, 1, 1, 1, 0, 0, 1, 0, 1, 0,\n",
       "        0, 0, 0, 0, 1, 0, 0, 0, 0, 0, 0, 0, 0, 0, 0, 0, 1, 0, 1, 0, 0, 0,\n",
       "        1, 1, 1, 1, 0, 0, 1, 0, 0, 1, 0, 1, 1, 0, 1, 1, 1, 1, 0, 0, 1, 1,\n",
       "        1, 1, 1, 0, 0, 0, 1, 1, 0, 0, 1, 1, 0, 1, 0, 0, 1, 1, 1, 0, 0, 0,\n",
       "        0, 0, 0, 1, 0, 0, 0, 0, 1, 0, 1, 0, 0, 0, 0, 0, 0, 1, 1, 0, 0, 0,\n",
       "        0, 0, 1, 0, 0, 0, 0, 1, 0, 1, 0, 0, 0, 0, 1, 1, 1, 0, 0, 1, 0, 0,\n",
       "        0, 1, 0, 0, 1, 1, 0, 1, 0, 0, 0, 0, 0, 0, 1, 1, 0, 0, 0, 0, 1, 1,\n",
       "        1, 0, 0, 0, 0, 1, 1, 0, 0, 0, 1, 1, 0, 0, 0, 1, 1, 1, 0, 0, 0, 1,\n",
       "        1, 1, 0, 0, 1, 0, 1, 0, 1, 0, 0, 0, 0, 1, 0, 0, 0, 0, 0, 0, 0, 0,\n",
       "        0, 0, 0, 1, 1, 0, 0, 1, 1, 0, 0, 1, 0, 0, 0, 0, 1, 1, 1, 1, 0, 1,\n",
       "        1, 0, 1, 1, 0, 0, 0, 0, 0, 0, 1, 0, 0, 0, 0, 1, 0, 0, 0, 0, 1, 1,\n",
       "        0, 0, 0, 1]])"
      ]
     },
     "execution_count": 48,
     "metadata": {
      "tags": []
     },
     "output_type": "execute_result"
    }
   ],
   "source": [
    "predicciones_nuevo_pc = [1 if prob>=0.39 else 0 for prob in proba_pred_test]\n",
    "np.array([predicciones_nuevo_pc])"
   ]
  },
  {
   "cell_type": "code",
   "execution_count": 0,
   "metadata": {
    "colab": {
     "base_uri": "https://localhost:8080/",
     "height": 50
    },
    "colab_type": "code",
    "id": "vNTXpOii7boy",
    "outputId": "e469f91d-ed60-437d-c6fd-980e5f760ad3"
   },
   "outputs": [
    {
     "name": "stdout",
     "output_type": "stream",
     "text": [
      "El accuracy para mi primer modelo es :0.83208955\n",
      "El accuracy de mi modelo con nuevo threshold es :0.83582090\n"
     ]
    }
   ],
   "source": [
    "print('El accuracy para mi primer modelo es :{0:.8f}'.format(accuracy_score(y_test,logreg_pred)))\n",
    "print('El accuracy de mi modelo con nuevo threshold es :{0:.8f}'.format(accuracy_score(y_test,predicciones_nuevo_pc)))"
   ]
  },
  {
   "cell_type": "markdown",
   "metadata": {
    "colab_type": "text",
    "id": "EGNyONMo7bo-"
   },
   "source": [
    "### Clasificador de Árbol de Decisión (Decision Tree Classifier) "
   ]
  },
  {
   "cell_type": "markdown",
   "metadata": {
    "colab_type": "text",
    "id": "g10TzX1eHVMQ"
   },
   "source": [
    "Los árboles de decisión son los modelos más básicos de toda una gama de modelos. A pesar de que sean algo básicos, del concepto de cómo están organizados va a partir todos los demás subsiguientes modelos que veremos. Un ejemplo de esto son los siguientes Random Forest que veremos en esta clase o los AdaBoost, CatBoost, XGBoost y etc que veremos en siguientes clases"
   ]
  },
  {
   "cell_type": "code",
   "execution_count": 0,
   "metadata": {
    "_kg_hide-output": true,
    "colab": {},
    "colab_type": "code",
    "id": "sHs8mMG_7bpE"
   },
   "outputs": [],
   "source": [
    "from sklearn.tree import DecisionTreeClassifier\n",
    "from sklearn.metrics import accuracy_score #Para poder medir mi accuracy"
   ]
  },
  {
   "cell_type": "code",
   "execution_count": 0,
   "metadata": {
    "colab": {
     "base_uri": "https://localhost:8080/",
     "height": 118
    },
    "colab_type": "code",
    "id": "Qg7nkjl17bpK",
    "outputId": "15669733-e8ad-408b-f67c-9c364f79e736"
   },
   "outputs": [
    {
     "data": {
      "text/plain": [
       "DecisionTreeClassifier(class_weight=None, criterion='gini', max_depth=None,\n",
       "                       max_features=None, max_leaf_nodes=None,\n",
       "                       min_impurity_decrease=0.0, min_impurity_split=None,\n",
       "                       min_samples_leaf=1, min_samples_split=2,\n",
       "                       min_weight_fraction_leaf=0.0, presort=False,\n",
       "                       random_state=None, splitter='best')"
      ]
     },
     "execution_count": 53,
     "metadata": {
      "tags": []
     },
     "output_type": "execute_result"
    }
   ],
   "source": [
    "#Entreno mi árbol\n",
    "tree_clf = DecisionTreeClassifier()\n",
    "tree_clf.fit(X_train,y_train)"
   ]
  },
  {
   "cell_type": "code",
   "execution_count": 0,
   "metadata": {
    "colab": {
     "base_uri": "https://localhost:8080/",
     "height": 34
    },
    "colab_type": "code",
    "id": "KrmUfuoc7bpP",
    "outputId": "fb05e2d1-81e7-451c-e290-b2169b78fe00"
   },
   "outputs": [
    {
     "name": "stdout",
     "output_type": "stream",
     "text": [
      "Mi árbol tiene un accuracy de:  0.7388059701492538\n"
     ]
    }
   ],
   "source": [
    "tree_y_predict = tree_clf.predict(X_test)\n",
    "\n",
    "print('Mi árbol tiene un accuracy de: ', accuracy_score(y_test,tree_y_predict))"
   ]
  },
  {
   "cell_type": "markdown",
   "metadata": {
    "colab_type": "text",
    "id": "OyYJQxh7Hsdc"
   },
   "source": [
    "**¿Qué es una optimización de hiperparámetros?** Los hiperparámetros en ml son variables que están dentro del modelo y que pueden tomar diferentes valores. Estos diferentes valores son usualmente se toman en cuenta para poder darle mejor forma al modelo según los datos que tengas y **es necesario conocer la teoría que hay detrás de un modelo** para que puedas optimizarlos con mayor facilidad. Vamos a ver en la teoría cómo funcionan los árboles de decisión y qué significan sus hiperparámetros."
   ]
  },
  {
   "cell_type": "markdown",
   "metadata": {
    "colab_type": "text",
    "id": "oqt1avXi7bpX"
   },
   "source": [
    "- Aún podemos mejorar nuestro árbol testeando **solo uno** de sus hiperparámetros:"
   ]
  },
  {
   "cell_type": "code",
   "execution_count": 0,
   "metadata": {
    "colab": {
     "base_uri": "https://localhost:8080/",
     "height": 302
    },
    "colab_type": "code",
    "id": "haqZb9Lk7bpY",
    "outputId": "1740ef7d-5e2c-45a2-8ff9-92bdf911338e"
   },
   "outputs": [
    {
     "name": "stdout",
     "output_type": "stream",
     "text": [
      "Mi árbol da un accuracy de: 0.7873134328358209 cuando su max_depth es:  1\n",
      "Mi árbol da un accuracy de: 0.8022388059701493 cuando su max_depth es:  2\n",
      "Mi árbol da un accuracy de: 0.832089552238806 cuando su max_depth es:  3\n",
      "Mi árbol da un accuracy de: 0.8059701492537313 cuando su max_depth es:  4\n",
      "Mi árbol da un accuracy de: 0.8059701492537313 cuando su max_depth es:  5\n",
      "Mi árbol da un accuracy de: 0.7985074626865671 cuando su max_depth es:  6\n",
      "Mi árbol da un accuracy de: 0.7611940298507462 cuando su max_depth es:  7\n",
      "Mi árbol da un accuracy de: 0.746268656716418 cuando su max_depth es:  8\n",
      "Mi árbol da un accuracy de: 0.7574626865671642 cuando su max_depth es:  9\n",
      "Mi árbol da un accuracy de: 0.7425373134328358 cuando su max_depth es:  10\n",
      "Mi árbol da un accuracy de: 0.7350746268656716 cuando su max_depth es:  11\n",
      "Mi árbol da un accuracy de: 0.7276119402985075 cuando su max_depth es:  12\n",
      "Mi árbol da un accuracy de: 0.7425373134328358 cuando su max_depth es:  13\n",
      "Mi árbol da un accuracy de: 0.7276119402985075 cuando su max_depth es:  14\n",
      "Mi árbol da un accuracy de: 0.7276119402985075 cuando su max_depth es:  15\n",
      "Mi árbol da un accuracy de: 0.7276119402985075 cuando su max_depth es:  16\n",
      "Mi árbol da un accuracy de: 0.7388059701492538 cuando su max_depth es:  17\n"
     ]
    }
   ],
   "source": [
    "for i in range(1,18):\n",
    "    tree_clf = DecisionTreeClassifier(max_depth=i)\n",
    "    tree_clf.fit(X_train,y_train)\n",
    "    y_pred = tree_clf.predict(X_test)\n",
    "    print(\"Mi árbol da un accuracy de:\", accuracy_score(y_test,y_pred), \"cuando su max_depth es: \", i)"
   ]
  },
  {
   "cell_type": "markdown",
   "metadata": {
    "colab_type": "text",
    "id": "ZEzPtLOM7bpd"
   },
   "source": [
    "###### Entonces vamos a elegir el resultado que haga a nuestro modelo algo mejor :) "
   ]
  },
  {
   "cell_type": "code",
   "execution_count": 0,
   "metadata": {
    "colab": {
     "base_uri": "https://localhost:8080/",
     "height": 118
    },
    "colab_type": "code",
    "id": "atgM4Ls87bpe",
    "outputId": "1e661ab9-bf23-4309-a9b8-ad1ceaac5109"
   },
   "outputs": [
    {
     "data": {
      "text/plain": [
       "DecisionTreeClassifier(class_weight=None, criterion='gini', max_depth=3,\n",
       "                       max_features=None, max_leaf_nodes=None,\n",
       "                       min_impurity_decrease=0.0, min_impurity_split=None,\n",
       "                       min_samples_leaf=1, min_samples_split=2,\n",
       "                       min_weight_fraction_leaf=0.0, presort=False,\n",
       "                       random_state=None, splitter='best')"
      ]
     },
     "execution_count": 57,
     "metadata": {
      "tags": []
     },
     "output_type": "execute_result"
    }
   ],
   "source": [
    "tree_clf = DecisionTreeClassifier(max_depth=3)\n",
    "tree_clf.fit(X_train,y_train)"
   ]
  },
  {
   "cell_type": "code",
   "execution_count": 0,
   "metadata": {
    "colab": {},
    "colab_type": "code",
    "id": "rWEIxyqI7bpq"
   },
   "outputs": [],
   "source": [
    "y_pred_tree = tree_clf.predict(X_test)"
   ]
  },
  {
   "cell_type": "markdown",
   "metadata": {
    "colab_type": "text",
    "id": "BhKZgWvM7bpv"
   },
   "source": [
    "## Matriz de confusión:\n",
    "\n",
    "Cuenta el número de veces en que las predicciones hechas caen en **error tipo 1** y **error tipo 2**. Así como también cuenta las buenas predicciones que ha hecho nuestro modelo. \n",
    "\n",
    "- **Error tipo1**: De manera errónea se predijo 1 cuando en realidad es 0. Es decir, nuestro algoritmo nos dijo que una personas sobrevivió cuando en realidad estaba muerta.\n",
    "\n",
    "- **Error tipo2**: De manera errónea se predijo 0 cuando en realidad es 1. Nuestro modelo nos dice que una persona ha muerto cuando en realidad ha sobrevivido.\n",
    "\n",
    "- **True Positive(Verdadero Positivo)**: Nos dice que es 1 cuando efectivamente es 1. Predice de manera correcta la supervivencia.\n",
    "\n",
    "- **False Negative (Falso Negativo)**: Nos dice que es 0 cuando de verdad es 0. Cuántos casos predice de manera correcta la no-supervivencia. \n"
   ]
  },
  {
   "cell_type": "code",
   "execution_count": 0,
   "metadata": {
    "colab": {
     "base_uri": "https://localhost:8080/",
     "height": 476
    },
    "colab_type": "code",
    "id": "Hci1hlDk7bpw",
    "outputId": "339d08a9-b8c2-4c08-f713-5334ba745633"
   },
   "outputs": [
    {
     "data": {
      "text/plain": [
       "<matplotlib.axes._subplots.AxesSubplot at 0x7f0acff8cf98>"
      ]
     },
     "execution_count": 59,
     "metadata": {
      "tags": []
     },
     "output_type": "execute_result"
    },
    {
     "data": {
      "image/png": "[encoded data removed]",
      "text/plain": [
       "<Figure size 720x504 with 2 Axes>"
      ]
     },
     "metadata": {
      "tags": []
     },
     "output_type": "display_data"
    }
   ],
   "source": [
    "#Plotearemos una matriz de confusión\n",
    "from sklearn.metrics import confusion_matrix\n",
    "\n",
    "conf_matrix = confusion_matrix(y_test,y_pred_tree) #Creo la matriz de confusón así de fácil\n",
    "\n",
    "plt.figure(figsize=(10,7))\n",
    "\n",
    "plt.title('Mi Primer Arbol de Decisión \\n Con accuracy de :{0:.3f}'.format(accuracy_score(y_test, y_pred_tree)))\n",
    "plt.xlabel('')\n",
    "plt.ylabel('')\n",
    "sns.heatmap(conf_matrix, annot = True, annot_kws={\"size\": 18}, fmt=\".1f\")"
   ]
  },
  {
   "cell_type": "code",
   "execution_count": 0,
   "metadata": {
    "colab": {
     "base_uri": "https://localhost:8080/",
     "height": 34
    },
    "colab_type": "code",
    "id": "1pL8tT8-7bp6",
    "outputId": "40cbd00d-89e6-419c-8e2e-f57cd512215f"
   },
   "outputs": [
    {
     "data": {
      "text/plain": [
       "107"
      ]
     },
     "execution_count": 60,
     "metadata": {
      "tags": []
     },
     "output_type": "execute_result"
    }
   ],
   "source": [
    "#Y si no me creen...\n",
    "#Confirmemos efectivamente lo que nuestra data nos dice:\n",
    "y_test[y_test == 1].sum()"
   ]
  },
  {
   "cell_type": "code",
   "execution_count": 0,
   "metadata": {
    "colab": {},
    "colab_type": "code",
    "id": "eex9ivD27bp_"
   },
   "outputs": [],
   "source": []
  },
  {
   "cell_type": "code",
   "execution_count": 0,
   "metadata": {
    "colab": {},
    "colab_type": "code",
    "id": "JmwTQi627bqH"
   },
   "outputs": [],
   "source": []
  },
  {
   "cell_type": "markdown",
   "metadata": {
    "colab_type": "text",
    "id": "mgWU-i2H7bqM"
   },
   "source": [
    "## Una evolución de los Árboles de Decisión: Bosques Aleatorios (Random Forest)\n",
    "\n",
    "- Un RandomForest es un agregado de árboles de decisiones, donde cada uno de estos árboles se entrena con diferentes partes de la data escogida de manera aleatoria. Luego de tener una cierta cantidad de árboles (500 en el ejemplo) se hace una votación para hacer cada predicción.  "
   ]
  },
  {
   "cell_type": "code",
   "execution_count": 0,
   "metadata": {
    "colab": {},
    "colab_type": "code",
    "id": "HV3Mehzy7bqN"
   },
   "outputs": [],
   "source": [
    "from sklearn.ensemble import RandomForestClassifier"
   ]
  },
  {
   "cell_type": "code",
   "execution_count": 0,
   "metadata": {
    "colab": {
     "base_uri": "https://localhost:8080/",
     "height": 34
    },
    "colab_type": "code",
    "id": "Gy2lWmLK7bqa",
    "outputId": "c440f9a1-5ddf-4def-e3f6-99a87906ccc9"
   },
   "outputs": [
    {
     "name": "stdout",
     "output_type": "stream",
     "text": [
      "El accuracy de mi RandomForest es: 0.832089552238806\n"
     ]
    }
   ],
   "source": [
    "#Random Forest Classifier model\n",
    "rnd_clf = RandomForestClassifier(n_estimators = 1000, n_jobs = -1,max_depth=3)\n",
    "rnd_clf.fit(X_train,y_train)\n",
    "\n",
    "#Predicting\n",
    "y_pred_rnd = rnd_clf.predict(X_test)\n",
    "\n",
    "print(\"El accuracy de mi RandomForest es:\", accuracy_score(y_test,y_pred_rnd))"
   ]
  },
  {
   "cell_type": "markdown",
   "metadata": {
    "colab_type": "text",
    "id": "12bTPeLl7bqo"
   },
   "source": [
    "- También sacaremos matriz de confusión para este caso: "
   ]
  },
  {
   "cell_type": "code",
   "execution_count": 0,
   "metadata": {
    "colab": {
     "base_uri": "https://localhost:8080/",
     "height": 476
    },
    "colab_type": "code",
    "id": "KLhPOeeZ7bqt",
    "outputId": "13c30334-05b5-4aed-bca9-655662f9806f"
   },
   "outputs": [
    {
     "data": {
      "text/plain": [
       "<matplotlib.axes._subplots.AxesSubplot at 0x7f0ad195bb38>"
      ]
     },
     "execution_count": 65,
     "metadata": {
      "tags": []
     },
     "output_type": "execute_result"
    },
    {
     "data": {
      "image/png": "[encoded data removed]",
      "text/plain": [
       "<Figure size 720x504 with 2 Axes>"
      ]
     },
     "metadata": {
      "tags": []
     },
     "output_type": "display_data"
    }
   ],
   "source": [
    "from sklearn.metrics import confusion_matrix\n",
    "\n",
    "conf_matrix = confusion_matrix(y_test,y_pred_rnd) #Creo la matriz de confusón así de fácil\n",
    "\n",
    "plt.figure(figsize=(10,7))\n",
    "\n",
    "plt.title('Mi Primer Arbol de Decisión \\n Con accuracy de :{0:.3f}'.format(accuracy_score(y_test, y_pred_rnd)))\n",
    "plt.xlabel('Nuestra data nos ha dicho que')\n",
    "plt.ylabel('Nuestro algoritmo dice que')\n",
    "sns.heatmap(conf_matrix, annot = True, annot_kws={\"size\": 18}, fmt=\".1f\")"
   ]
  },
  {
   "cell_type": "markdown",
   "metadata": {
    "colab_type": "text",
    "id": "XCYtm_Gq7bq6"
   },
   "source": [
    "- Una de las mayores ventajas de entrenar un árbol de decisión y mejor aún un random forest, es que podemos ver cuáles son nuestras variables más importantes. "
   ]
  },
  {
   "cell_type": "code",
   "execution_count": 0,
   "metadata": {
    "colab": {
     "base_uri": "https://localhost:8080/",
     "height": 730
    },
    "colab_type": "code",
    "id": "dVwasBDB7bq7",
    "outputId": "b7ce40b0-c416-4b4e-b288-ab5810734e7e"
   },
   "outputs": [
    {
     "data": {
      "image/png": "[encoded data removed]",
      "text/plain": [
       "<Figure size 576x864 with 1 Axes>"
      ]
     },
     "metadata": {
      "tags": []
     },
     "output_type": "display_data"
    }
   ],
   "source": [
    "#Saquemos los valores más importantes \n",
    "importances = rnd_clf.feature_importances_\n",
    "cols = X_train.columns\n",
    "plt.figure(figsize=(8,12))\n",
    "indices = np.argsort(importances)\n",
    "plt.title('Feature Importances')\n",
    "plt.barh(range(len(indices)), importances[indices], align = 'center')\n",
    "plt.yticks(range(len(indices)),[cols[i] for i in indices])\n",
    "plt.xlabel('Relative Importance')\n",
    "plt.show()"
   ]
  },
  {
   "cell_type": "markdown",
   "metadata": {
    "colab_type": "text",
    "id": "8rJP-4Pe7brB"
   },
   "source": [
    "- Acá es cuando yo veo y evalúo si puedo o debo crear más features para mejorar el modelo o no."
   ]
  },
  {
   "cell_type": "code",
   "execution_count": 0,
   "metadata": {
    "colab": {
     "base_uri": "https://localhost:8080/",
     "height": 34
    },
    "colab_type": "code",
    "id": "6j0DBFok7brC",
    "outputId": "5e47cbd6-ea50-404d-d92c-7d2455925b33"
   },
   "outputs": [
    {
     "data": {
      "text/plain": [
       "0.832089552238806"
      ]
     },
     "execution_count": 67,
     "metadata": {
      "tags": []
     },
     "output_type": "execute_result"
    }
   ],
   "source": [
    "X_train_2 = X_train.drop(['Viaja_solo','es_niño'],axis=1)\n",
    "rnd_clf.fit(X_train_2,y_train)\n",
    "rnd_clf.score(X_test.drop(['Viaja_solo','es_niño'],axis=1),y_test)"
   ]
  },
  {
   "cell_type": "markdown",
   "metadata": {
    "colab_type": "text",
    "id": "Qx0eGT0q7brK"
   },
   "source": [
    "### Agregando rápidamente otro modelo: SupportVectorClassifier"
   ]
  },
  {
   "cell_type": "code",
   "execution_count": 0,
   "metadata": {
    "colab": {
     "base_uri": "https://localhost:8080/",
     "height": 34
    },
    "colab_type": "code",
    "id": "zCG-cycr7brM",
    "outputId": "4040cfee-3bf5-466d-aef0-9e13d859299b"
   },
   "outputs": [
    {
     "data": {
      "text/plain": [
       "0.8283582089552238"
      ]
     },
     "execution_count": 68,
     "metadata": {
      "tags": []
     },
     "output_type": "execute_result"
    }
   ],
   "source": [
    "from sklearn.svm import SVC\n",
    "svc = SVC(probability=True)\n",
    "\n",
    "svc.fit(X_train,y_train)\n",
    "svc_predict = svc.predict(X_test)\n",
    "\n",
    "accuracy_score(y_test,svc_predict)"
   ]
  },
  {
   "cell_type": "markdown",
   "metadata": {
    "colab_type": "text",
    "id": "aiIfwYek7brR"
   },
   "source": [
    "### Curvas ROC ¿Qué modelo tiene un mejor performance?"
   ]
  },
  {
   "cell_type": "code",
   "execution_count": 0,
   "metadata": {
    "colab": {
     "base_uri": "https://localhost:8080/",
     "height": 101
    },
    "colab_type": "code",
    "id": "c0lJU8hMNMk4",
    "outputId": "a95f61f7-20ab-4729-9b8c-e568f7cd5a34"
   },
   "outputs": [
    {
     "name": "stdout",
     "output_type": "stream",
     "text": [
      "Requirement already satisfied: sklearn in /usr/local/lib/python3.6/dist-packages (0.0)\n",
      "Requirement already satisfied: scikit-learn in /usr/local/lib/python3.6/dist-packages (from sklearn) (0.21.3)\n",
      "Requirement already satisfied: numpy>=1.11.0 in /usr/local/lib/python3.6/dist-packages (from scikit-learn->sklearn) (1.16.5)\n",
      "Requirement already satisfied: scipy>=0.17.0 in /usr/local/lib/python3.6/dist-packages (from scikit-learn->sklearn) (1.3.1)\n",
      "Requirement already satisfied: joblib>=0.11 in /usr/local/lib/python3.6/dist-packages (from scikit-learn->sklearn) (0.14.0)\n"
     ]
    }
   ],
   "source": []
  },
  {
   "cell_type": "code",
   "execution_count": 0,
   "metadata": {
    "colab": {},
    "colab_type": "code",
    "id": "M5grXbi77brS"
   },
   "outputs": [],
   "source": [
    "from sklearn.metrics import roc_curve\n",
    "from sklearn.metrics import roc_auc_score \n",
    "\n",
    "clasificadores = [logreg, tree_clf, rnd_clf, svc] #Hacemos una lista de clasificadores\n",
    "\n",
    "tabla_resultados = pd.DataFrame(columns=['clasificadores', 'fpr','tpr','auc']) #Haremos un dataframe (tabla) para almacenar mis métricas\n",
    "\n",
    "for cls in clasificadores: #Para cada clasificador\n",
    "    model = cls.fit(X_train, y_train) #Entrenalo\n",
    "    yproba = model.predict_proba(X_test)[::,1] #Sacale las probabilidades\n",
    "    \n",
    "    fpr, tpr, _ = roc_curve(y_test,  yproba) #Danos su curva roc\n",
    "    auc = roc_auc_score(y_test, yproba) #Y su métrica auc\n",
    "    \n",
    "    tabla_resultados = tabla_resultados.append({'clasificadores':None,\n",
    "                                        'fpr':fpr, \n",
    "                                        'tpr':tpr, \n",
    "                                        'auc':auc}, ignore_index=True) #Así ordenamos nuestra data\n"
   ]
  },
  {
   "cell_type": "code",
   "execution_count": 0,
   "metadata": {
    "colab": {
     "base_uri": "https://localhost:8080/",
     "height": 195
    },
    "colab_type": "code",
    "id": "cnJ6aUXF7bra",
    "outputId": "31dd8816-ecb8-47cf-9b54-a5b7e02cd582"
   },
   "outputs": [
    {
     "data": {
      "text/html": [
       "<div>\n",
       "<style scoped>\n",
       "    .dataframe tbody tr th:only-of-type {\n",
       "        vertical-align: middle;\n",
       "    }\n",
       "\n",
       "    .dataframe tbody tr th {\n",
       "        vertical-align: top;\n",
       "    }\n",
       "\n",
       "    .dataframe thead th {\n",
       "        text-align: right;\n",
       "    }\n",
       "</style>\n",
       "<table border=\"1\" class=\"dataframe\">\n",
       "  <thead>\n",
       "    <tr style=\"text-align: right;\">\n",
       "      <th></th>\n",
       "      <th>fpr</th>\n",
       "      <th>tpr</th>\n",
       "      <th>auc</th>\n",
       "    </tr>\n",
       "    <tr>\n",
       "      <th>clasificadores</th>\n",
       "      <th></th>\n",
       "      <th></th>\n",
       "      <th></th>\n",
       "    </tr>\n",
       "  </thead>\n",
       "  <tbody>\n",
       "    <tr>\n",
       "      <th>RegresionLogistica</th>\n",
       "      <td>[0.0, 0.0, 0.0, 0.006211180124223602, 0.006211...</td>\n",
       "      <td>[0.0, 0.009345794392523364, 0.3551401869158878...</td>\n",
       "      <td>0.883294</td>\n",
       "    </tr>\n",
       "    <tr>\n",
       "      <th>ArbolDecision</th>\n",
       "      <td>[0.0, 0.012422360248447204, 0.0124223602484472...</td>\n",
       "      <td>[0.0, 0.4392523364485981, 0.5233644859813084, ...</td>\n",
       "      <td>0.877779</td>\n",
       "    </tr>\n",
       "    <tr>\n",
       "      <th>RandomForest</th>\n",
       "      <td>[0.0, 0.0, 0.0, 0.006211180124223602, 0.006211...</td>\n",
       "      <td>[0.0, 0.009345794392523364, 0.2990654205607476...</td>\n",
       "      <td>0.881784</td>\n",
       "    </tr>\n",
       "    <tr>\n",
       "      <th>SVC</th>\n",
       "      <td>[0.0, 0.0, 0.0, 0.006211180124223602, 0.006211...</td>\n",
       "      <td>[0.0, 0.009345794392523364, 0.2242990654205607...</td>\n",
       "      <td>0.815841</td>\n",
       "    </tr>\n",
       "  </tbody>\n",
       "</table>\n",
       "</div>"
      ],
      "text/plain": [
       "                                                                  fpr  ...       auc\n",
       "clasificadores                                                         ...          \n",
       "RegresionLogistica  [0.0, 0.0, 0.0, 0.006211180124223602, 0.006211...  ...  0.883294\n",
       "ArbolDecision       [0.0, 0.012422360248447204, 0.0124223602484472...  ...  0.877779\n",
       "RandomForest        [0.0, 0.0, 0.0, 0.006211180124223602, 0.006211...  ...  0.881784\n",
       "SVC                 [0.0, 0.0, 0.0, 0.006211180124223602, 0.006211...  ...  0.815841\n",
       "\n",
       "[4 rows x 3 columns]"
      ]
     },
     "execution_count": 78,
     "metadata": {
      "tags": []
     },
     "output_type": "execute_result"
    }
   ],
   "source": [
    "#Acá simplemente pondremos nuestros clasificadores como index\n",
    "tabla_resultados['clasificadores'] = ['RegresionLogistica','ArbolDecision','RandomForest','SVC']\n",
    "tabla_resultados.set_index('clasificadores', inplace=True)\n",
    "tabla_resultados"
   ]
  },
  {
   "cell_type": "code",
   "execution_count": 0,
   "metadata": {
    "_kg_hide-output": true,
    "colab": {},
    "colab_type": "code",
    "id": "9SULndfi7brf",
    "outputId": "765180f4-d93e-4b6d-d755-181464b8aebf"
   },
   "outputs": [
    {
     "data": {
      "image/png": "[encoded data removed]",
      "text/plain": [
       "<Figure size 576x432 with 1 Axes>"
      ]
     },
     "metadata": {
      "needs_background": "light",
      "tags": []
     },
     "output_type": "display_data"
    }
   ],
   "source": [
    "fig = plt.figure(figsize=(8,6))\n",
    "\n",
    "for i in tabla_resultados.index:\n",
    "    plt.plot(tabla_resultados.loc[i]['fpr'], \n",
    "             tabla_resultados.loc[i]['tpr'], \n",
    "             label=\"{}, AUC={:.3f}\".format(i, tabla_resultados.loc[i]['auc']))\n",
    "    \n",
    "plt.plot([0,1], [0,1], color='orange', linestyle='--')\n",
    "\n",
    "plt.xticks(np.arange(0.0, 1.1, step=0.1))\n",
    "plt.xlabel(\"Falsos Positivos\", fontsize=15)\n",
    "\n",
    "plt.yticks(np.arange(0.0, 1.1, step=0.1))\n",
    "plt.ylabel(\"Verdaderos Positivos\", fontsize=15)\n",
    "\n",
    "plt.title('Análisis de la curva ROC', fontweight='bold', fontsize=15)\n",
    "plt.legend(prop={'size':12}, loc='lower right')\n",
    "\n",
    "plt.show()"
   ]
  },
  {
   "cell_type": "code",
   "execution_count": 0,
   "metadata": {
    "colab": {},
    "colab_type": "code",
    "id": "C5p_99Y-7brx"
   },
   "outputs": [],
   "source": []
  },
  {
   "cell_type": "code",
   "execution_count": 0,
   "metadata": {
    "colab": {},
    "colab_type": "code",
    "id": "HjojE6N-7bsC"
   },
   "outputs": [],
   "source": []
  },
  {
   "cell_type": "markdown",
   "metadata": {
    "_kg_hide-output": true,
    "colab_type": "text",
    "collapsed": true,
    "id": "arwflAvN7bsF"
   },
   "source": [
    "## Haciendo submit a mis predicciones"
   ]
  },
  {
   "cell_type": "code",
   "execution_count": 0,
   "metadata": {
    "colab": {},
    "colab_type": "code",
    "id": "vq_xnBc27bsK"
   },
   "outputs": [],
   "source": [
    "#Falta hacer función que nos permita hacer un csv con la forma que nos pide la competencia de kaggle.\n",
    "preds = model.predict(X_test)"
   ]
  },
  {
   "cell_type": "code",
   "execution_count": 0,
   "metadata": {
    "colab": {},
    "colab_type": "code",
    "id": "EKPh-hAr7bsO"
   },
   "outputs": [],
   "source": [
    "sub = pd.read_csv('gender_submission.csv')"
   ]
  },
  {
   "cell_type": "code",
   "execution_count": 0,
   "metadata": {
    "colab": {},
    "colab_type": "code",
    "id": "m3F8oEEW7bsV"
   },
   "outputs": [],
   "source": [
    "sub['Survived'] = pred"
   ]
  },
  {
   "cell_type": "code",
   "execution_count": 0,
   "metadata": {
    "colab": {},
    "colab_type": "code",
    "id": "AMuaMhG57bsd"
   },
   "outputs": [],
   "source": [
    "sub.to_csv('submission.csv')"
   ]
  },
  {
   "cell_type": "code",
   "execution_count": 0,
   "metadata": {
    "colab": {},
    "colab_type": "code",
    "id": "zUnMzISJ7bsq"
   },
   "outputs": [],
   "source": [
    "sub.index = sub.PassengerId"
   ]
  },
  {
   "cell_type": "code",
   "execution_count": 0,
   "metadata": {
    "colab": {},
    "colab_type": "code",
    "id": "ulxNmj7J7bsy"
   },
   "outputs": [],
   "source": [
    "sub.drop('PassengerId',axis=1)"
   ]
  },
  {
   "cell_type": "code",
   "execution_count": 0,
   "metadata": {
    "colab": {},
    "colab_type": "code",
    "id": "g8L_r3Oi7btF"
   },
   "outputs": [],
   "source": []
  }
 ],
 "metadata": {
  "colab": {
   "collapsed_sections": [],
   "name": "Titanic_parte_02_Machine_Learning01.ipynb",
   "provenance": []
  },
  "kernelspec": {
   "display_name": "Python 3",
   "language": "python",
   "name": "python3"
  },
  "language_info": {
   "codemirror_mode": {
    "name": "ipython",
    "version": 3
   },
   "file_extension": ".py",
   "mimetype": "text/x-python",
   "name": "python",
   "nbconvert_exporter": "python",
   "pygments_lexer": "ipython3",
   "version": "3.7.1"
  }
 },
 "nbformat": 4,
 "nbformat_minor": 1
}
