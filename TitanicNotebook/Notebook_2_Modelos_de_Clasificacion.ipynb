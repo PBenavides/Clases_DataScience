{
  "nbformat": 4,
  "nbformat_minor": 0,
  "metadata": {
    "kernelspec": {
      "display_name": "Python 3",
      "language": "python",
      "name": "python3"
    },
    "language_info": {
      "codemirror_mode": {
        "name": "ipython",
        "version": 3
      },
      "file_extension": ".py",
      "mimetype": "text/x-python",
      "name": "python",
      "nbconvert_exporter": "python",
      "pygments_lexer": "ipython3",
      "version": "3.7.5"
    },
    "colab": {
      "name": "Sesion3_Modelos_de_Clasificacion.ipynb",
      "provenance": [],
      "collapsed_sections": []
    }
  },
  "cells": [
    {
      "cell_type": "markdown",
      "metadata": {
        "id": "gntRVr93v5bS"
      },
      "source": [
        "# Bienvenido a tu primer competencia de ciencia de datos!!!\n",
        "\n",
        "En este notebook desarrollaremos el problema del Titanic. Este dataset es el más popular entre todos los que quieren iniciar en este mundo de la Ciencia de Datos. Buscamos predecir si un pasajero, con ciertas caractéristicas, sobrevivió o no a esta tragedia ocurrida en el siglo 20.\n",
        "\n",
        "\n",
        "![](https://storage.googleapis.com/kaggle-competitions/kaggle/3136/logos/header.png)"
      ]
    },
    {
      "cell_type": "markdown",
      "metadata": {
        "id": "63BgzqwPv5bc"
      },
      "source": [
        "En este caso, tenemos dos tablas de datos: train y summit (test.csv). Ahora, esta data ha sido sacada de una **competencia de Kaggle** Por eso, la data que nombraremos como **summit contendrá la base para poder aplicar nuestro modelo ya completado**. El mismo Kaggle se encargará de saber si es un buen modelo o no. Posteriormente, esta tabla nombrada **train nos servirá tanto para entrenar como para testear nuestrso modelos**.\n",
        "El link de la competencia es: https://www.kaggle.com/c/titanic"
      ]
    },
    {
      "cell_type": "code",
      "metadata": {
        "id": "m6OYvTBFv5bX"
      },
      "source": [
        "\"CELDA N°42\"\n",
        "import pandas as pd\n",
        "import numpy as np\n",
        "import matplotlib.pyplot as plt\n",
        "import seaborn as sns\n",
        "import random #Una librería para manejar números aleatorios\n",
        "import missingno as ms #Librería muy útil para ver los valores nulos\n",
        "\n",
        "#Usualmente salen advertencias de actualizaciones pasadas de las librerías, las ignoramos por ahora...\n",
        "import warnings\n",
        "warnings.filterwarnings('ignore')"
      ],
      "execution_count": 7,
      "outputs": []
    },
    {
      "cell_type": "code",
      "metadata": {
        "id": "yIplEOHeWHYa"
      },
      "source": [
        "\"CELDA N043\"\n",
        "train = pd.read_csv('https://raw.githubusercontent.com/HackSpacePeru/Datasets_intro_Data_Science/master/Titanic/train_preproc_titanic.csv')\n",
        "summit = pd.read_csv('https://raw.githubusercontent.com/HackSpacePeru/Datasets_intro_Data_Science/master/Titanic/summit_preproc_titanic.csv')"
      ],
      "execution_count": 8,
      "outputs": []
    },
    {
      "cell_type": "code",
      "metadata": {
        "id": "spJZ93kaL9o5"
      },
      "source": [
        ""
      ],
      "execution_count": 8,
      "outputs": []
    },
    {
      "cell_type": "markdown",
      "metadata": {
        "id": "OeRX0HFg0dNx"
      },
      "source": [
        "##**Partición de la data para entrenamiento**"
      ]
    },
    {
      "cell_type": "code",
      "metadata": {
        "id": "_ImtWm5ELlIG"
      },
      "source": [
        "\"CELDA N°44\"\n",
        "#Tendremos que crear nuestras variables predictoras X y nuestra variable objetivo Y\n",
        "X = train.drop('Sobrevivio',axis=1)\n",
        "y = train['Sobrevivio']"
      ],
      "execution_count": 9,
      "outputs": []
    },
    {
      "cell_type": "code",
      "metadata": {
        "id": "W076YUJhMR_v"
      },
      "source": [
        "\"CELDA N°45\"\n",
        "#Dividimos cada variable para el entrenamiento del modelo importando la lilbrería train_test_split\n",
        "from sklearn.model_selection import train_test_split\n",
        "X_train, X_test, y_train, y_test= train_test_split(X,y,test_size = 0.15,random_state=1) #Separa el 15% de la data para generar las predicciones"
      ],
      "execution_count": 10,
      "outputs": []
    },
    {
      "cell_type": "code",
      "metadata": {
        "id": "5QsCbDrtOGjO",
        "outputId": "4f6e960c-768f-4d8d-a8eb-a653e9115472",
        "colab": {
          "base_uri": "https://localhost:8080/",
          "height": 51
        }
      },
      "source": [
        "\"CELDA N°46\"\n",
        "#Mostramos con el parámetro shape la cantidad de filas que resultaron en cada parte\n",
        "print('Para el X_train:', X_train.shape, 'y para el y_train',y_train.shape)\n",
        "print('Para el X_test:',X_test.shape,'y para el y_test',y_test.shape)"
      ],
      "execution_count": 11,
      "outputs": [
        {
          "output_type": "stream",
          "text": [
            "Para el X_train: (757, 7) y para el y_train (757,)\n",
            "Para el X_test: (134, 7) y para el y_test (134,)\n"
          ],
          "name": "stdout"
        }
      ]
    },
    {
      "cell_type": "markdown",
      "metadata": {
        "id": "t2JdTlTL00H1"
      },
      "source": [
        "##**Modelo de Regresión Logística**"
      ]
    },
    {
      "cell_type": "code",
      "metadata": {
        "id": "1R0tp9tiOmvd",
        "outputId": "37a3a266-e4bc-47c5-9a72-91f7ee4dec6a",
        "colab": {
          "base_uri": "https://localhost:8080/",
          "height": 136
        }
      },
      "source": [
        "\"CELDA N°47\"\n",
        "#Entrenamos los datos importando la librería LogisticRegression\n",
        "from sklearn.linear_model import LogisticRegression\n",
        "logreg = LogisticRegression(random_state=1) #creamos la variable logreg para el modelo de regresión logística\n",
        "logreg.fit(X_train, y_train) #entrenamos el modelo de regresión logística usando los datos de X_train, y_train\n",
        "\n",
        "\n",
        "\n",
        "\n",
        "logreg_pred = logreg.predict(X_test) #generamos las predicciones con X_test usando el modelo de regresión logística\n",
        "logreg_pred #mostramos las predicciones generadas 0 cuando no sobrevive 1 cuando sí sobrevive"
      ],
      "execution_count": 12,
      "outputs": [
        {
          "output_type": "execute_result",
          "data": {
            "text/plain": [
              "array([1, 0, 1, 1, 1, 0, 0, 1, 1, 1, 0, 1, 0, 0, 1, 0, 0, 0, 0, 1, 0, 0,\n",
              "       1, 0, 0, 0, 1, 1, 0, 1, 1, 0, 0, 1, 0, 0, 0, 0, 1, 0, 1, 1, 1, 0,\n",
              "       1, 0, 0, 0, 0, 0, 0, 1, 0, 0, 0, 1, 0, 0, 0, 1, 0, 0, 0, 0, 0, 1,\n",
              "       0, 0, 0, 0, 0, 0, 0, 0, 1, 0, 1, 0, 0, 1, 0, 0, 0, 0, 1, 0, 0, 0,\n",
              "       0, 1, 0, 0, 0, 1, 0, 0, 0, 1, 0, 0, 0, 0, 0, 1, 1, 0, 0, 0, 0, 0,\n",
              "       1, 0, 0, 0, 0, 0, 0, 0, 1, 1, 1, 0, 0, 0, 1, 1, 1, 1, 0, 0, 0, 0,\n",
              "       0, 0])"
            ]
          },
          "metadata": {
            "tags": []
          },
          "execution_count": 12
        }
      ]
    },
    {
      "cell_type": "markdown",
      "metadata": {
        "id": "CtY4Fv051EyZ"
      },
      "source": [
        "###*Score de la regresión logística*"
      ]
    },
    {
      "cell_type": "code",
      "metadata": {
        "id": "-oWjADzMQKPS",
        "outputId": "7bad322c-6751-4e43-8f0c-1cd9059c920d",
        "colab": {
          "base_uri": "https://localhost:8080/",
          "height": 34
        }
      },
      "source": [
        "\"CELDA N°48\"\n",
        "#Calculamos el score de accuracy comparando las predicciones generadas versus y_test importando la librería accuracy_score\n",
        "from sklearn.metrics import accuracy_score\n",
        "print('El accuracy para mi primero modelo es :{0:.8f}'.format(accuracy_score(y_test,logreg_pred))) #usando la expresión regex .8f para mostrar 8 decimales"
      ],
      "execution_count": 13,
      "outputs": [
        {
          "output_type": "stream",
          "text": [
            "El accuracy para mi primero modelo es :0.80597015\n"
          ],
          "name": "stdout"
        }
      ]
    },
    {
      "cell_type": "markdown",
      "metadata": {
        "id": "sVp6M5qM1QcJ"
      },
      "source": [
        "###*Coeficientes de la regresión logística*"
      ]
    },
    {
      "cell_type": "code",
      "metadata": {
        "id": "h3Jpc93IQvHa",
        "outputId": "ba17ef7e-ab60-4e28-deae-423908f28a7f",
        "colab": {
          "base_uri": "https://localhost:8080/",
          "height": 266
        }
      },
      "source": [
        "\"CELDA N°49\"\n",
        "#Mostramos los coeficientes de la ecuación obtenida con la regresión logísticas\n",
        "coeficientes = pd.DataFrame({'variables':X_train.columns.values, 'betas': np.round(logreg.coef_[0],4) })\n",
        "coeficientes"
      ],
      "execution_count": 14,
      "outputs": [
        {
          "output_type": "execute_result",
          "data": {
            "text/html": [
              "<div>\n",
              "<style scoped>\n",
              "    .dataframe tbody tr th:only-of-type {\n",
              "        vertical-align: middle;\n",
              "    }\n",
              "\n",
              "    .dataframe tbody tr th {\n",
              "        vertical-align: top;\n",
              "    }\n",
              "\n",
              "    .dataframe thead th {\n",
              "        text-align: right;\n",
              "    }\n",
              "</style>\n",
              "<table border=\"1\" class=\"dataframe\">\n",
              "  <thead>\n",
              "    <tr style=\"text-align: right;\">\n",
              "      <th></th>\n",
              "      <th>variables</th>\n",
              "      <th>betas</th>\n",
              "    </tr>\n",
              "  </thead>\n",
              "  <tbody>\n",
              "    <tr>\n",
              "      <th>0</th>\n",
              "      <td>Pclass</td>\n",
              "      <td>-0.9037</td>\n",
              "    </tr>\n",
              "    <tr>\n",
              "      <th>1</th>\n",
              "      <td>Genero</td>\n",
              "      <td>0.7561</td>\n",
              "    </tr>\n",
              "    <tr>\n",
              "      <th>2</th>\n",
              "      <td>Edad</td>\n",
              "      <td>-0.7345</td>\n",
              "    </tr>\n",
              "    <tr>\n",
              "      <th>3</th>\n",
              "      <td>Tarifa</td>\n",
              "      <td>0.1102</td>\n",
              "    </tr>\n",
              "    <tr>\n",
              "      <th>4</th>\n",
              "      <td>P_embarque</td>\n",
              "      <td>0.0930</td>\n",
              "    </tr>\n",
              "    <tr>\n",
              "      <th>5</th>\n",
              "      <td>Miembros_de_fam</td>\n",
              "      <td>-0.3521</td>\n",
              "    </tr>\n",
              "    <tr>\n",
              "      <th>6</th>\n",
              "      <td>Viaja_solo</td>\n",
              "      <td>-0.7824</td>\n",
              "    </tr>\n",
              "  </tbody>\n",
              "</table>\n",
              "</div>"
            ],
            "text/plain": [
              "         variables   betas\n",
              "0           Pclass -0.9037\n",
              "1           Genero  0.7561\n",
              "2             Edad -0.7345\n",
              "3           Tarifa  0.1102\n",
              "4       P_embarque  0.0930\n",
              "5  Miembros_de_fam -0.3521\n",
              "6       Viaja_solo -0.7824"
            ]
          },
          "metadata": {
            "tags": []
          },
          "execution_count": 14
        }
      ]
    },
    {
      "cell_type": "code",
      "metadata": {
        "id": "7re1K3aLRw8I",
        "outputId": "469b9e5a-9901-40f2-ec45-a824a8e602f2",
        "colab": {
          "base_uri": "https://localhost:8080/",
          "height": 476
        }
      },
      "source": [
        "\"CELDA N°50\"\n",
        "#Calculamos la probabilidades de obtener 1 (sí sobrevivió) con el método predict_proba\n",
        "proba_pred_test = logreg.predict_proba(X_test)[:,1]\n",
        "proba_pred_test"
      ],
      "execution_count": 15,
      "outputs": [
        {
          "output_type": "execute_result",
          "data": {
            "text/plain": [
              "array([0.91729564, 0.08136309, 0.82118345, 0.72672992, 0.52482667,\n",
              "       0.0826539 , 0.19232699, 0.94525274, 0.50460252, 0.8027339 ,\n",
              "       0.08242648, 0.64878952, 0.34971917, 0.18026305, 0.72616848,\n",
              "       0.35364663, 0.1343863 , 0.12153028, 0.0818032 , 0.63221405,\n",
              "       0.08202955, 0.14262996, 0.93165645, 0.18318907, 0.43221445,\n",
              "       0.08231814, 0.88020459, 0.8184411 , 0.18143172, 0.91935382,\n",
              "       0.64952848, 0.35250892, 0.32647374, 0.73977099, 0.11411516,\n",
              "       0.09878873, 0.35226765, 0.08292933, 0.50455385, 0.08271092,\n",
              "       0.6486182 , 0.66629049, 0.92326366, 0.35068598, 0.57222651,\n",
              "       0.08185386, 0.07136162, 0.18001865, 0.39785405, 0.18255087,\n",
              "       0.21118137, 0.82074147, 0.18221456, 0.18031792, 0.08221043,\n",
              "       0.74005545, 0.18109702, 0.34811681, 0.02301163, 0.64983199,\n",
              "       0.10792254, 0.09763139, 0.25429892, 0.35073088, 0.45771161,\n",
              "       0.70607247, 0.10516566, 0.09765791, 0.38939711, 0.19157263,\n",
              "       0.0887176 , 0.13416234, 0.39515416, 0.0828742 , 0.81672516,\n",
              "       0.22378208, 0.94524752, 0.11562187, 0.39191829, 0.91951427,\n",
              "       0.08270697, 0.00578822, 0.08299   , 0.08190655, 0.84634714,\n",
              "       0.08221031, 0.08167501, 0.09657323, 0.09872091, 0.77585131,\n",
              "       0.35036849, 0.09731202, 0.11529835, 0.72956275, 0.08258002,\n",
              "       0.39690319, 0.08050946, 0.69082927, 0.08276826, 0.08171603,\n",
              "       0.39651268, 0.35137531, 0.10434291, 0.77498835, 0.95476146,\n",
              "       0.08254949, 0.0822004 , 0.08219919, 0.1347748 , 0.0814703 ,\n",
              "       0.5000775 , 0.09782967, 0.17902209, 0.12136865, 0.18180098,\n",
              "       0.08197192, 0.25394795, 0.4569403 , 0.87455279, 0.64794841,\n",
              "       0.87521111, 0.36864517, 0.08253177, 0.18234027, 0.92449325,\n",
              "       0.91896237, 0.81999977, 0.64947127, 0.00579783, 0.11578422,\n",
              "       0.08248335, 0.08135281, 0.27562389, 0.39851879])"
            ]
          },
          "metadata": {
            "tags": []
          },
          "execution_count": 15
        }
      ]
    },
    {
      "cell_type": "markdown",
      "metadata": {
        "id": "KB1nvi4_1hFR"
      },
      "source": [
        "###*Optimización del punto de corte*"
      ]
    },
    {
      "cell_type": "code",
      "metadata": {
        "id": "XnKRy1OTUx2Z"
      },
      "source": [
        "\"CELDA N°51\"\n",
        "#Creamos una función para variar el punto de corte -por defecto 0.5- comparando con las probabilidades obtenidas y calculamos el score en cada iteración\n",
        "lista_de_accuracy=[]\n",
        "for punto_de_corte in range(0,100):\n",
        "    pred_0_1 = [1 if x >= punto_de_corte/100 else 0 for x in proba_pred_test]\n",
        "    lista_de_accuracy.append(accuracy_score(y_test, pred_0_1))"
      ],
      "execution_count": 16,
      "outputs": []
    },
    {
      "cell_type": "code",
      "metadata": {
        "id": "Qu51rbPtYMVs",
        "outputId": "78ea7147-c142-4dd9-bcc3-1f8053bae760",
        "colab": {
          "base_uri": "https://localhost:8080/",
          "height": 405
        }
      },
      "source": [
        "\"CELDA N°52\"\n",
        "#Dibujamos los puntos de corte con sus respectivos score\n",
        "xs = [x/100 for x in range(0,100)]\n",
        "ys = lista_de_accuracy\n",
        "\n",
        "plt.figure(figsize=(8,6))\n",
        "plt.grid(True)\n",
        "plt.xlabel('Punto de corte')\n",
        "plt.ylabel('Score')\n",
        "plt.plot(xs, ys)"
      ],
      "execution_count": 17,
      "outputs": [
        {
          "output_type": "execute_result",
          "data": {
            "text/plain": [
              "[<matplotlib.lines.Line2D at 0x7efec0ff1a90>]"
            ]
          },
          "metadata": {
            "tags": []
          },
          "execution_count": 17
        },
        {
          "output_type": "display_data",
          "data": {
            "image/png": "[encoded data removed]",
            "text/plain": [
              "<Figure size 576x432 with 1 Axes>"
            ]
          },
          "metadata": {
            "tags": [],
            "needs_background": "light"
          }
        }
      ]
    },
    {
      "cell_type": "markdown",
      "metadata": {
        "id": "vWt17S2U1sAV"
      },
      "source": [
        "###*Actualización de la regresión logística*"
      ]
    },
    {
      "cell_type": "code",
      "metadata": {
        "id": "dxLXCceSY3jX",
        "outputId": "ef27a83c-9d29-468f-8d1a-b416f690e62f",
        "colab": {
          "base_uri": "https://localhost:8080/",
          "height": 134
        }
      },
      "source": [
        "\"CELDA N°53\"\n",
        "#Obtenemos neuvas predicciones (0,1) a partir del nuevo punto de corte óptimo a partir de la gráfica obtenida\n",
        "predicciones_nuevo_pc = [1 if prob>=0.25 else 0 for prob in proba_pred_test]\n",
        "np.array([predicciones_nuevo_pc])"
      ],
      "execution_count": 18,
      "outputs": [
        {
          "output_type": "execute_result",
          "data": {
            "text/plain": [
              "array([[1, 0, 1, 1, 1, 0, 0, 1, 1, 1, 0, 1, 1, 0, 1, 1, 0, 0, 0, 1, 0, 0,\n",
              "        1, 0, 1, 0, 1, 1, 0, 1, 1, 1, 1, 1, 0, 0, 1, 0, 1, 0, 1, 1, 1, 1,\n",
              "        1, 0, 0, 0, 1, 0, 0, 1, 0, 0, 0, 1, 0, 1, 0, 1, 0, 0, 1, 1, 1, 1,\n",
              "        0, 0, 1, 0, 0, 0, 1, 0, 1, 0, 1, 0, 1, 1, 0, 0, 0, 0, 1, 0, 0, 0,\n",
              "        0, 1, 1, 0, 0, 1, 0, 1, 0, 1, 0, 0, 1, 1, 0, 1, 1, 0, 0, 0, 0, 0,\n",
              "        1, 0, 0, 0, 0, 0, 1, 1, 1, 1, 1, 1, 0, 0, 1, 1, 1, 1, 0, 0, 0, 0,\n",
              "        1, 1]])"
            ]
          },
          "metadata": {
            "tags": []
          },
          "execution_count": 18
        }
      ]
    },
    {
      "cell_type": "code",
      "metadata": {
        "id": "cgwMsQALZo-j",
        "outputId": "0d6f5772-c10b-4347-dff1-3b28ad281a0e",
        "colab": {
          "base_uri": "https://localhost:8080/",
          "height": 34
        }
      },
      "source": [
        "\"CELDA N°54\"\n",
        "#Mostramos un nuevo score comparando y_test con las nuevas predicciones a partir del nuevo punto de corte\n",
        "print('El accuracy para mi primer modelo con nuevo punto de corte es :{0:.8f}'.format(accuracy_score(y_test,predicciones_nuevo_pc)))"
      ],
      "execution_count": 19,
      "outputs": [
        {
          "output_type": "stream",
          "text": [
            "El accuracy para mi primer modelo con nuevo punto de corte es :0.74626866\n"
          ],
          "name": "stdout"
        }
      ]
    },
    {
      "cell_type": "markdown",
      "metadata": {
        "id": "CazR1XfK12_j"
      },
      "source": [
        "##**Modelo de Árbol de Clasificación**"
      ]
    },
    {
      "cell_type": "code",
      "metadata": {
        "id": "WKJtleOSa5ef",
        "outputId": "5d1e8ef2-71bf-48b6-855e-356f1c9f8ca3",
        "colab": {
          "base_uri": "https://localhost:8080/",
          "height": 134
        }
      },
      "source": [
        "\"CELDA N°55\"\n",
        "#Entrenamos los datos importando la librería DecisionTreeClassifier\n",
        "from sklearn.tree import DecisionTreeClassifier\n",
        "tree_clf = DecisionTreeClassifier(random_state=1) #creamos la variable tree_clf para el modelo de árbol de clasificación\n",
        "tree_clf.fit(X_train,y_train) #entrenamos el modelo de árbol de clasificación usando los datos de X_train, y_train\n",
        "tree_y_pred = tree_clf.predict(X_test)#generamos las predicciones con X_test usando el modelo de árbol de clasificación\n",
        "tree_y_pred #mostramos las predicciones generadas 0 cuando no sobrevive 1 cuando sí sobrevive"
      ],
      "execution_count": 20,
      "outputs": [
        {
          "output_type": "execute_result",
          "data": {
            "text/plain": [
              "array([1, 0, 1, 1, 1, 0, 0, 1, 0, 1, 0, 0, 0, 0, 1, 0, 0, 0, 0, 1, 0, 0,\n",
              "       1, 0, 1, 0, 1, 1, 0, 1, 0, 1, 0, 0, 0, 1, 1, 0, 1, 0, 0, 0, 1, 0,\n",
              "       1, 0, 0, 0, 1, 1, 0, 1, 1, 0, 0, 0, 0, 0, 0, 0, 0, 0, 1, 0, 0, 0,\n",
              "       0, 0, 1, 0, 0, 0, 0, 0, 1, 0, 1, 0, 0, 1, 0, 0, 0, 0, 1, 0, 0, 0,\n",
              "       0, 1, 0, 0, 0, 1, 0, 0, 0, 1, 0, 0, 0, 0, 1, 1, 1, 0, 0, 0, 0, 0,\n",
              "       0, 1, 0, 0, 0, 0, 0, 0, 1, 0, 1, 1, 0, 0, 1, 1, 1, 1, 0, 0, 0, 0,\n",
              "       1, 0])"
            ]
          },
          "metadata": {
            "tags": []
          },
          "execution_count": 20
        }
      ]
    },
    {
      "cell_type": "markdown",
      "metadata": {
        "id": "GpN6pV6x2SCo"
      },
      "source": [
        "###*Score del árbol de clasificación*"
      ]
    },
    {
      "cell_type": "code",
      "metadata": {
        "id": "Pu4Og7rFeyEY",
        "outputId": "9af0c088-68c3-4254-8730-1600f7b0992b",
        "colab": {
          "base_uri": "https://localhost:8080/",
          "height": 34
        }
      },
      "source": [
        "\"CELDA N°56\"\n",
        "#Calculamos el score de accuracy comparando las predicciones generadas versus y_test importando la librería accuracy_score\n",
        "print('El accuracy para mi segundo modelo es :{0:.8f}'.format(accuracy_score(y_test,tree_y_pred))) #usando la expresión regex .8f para mostrar 8 decimales"
      ],
      "execution_count": 21,
      "outputs": [
        {
          "output_type": "stream",
          "text": [
            "El accuracy para mi segundo modelo es :0.77611940\n"
          ],
          "name": "stdout"
        }
      ]
    },
    {
      "cell_type": "markdown",
      "metadata": {
        "id": "o2dnr2Ye2pA6"
      },
      "source": [
        "###*Optimización del nivel de profundidad*"
      ]
    },
    {
      "cell_type": "code",
      "metadata": {
        "id": "IyiEudcwfGz8",
        "outputId": "f47e5fae-a3bc-47f5-950a-5d511d127ea9",
        "colab": {
          "base_uri": "https://localhost:8080/",
          "height": 168
        }
      },
      "source": [
        "\"CELDA N°57\"\n",
        "#Variamos la profundidad de las ramas del árbol de clasificación obtenemos el valor óptimo\n",
        "for i in range(1,10):\n",
        "    tree_clf = DecisionTreeClassifier(max_depth=i)\n",
        "    tree_clf.fit(X_train,y_train)\n",
        "    y_pred = tree_clf.predict(X_test)\n",
        "    print(\"Mi árbol da un accuracy de:\", accuracy_score(y_test,y_pred), \"cuando su max_depth es: \", i)"
      ],
      "execution_count": 22,
      "outputs": [
        {
          "output_type": "stream",
          "text": [
            "Mi árbol da un accuracy de: 0.746268656716418 cuando su max_depth es:  1\n",
            "Mi árbol da un accuracy de: 0.753731343283582 cuando su max_depth es:  2\n",
            "Mi árbol da un accuracy de: 0.7985074626865671 cuando su max_depth es:  3\n",
            "Mi árbol da un accuracy de: 0.7985074626865671 cuando su max_depth es:  4\n",
            "Mi árbol da un accuracy de: 0.7686567164179104 cuando su max_depth es:  5\n",
            "Mi árbol da un accuracy de: 0.7835820895522388 cuando su max_depth es:  6\n",
            "Mi árbol da un accuracy de: 0.7985074626865671 cuando su max_depth es:  7\n",
            "Mi árbol da un accuracy de: 0.753731343283582 cuando su max_depth es:  8\n",
            "Mi árbol da un accuracy de: 0.7835820895522388 cuando su max_depth es:  9\n"
          ],
          "name": "stdout"
        }
      ]
    },
    {
      "cell_type": "markdown",
      "metadata": {
        "id": "DBBlZzPF21rQ"
      },
      "source": [
        "###*Actualización del árbol de clasificación*"
      ]
    },
    {
      "cell_type": "code",
      "metadata": {
        "id": "Ic_pY9IrhqBQ"
      },
      "source": [
        "\"CELDA N°58\"\n",
        "#Obtenemos las nuevas predicciones para el árbol de clasificación con max_depth óptimo\n",
        "tree_clf = DecisionTreeClassifier(max_depth=3)\n",
        "tree_clf_2=tree_clf.fit(X_train,y_train)\n",
        "predicciones_nuevo_md = tree_clf_2.predict(X_test)"
      ],
      "execution_count": 23,
      "outputs": []
    },
    {
      "cell_type": "markdown",
      "metadata": {
        "id": "1SoXcIyM3GlT"
      },
      "source": [
        "###*Matriz de confusión del árbol de clasificación*"
      ]
    },
    {
      "cell_type": "code",
      "metadata": {
        "id": "xcjeH9BCiWjO",
        "outputId": "69b194a9-9393-453e-eb2a-964baa7b6db6",
        "colab": {
          "base_uri": "https://localhost:8080/",
          "height": 405
        }
      },
      "source": [
        "\"CELDA N°59\"\n",
        "#Graficamos una matriz de confusión comparando y_test con las nuevas predicciones importando confusion_matrix\n",
        "from sklearn.metrics import confusion_matrix\n",
        "matriz_confusion = confusion_matrix(y_test,predicciones_nuevo_md)\n",
        "\n",
        "plt.figure(figsize=(10,6))\n",
        "ax=sns.heatmap(matriz_confusion, annot = True, annot_kws={\"size\": 10}, fmt=\".1f\")\n",
        "ax.set_ylim((0,2))\n",
        "plt.xlabel('Nuestra data dice que')\n",
        "plt.ylabel('Nuestro algoritmo nos dice que')\n",
        "plt.plot()"
      ],
      "execution_count": 24,
      "outputs": [
        {
          "output_type": "execute_result",
          "data": {
            "text/plain": [
              "[]"
            ]
          },
          "metadata": {
            "tags": []
          },
          "execution_count": 24
        },
        {
          "output_type": "display_data",
          "data": {
            "image/png": "[encoded data removed]",
            "text/plain": [
              "<Figure size 720x432 with 2 Axes>"
            ]
          },
          "metadata": {
            "tags": [],
            "needs_background": "light"
          }
        }
      ]
    },
    {
      "cell_type": "markdown",
      "metadata": {
        "id": "-OSVx5x83Wmo"
      },
      "source": [
        "##**Modelo de Random Forest**"
      ]
    },
    {
      "cell_type": "code",
      "metadata": {
        "id": "Jtlcj52ek1lW",
        "outputId": "8fa7641d-f9c4-4eb7-93dd-f8fdaeaea406",
        "colab": {
          "base_uri": "https://localhost:8080/",
          "height": 134
        }
      },
      "source": [
        "\"CELDA N°60\"\n",
        "#Entrenamos los datos importando la librería RandomForestClassifier\n",
        "from sklearn.ensemble import RandomForestClassifier\n",
        "rnd_clf = RandomForestClassifier(n_estimators = 200, n_jobs = -1,max_depth=3,random_state=1) #creamos la variable tree_clf para el modelo de random forest\n",
        "rnd_clf.fit(X_train,y_train) #entrenamos el modelo de random forest usando los datos de X_train, y_train\n",
        "y_pred_rnd = rnd_clf.predict(X_test) #generamos las predicciones con X_test usando el modelo de random forest\n",
        "y_pred_rnd #mostramos las predicciones generadas 0 cuando no sobrevive 1 cuando sí sobrevive"
      ],
      "execution_count": 25,
      "outputs": [
        {
          "output_type": "execute_result",
          "data": {
            "text/plain": [
              "array([1, 0, 1, 1, 1, 0, 0, 1, 0, 1, 0, 0, 0, 0, 1, 0, 0, 0, 0, 1, 0, 0,\n",
              "       1, 0, 1, 0, 1, 1, 0, 1, 1, 0, 0, 0, 0, 0, 0, 0, 0, 0, 0, 1, 1, 0,\n",
              "       1, 0, 0, 0, 0, 0, 0, 1, 0, 0, 0, 1, 0, 0, 0, 0, 0, 0, 0, 0, 0, 1,\n",
              "       0, 0, 1, 0, 0, 0, 0, 0, 1, 0, 1, 0, 0, 1, 0, 0, 0, 0, 1, 0, 0, 0,\n",
              "       0, 1, 0, 0, 0, 1, 0, 0, 0, 1, 0, 0, 0, 0, 0, 1, 1, 0, 0, 0, 0, 0,\n",
              "       0, 0, 0, 0, 0, 0, 0, 0, 1, 0, 1, 0, 0, 0, 1, 1, 1, 0, 0, 0, 0, 0,\n",
              "       1, 0])"
            ]
          },
          "metadata": {
            "tags": []
          },
          "execution_count": 25
        }
      ]
    },
    {
      "cell_type": "markdown",
      "metadata": {
        "id": "yhJOTHIH3tva"
      },
      "source": [
        "###*Score del random forest*"
      ]
    },
    {
      "cell_type": "code",
      "metadata": {
        "id": "hTfaZDrzldYm",
        "outputId": "e16dcb30-1cae-4d49-dfec-743768b95be8",
        "colab": {
          "base_uri": "https://localhost:8080/",
          "height": 34
        }
      },
      "source": [
        "\"CELDA N°61\"\n",
        "#Calculamos el score de accuracy comparando las predicciones generadas versus y_test importando la librería accuracy_score\n",
        "print('El accuracy para mi tercer modelo es :{0:.8f}'.format(accuracy_score(y_test,y_pred_rnd))) #usando la expresión regex .8f para mostrar 8 decimales"
      ],
      "execution_count": 26,
      "outputs": [
        {
          "output_type": "stream",
          "text": [
            "El accuracy para mi tercer modelo es :0.77611940\n"
          ],
          "name": "stdout"
        }
      ]
    },
    {
      "cell_type": "markdown",
      "metadata": {
        "id": "kXIhV_FI4xx3"
      },
      "source": [
        "###*Importancia de variables*"
      ]
    },
    {
      "cell_type": "code",
      "metadata": {
        "id": "Q-JL2XhdnLOC",
        "outputId": "b467419c-0e6f-4ed2-9fe3-80edd08a5040",
        "colab": {
          "base_uri": "https://localhost:8080/",
          "height": 700
        }
      },
      "source": [
        "\"CELDA N°62\"\n",
        "#Graficamos la importancia de cada variable con gráfica de barras usando el método feature_importances_\n",
        "pesos = rnd_clf.feature_importances_\n",
        "cols = X_train.columns\n",
        "plt.figure(figsize=(8,12))\n",
        "indices = np.argsort(pesos)\n",
        "plt.barh(range(len(indices)), pesos[indices], align = 'center')\n",
        "plt.yticks(range(len(indices)),[cols[i] for i in indices])\n",
        "plt.show()"
      ],
      "execution_count": 27,
      "outputs": [
        {
          "output_type": "display_data",
          "data": {
            "image/png": "[encoded data removed]",
            "text/plain": [
              "<Figure size 576x864 with 1 Axes>"
            ]
          },
          "metadata": {
            "tags": [],
            "needs_background": "light"
          }
        }
      ]
    },
    {
      "cell_type": "markdown",
      "metadata": {
        "id": "I71oZVHf4_30"
      },
      "source": [
        "###*Actualización del random forest*"
      ]
    },
    {
      "cell_type": "code",
      "metadata": {
        "id": "qWYIeFVwogIj",
        "outputId": "b7a2b7e5-9e65-491c-b4aa-d3bc6cae477e",
        "colab": {
          "base_uri": "https://localhost:8080/",
          "height": 134
        }
      },
      "source": [
        "\"CELDA N°63\"\n",
        "#Entrenamos nuevamente eliminando las variables menos importantes, actualizamos el modelo de random forest y obtenemos nuevas predicciones\n",
        "X_train_2 = X_train.drop(['Viaja_solo','P_embarque'],axis=1)\n",
        "rnd_clf_2=rnd_clf.fit(X_train_2,y_train)\n",
        "predicciones_rnd_clf_2=rnd_clf_2.predict(X_test.drop(['Viaja_solo','P_embarque'],axis=1))\n",
        "predicciones_rnd_clf_2"
      ],
      "execution_count": 28,
      "outputs": [
        {
          "output_type": "execute_result",
          "data": {
            "text/plain": [
              "array([1, 0, 1, 0, 1, 0, 0, 1, 0, 1, 0, 1, 0, 0, 0, 0, 0, 0, 0, 1, 0, 0,\n",
              "       1, 0, 1, 0, 1, 1, 0, 1, 1, 0, 0, 1, 0, 0, 0, 0, 0, 0, 1, 1, 1, 0,\n",
              "       1, 0, 0, 0, 0, 0, 0, 1, 0, 0, 0, 1, 0, 0, 0, 0, 0, 0, 0, 0, 0, 1,\n",
              "       0, 0, 1, 0, 0, 0, 0, 0, 1, 0, 1, 0, 0, 1, 0, 0, 0, 0, 1, 0, 0, 0,\n",
              "       0, 1, 0, 0, 0, 1, 0, 0, 0, 1, 0, 0, 0, 0, 0, 1, 1, 0, 0, 0, 0, 0,\n",
              "       0, 0, 0, 0, 0, 0, 0, 0, 1, 0, 1, 0, 0, 0, 1, 1, 1, 1, 0, 0, 0, 0,\n",
              "       1, 0])"
            ]
          },
          "metadata": {
            "tags": []
          },
          "execution_count": 28
        }
      ]
    },
    {
      "cell_type": "code",
      "metadata": {
        "id": "GG2zYE5vtLbK",
        "outputId": "ec56aa94-5360-497d-8003-5af05e43c3e7",
        "colab": {
          "base_uri": "https://localhost:8080/",
          "height": 34
        }
      },
      "source": [
        "\"CELDA N°64\"\n",
        "#Mostramos un nuevo score comparando y_test con las nuevas predicciones a partir del random forest actualizado\n",
        "print('El accuracy para mi tercer modelo sin dos variables es :{0:.8f}'.format(accuracy_score(y_test,predicciones_rnd_clf_2)))"
      ],
      "execution_count": 29,
      "outputs": [
        {
          "output_type": "stream",
          "text": [
            "El accuracy para mi tercer modelo sin dos variables es :0.79104478\n"
          ],
          "name": "stdout"
        }
      ]
    },
    {
      "cell_type": "markdown",
      "metadata": {
        "id": "g3Z-Z6a-3-Yn"
      },
      "source": [
        "###*Matriz de confusión del random forest*"
      ]
    },
    {
      "cell_type": "code",
      "metadata": {
        "id": "hwptZQ14mkey",
        "outputId": "ece3ad04-6e55-4181-873b-9c403268b0bf",
        "colab": {
          "base_uri": "https://localhost:8080/",
          "height": 405
        }
      },
      "source": [
        "\"CELDA N°65\"\n",
        "#Graficamos una matriz de confusión comparando y_test con las nuevas predicciones importando confusion_matrix\n",
        "matriz_confusion = confusion_matrix(y_test,y_pred_rnd)\n",
        "\n",
        "plt.figure(figsize=(10,6))\n",
        "ax=sns.heatmap(matriz_confusion, annot = True, annot_kws={\"size\": 10}, fmt=\".1f\")\n",
        "ax.set_ylim((0,2))\n",
        "plt.xlabel('Nuestra data dice que')\n",
        "plt.ylabel('Nuestro algoritmo nos dice que')\n",
        "plt.plot()"
      ],
      "execution_count": 30,
      "outputs": [
        {
          "output_type": "execute_result",
          "data": {
            "text/plain": [
              "[]"
            ]
          },
          "metadata": {
            "tags": []
          },
          "execution_count": 30
        },
        {
          "output_type": "display_data",
          "data": {
            "image/png": "[encoded data removed]",
            "text/plain": [
              "<Figure size 720x432 with 2 Axes>"
            ]
          },
          "metadata": {
            "tags": [],
            "needs_background": "light"
          }
        }
      ]
    },
    {
      "cell_type": "markdown",
      "metadata": {
        "id": "uiLtdaQF5X_p"
      },
      "source": [
        "##**Curva ROC para todos los modelos**"
      ]
    },
    {
      "cell_type": "code",
      "metadata": {
        "id": "zPDm0yC0uvPY"
      },
      "source": [
        "\"CELDA N°66\"\n",
        "#Importamos las librerías necesarias para dibujar las curvas ROC de todos los modelos actualizados\n",
        "from sklearn.metrics import roc_curve\n",
        "from sklearn.metrics import roc_auc_score \n",
        "\n",
        "clasificadores = [logreg, tree_clf_2, rnd_clf_2] #creamos la variable clasificadores para guardar los modelos actualizados"
      ],
      "execution_count": 31,
      "outputs": []
    },
    {
      "cell_type": "markdown",
      "metadata": {
        "id": "wq_KB3SZ5niC"
      },
      "source": [
        "###*Tabla de parametros para cada modelo*"
      ]
    },
    {
      "cell_type": "code",
      "metadata": {
        "id": "UIOKoKqawd-P"
      },
      "source": [
        "\"CELDA N°67\"\n",
        "#Creamos una función para obtener los parámetros de la curva ROC para cada uno de los modelos actualizados\n",
        "tabla_resultados = pd.DataFrame(columns=['clasificadores', 'fpr','tpr','auc'])\n",
        "for cls in clasificadores:\n",
        "    model = cls.fit(X_train, y_train)\n",
        "    yproba = model.predict_proba(X_test)[:,1]\n",
        "    fpr, tpr, _ = roc_curve(y_test, yproba)\n",
        "    auc = roc_auc_score(y_test, yproba)\n",
        "    tabla_resultados = tabla_resultados.append({'clasificadores':None,'fpr':fpr,'tpr':tpr,'auc':auc}, ignore_index=True)"
      ],
      "execution_count": 32,
      "outputs": []
    },
    {
      "cell_type": "code",
      "metadata": {
        "id": "41delDEGxucm",
        "outputId": "ef18984f-6205-4040-fd8b-1793af34fee5",
        "colab": {
          "base_uri": "https://localhost:8080/",
          "height": 166
        }
      },
      "source": [
        "\"CELDA N°68\"\n",
        "#Mostramos la tabla_resultados declarando como índices el nombre de cada uno de los modelos\n",
        "tabla_resultados['clasificadores'] = ['regresion_logistica','arbol_clasificacion','random_forest']\n",
        "tabla_resultados.set_index('clasificadores', inplace=True)\n",
        "tabla_resultados"
      ],
      "execution_count": 33,
      "outputs": [
        {
          "output_type": "execute_result",
          "data": {
            "text/html": [
              "<div>\n",
              "<style scoped>\n",
              "    .dataframe tbody tr th:only-of-type {\n",
              "        vertical-align: middle;\n",
              "    }\n",
              "\n",
              "    .dataframe tbody tr th {\n",
              "        vertical-align: top;\n",
              "    }\n",
              "\n",
              "    .dataframe thead th {\n",
              "        text-align: right;\n",
              "    }\n",
              "</style>\n",
              "<table border=\"1\" class=\"dataframe\">\n",
              "  <thead>\n",
              "    <tr style=\"text-align: right;\">\n",
              "      <th></th>\n",
              "      <th>fpr</th>\n",
              "      <th>tpr</th>\n",
              "      <th>auc</th>\n",
              "    </tr>\n",
              "    <tr>\n",
              "      <th>clasificadores</th>\n",
              "      <th></th>\n",
              "      <th></th>\n",
              "      <th></th>\n",
              "    </tr>\n",
              "  </thead>\n",
              "  <tbody>\n",
              "    <tr>\n",
              "      <th>regresion_logistica</th>\n",
              "      <td>[0.0, 0.0, 0.0, 0.0125, 0.0125, 0.025, 0.025, ...</td>\n",
              "      <td>[0.0, 0.018518518518518517, 0.3333333333333333...</td>\n",
              "      <td>0.826620</td>\n",
              "    </tr>\n",
              "    <tr>\n",
              "      <th>arbol_clasificacion</th>\n",
              "      <td>[0.0, 0.0, 0.0, 0.0125, 0.1, 0.3, 0.6875, 0.77...</td>\n",
              "      <td>[0.0, 0.018518518518518517, 0.2222222222222222...</td>\n",
              "      <td>0.842477</td>\n",
              "    </tr>\n",
              "    <tr>\n",
              "      <th>random_forest</th>\n",
              "      <td>[0.0, 0.0, 0.0, 0.0125, 0.0125, 0.05, 0.05, 0....</td>\n",
              "      <td>[0.0, 0.018518518518518517, 0.3148148148148148...</td>\n",
              "      <td>0.838426</td>\n",
              "    </tr>\n",
              "  </tbody>\n",
              "</table>\n",
              "</div>"
            ],
            "text/plain": [
              "                                                                   fpr  ...       auc\n",
              "clasificadores                                                          ...          \n",
              "regresion_logistica  [0.0, 0.0, 0.0, 0.0125, 0.0125, 0.025, 0.025, ...  ...  0.826620\n",
              "arbol_clasificacion  [0.0, 0.0, 0.0, 0.0125, 0.1, 0.3, 0.6875, 0.77...  ...  0.842477\n",
              "random_forest        [0.0, 0.0, 0.0, 0.0125, 0.0125, 0.05, 0.05, 0....  ...  0.838426\n",
              "\n",
              "[3 rows x 3 columns]"
            ]
          },
          "metadata": {
            "tags": []
          },
          "execution_count": 33
        }
      ]
    },
    {
      "cell_type": "markdown",
      "metadata": {
        "id": "_KxGVepB5yfK"
      },
      "source": [
        "###*Gráfica de la curva ROC para cada modelo*"
      ]
    },
    {
      "cell_type": "code",
      "metadata": {
        "id": "jgVHDFYVyW2e",
        "outputId": "7f195178-450c-46eb-8d29-62d4433edb93",
        "colab": {
          "base_uri": "https://localhost:8080/",
          "height": 411
        }
      },
      "source": [
        "\"CELDA N°69\"\n",
        "#Dibujamos la curva ROC con los parámetros obtenidos para cada uno de los modelos actualizados\n",
        "fig = plt.figure(figsize=(8,6))\n",
        "\n",
        "for i in tabla_resultados.index:\n",
        "    plt.plot(tabla_resultados.loc[i]['fpr'], \n",
        "             tabla_resultados.loc[i]['tpr'], \n",
        "             label=\"{}, AUC={:.4f}\".format(i, tabla_resultados.loc[i]['auc']))\n",
        "    \n",
        "plt.plot([0,1], [0,1], color='orange', linestyle='--')\n",
        "\n",
        "plt.xticks(np.arange(0.0, 1.1, step=0.1))\n",
        "plt.xlabel(\"Falsos Positivos\", fontsize=15)\n",
        "\n",
        "plt.yticks(np.arange(0.0, 1.1, step=0.1))\n",
        "plt.ylabel(\"Verdaderos Positivos\", fontsize=15)\n",
        "\n",
        "plt.title('Análisis de la curva ROC', fontweight='bold', fontsize=15)\n",
        "plt.legend(prop={'size':12}, loc='lower right')\n",
        "\n",
        "plt.show()"
      ],
      "execution_count": 34,
      "outputs": [
        {
          "output_type": "display_data",
          "data": {
            "image/png": "[encoded data removed]",
            "text/plain": [
              "<Figure size 576x432 with 1 Axes>"
            ]
          },
          "metadata": {
            "tags": [],
            "needs_background": "light"
          }
        }
      ]
    },
    {
      "cell_type": "markdown",
      "metadata": {
        "id": "jkaXEVTWRZA2"
      },
      "source": [
        "##**BONUS: Summit de las predicciones para la competencia Kaggle**"
      ]
    },
    {
      "cell_type": "code",
      "metadata": {
        "id": "LM_IC0jEH7lW",
        "outputId": "073438d1-8a3d-4285-944f-4b115f7b2ff3",
        "colab": {
          "base_uri": "https://localhost:8080/",
          "height": 34
        }
      },
      "source": [
        "\"CELDA N°70\"\n",
        "#Comprobar que el número de columnas (variables predictoras) de summit y X_test coincidan para utilizar el modelo sin errores\n",
        "summit.shape, X_test.shape"
      ],
      "execution_count": 35,
      "outputs": [
        {
          "output_type": "execute_result",
          "data": {
            "text/plain": [
              "((418, 7), (134, 7))"
            ]
          },
          "metadata": {
            "tags": []
          },
          "execution_count": 35
        }
      ]
    },
    {
      "cell_type": "code",
      "metadata": {
        "id": "NOTDOcYMHtnu",
        "outputId": "2655f877-d4c4-40b6-c26b-3c5766965a23",
        "colab": {
          "base_uri": "https://localhost:8080/",
          "height": 336
        }
      },
      "source": [
        "\"CELDA N°71\"\n",
        "#Aplicar el modelo sobre summit y mostrar la supervivencia resultante (0=No sobrevivió, 1=Sí sobrevivió)\n",
        "summit_rnd_clf_2=rnd_clf_2.predict(summit)\n",
        "summit_rnd_clf_2"
      ],
      "execution_count": 36,
      "outputs": [
        {
          "output_type": "execute_result",
          "data": {
            "text/plain": [
              "array([0, 0, 0, 0, 1, 0, 0, 0, 1, 0, 0, 0, 1, 0, 1, 1, 0, 0, 0, 1, 0, 0,\n",
              "       1, 0, 1, 0, 1, 0, 0, 0, 0, 0, 1, 1, 0, 0, 0, 1, 0, 0, 0, 0, 0, 1,\n",
              "       1, 0, 0, 0, 1, 1, 0, 0, 1, 1, 0, 0, 0, 0, 0, 1, 0, 0, 0, 1, 1, 1,\n",
              "       1, 0, 0, 1, 1, 0, 0, 0, 1, 0, 0, 1, 0, 1, 1, 0, 0, 0, 0, 0, 1, 0,\n",
              "       1, 1, 1, 0, 1, 0, 0, 0, 1, 0, 0, 0, 1, 0, 0, 0, 1, 0, 0, 0, 0, 0,\n",
              "       0, 1, 1, 1, 1, 0, 0, 1, 0, 1, 1, 0, 1, 0, 0, 1, 0, 1, 0, 0, 0, 0,\n",
              "       0, 0, 0, 0, 0, 0, 0, 0, 0, 1, 0, 0, 0, 0, 0, 0, 0, 0, 1, 0, 0, 1,\n",
              "       0, 0, 1, 0, 0, 1, 1, 1, 1, 0, 0, 1, 0, 0, 1, 1, 0, 0, 0, 0, 0, 1,\n",
              "       1, 0, 1, 1, 0, 0, 1, 0, 1, 0, 1, 0, 0, 0, 0, 0, 1, 0, 1, 0, 1, 0,\n",
              "       0, 0, 1, 1, 0, 1, 0, 0, 1, 0, 1, 0, 0, 0, 0, 1, 0, 0, 1, 0, 1, 0,\n",
              "       1, 0, 1, 0, 1, 1, 0, 1, 0, 0, 1, 1, 0, 0, 0, 0, 0, 0, 1, 1, 1, 1,\n",
              "       0, 0, 0, 0, 1, 0, 1, 1, 1, 0, 0, 0, 0, 0, 0, 0, 1, 0, 0, 0, 1, 1,\n",
              "       0, 0, 0, 0, 0, 0, 0, 0, 1, 1, 0, 1, 0, 0, 0, 0, 1, 1, 1, 1, 1, 0,\n",
              "       0, 0, 0, 0, 0, 0, 0, 0, 0, 0, 1, 0, 0, 0, 0, 0, 0, 0, 1, 1, 0, 1,\n",
              "       0, 1, 0, 0, 0, 1, 1, 1, 0, 0, 0, 0, 0, 0, 0, 0, 1, 0, 1, 0, 0, 0,\n",
              "       1, 0, 0, 1, 0, 0, 0, 0, 0, 0, 0, 0, 0, 1, 0, 0, 0, 1, 0, 1, 1, 0,\n",
              "       0, 0, 1, 0, 1, 0, 0, 1, 0, 1, 1, 0, 1, 0, 0, 1, 1, 0, 0, 1, 0, 0,\n",
              "       1, 1, 1, 0, 0, 0, 0, 0, 1, 1, 0, 1, 0, 0, 0, 0, 0, 1, 0, 0, 0, 1,\n",
              "       0, 1, 0, 0, 1, 0, 1, 0, 0, 0, 0, 0, 1, 1, 1, 1, 0, 0, 1, 0, 0, 0])"
            ]
          },
          "metadata": {
            "tags": []
          },
          "execution_count": 36
        }
      ]
    },
    {
      "cell_type": "code",
      "metadata": {
        "id": "vZWw_rmyJEen"
      },
      "source": [
        "\"CELDA N°72\"\n",
        "#Extraer los Id de los pasajeros del archivo summit original\n",
        "submission = pd.read_csv('https://raw.githubusercontent.com/HackSpacePeru/Datasets_intro_Data_Science/master/Titanic/gender_submission.csv')\n",
        "summit_id=submission['PassengerId']"
      ],
      "execution_count": 37,
      "outputs": []
    },
    {
      "cell_type": "code",
      "metadata": {
        "id": "Fe-RjIc7KQbb",
        "outputId": "520a175f-53d4-4dcd-9aca-861b94a4c6e4",
        "colab": {
          "base_uri": "https://localhost:8080/",
          "height": 34
        }
      },
      "source": [
        "\"CELDA N°73\"\n",
        "#Comprobar que el tamaño de las predicciones y summmit_id coincidan para unir ambos dataset sin errores\n",
        "summit_rnd_clf_2.shape, summit_id.shape"
      ],
      "execution_count": 38,
      "outputs": [
        {
          "output_type": "execute_result",
          "data": {
            "text/plain": [
              "((418,), (418,))"
            ]
          },
          "metadata": {
            "tags": []
          },
          "execution_count": 38
        }
      ]
    },
    {
      "cell_type": "code",
      "metadata": {
        "id": "_alldSJnKaJb",
        "outputId": "e6db8a8f-a0d9-4386-c502-88346e1401f2",
        "colab": {
          "base_uri": "https://localhost:8080/",
          "height": 195
        }
      },
      "source": [
        "\"CELDA N°74\"\n",
        "#Crear un diccionario para guardar ambos dataset y crear un nuevo dataframe llamado respuestas para unir ambos dataset\n",
        "summit_dict = {'PassengerId':summit_id,'Survived':summit_rnd_clf_2}\n",
        "respuestas = pd.DataFrame(summit_dict)\n",
        "respuestas.head()"
      ],
      "execution_count": 39,
      "outputs": [
        {
          "output_type": "execute_result",
          "data": {
            "text/html": [
              "<div>\n",
              "<style scoped>\n",
              "    .dataframe tbody tr th:only-of-type {\n",
              "        vertical-align: middle;\n",
              "    }\n",
              "\n",
              "    .dataframe tbody tr th {\n",
              "        vertical-align: top;\n",
              "    }\n",
              "\n",
              "    .dataframe thead th {\n",
              "        text-align: right;\n",
              "    }\n",
              "</style>\n",
              "<table border=\"1\" class=\"dataframe\">\n",
              "  <thead>\n",
              "    <tr style=\"text-align: right;\">\n",
              "      <th></th>\n",
              "      <th>PassengerId</th>\n",
              "      <th>Survived</th>\n",
              "    </tr>\n",
              "  </thead>\n",
              "  <tbody>\n",
              "    <tr>\n",
              "      <th>0</th>\n",
              "      <td>892</td>\n",
              "      <td>0</td>\n",
              "    </tr>\n",
              "    <tr>\n",
              "      <th>1</th>\n",
              "      <td>893</td>\n",
              "      <td>0</td>\n",
              "    </tr>\n",
              "    <tr>\n",
              "      <th>2</th>\n",
              "      <td>894</td>\n",
              "      <td>0</td>\n",
              "    </tr>\n",
              "    <tr>\n",
              "      <th>3</th>\n",
              "      <td>895</td>\n",
              "      <td>0</td>\n",
              "    </tr>\n",
              "    <tr>\n",
              "      <th>4</th>\n",
              "      <td>896</td>\n",
              "      <td>1</td>\n",
              "    </tr>\n",
              "  </tbody>\n",
              "</table>\n",
              "</div>"
            ],
            "text/plain": [
              "   PassengerId  Survived\n",
              "0          892         0\n",
              "1          893         0\n",
              "2          894         0\n",
              "3          895         0\n",
              "4          896         1"
            ]
          },
          "metadata": {
            "tags": []
          },
          "execution_count": 39
        }
      ]
    },
    {
      "cell_type": "code",
      "metadata": {
        "id": "lyeWdBPuSoNI"
      },
      "source": [
        "\"CELDA N°75\"\n",
        "#Generar un archivo csv con tu nombre -no olvidar la extensión csv\n",
        "respuestas.to_csv('tu_nombre.csv',index=False)"
      ],
      "execution_count": 40,
      "outputs": []
    },
    {
      "cell_type": "code",
      "metadata": {
        "id": "JndCYzOUWQAz"
      },
      "source": [
        ""
      ],
      "execution_count": 40,
      "outputs": []
    },
    {
      "cell_type": "code",
      "metadata": {
        "id": "zB4PQMKsWk3i"
      },
      "source": [
        ""
      ],
      "execution_count": 40,
      "outputs": []
    }
  ]
}