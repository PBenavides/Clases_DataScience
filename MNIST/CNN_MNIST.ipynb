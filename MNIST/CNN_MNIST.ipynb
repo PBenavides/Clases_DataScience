{
  "nbformat": 4,
  "nbformat_minor": 0,
  "metadata": {
    "colab": {
      "name": "CNN_MNIST.ipynb",
      "provenance": []
    },
    "kernelspec": {
      "name": "python3",
      "display_name": "Python 3"
    },
    "accelerator": "GPU"
  },
  "cells": [
    {
      "cell_type": "code",
      "metadata": {
        "id": "ZM-GmaLhhzrY",
        "colab_type": "code",
        "outputId": "ed510164-11ef-44c0-db69-bf93c8792624",
        "colab": {
          "base_uri": "https://localhost:8080/",
          "height": 34
        }
      },
      "source": [
        "from google.colab import drive\n",
        "drive.mount('/content/drive')"
      ],
      "execution_count": 0,
      "outputs": [
        {
          "output_type": "stream",
          "text": [
            "Drive already mounted at /content/drive; to attempt to forcibly remount, call drive.mount(\"/content/drive\", force_remount=True).\n"
          ],
          "name": "stdout"
        }
      ]
    },
    {
      "cell_type": "code",
      "metadata": {
        "id": "b8BpBdIxhgp9",
        "colab_type": "code",
        "outputId": "98720bc1-9134-4f20-a24c-b5c7ba035cf6",
        "colab": {
          "base_uri": "https://localhost:8080/",
          "height": 34
        }
      },
      "source": [
        "cd /content/drive/My Drive/Deep Learning/MNIST"
      ],
      "execution_count": 0,
      "outputs": [
        {
          "output_type": "stream",
          "text": [
            "/content/drive/My Drive/Deep Learning/MNIST\n"
          ],
          "name": "stdout"
        }
      ]
    },
    {
      "cell_type": "code",
      "metadata": {
        "id": "83AY_SCjousY",
        "colab_type": "code",
        "outputId": "c4ade9f5-bcc4-47b6-eed6-d34989a11c9c",
        "colab": {
          "base_uri": "https://localhost:8080/",
          "height": 151
        }
      },
      "source": [
        "!pip install --upgrade Keras"
      ],
      "execution_count": 0,
      "outputs": [
        {
          "output_type": "stream",
          "text": [
            "Requirement already up-to-date: Keras in /usr/local/lib/python3.6/dist-packages (2.3.1)\n",
            "Requirement already satisfied, skipping upgrade: pyyaml in /usr/local/lib/python3.6/dist-packages (from Keras) (3.13)\n",
            "Requirement already satisfied, skipping upgrade: h5py in /usr/local/lib/python3.6/dist-packages (from Keras) (2.8.0)\n",
            "Requirement already satisfied, skipping upgrade: six>=1.9.0 in /usr/local/lib/python3.6/dist-packages (from Keras) (1.12.0)\n",
            "Requirement already satisfied, skipping upgrade: keras-applications>=1.0.6 in /usr/local/lib/python3.6/dist-packages (from Keras) (1.0.8)\n",
            "Requirement already satisfied, skipping upgrade: keras-preprocessing>=1.0.5 in /usr/local/lib/python3.6/dist-packages (from Keras) (1.1.0)\n",
            "Requirement already satisfied, skipping upgrade: scipy>=0.14 in /usr/local/lib/python3.6/dist-packages (from Keras) (1.4.1)\n",
            "Requirement already satisfied, skipping upgrade: numpy>=1.9.1 in /usr/local/lib/python3.6/dist-packages (from Keras) (1.17.5)\n"
          ],
          "name": "stdout"
        }
      ]
    },
    {
      "cell_type": "code",
      "metadata": {
        "id": "JyY5mC0AigW_",
        "colab_type": "code",
        "colab": {}
      },
      "source": [
        "import pandas as pd\n",
        "import numpy as np"
      ],
      "execution_count": 0,
      "outputs": []
    },
    {
      "cell_type": "code",
      "metadata": {
        "id": "h68-ck3dhxN9",
        "colab_type": "code",
        "colab": {}
      },
      "source": [
        "train = pd.read_csv('train.csv')\n",
        "test = pd.read_csv('test.csv')"
      ],
      "execution_count": 0,
      "outputs": []
    },
    {
      "cell_type": "code",
      "metadata": {
        "id": "QurbNkJZieZ1",
        "colab_type": "code",
        "colab": {}
      },
      "source": [
        "x_train = (train.iloc[:,1:].values).astype('float32')\n",
        "y_train = train.iloc[:,0].values.astype('int32')\n",
        "x_test = test.values.astype('float32')"
      ],
      "execution_count": 0,
      "outputs": []
    },
    {
      "cell_type": "code",
      "metadata": {
        "id": "LeEXmi46ivTs",
        "colab_type": "code",
        "outputId": "553b3c62-7170-4f7d-a500-e04b5fc50ac5",
        "colab": {
          "base_uri": "https://localhost:8080/",
          "height": 34
        }
      },
      "source": [
        "# normalizaremos nuestra data\n",
        "from keras.utils import normalize\n",
        "x_train = normalize(x_train)\n",
        "x_test = normalize(x_test)"
      ],
      "execution_count": 0,
      "outputs": [
        {
          "output_type": "stream",
          "text": [
            "Using TensorFlow backend.\n"
          ],
          "name": "stderr"
        }
      ]
    },
    {
      "cell_type": "code",
      "metadata": {
        "id": "75GI-drtj7fu",
        "colab_type": "code",
        "outputId": "b61afbd7-13c3-42dd-db01-a103e24518b4",
        "colab": {
          "base_uri": "https://localhost:8080/",
          "height": 34
        }
      },
      "source": [
        "x_train.shape"
      ],
      "execution_count": 0,
      "outputs": [
        {
          "output_type": "execute_result",
          "data": {
            "text/plain": [
              "(42000, 784)"
            ]
          },
          "metadata": {
            "tags": []
          },
          "execution_count": 8
        }
      ]
    },
    {
      "cell_type": "code",
      "metadata": {
        "id": "W7dPaQ52jrlO",
        "colab_type": "code",
        "colab": {}
      },
      "source": [
        "#Hacemos el reshape de las imagenes, las pondremos todas en una matriz\n",
        "X_train = x_train.reshape(x_train.shape[0],28,28,1)\n",
        "X_test = x_test.reshape(x_test.shape[0],28,28,1)"
      ],
      "execution_count": 0,
      "outputs": []
    },
    {
      "cell_type": "code",
      "metadata": {
        "id": "GBjInKw0j-SX",
        "colab_type": "code",
        "outputId": "aa3f9f55-e0df-4767-e422-fed9f1cd07f8",
        "colab": {
          "base_uri": "https://localhost:8080/",
          "height": 34
        }
      },
      "source": [
        "X_train.shape"
      ],
      "execution_count": 0,
      "outputs": [
        {
          "output_type": "execute_result",
          "data": {
            "text/plain": [
              "(42000, 28, 28, 1)"
            ]
          },
          "metadata": {
            "tags": []
          },
          "execution_count": 10
        }
      ]
    },
    {
      "cell_type": "code",
      "metadata": {
        "id": "NI6KykjHmG0i",
        "colab_type": "code",
        "colab": {}
      },
      "source": [
        "from keras.utils import to_categorical\n",
        "y_train = to_categorical(y_train, 10)\n",
        "\n",
        "from sklearn.model_selection import train_test_split\n",
        "X_train, X_val, Y_train, Y_val = train_test_split(X_train, y_train, test_size=0.045, random_state=42)"
      ],
      "execution_count": 0,
      "outputs": []
    },
    {
      "cell_type": "code",
      "metadata": {
        "id": "eMvYhd_T1f-d",
        "colab_type": "code",
        "outputId": "0e4b260f-8f23-432a-ef22-c94b296e7816",
        "colab": {
          "base_uri": "https://localhost:8080/",
          "height": 50
        }
      },
      "source": [
        "print('X_train shape {}'.format(X_train.shape))\n",
        "print('X_val shape {}'.format(X_val.shape))"
      ],
      "execution_count": 0,
      "outputs": [
        {
          "output_type": "stream",
          "text": [
            "X_train shape (40110, 28, 28, 1)\n",
            "X_val shape (1890, 28, 28, 1)\n"
          ],
          "name": "stdout"
        }
      ]
    },
    {
      "cell_type": "code",
      "metadata": {
        "id": "XW2Oy6HwmgFZ",
        "colab_type": "code",
        "colab": {}
      },
      "source": [
        "seed = 123\n",
        "np.random.seed(seed)"
      ],
      "execution_count": 0,
      "outputs": []
    },
    {
      "cell_type": "markdown",
      "metadata": {
        "id": "cju6LAZ8kVY6",
        "colab_type": "text"
      },
      "source": [
        "### Mi primera red convolucional\n"
      ]
    },
    {
      "cell_type": "code",
      "metadata": {
        "id": "Vu00bHwckwH2",
        "colab_type": "code",
        "colab": {}
      },
      "source": [
        "from keras.models import Sequential\n",
        "from keras.layers import Conv2D, Dense, Dropout, Flatten, MaxPool2D\n",
        "from keras.optimizers import RMSprop, Adam\n",
        "# extras que iré probando...\n",
        "from keras.preprocessing.image import ImageDataGenerator\n",
        "from keras.callbacks import ReduceLROnPlateau"
      ],
      "execution_count": 0,
      "outputs": []
    },
    {
      "cell_type": "code",
      "metadata": {
        "id": "E8BkccRkmLxD",
        "colab_type": "code",
        "colab": {}
      },
      "source": [
        "## Usaremos early stopping como callback\n",
        "from keras.callbacks import EarlyStopping"
      ],
      "execution_count": 0,
      "outputs": []
    },
    {
      "cell_type": "code",
      "metadata": {
        "id": "ai-djIv8rW2Y",
        "colab_type": "code",
        "colab": {}
      },
      "source": [
        "es = EarlyStopping(monitor='val_acc', mode='max', verbose=1,patience=10)"
      ],
      "execution_count": 0,
      "outputs": []
    },
    {
      "cell_type": "code",
      "metadata": {
        "id": "C0athykDkASj",
        "colab_type": "code",
        "colab": {}
      },
      "source": [
        "# Recuerda que antes de hacerlo flatten, le tengo que pasar las convoluciones (que no son flatten)\n",
        "model = Sequential()\n",
        "\n",
        "model.add(Conv2D(filters=32, kernel_size=(5,5), padding='Same',\n",
        "                 activation='relu',input_shape=(28,28,1)))\n",
        "model.add(Conv2D(filters=32,kernel_size=(5,5),padding=\"Same\",\n",
        "                 activation=\"relu\"))\n",
        "model.add(MaxPool2D(pool_size=(2,2)))\n",
        "model.add(Dropout(0.25))\n",
        "\n",
        "model.add(Conv2D(filters=64, kernel_size=(3,3), padding=\"Same\",\n",
        "                 activation=\"relu\"))\n",
        "model.add(Conv2D(filters=64, kernel_size=(3,3),padding=\"Same\",\n",
        "                 activation=\"relu\"))\n",
        "model.add(MaxPool2D(pool_size=(2,2),strides=(2,2)))\n",
        "model.add(Dropout(0.25))\n",
        "\n",
        "model.add(Flatten())\n",
        "model.add(Dense(256,activation=\"relu\"))\n",
        "model.add(Dropout(0.5))\n",
        "#El output\n",
        "model.add(Dense(10,activation=\"softmax\"))"
      ],
      "execution_count": 0,
      "outputs": []
    },
    {
      "cell_type": "code",
      "metadata": {
        "id": "Qt8vT35rpFxG",
        "colab_type": "code",
        "colab": {}
      },
      "source": [
        "optimizer = RMSprop(lr = 0.001, rho=0.9, epsilon=1e-08,decay=0.0)"
      ],
      "execution_count": 0,
      "outputs": []
    },
    {
      "cell_type": "code",
      "metadata": {
        "id": "1ogmogLatL0x",
        "colab_type": "code",
        "colab": {}
      },
      "source": [
        "model.compile(optimizer=optimizer, loss = \"categorical_crossentropy\", metrics=[\"accuracy\"])"
      ],
      "execution_count": 0,
      "outputs": []
    },
    {
      "cell_type": "markdown",
      "metadata": {
        "id": "aneJOt7I9bIs",
        "colab_type": "text"
      },
      "source": [
        "### Ampliando nuestra data\n"
      ]
    },
    {
      "cell_type": "code",
      "metadata": {
        "id": "1gzq9qXo9aUD",
        "colab_type": "code",
        "colab": {}
      },
      "source": [
        "datagen = ImageDataGenerator(\n",
        "    featurewise_center=False, #seteando la media del input a 0 en el dataset\n",
        "    samplewise_center = False, #setenado cada media del sample a 0\n",
        "    featurewise_std_normalization=False, #divide inputs por la dsv std del dataset\n",
        "\n",
        "    samplewise_std_normalization=False,#divide cada input por su std.\n",
        "    zca_whitening = False, #aplicando el ZCA whitening\n",
        "    rotation_range=10, #de manera random rotando las imágnes (de 0 a 180 grados)\n",
        "    zoom_range=0.1, #De manera random haciendo zoom a la imagen\n",
        "    width_shift_range=0.1, #de manera random rotando de manera horizontal\n",
        "    height_shift_range=0.1, #de manera random rotando de forma vertical\n",
        "    vertical_flip=False #no quiero que voltee la imagen en vertical.\n",
        ")"
      ],
      "execution_count": 0,
      "outputs": []
    },
    {
      "cell_type": "code",
      "metadata": {
        "id": "ZXF1saY8_l-H",
        "colab_type": "code",
        "outputId": "a6534043-6ecc-4e65-a7df-76c893db580c",
        "colab": {
          "base_uri": "https://localhost:8080/",
          "height": 34
        }
      },
      "source": [
        "X_train.shape"
      ],
      "execution_count": 0,
      "outputs": [
        {
          "output_type": "execute_result",
          "data": {
            "text/plain": [
              "(40110, 28, 28, 1)"
            ]
          },
          "metadata": {
            "tags": []
          },
          "execution_count": 21
        }
      ]
    },
    {
      "cell_type": "code",
      "metadata": {
        "id": "PpmOtSLh_EPE",
        "colab_type": "code",
        "colab": {}
      },
      "source": [
        "datagen.fit(X_train)"
      ],
      "execution_count": 0,
      "outputs": []
    },
    {
      "cell_type": "code",
      "metadata": {
        "id": "AogcvNbk_k7Z",
        "colab_type": "code",
        "outputId": "440502d6-28c0-4052-97b2-25632aa2488a",
        "colab": {
          "base_uri": "https://localhost:8080/",
          "height": 34
        }
      },
      "source": [
        "X_train.shape"
      ],
      "execution_count": 0,
      "outputs": [
        {
          "output_type": "execute_result",
          "data": {
            "text/plain": [
              "(40110, 28, 28, 1)"
            ]
          },
          "metadata": {
            "tags": []
          },
          "execution_count": 23
        }
      ]
    },
    {
      "cell_type": "code",
      "metadata": {
        "id": "4JRGAhTzAVHu",
        "colab_type": "code",
        "outputId": "5baf5639-5b75-42d9-af63-04e50af82402",
        "colab": {
          "base_uri": "https://localhost:8080/",
          "height": 1000
        }
      },
      "source": [
        "history = model.fit(datagen.flow(X_train,Y_train, batch_size=32), epochs = 30, validation_data = (X_val, Y_val),  steps_per_epoch=X_train.shape[0] // 32,\n",
        "                    callbacks = [es])"
      ],
      "execution_count": 0,
      "outputs": [
        {
          "output_type": "stream",
          "text": [
            "Epoch 1/30\n",
            "1253/1253 [==============================] - 15s 12ms/step - loss: 0.4278 - accuracy: 0.8597 - val_loss: 0.0826 - val_accuracy: 0.9757\n",
            "Epoch 2/30\n",
            "   7/1253 [..............................] - ETA: 26s - loss: 0.1139 - accuracy: 0.9598 "
          ],
          "name": "stdout"
        },
        {
          "output_type": "stream",
          "text": [
            "/usr/local/lib/python3.6/dist-packages/keras/callbacks/callbacks.py:846: RuntimeWarning: Early stopping conditioned on metric `val_acc` which is not available. Available metrics are: val_loss,val_accuracy,loss,accuracy\n",
            "  (self.monitor, ','.join(list(logs.keys()))), RuntimeWarning\n"
          ],
          "name": "stderr"
        },
        {
          "output_type": "stream",
          "text": [
            "1253/1253 [==============================] - 14s 11ms/step - loss: 0.1363 - accuracy: 0.9598 - val_loss: 0.0555 - val_accuracy: 0.9825\n",
            "Epoch 3/30\n",
            "1253/1253 [==============================] - 14s 11ms/step - loss: 0.1090 - accuracy: 0.9680 - val_loss: 0.0439 - val_accuracy: 0.9873\n",
            "Epoch 4/30\n",
            "1253/1253 [==============================] - 14s 11ms/step - loss: 0.0991 - accuracy: 0.9718 - val_loss: 0.0851 - val_accuracy: 0.9794\n",
            "Epoch 5/30\n",
            "1253/1253 [==============================] - 14s 11ms/step - loss: 0.0983 - accuracy: 0.9730 - val_loss: 0.0422 - val_accuracy: 0.9862\n",
            "Epoch 6/30\n",
            "1253/1253 [==============================] - 14s 11ms/step - loss: 0.0959 - accuracy: 0.9736 - val_loss: 0.0399 - val_accuracy: 0.9873\n",
            "Epoch 7/30\n",
            "1253/1253 [==============================] - 14s 11ms/step - loss: 0.0999 - accuracy: 0.9739 - val_loss: 0.0401 - val_accuracy: 0.9878\n",
            "Epoch 8/30\n",
            "1253/1253 [==============================] - 14s 11ms/step - loss: 0.1055 - accuracy: 0.9734 - val_loss: 0.0389 - val_accuracy: 0.9884\n",
            "Epoch 9/30\n",
            "1253/1253 [==============================] - 14s 11ms/step - loss: 0.1081 - accuracy: 0.9733 - val_loss: 0.0646 - val_accuracy: 0.9825\n",
            "Epoch 10/30\n",
            "1253/1253 [==============================] - 14s 11ms/step - loss: 0.1112 - accuracy: 0.9724 - val_loss: 0.0404 - val_accuracy: 0.9910\n",
            "Epoch 11/30\n",
            "1253/1253 [==============================] - 14s 11ms/step - loss: 0.1238 - accuracy: 0.9695 - val_loss: 0.0715 - val_accuracy: 0.9857\n",
            "Epoch 12/30\n",
            "1253/1253 [==============================] - 14s 11ms/step - loss: 0.1282 - accuracy: 0.9703 - val_loss: 0.0570 - val_accuracy: 0.9862\n",
            "Epoch 13/30\n",
            "1253/1253 [==============================] - 14s 11ms/step - loss: 0.1316 - accuracy: 0.9684 - val_loss: 0.0639 - val_accuracy: 0.9868\n",
            "Epoch 14/30\n",
            "1253/1253 [==============================] - 14s 11ms/step - loss: 0.1373 - accuracy: 0.9686 - val_loss: 0.0597 - val_accuracy: 0.9899\n",
            "Epoch 15/30\n",
            "1253/1253 [==============================] - 14s 11ms/step - loss: 0.1413 - accuracy: 0.9680 - val_loss: 0.0937 - val_accuracy: 0.9857\n",
            "Epoch 16/30\n",
            "1253/1253 [==============================] - 14s 11ms/step - loss: 0.1513 - accuracy: 0.9663 - val_loss: 0.0886 - val_accuracy: 0.9857\n",
            "Epoch 17/30\n",
            "1253/1253 [==============================] - 14s 11ms/step - loss: 0.1614 - accuracy: 0.9649 - val_loss: 0.0807 - val_accuracy: 0.9873\n",
            "Epoch 18/30\n",
            "1253/1253 [==============================] - 14s 11ms/step - loss: 0.1659 - accuracy: 0.9635 - val_loss: 0.0503 - val_accuracy: 0.9878\n",
            "Epoch 19/30\n",
            "1253/1253 [==============================] - 14s 11ms/step - loss: 0.1692 - accuracy: 0.9647 - val_loss: 0.0487 - val_accuracy: 0.9878\n",
            "Epoch 20/30\n",
            "1253/1253 [==============================] - 14s 11ms/step - loss: 0.1763 - accuracy: 0.9627 - val_loss: 0.0884 - val_accuracy: 0.9799\n",
            "Epoch 21/30\n",
            "1253/1253 [==============================] - 14s 11ms/step - loss: 0.1896 - accuracy: 0.9615 - val_loss: 0.1228 - val_accuracy: 0.9841\n",
            "Epoch 22/30\n",
            "1253/1253 [==============================] - 14s 11ms/step - loss: 0.1857 - accuracy: 0.9608 - val_loss: 0.0939 - val_accuracy: 0.9815\n",
            "Epoch 23/30\n",
            "1253/1253 [==============================] - 14s 11ms/step - loss: 0.2037 - accuracy: 0.9596 - val_loss: 0.0623 - val_accuracy: 0.9857\n",
            "Epoch 24/30\n",
            "1253/1253 [==============================] - 14s 11ms/step - loss: 0.2140 - accuracy: 0.9568 - val_loss: 0.0733 - val_accuracy: 0.9831\n",
            "Epoch 25/30\n",
            "1253/1253 [==============================] - 14s 11ms/step - loss: 0.2172 - accuracy: 0.9557 - val_loss: 0.1055 - val_accuracy: 0.9820\n",
            "Epoch 26/30\n",
            "1253/1253 [==============================] - 14s 11ms/step - loss: 0.2257 - accuracy: 0.9567 - val_loss: 0.0799 - val_accuracy: 0.9873\n",
            "Epoch 27/30\n",
            "1253/1253 [==============================] - 14s 11ms/step - loss: 0.2458 - accuracy: 0.9563 - val_loss: 0.0790 - val_accuracy: 0.9825\n",
            "Epoch 28/30\n",
            "1253/1253 [==============================] - 14s 11ms/step - loss: 0.2481 - accuracy: 0.9532 - val_loss: 0.1236 - val_accuracy: 0.9815\n",
            "Epoch 29/30\n",
            "1253/1253 [==============================] - 14s 11ms/step - loss: 0.2354 - accuracy: 0.9540 - val_loss: 0.0997 - val_accuracy: 0.9810\n",
            "Epoch 30/30\n",
            "1253/1253 [==============================] - 14s 11ms/step - loss: 0.2471 - accuracy: 0.9517 - val_loss: 0.2416 - val_accuracy: 0.9847\n"
          ],
          "name": "stdout"
        }
      ]
    },
    {
      "cell_type": "code",
      "metadata": {
        "id": "9PRUNCMAtSE9",
        "colab_type": "code",
        "outputId": "50816e92-9121-459d-94ac-8c70ed31796c",
        "colab": {
          "base_uri": "https://localhost:8080/",
          "height": 265
        }
      },
      "source": [
        "__, train_acc = model.evaluate(X_train, Y_train, verbose=0)\n",
        "__, test_acc = model.evaluate(X_val, Y_val, verbose=0)\n",
        "import matplotlib.pyplot as plt\n",
        "plt.plot(history.history['loss'],label='train')\n",
        "plt.plot(history.history['val_loss'],label='val')\n",
        "plt.legend()\n",
        "plt.show()"
      ],
      "execution_count": 0,
      "outputs": [
        {
          "output_type": "display_data",
          "data": {
            "image/png": "[encoded data removed]",
            "text/plain": [
              "<Figure size 432x288 with 1 Axes>"
            ]
          },
          "metadata": {
            "tags": []
          }
        }
      ]
    },
    {
      "cell_type": "code",
      "metadata": {
        "id": "ANmWr5n2whSC",
        "colab_type": "code",
        "outputId": "b423693b-7cb5-4b39-f554-8f4a248ec9f4",
        "colab": {
          "base_uri": "https://localhost:8080/",
          "height": 282
        }
      },
      "source": [
        "plt.plot(history.history['loss'],label='train')\n",
        "plt.plot(history.history['val_loss'],label='val')\n",
        "plt.legend()"
      ],
      "execution_count": 0,
      "outputs": [
        {
          "output_type": "execute_result",
          "data": {
            "text/plain": [
              "<matplotlib.legend.Legend at 0x7f07b207c710>"
            ]
          },
          "metadata": {
            "tags": []
          },
          "execution_count": 26
        },
        {
          "output_type": "display_data",
          "data": {
            "image/png": "[encoded data removed]",
            "text/plain": [
              "<Figure size 432x288 with 1 Axes>"
            ]
          },
          "metadata": {
            "tags": []
          }
        }
      ]
    },
    {
      "cell_type": "markdown",
      "metadata": {
        "id": "5xlFloICwiqo",
        "colab_type": "text"
      },
      "source": [
        "### Los problemas que salen de este código: \n",
        " - El accuracy parece bajar a partir de cierto epoch. Se intuye de que se tiene que poner un **early_stopping** dentro del entrenamiento.  **LISTO**\n",
        "\n",
        " - Habría que evaluar el modelo a medida que entrene. (Con learning curves)\n",
        "\n",
        " - Se tiene que usar batch_size y saber para qué sirve y si mejora el tiempo de entrenamiento... **Listo**\n",
        "\n",
        " - Se tiene que medir el tiempo de corrida de la red neuronal. \n",
        "\n",
        " - Se podría hacer una red un poco más compleja? Es decir, se podría meter BatchNorm luego de haberle metido ya la red convolucional?\n",
        "\n",
        " - La data **no es representativa** y el modelo no generaliza. Se tiene que hacer aumento de la data... Hay mucha varianza en el acc y en el loss... \n",
        " "
      ]
    },
    {
      "cell_type": "markdown",
      "metadata": {
        "id": "uV0_L2dA4hcJ",
        "colab_type": "text"
      },
      "source": [
        "\n",
        " "
      ]
    },
    {
      "cell_type": "code",
      "metadata": {
        "id": "oUuHjNZ8uWBb",
        "colab_type": "code",
        "outputId": "79c4f3a8-079f-4d51-cd93-b267b12ac3d0",
        "colab": {
          "base_uri": "https://localhost:8080/",
          "height": 67
        }
      },
      "source": [
        "model_loss , model_acc = model.evaluate(X_val, Y_val)\n",
        "print(model_loss, '<- loss')\n",
        "print(model_acc, '<- acc')"
      ],
      "execution_count": 0,
      "outputs": [
        {
          "output_type": "stream",
          "text": [
            "1890/1890 [==============================] - 0s 76us/step\n",
            "0.24161970518393058 <- loss\n",
            "0.9846560955047607 <- acc\n"
          ],
          "name": "stdout"
        }
      ]
    },
    {
      "cell_type": "markdown",
      "metadata": {
        "id": "rTi5EDmuxbGG",
        "colab_type": "text"
      },
      "source": [
        "Con la primera corrida se tiene 0.06079435418242307 <- loss\n",
        "0.9873809814453125 <- acc \n",
        "\n",
        "La segunda tiene 0.11854778286319873 <- loss\n",
        "0.9823809266090393 <- acc \n",
        "\n",
        "**No se están replicando los resultados !!!!** \n"
      ]
    },
    {
      "cell_type": "code",
      "metadata": {
        "id": "CjdUdcVIuEwK",
        "colab_type": "code",
        "colab": {}
      },
      "source": [
        ""
      ],
      "execution_count": 0,
      "outputs": []
    }
  ]
}