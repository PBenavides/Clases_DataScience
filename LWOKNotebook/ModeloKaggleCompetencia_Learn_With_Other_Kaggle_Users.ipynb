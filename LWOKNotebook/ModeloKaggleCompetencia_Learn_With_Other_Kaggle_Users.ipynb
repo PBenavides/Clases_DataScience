{
 "cells": [
  {
   "cell_type": "code",
   "execution_count": null,
   "metadata": {
    "colab": {},
    "colab_type": "code",
    "id": "tBhmkzh4ox5V"
   },
   "outputs": [],
   "source": []
  },
  {
   "cell_type": "code",
   "execution_count": 1,
   "metadata": {
    "colab": {},
    "colab_type": "code",
    "id": "98SH2tPcsZpQ"
   },
   "outputs": [],
   "source": [
    "#Crear una variable url para asignar la ruta url del archivo csv de entrenamiento guardado en mi github\n",
    "url = 'https://raw.githubusercontent.com/PBenavides/Clases_DataScience/master/LWOKNotebook/train.csv'\n",
    "\n",
    "#Importaremos el url de nuestra data para hacer el test.\n",
    "url_2 ='https://raw.githubusercontent.com/PBenavides/Clases_DataScience/master/LWOKNotebook/test.csv'\n",
    "\n",
    "#Importar la librería pandas para trabajar con dataframes y guardar esta libreria como una variable pd\n",
    "import pandas as pd\n",
    "import numpy as np\n",
    "import seaborn as sns\n",
    "\n",
    "#Crear una variable train para guardar la data de entrenamiento a partir del archivo csv obteniendo así un dataframe\n",
    "#El índice del dataframe serán los valores que aparecen en la columna Id del archivo csv\n",
    "train = pd.read_csv(url, index_col='Id')\n",
    "test = pd.read_csv(url_2, index_col='Id')\n",
    "\n",
    "import warnings\n",
    "warnings.filterwarnings('ignore')\n",
    "\n",
    "import matplotlib.pyplot as plt"
   ]
  },
  {
   "cell_type": "code",
   "execution_count": 2,
   "metadata": {
    "colab": {
     "base_uri": "https://localhost:8080/",
     "height": 156
    },
    "colab_type": "code",
    "id": "0OsIbkanox5h",
    "outputId": "313b9b1d-7dc8-415c-807e-c0f8a8fde949"
   },
   "outputs": [
    {
     "data": {
      "text/html": [
       "<div>\n",
       "<style scoped>\n",
       "    .dataframe tbody tr th:only-of-type {\n",
       "        vertical-align: middle;\n",
       "    }\n",
       "\n",
       "    .dataframe tbody tr th {\n",
       "        vertical-align: top;\n",
       "    }\n",
       "\n",
       "    .dataframe thead th {\n",
       "        text-align: right;\n",
       "    }\n",
       "</style>\n",
       "<table border=\"1\" class=\"dataframe\">\n",
       "  <thead>\n",
       "    <tr style=\"text-align: right;\">\n",
       "      <th></th>\n",
       "      <th>Elevation</th>\n",
       "      <th>Aspect</th>\n",
       "      <th>Slope</th>\n",
       "      <th>Horizontal_Distance_To_Hydrology</th>\n",
       "      <th>Vertical_Distance_To_Hydrology</th>\n",
       "      <th>Horizontal_Distance_To_Roadways</th>\n",
       "      <th>Hillshade_9am</th>\n",
       "      <th>Hillshade_Noon</th>\n",
       "      <th>Hillshade_3pm</th>\n",
       "      <th>Horizontal_Distance_To_Fire_Points</th>\n",
       "      <th>...</th>\n",
       "      <th>Soil_Type32</th>\n",
       "      <th>Soil_Type33</th>\n",
       "      <th>Soil_Type34</th>\n",
       "      <th>Soil_Type35</th>\n",
       "      <th>Soil_Type36</th>\n",
       "      <th>Soil_Type37</th>\n",
       "      <th>Soil_Type38</th>\n",
       "      <th>Soil_Type39</th>\n",
       "      <th>Soil_Type40</th>\n",
       "      <th>Cover_Type</th>\n",
       "    </tr>\n",
       "    <tr>\n",
       "      <th>Id</th>\n",
       "      <th></th>\n",
       "      <th></th>\n",
       "      <th></th>\n",
       "      <th></th>\n",
       "      <th></th>\n",
       "      <th></th>\n",
       "      <th></th>\n",
       "      <th></th>\n",
       "      <th></th>\n",
       "      <th></th>\n",
       "      <th></th>\n",
       "      <th></th>\n",
       "      <th></th>\n",
       "      <th></th>\n",
       "      <th></th>\n",
       "      <th></th>\n",
       "      <th></th>\n",
       "      <th></th>\n",
       "      <th></th>\n",
       "      <th></th>\n",
       "      <th></th>\n",
       "    </tr>\n",
       "  </thead>\n",
       "  <tbody>\n",
       "    <tr>\n",
       "      <th>1</th>\n",
       "      <td>2596</td>\n",
       "      <td>51</td>\n",
       "      <td>3</td>\n",
       "      <td>258</td>\n",
       "      <td>0</td>\n",
       "      <td>510</td>\n",
       "      <td>221</td>\n",
       "      <td>232</td>\n",
       "      <td>148</td>\n",
       "      <td>6279</td>\n",
       "      <td>...</td>\n",
       "      <td>0</td>\n",
       "      <td>0</td>\n",
       "      <td>0</td>\n",
       "      <td>0</td>\n",
       "      <td>0</td>\n",
       "      <td>0</td>\n",
       "      <td>0</td>\n",
       "      <td>0</td>\n",
       "      <td>0</td>\n",
       "      <td>5</td>\n",
       "    </tr>\n",
       "    <tr>\n",
       "      <th>2</th>\n",
       "      <td>2590</td>\n",
       "      <td>56</td>\n",
       "      <td>2</td>\n",
       "      <td>212</td>\n",
       "      <td>-6</td>\n",
       "      <td>390</td>\n",
       "      <td>220</td>\n",
       "      <td>235</td>\n",
       "      <td>151</td>\n",
       "      <td>6225</td>\n",
       "      <td>...</td>\n",
       "      <td>0</td>\n",
       "      <td>0</td>\n",
       "      <td>0</td>\n",
       "      <td>0</td>\n",
       "      <td>0</td>\n",
       "      <td>0</td>\n",
       "      <td>0</td>\n",
       "      <td>0</td>\n",
       "      <td>0</td>\n",
       "      <td>5</td>\n",
       "    </tr>\n",
       "  </tbody>\n",
       "</table>\n",
       "<p>2 rows × 55 columns</p>\n",
       "</div>"
      ],
      "text/plain": [
       "    Elevation  Aspect  Slope  Horizontal_Distance_To_Hydrology  \\\n",
       "Id                                                               \n",
       "1        2596      51      3                               258   \n",
       "2        2590      56      2                               212   \n",
       "\n",
       "    Vertical_Distance_To_Hydrology  Horizontal_Distance_To_Roadways  \\\n",
       "Id                                                                    \n",
       "1                                0                              510   \n",
       "2                               -6                              390   \n",
       "\n",
       "    Hillshade_9am  Hillshade_Noon  Hillshade_3pm  \\\n",
       "Id                                                 \n",
       "1             221             232            148   \n",
       "2             220             235            151   \n",
       "\n",
       "    Horizontal_Distance_To_Fire_Points  ...  Soil_Type32  Soil_Type33  \\\n",
       "Id                                      ...                             \n",
       "1                                 6279  ...            0            0   \n",
       "2                                 6225  ...            0            0   \n",
       "\n",
       "    Soil_Type34  Soil_Type35  Soil_Type36  Soil_Type37  Soil_Type38  \\\n",
       "Id                                                                    \n",
       "1             0            0            0            0            0   \n",
       "2             0            0            0            0            0   \n",
       "\n",
       "    Soil_Type39  Soil_Type40  Cover_Type  \n",
       "Id                                        \n",
       "1             0            0           5  \n",
       "2             0            0           5  \n",
       "\n",
       "[2 rows x 55 columns]"
      ]
     },
     "execution_count": 2,
     "metadata": {},
     "output_type": "execute_result"
    }
   ],
   "source": [
    "train.head(2)"
   ]
  },
  {
   "cell_type": "code",
   "execution_count": 3,
   "metadata": {
    "colab": {},
    "colab_type": "code",
    "id": "ZLixrzlKbvqt"
   },
   "outputs": [],
   "source": [
    "#Crear una variable list_1 para asignar una lista con los nombres de las columnas descritas\n",
    "list_1=['Horizontal_Distance_To_Hydrology','Vertical_Distance_To_Hydrology']"
   ]
  },
  {
   "cell_type": "markdown",
   "metadata": {
    "colab_type": "text",
    "id": "6NFAQTyOox5s"
   },
   "source": [
    "### Haremos un rápido feature engineer de distancia pitagórica."
   ]
  },
  {
   "cell_type": "code",
   "execution_count": 4,
   "metadata": {
    "colab": {},
    "colab_type": "code",
    "id": "UriJEgOPMN15"
   },
   "outputs": [],
   "source": [
    "#Importar la libreria math para trabajar con funciones matemáticas\n",
    "import math\n",
    "\n",
    "#Definimos una funcion que denominamos pitagoras con dos parámetros que sacará la raíz cuadrada de la suma de los cuadrados de ambos parámetros\n",
    "def pitagoras (a, b): \n",
    "    return math.sqrt(a**2 + b**2)\n",
    "\n",
    "#Agregamos la columna pitagoras al dataframe train_pitagoras_distance1 donde guardar el resultado de ejecutar la función pitagoras fila por fila\n",
    "train['pitagoras'] = train.apply(lambda row : pitagoras(row['Horizontal_Distance_To_Hydrology'],row['Vertical_Distance_To_Hydrology']), axis = 1)\n",
    "#Tambien transformamos el test\n",
    "test['pitagoras'] = test.apply(lambda row : pitagoras(row['Horizontal_Distance_To_Hydrology'],row['Vertical_Distance_To_Hydrology']),axis=1)"
   ]
  },
  {
   "cell_type": "code",
   "execution_count": 5,
   "metadata": {
    "colab": {},
    "colab_type": "code",
    "id": "dpyNwwfJMPtl"
   },
   "outputs": [],
   "source": [
    "list_2=['Hillshade_9am','Hillshade_Noon','Hillshade_3pm']\n",
    "#Voy a sacar la media de las sombras de estas tres variables\n",
    "train['hillmean'] = train[list_2].mean(axis=1) \n",
    "test['hillmean'] = test[list_2].mean(axis=1)"
   ]
  },
  {
   "cell_type": "code",
   "execution_count": 6,
   "metadata": {
    "colab": {
     "base_uri": "https://localhost:8080/",
     "height": 156
    },
    "colab_type": "code",
    "id": "CEpVdEgvox5v",
    "outputId": "f3b5ca8f-c0e7-4a76-9285-911f23712ac4"
   },
   "outputs": [
    {
     "data": {
      "text/html": [
       "<div>\n",
       "<style scoped>\n",
       "    .dataframe tbody tr th:only-of-type {\n",
       "        vertical-align: middle;\n",
       "    }\n",
       "\n",
       "    .dataframe tbody tr th {\n",
       "        vertical-align: top;\n",
       "    }\n",
       "\n",
       "    .dataframe thead th {\n",
       "        text-align: right;\n",
       "    }\n",
       "</style>\n",
       "<table border=\"1\" class=\"dataframe\">\n",
       "  <thead>\n",
       "    <tr style=\"text-align: right;\">\n",
       "      <th></th>\n",
       "      <th>Elevation</th>\n",
       "      <th>Aspect</th>\n",
       "      <th>Slope</th>\n",
       "      <th>Horizontal_Distance_To_Hydrology</th>\n",
       "      <th>Vertical_Distance_To_Hydrology</th>\n",
       "      <th>Horizontal_Distance_To_Roadways</th>\n",
       "      <th>Hillshade_9am</th>\n",
       "      <th>Hillshade_Noon</th>\n",
       "      <th>Hillshade_3pm</th>\n",
       "      <th>Horizontal_Distance_To_Fire_Points</th>\n",
       "      <th>...</th>\n",
       "      <th>Soil_Type34</th>\n",
       "      <th>Soil_Type35</th>\n",
       "      <th>Soil_Type36</th>\n",
       "      <th>Soil_Type37</th>\n",
       "      <th>Soil_Type38</th>\n",
       "      <th>Soil_Type39</th>\n",
       "      <th>Soil_Type40</th>\n",
       "      <th>Cover_Type</th>\n",
       "      <th>pitagoras</th>\n",
       "      <th>hillmean</th>\n",
       "    </tr>\n",
       "    <tr>\n",
       "      <th>Id</th>\n",
       "      <th></th>\n",
       "      <th></th>\n",
       "      <th></th>\n",
       "      <th></th>\n",
       "      <th></th>\n",
       "      <th></th>\n",
       "      <th></th>\n",
       "      <th></th>\n",
       "      <th></th>\n",
       "      <th></th>\n",
       "      <th></th>\n",
       "      <th></th>\n",
       "      <th></th>\n",
       "      <th></th>\n",
       "      <th></th>\n",
       "      <th></th>\n",
       "      <th></th>\n",
       "      <th></th>\n",
       "      <th></th>\n",
       "      <th></th>\n",
       "      <th></th>\n",
       "    </tr>\n",
       "  </thead>\n",
       "  <tbody>\n",
       "    <tr>\n",
       "      <th>1</th>\n",
       "      <td>2596</td>\n",
       "      <td>51</td>\n",
       "      <td>3</td>\n",
       "      <td>258</td>\n",
       "      <td>0</td>\n",
       "      <td>510</td>\n",
       "      <td>221</td>\n",
       "      <td>232</td>\n",
       "      <td>148</td>\n",
       "      <td>6279</td>\n",
       "      <td>...</td>\n",
       "      <td>0</td>\n",
       "      <td>0</td>\n",
       "      <td>0</td>\n",
       "      <td>0</td>\n",
       "      <td>0</td>\n",
       "      <td>0</td>\n",
       "      <td>0</td>\n",
       "      <td>5</td>\n",
       "      <td>258.000000</td>\n",
       "      <td>200.333333</td>\n",
       "    </tr>\n",
       "    <tr>\n",
       "      <th>2</th>\n",
       "      <td>2590</td>\n",
       "      <td>56</td>\n",
       "      <td>2</td>\n",
       "      <td>212</td>\n",
       "      <td>-6</td>\n",
       "      <td>390</td>\n",
       "      <td>220</td>\n",
       "      <td>235</td>\n",
       "      <td>151</td>\n",
       "      <td>6225</td>\n",
       "      <td>...</td>\n",
       "      <td>0</td>\n",
       "      <td>0</td>\n",
       "      <td>0</td>\n",
       "      <td>0</td>\n",
       "      <td>0</td>\n",
       "      <td>0</td>\n",
       "      <td>0</td>\n",
       "      <td>5</td>\n",
       "      <td>212.084889</td>\n",
       "      <td>202.000000</td>\n",
       "    </tr>\n",
       "  </tbody>\n",
       "</table>\n",
       "<p>2 rows × 57 columns</p>\n",
       "</div>"
      ],
      "text/plain": [
       "    Elevation  Aspect  Slope  Horizontal_Distance_To_Hydrology  \\\n",
       "Id                                                               \n",
       "1        2596      51      3                               258   \n",
       "2        2590      56      2                               212   \n",
       "\n",
       "    Vertical_Distance_To_Hydrology  Horizontal_Distance_To_Roadways  \\\n",
       "Id                                                                    \n",
       "1                                0                              510   \n",
       "2                               -6                              390   \n",
       "\n",
       "    Hillshade_9am  Hillshade_Noon  Hillshade_3pm  \\\n",
       "Id                                                 \n",
       "1             221             232            148   \n",
       "2             220             235            151   \n",
       "\n",
       "    Horizontal_Distance_To_Fire_Points  ...  Soil_Type34  Soil_Type35  \\\n",
       "Id                                      ...                             \n",
       "1                                 6279  ...            0            0   \n",
       "2                                 6225  ...            0            0   \n",
       "\n",
       "    Soil_Type36  Soil_Type37  Soil_Type38  Soil_Type39  Soil_Type40  \\\n",
       "Id                                                                    \n",
       "1             0            0            0            0            0   \n",
       "2             0            0            0            0            0   \n",
       "\n",
       "    Cover_Type   pitagoras    hillmean  \n",
       "Id                                      \n",
       "1            5  258.000000  200.333333  \n",
       "2            5  212.084889  202.000000  \n",
       "\n",
       "[2 rows x 57 columns]"
      ]
     },
     "execution_count": 6,
     "metadata": {},
     "output_type": "execute_result"
    }
   ],
   "source": [
    "train.head(2)"
   ]
  },
  {
   "cell_type": "code",
   "execution_count": null,
   "metadata": {
    "colab": {},
    "colab_type": "code",
    "id": "-uelJdzgak9g"
   },
   "outputs": [],
   "source": []
  },
  {
   "cell_type": "markdown",
   "metadata": {
    "colab_type": "text",
    "id": "rPtrQfgYox51"
   },
   "source": [
    "Tendremos que trabajar ahora con el test"
   ]
  },
  {
   "cell_type": "code",
   "execution_count": 7,
   "metadata": {
    "colab": {},
    "colab_type": "code",
    "id": "j-q2YFZlqwBw"
   },
   "outputs": [],
   "source": [
    "#Crear una variable X para guardar un dataframe train2\n",
    "X = train"
   ]
  },
  {
   "cell_type": "code",
   "execution_count": 8,
   "metadata": {
    "colab": {},
    "colab_type": "code",
    "id": "ZoSnm57dq7Cs"
   },
   "outputs": [],
   "source": [
    "#Crear una variable y para guardar solo la columna Cover_Type de la variable X porque esta variable es el objetivo de la predicción\n",
    "y = X['Cover_Type']\n",
    "\n",
    "#Eliminar la columna Cover_Type de la variable X para solo conservar las variables predictoras.\n",
    "#El parámetro inplace=True permite actualizar la variable X\n",
    "X.drop(['Cover_Type'], axis=1, inplace=True)"
   ]
  },
  {
   "cell_type": "code",
   "execution_count": 9,
   "metadata": {
    "colab": {},
    "colab_type": "code",
    "id": "szDre32pp1A1"
   },
   "outputs": [],
   "source": [
    "#Importamos la función train_test_split para poder usar model_selection\n",
    "from sklearn.model_selection import train_test_split\n",
    "\n",
    "#Usando train_test_split obtenemos las muestras de entrenamiento (train) y test a partir de X tomando el 60% y 40% respectivamente\n",
    "X_train, X_test, y_train, y_test = train_test_split(X, y, train_size=0.6, test_size=0.4,random_state=0)"
   ]
  },
  {
   "cell_type": "markdown",
   "metadata": {
    "colab_type": "text",
    "id": "7VAlmdfTC3OW"
   },
   "source": [
    "### Haremos tres modelos tuneando los hiperparámetros y buscando la combinación óptima"
   ]
  },
  {
   "cell_type": "code",
   "execution_count": 10,
   "metadata": {
    "colab": {},
    "colab_type": "code",
    "id": "Hr7L91ePK6AF"
   },
   "outputs": [],
   "source": [
    "#Para tunear los hiperparámetros necesitamos importar GridSearchCV\n",
    "\n",
    "from sklearn.model_selection import GridSearchCV\n",
    "\n",
    "#Importamos la librería sklearn y model_selection para utilizar cross_val_score\n",
    "from sklearn.model_selection import cross_val_score\n"
   ]
  },
  {
   "cell_type": "markdown",
   "metadata": {
    "colab_type": "text",
    "id": "jk9onoZ3RJ_4"
   },
   "source": [
    "### Regresion Logistica"
   ]
  },
  {
   "cell_type": "code",
   "execution_count": 11,
   "metadata": {
    "colab": {
     "base_uri": "https://localhost:8080/",
     "height": 235
    },
    "colab_type": "code",
    "id": "WyaVishxC2ek",
    "outputId": "2e066814-086a-4fee-a67f-c479d9c140c0"
   },
   "outputs": [
    {
     "data": {
      "text/plain": [
       "GridSearchCV(cv=None, error_score=nan,\n",
       "             estimator=LogisticRegression(C=1.0, class_weight=None, dual=False,\n",
       "                                          fit_intercept=True,\n",
       "                                          intercept_scaling=1, l1_ratio=None,\n",
       "                                          max_iter=100, multi_class='auto',\n",
       "                                          n_jobs=None, penalty='l2',\n",
       "                                          random_state=None, solver='lbfgs',\n",
       "                                          tol=0.0001, verbose=0,\n",
       "                                          warm_start=False),\n",
       "             iid='deprecated', n_jobs=None,\n",
       "             param_grid={'C': [1, 6, 11, 16, 21, 26, 31, 36]},\n",
       "             pre_dispatch='2*n_jobs', refit=True, return_train_score=False,\n",
       "             scoring=None, verbose=0)"
      ]
     },
     "execution_count": 11,
     "metadata": {},
     "output_type": "execute_result"
    }
   ],
   "source": [
    "from sklearn.linear_model import LogisticRegression\n",
    "\n",
    "logreg = LogisticRegression() #Le pondré nombre a mi regresión\n",
    "\n",
    "#Definiré el rango de parámetros en los que quiero buscar.\n",
    "param_grid = {'C' : [*range(1,40,5)] }\n",
    "\n",
    "#Encontraré el parámetro C óptimo:\n",
    "searcher_logreg = GridSearchCV(logreg, param_grid) #Acá va a estar mi modelo con los parámetros tuneados\n",
    "\n",
    "searcher_logreg.fit(X_train,y_train) #Entreno mis modelos y saco los mejores parámetros"
   ]
  },
  {
   "cell_type": "code",
   "execution_count": 12,
   "metadata": {
    "colab": {
     "base_uri": "https://localhost:8080/",
     "height": 34
    },
    "colab_type": "code",
    "id": "PtxLPoveMjCZ",
    "outputId": "da652f72-d08f-4c2d-d5f5-6c818c19114f"
   },
   "outputs": [
    {
     "data": {
      "text/plain": [
       "{'C': 6}"
      ]
     },
     "execution_count": 12,
     "metadata": {},
     "output_type": "execute_result"
    }
   ],
   "source": [
    "searcher_logreg.best_params_"
   ]
  },
  {
   "cell_type": "code",
   "execution_count": 13,
   "metadata": {
    "colab": {
     "base_uri": "https://localhost:8080/",
     "height": 34
    },
    "colab_type": "code",
    "id": "JVDRlHAhODmF",
    "outputId": "e4fec654-a880-43d3-e6b4-18846f4570c1"
   },
   "outputs": [
    {
     "data": {
      "text/plain": [
       "array([0.48539945, 0.46280992, 0.469129  , 0.49944873, 0.43770673])"
      ]
     },
     "execution_count": 13,
     "metadata": {},
     "output_type": "execute_result"
    }
   ],
   "source": [
    "#Con lo siguiente seleccionamos el mejor de nuestros modelos\n",
    "logreg_best = searcher_logreg.best_estimator_\n",
    "#Evaluamos el performance de nuestor modelo junto con una validación cruzada\n",
    "cross_val_score(logreg_best, X_train, y_train, cv=5)"
   ]
  },
  {
   "cell_type": "code",
   "execution_count": 14,
   "metadata": {
    "colab": {
     "base_uri": "https://localhost:8080/",
     "height": 34
    },
    "colab_type": "code",
    "id": "GmnNfVffg7gu",
    "outputId": "8f729ba2-58eb-4918-a009-2643aa127b09"
   },
   "outputs": [
    {
     "data": {
      "text/plain": [
       "0.48412698412698413"
      ]
     },
     "execution_count": 14,
     "metadata": {},
     "output_type": "execute_result"
    }
   ],
   "source": [
    "logreg_best.score(X_test,y_test)"
   ]
  },
  {
   "cell_type": "markdown",
   "metadata": {
    "colab_type": "text",
    "id": "S6lXk_CvRE2G"
   },
   "source": [
    "### Random Forest "
   ]
  },
  {
   "cell_type": "code",
   "execution_count": 15,
   "metadata": {
    "colab": {
     "base_uri": "https://localhost:8080/",
     "height": 336
    },
    "colab_type": "code",
    "id": "Q5qzRfXPDXU2",
    "outputId": "ab2f8e19-79d3-47e4-a845-06bf630058a3"
   },
   "outputs": [
    {
     "data": {
      "text/plain": [
       "GridSearchCV(cv=None, error_score=nan,\n",
       "             estimator=RandomForestClassifier(bootstrap=True, ccp_alpha=0.0,\n",
       "                                              class_weight=None,\n",
       "                                              criterion='gini', max_depth=None,\n",
       "                                              max_features='auto',\n",
       "                                              max_leaf_nodes=None,\n",
       "                                              max_samples=None,\n",
       "                                              min_impurity_decrease=0.0,\n",
       "                                              min_impurity_split=None,\n",
       "                                              min_samples_leaf=1,\n",
       "                                              min_samples_split=2,\n",
       "                                              min_weight_fraction_leaf=0.0,\n",
       "                                              n_estimators=100, n_jobs=None,\n",
       "                                              oob_score=False,\n",
       "                                              random_state=None, verbose=0,\n",
       "                                              warm_start=False),\n",
       "             iid='deprecated', n_jobs=None,\n",
       "             param_grid={'criterion': ['gini', 'entropy'],\n",
       "                         'max_depth': [6, 11, 12, 13]},\n",
       "             pre_dispatch='2*n_jobs', refit=True, return_train_score=False,\n",
       "             scoring=None, verbose=0)"
      ]
     },
     "execution_count": 15,
     "metadata": {},
     "output_type": "execute_result"
    }
   ],
   "source": [
    "from sklearn.ensemble import RandomForestClassifier\n",
    "\n",
    "rf_clf = RandomForestClassifier(n_estimators=100)\n",
    "\n",
    "#Especificamos los parámetros en los que queremos buscar lo óptimo\n",
    "params_rf = {'max_depth' : [6,11,12,13], 'criterion' : ['gini','entropy'] }\n",
    "\n",
    "#Hacemos la búsqueda\n",
    "searcher_rf = GridSearchCV(rf_clf, params_rf)\n",
    "\n",
    "searcher_rf.fit(X_train,y_train)"
   ]
  },
  {
   "cell_type": "code",
   "execution_count": 16,
   "metadata": {
    "colab": {
     "base_uri": "https://localhost:8080/",
     "height": 34
    },
    "colab_type": "code",
    "id": "bQfzuPqhQmk2",
    "outputId": "e4b1bf55-f4b8-45b0-f3bc-5c68c24ef3cd"
   },
   "outputs": [
    {
     "data": {
      "text/plain": [
       "{'criterion': 'entropy', 'max_depth': 13}"
      ]
     },
     "execution_count": 16,
     "metadata": {},
     "output_type": "execute_result"
    }
   ],
   "source": [
    "searcher_rf.best_params_"
   ]
  },
  {
   "cell_type": "code",
   "execution_count": 17,
   "metadata": {
    "colab": {
     "base_uri": "https://localhost:8080/",
     "height": 34
    },
    "colab_type": "code",
    "id": "MYA7MLY4RB4Q",
    "outputId": "0409f36b-941b-49c6-d323-327d9fdad080"
   },
   "outputs": [
    {
     "data": {
      "text/plain": [
       "array([0.82203857, 0.81046832, 0.82083793, 0.82194046, 0.81918412])"
      ]
     },
     "execution_count": 17,
     "metadata": {},
     "output_type": "execute_result"
    }
   ],
   "source": [
    "rf_clf_ = searcher_rf.best_estimator_\n",
    "\n",
    "\n",
    "cross_val_score(rf_clf_, X_train, y_train, cv=5)"
   ]
  },
  {
   "cell_type": "code",
   "execution_count": 18,
   "metadata": {
    "colab": {
     "base_uri": "https://localhost:8080/",
     "height": 34
    },
    "colab_type": "code",
    "id": "K_fxAqSsgot1",
    "outputId": "8053a512-ad14-451e-ae19-494195a664b7"
   },
   "outputs": [
    {
     "data": {
      "text/plain": [
       "0.8131613756613757"
      ]
     },
     "execution_count": 18,
     "metadata": {},
     "output_type": "execute_result"
    }
   ],
   "source": [
    "rf_clf_.score(X_test,y_test)"
   ]
  },
  {
   "cell_type": "code",
   "execution_count": null,
   "metadata": {
    "colab": {
     "base_uri": "https://localhost:8080/",
     "height": 337
    },
    "colab_type": "code",
    "id": "zBvtmAtTJZhh",
    "outputId": "3d62330f-b679-4d03-ed9b-5e2464c40fd1"
   },
   "outputs": [],
   "source": [
    "#NO CORRER\n",
    "from sklearn.svm import SVC\n",
    "\n",
    "svc_ = SVC()\n",
    "\n",
    "params = {'C' : [1,2,4,5], 'kernel': ['linear','sigmoid']}\n",
    "\n",
    "searcher_gcv = GridSearchCV(svc_,params,cv=3)\n",
    "\n",
    "searcher_gcv.fit(X_train,y_train)"
   ]
  },
  {
   "cell_type": "code",
   "execution_count": null,
   "metadata": {
    "colab": {},
    "colab_type": "code",
    "id": "ETAn7vjcLBEE"
   },
   "outputs": [],
   "source": [
    "X_train.shape"
   ]
  },
  {
   "cell_type": "markdown",
   "metadata": {
    "colab_type": "text",
    "id": "XnxRJ1BRR6YI"
   },
   "source": [
    "### AdaBoost"
   ]
  },
  {
   "cell_type": "code",
   "execution_count": null,
   "metadata": {
    "colab": {
     "base_uri": "https://localhost:8080/",
     "height": 34
    },
    "colab_type": "code",
    "id": "aLzJH9Q2DXzk",
    "outputId": "2d427172-1915-4c9e-97fe-448d946b6c2e"
   },
   "outputs": [],
   "source": [
    "from sklearn.ensemble import AdaBoostClassifier\n",
    "from sklearn.tree import DecisionTreeClassifier\n",
    "\n",
    "#En este caso no tunaeremos nuestro adaboost\n",
    "ab_clf = AdaBoostClassifier(learning_rate=1,\n",
    "                            random_state=337,\n",
    "                            base_estimator=DecisionTreeClassifier(max_depth=10))\n",
    "\n",
    "ab_clf.fit(X_train,y_train)\n",
    "\n",
    "cross_val_score(ab_clf, X_train, y_train, cv=5)"
   ]
  },
  {
   "cell_type": "code",
   "execution_count": null,
   "metadata": {
    "colab": {
     "base_uri": "https://localhost:8080/",
     "height": 34
    },
    "colab_type": "code",
    "id": "DKcFOmild37A",
    "outputId": "6ac061ad-ccef-4e78-feeb-5b7601702f29"
   },
   "outputs": [],
   "source": [
    "ab_clf.score(X_test,y_test)"
   ]
  },
  {
   "cell_type": "code",
   "execution_count": null,
   "metadata": {
    "colab": {
     "base_uri": "https://localhost:8080/",
     "height": 730
    },
    "colab_type": "code",
    "id": "gQ5LwtITd3-d",
    "outputId": "153b02ba-5a15-4807-ea9e-0832fa903279"
   },
   "outputs": [],
   "source": [
    "importances = ab_clf.feature_importances_\n",
    "cols = X_train.columns\n",
    "plt.figure(figsize=(8,12))\n",
    "indices = np.argsort(importances)\n",
    "plt.title('Feature importances con adaboost')\n",
    "plt.barh(range(len(indices)), importances[indices], align='center')\n",
    "plt.yticks(range(len(indices)),[cols[i] for i in indices])\n",
    "plt.xlabel('Relative Importance')\n",
    "plt.show()"
   ]
  },
  {
   "cell_type": "code",
   "execution_count": null,
   "metadata": {
    "colab": {},
    "colab_type": "code",
    "id": "XWlayoeNd4No"
   },
   "outputs": [],
   "source": []
  },
  {
   "cell_type": "markdown",
   "metadata": {
    "colab_type": "text",
    "id": "Qf31THmPdsh4"
   },
   "source": [
    "### Ensamblando los modelos"
   ]
  },
  {
   "cell_type": "code",
   "execution_count": null,
   "metadata": {
    "colab": {},
    "colab_type": "code",
    "id": "STNLEnBwdqI6"
   },
   "outputs": [],
   "source": [
    "from sklearn.ensemble import VotingClassifier\n",
    "\n",
    "voting_clf = VotingClassifier(estimators=[('logreg',logreg_best),('rforest',rf_clf_),('adaboost',ab_clf)])"
   ]
  },
  {
   "cell_type": "code",
   "execution_count": null,
   "metadata": {
    "colab": {
     "base_uri": "https://localhost:8080/",
     "height": 34
    },
    "colab_type": "code",
    "id": "xDpIbFxqR9jd",
    "outputId": "36901907-df0e-43d8-8b8f-50b7f06fab58"
   },
   "outputs": [],
   "source": [
    "voting_clf.fit(X_train,y_train)\n",
    "voting_clf.score(X_test,y_test)"
   ]
  },
  {
   "cell_type": "code",
   "execution_count": null,
   "metadata": {
    "colab": {},
    "colab_type": "code",
    "id": "55t9T-_yR9m7"
   },
   "outputs": [],
   "source": []
  },
  {
   "cell_type": "markdown",
   "metadata": {
    "colab_type": "text",
    "id": "b6Yy5HcwfIg_"
   },
   "source": [
    "### XGBOOST "
   ]
  },
  {
   "cell_type": "code",
   "execution_count": null,
   "metadata": {
    "colab": {},
    "colab_type": "code",
    "id": "bbvC-5UfsCUT"
   },
   "outputs": [],
   "source": [
    "#Importamos la librería xgboost para utilizar XGBClassifier utilizado en la predicción de clases (variables categóricas)\n",
    "#En este ejemplo la clase de la variable Category_Type\n",
    "from xgboost import XGBClassifier\n",
    "\n",
    "#Creamos la variable xgb_c para guardar XGBClassifier\n",
    "xgb_c = XGBClassifier(learning_rate = 0.1,\n",
    "                      n_estimators = 500, \n",
    "                      early_stopping_rounds = 10, \n",
    "                      max_depth = 10,\n",
    "                      eval_metric = 'logloss', \n",
    "                      eval_set =[(X_test,y_test)] )\n"
   ]
  },
  {
   "cell_type": "code",
   "execution_count": null,
   "metadata": {
    "colab": {
     "base_uri": "https://localhost:8080/",
     "height": 34
    },
    "colab_type": "code",
    "id": "rm7P1DGiItvM",
    "outputId": "4f628923-5674-4176-9c4e-0f87cdfd4c99"
   },
   "outputs": [],
   "source": [
    "X_train.shape"
   ]
  },
  {
   "cell_type": "code",
   "execution_count": null,
   "metadata": {
    "colab": {
     "base_uri": "https://localhost:8080/",
     "height": 437
    },
    "colab_type": "code",
    "id": "jC1NpzZIZyRz",
    "outputId": "8588c5a1-676a-432d-f5a8-21861c9af12e"
   },
   "outputs": [],
   "source": [
    "#Utilizamos los parámetros del modelo xgb_c para utilizar las muestras de entrenamiento\n",
    "#El parámetro early_stopping_rounds indica el límite de iteraciones del modelo\n",
    "#El parámetro eval_set indica una referencia para comparar los resultados de cada iteración del modelo\n",
    "xgb_c.fit(X_train, y_train)"
   ]
  },
  {
   "cell_type": "code",
   "execution_count": null,
   "metadata": {
    "colab": {
     "base_uri": "https://localhost:8080/",
     "height": 34
    },
    "colab_type": "code",
    "id": "PjUypXnUeOG7",
    "outputId": "4ae729d1-9250-4d9d-f0f6-5e38b0f48a49"
   },
   "outputs": [],
   "source": [
    "#Obtenemos las predicciones utilizando el parámetro predict del modelo xgb_c a partir del dataframe train4\n",
    "#Creamos la variable predictions para guardar las predicciones\n",
    "predictions = xgb_c.predict(X_test)\n",
    "\n",
    "from sklearn.metrics import accuracy_score\n",
    "\n",
    "accuracy_score(predictions,y_test)"
   ]
  },
  {
   "cell_type": "code",
   "execution_count": null,
   "metadata": {
    "colab": {
     "base_uri": "https://localhost:8080/",
     "height": 34
    },
    "colab_type": "code",
    "id": "dBSbkY04RFcB",
    "outputId": "deb8cf07-2bed-4386-9a77-2f90c015109a"
   },
   "outputs": [],
   "source": [
    "#Importamos la librería sklearn y model_selection para utilizar cross_val_score\n",
    "from sklearn.model_selection import cross_val_score\n",
    "\n",
    "#Usando cross_val_score iteramos el modelo xgb_c a partir de las muestras de entrenamiento\n",
    "#El parámetro cv hace referencia a las particiones de las muestras de entrenamiento para las iteraciones\n",
    "cross_val_score(xgb_c, X_train, y_train, cv=5)"
   ]
  },
  {
   "cell_type": "code",
   "execution_count": null,
   "metadata": {
    "colab": {},
    "colab_type": "code",
    "id": "-J02Kaukicp_"
   },
   "outputs": [],
   "source": []
  },
  {
   "cell_type": "markdown",
   "metadata": {
    "colab_type": "text",
    "id": "3ZZQI6cdox6L"
   },
   "source": [
    "### LightGBM"
   ]
  },
  {
   "cell_type": "code",
   "execution_count": null,
   "metadata": {
    "colab": {},
    "colab_type": "code",
    "id": "bv8gsWEQox6M"
   },
   "outputs": [],
   "source": [
    "import lightgbm as lgb\n",
    "from sklearn.model_selection import KFold\n",
    "\n",
    "d_train = lgb.Dataset(X_train, label=y_train)\n",
    "folds = KFold(2, random_state=42)\n",
    "\n",
    "\n",
    "params = {'task': 'train','boosting_type': 'gbdt','objective': 'binary','metric': { 'auc'}, \"max_depth\":2,\n",
    "              \"num_leaves\":3,'learning_rate': 0.075,\"min_child_samples\": 100,'feature_fraction': 0.95,\"bagging_freq\":1,\n",
    "              'bagging_fraction': 0.9,\"lambda_l1\":5,\"lambda_l2\":1,'verbose': 1}\n",
    "\n",
    "\n",
    "lgb_clf = lgb.train(params, d_train, 100)\n",
    "\n",
    "results = lgb.cv(params, d_train, folds=folds.split(X_train), num_boost_round=1000, \n",
    "                 early_stopping_rounds=100)\n",
    "\n",
    "\n",
    "\n",
    "lgb_pred = lgb_clf.predict(X_test)\n",
    "\n"
   ]
  },
  {
   "cell_type": "code",
   "execution_count": null,
   "metadata": {
    "colab": {
     "base_uri": "https://localhost:8080/",
     "height": 34
    },
    "colab_type": "code",
    "id": "5yvSC4-cVEVI",
    "outputId": "a74f2921-0e98-4ab6-e677-1dc1adb14538"
   },
   "outputs": [],
   "source": [
    "lgb_pred"
   ]
  }
 ],
 "metadata": {
  "accelerator": "GPU",
  "colab": {
   "collapsed_sections": [],
   "name": "ModeloKaggleCompetencia_Learn_With_Other_Kaggle_Users.ipynb",
   "provenance": []
  },
  "kernelspec": {
   "display_name": "Python 3",
   "language": "python",
   "name": "python3"
  },
  "language_info": {
   "codemirror_mode": {
    "name": "ipython",
    "version": 3
   },
   "file_extension": ".py",
   "mimetype": "text/x-python",
   "name": "python",
   "nbconvert_exporter": "python",
   "pygments_lexer": "ipython3",
   "version": "3.7.5"
  }
 },
 "nbformat": 4,
 "nbformat_minor": 1
}
