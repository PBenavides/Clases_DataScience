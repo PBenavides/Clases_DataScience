{
 "cells": [
  {
   "cell_type": "code",
   "execution_count": 1,
   "metadata": {
    "colab": {},
    "colab_type": "code",
    "id": "98SH2tPcsZpQ"
   },
   "outputs": [],
   "source": [
    "#Crear una variable url para asignar la ruta url del archivo csv de entrenamiento guardado en mi github\n",
    "url = 'https://raw.githubusercontent.com/javalillo13689/tesst/master/train.csv'\n",
    "\n",
    "#Importar la librería pandas para trabajar con dataframes y guardar esta libreria como una variable pd\n",
    "import pandas as pd\n",
    "\n",
    "#Crear una variable df1 para guardar la data de entrenamiento a partir del archivo csv obteniendo así un dataframe\n",
    "#El índice del dataframe serán los valores que aparecen en la columna Id del archivo csv\n",
    "df1 = pd.read_csv(url, index_col='Id')"
   ]
  },
  {
   "cell_type": "code",
   "execution_count": 0,
   "metadata": {
    "colab": {},
    "colab_type": "code",
    "id": "Tm_7A3rCwGtV"
   },
   "outputs": [],
   "source": [
    "#Crear una variable list_0 para asignar una lista con los nombres de las columnas descritas\n",
    "list_0=['Elevation', 'Aspect', 'Slope','Horizontal_Distance_To_Roadways','Horizontal_Distance_To_Fire_Points','Wilderness_Area1',\n",
    "       'Wilderness_Area2', 'Wilderness_Area3', 'Wilderness_Area4',\n",
    "       'Soil_Type1', 'Soil_Type2', 'Soil_Type3', 'Soil_Type4', 'Soil_Type5',\n",
    "       'Soil_Type6', 'Soil_Type7', 'Soil_Type8', 'Soil_Type9', 'Soil_Type10',\n",
    "       'Soil_Type11', 'Soil_Type12', 'Soil_Type13', 'Soil_Type14',\n",
    "       'Soil_Type15', 'Soil_Type16', 'Soil_Type17', 'Soil_Type18',\n",
    "       'Soil_Type19', 'Soil_Type20', 'Soil_Type21', 'Soil_Type22',\n",
    "       'Soil_Type23', 'Soil_Type24', 'Soil_Type25', 'Soil_Type26',\n",
    "       'Soil_Type27', 'Soil_Type28', 'Soil_Type29', 'Soil_Type30',\n",
    "       'Soil_Type31', 'Soil_Type32', 'Soil_Type33', 'Soil_Type34',\n",
    "       'Soil_Type35', 'Soil_Type36', 'Soil_Type37', 'Soil_Type38',\n",
    "       'Soil_Type39', 'Soil_Type40', 'Cover_Type']\n",
    "\n",
    "#Crear una variable df1_main_variables para guardar un dataframe con solo las columnas de list_0 a partir del dataframe df1\n",
    "df1_main_variables=df1[list_0]"
   ]
  },
  {
   "cell_type": "code",
   "execution_count": 0,
   "metadata": {
    "colab": {},
    "colab_type": "code",
    "id": "ZLixrzlKbvqt"
   },
   "outputs": [],
   "source": [
    "#Crear una variable list_1 para asignar una lista con los nombres de las columnas descritas\n",
    "list_1=['Horizontal_Distance_To_Hydrology','Vertical_Distance_To_Hydrology']\n",
    "\n",
    "#Crear una variable df1_pitagoras_distance1 para guardar un dataframe con solo las columnas de list_1 a partir del dataframe df1\n",
    "df1_pitagoras_distance1=df1[list_1]"
   ]
  },
  {
   "cell_type": "code",
   "execution_count": 0,
   "metadata": {
    "colab": {
     "base_uri": "https://localhost:8080/",
     "height": 126
    },
    "colab_type": "code",
    "id": "UriJEgOPMN15",
    "outputId": "2827ad43-c322-42f3-a12e-719ad86939d7"
   },
   "outputs": [
    {
     "name": "stderr",
     "output_type": "stream",
     "text": [
      "/usr/local/lib/python3.6/dist-packages/ipykernel_launcher.py:8: SettingWithCopyWarning: \n",
      "A value is trying to be set on a copy of a slice from a DataFrame.\n",
      "Try using .loc[row_indexer,col_indexer] = value instead\n",
      "\n",
      "See the caveats in the documentation: http://pandas.pydata.org/pandas-docs/stable/indexing.html#indexing-view-versus-copy\n",
      "  \n"
     ]
    }
   ],
   "source": [
    "#Importar la libreria math para trabajar con funciones matemáticas\n",
    "import math\n",
    "\n",
    "#Definimos una funcion que denominamos pitagoras con dos parámetros que sacará la raíz cuadrada de la suma de los cuadrados de ambos parámetros\n",
    "def pitagoras (a, b): \n",
    "    return math.sqrt(a**2 + b**2)\n",
    "\n",
    "#Agregamos la columna pitagoras al dataframe df1_pitagoras_distance1 donde guardar el resultado de ejecutar la función pitagoras fila por fila\n",
    "df1_pitagoras_distance1['pitagoras'] = df1_pitagoras_distance1.apply(lambda row : pitagoras(row['Horizontal_Distance_To_Hydrology'],row['Vertical_Distance_To_Hydrology']), axis = 1) "
   ]
  },
  {
   "cell_type": "code",
   "execution_count": 0,
   "metadata": {
    "colab": {},
    "colab_type": "code",
    "id": "-uelJdzgak9g"
   },
   "outputs": [],
   "source": [
    "#Crear una variable df1_pitagoras_distance2 para guardar un dataframe con solo la columna pitagoras a partir del dataframe df1_pitagoras_distance1\n",
    "df1_pitagoras_distance2=df1_pitagoras_distance1[['pitagoras']]"
   ]
  },
  {
   "cell_type": "code",
   "execution_count": 0,
   "metadata": {
    "colab": {},
    "colab_type": "code",
    "id": "dpyNwwfJMPtl"
   },
   "outputs": [],
   "source": [
    "#Crear una variable list_2 para asignar una lista con los nombres de las columnas descritas\n",
    "list_2=['Hillshade_9am','Hillshade_Noon','Hillshade_3pm']"
   ]
  },
  {
   "cell_type": "code",
   "execution_count": 0,
   "metadata": {
    "colab": {},
    "colab_type": "code",
    "id": "b3jCDl06MwZf"
   },
   "outputs": [],
   "source": [
    "#Crear una variable df1_hill_shade1 para guardar un dataframe con solo las columnas de list_2 a partir del dataframe df1\n",
    "df1_hill_shade1=df1[list_2]"
   ]
  },
  {
   "cell_type": "code",
   "execution_count": 0,
   "metadata": {
    "colab": {},
    "colab_type": "code",
    "id": "uLmVXqaHM7IQ"
   },
   "outputs": [],
   "source": [
    "#Crear una variable df1_hill_shade2 para guardar el promedio fila por fila a partir del dataframe df1_hill_shade1\n",
    "#El parámetro axis=1 hace referencia a una columna porque el promedio se realiza a partir de columnas y se guarda en una nueva columna\n",
    "df1_hill_shade2=df1_hill_shade1.mean(axis=1)"
   ]
  },
  {
   "cell_type": "code",
   "execution_count": 0,
   "metadata": {
    "colab": {},
    "colab_type": "code",
    "id": "zMVuIzUTQxRm"
   },
   "outputs": [],
   "source": [
    "#Crear una variable df1_hill_shade3 para guardar como dataframe el objeto df1_hill_shade2\n",
    "df1_hill_shade3=pd.DataFrame({'hill_shade':df1_hill_shade2})"
   ]
  },
  {
   "cell_type": "code",
   "execution_count": 0,
   "metadata": {
    "colab": {},
    "colab_type": "code",
    "id": "xsTuFY2DsZZQ"
   },
   "outputs": [],
   "source": [
    "#Crear una variable df2 para guardar el resultado de concatenar los dataframes df1_main_variables, df1_pitagoras_distance2, df1_hill_shade3\n",
    "df2=pd.concat([df1_main_variables.reset_index(drop=True),df1_pitagoras_distance2.reset_index(drop=True), df1_hill_shade3.reset_index(drop=True)], axis=1)"
   ]
  },
  {
   "cell_type": "code",
   "execution_count": 0,
   "metadata": {
    "colab": {},
    "colab_type": "code",
    "id": "ZX4nODlWYsZm"
   },
   "outputs": [],
   "source": [
    "#Crear una variable url_2 para asignar la ruta url del archivo csv de test guardado en mi github\n",
    "url_2 ='https://raw.githubusercontent.com/javalillo13689/tesst/master/test.csv'\n",
    "\n",
    "#Crear una variable df3 para guardar la data de test a partir del archivo csv obteniendo así un dataframe\n",
    "#El índice del dataframe serán los valores que aparecen en la columna Id del archivo csv\n",
    "df3 = pd.read_csv(url_2, index_col='Id')"
   ]
  },
  {
   "cell_type": "code",
   "execution_count": 0,
   "metadata": {
    "colab": {},
    "colab_type": "code",
    "id": "_6KZSdjMbxY8"
   },
   "outputs": [],
   "source": [
    "#Crear una variable list_0_test para asignar una lista con los nombres de las columnas descritas, en el archivo test no está Category_Type\n",
    "list_0_test=['Elevation', 'Aspect', 'Slope','Horizontal_Distance_To_Roadways','Horizontal_Distance_To_Fire_Points','Wilderness_Area1',\n",
    "       'Wilderness_Area2', 'Wilderness_Area3', 'Wilderness_Area4',\n",
    "       'Soil_Type1', 'Soil_Type2', 'Soil_Type3', 'Soil_Type4', 'Soil_Type5',\n",
    "       'Soil_Type6', 'Soil_Type7', 'Soil_Type8', 'Soil_Type9', 'Soil_Type10',\n",
    "       'Soil_Type11', 'Soil_Type12', 'Soil_Type13', 'Soil_Type14',\n",
    "       'Soil_Type15', 'Soil_Type16', 'Soil_Type17', 'Soil_Type18',\n",
    "       'Soil_Type19', 'Soil_Type20', 'Soil_Type21', 'Soil_Type22',\n",
    "       'Soil_Type23', 'Soil_Type24', 'Soil_Type25', 'Soil_Type26',\n",
    "       'Soil_Type27', 'Soil_Type28', 'Soil_Type29', 'Soil_Type30',\n",
    "       'Soil_Type31', 'Soil_Type32', 'Soil_Type33', 'Soil_Type34',\n",
    "       'Soil_Type35', 'Soil_Type36', 'Soil_Type37', 'Soil_Type38',\n",
    "       'Soil_Type39', 'Soil_Type40']\n",
    "#Crear una variable df3_main_variables para guardar un dataframe con solo las columnas de list_0_test a partir del dataframe df3\n",
    "df3_main_variables=df3[list_0_test]"
   ]
  },
  {
   "cell_type": "code",
   "execution_count": 0,
   "metadata": {
    "colab": {},
    "colab_type": "code",
    "id": "SKm-nucXc4ZO"
   },
   "outputs": [],
   "source": [
    "#Crear una variable df3_pitagoras_distance1 para guardar un dataframe con solo las columnas de list_1 a partir del dataframe df3\n",
    "df3_pitagoras_distance1=df3[list_1]"
   ]
  },
  {
   "cell_type": "code",
   "execution_count": 0,
   "metadata": {
    "colab": {
     "base_uri": "https://localhost:8080/",
     "height": 126
    },
    "colab_type": "code",
    "id": "TpQ2Kv99c_2-",
    "outputId": "5520f96b-ea34-44c0-c0f8-29674e212bd3"
   },
   "outputs": [
    {
     "name": "stderr",
     "output_type": "stream",
     "text": [
      "/usr/local/lib/python3.6/dist-packages/ipykernel_launcher.py:1: SettingWithCopyWarning: \n",
      "A value is trying to be set on a copy of a slice from a DataFrame.\n",
      "Try using .loc[row_indexer,col_indexer] = value instead\n",
      "\n",
      "See the caveats in the documentation: http://pandas.pydata.org/pandas-docs/stable/indexing.html#indexing-view-versus-copy\n",
      "  \"\"\"Entry point for launching an IPython kernel.\n"
     ]
    }
   ],
   "source": [
    "#Agregamos la columna pitagoras al dataframe df31_pitagoras_distance1 donde guardar el resultado de ejecutar la función pitagoras fila por fila\n",
    "df3_pitagoras_distance1['pitagoras'] = df3_pitagoras_distance1.apply(lambda row : pitagoras(row['Horizontal_Distance_To_Hydrology'],row['Vertical_Distance_To_Hydrology']), axis = 1) "
   ]
  },
  {
   "cell_type": "code",
   "execution_count": 0,
   "metadata": {
    "colab": {},
    "colab_type": "code",
    "id": "jvV8mSMHdzua"
   },
   "outputs": [],
   "source": [
    "#Crear una variable df3_pitagoras_distance2 para guardar un dataframe con solo la columna pitagoras a partir del dataframe df3_pitagoras_distance1\n",
    "df3_pitagoras_distance2=df3_pitagoras_distance1[['pitagoras']]"
   ]
  },
  {
   "cell_type": "code",
   "execution_count": 0,
   "metadata": {
    "colab": {},
    "colab_type": "code",
    "id": "N0mTT3U_eI3X"
   },
   "outputs": [],
   "source": [
    "#Crear una variable df3_hill_shade1 para guardar un dataframe con solo las columnas de list_2 a partir del dataframe df3\n",
    "df3_hill_shade1=df3[list_2]"
   ]
  },
  {
   "cell_type": "code",
   "execution_count": 0,
   "metadata": {
    "colab": {},
    "colab_type": "code",
    "id": "DW1J7c3fegkh"
   },
   "outputs": [],
   "source": [
    "#Crear una variable df3_hill_shade2 para guardar el promedio fila por fila a partir del dataframe df3_hill_shade1\n",
    "#El parámetro axis=1 hace referencia a una columna porque el promedio se realiza a partir de columnas y se guarda en una nueva columna\n",
    "df3_hill_shade2=df3_hill_shade1.mean(axis=1)"
   ]
  },
  {
   "cell_type": "code",
   "execution_count": 0,
   "metadata": {
    "colab": {},
    "colab_type": "code",
    "id": "qWmoPGsdf76J"
   },
   "outputs": [],
   "source": [
    "#Crear una variable df3_hill_shade3 para guardar como dataframe el objeto df3_hill_shade2\n",
    "df3_hill_shade3=pd.DataFrame({'hill_shade':df3_hill_shade2})"
   ]
  },
  {
   "cell_type": "code",
   "execution_count": 0,
   "metadata": {
    "colab": {},
    "colab_type": "code",
    "id": "fdaUZQoIhZia"
   },
   "outputs": [],
   "source": [
    "#Crear una variable df4 para guardar el resultado de concatenar los dataframes df3_main_variables, df3_pitagoras_distance2, df3_hill_shade3\n",
    "df4=pd.concat([df3_main_variables.reset_index(drop=True),df3_pitagoras_distance2.reset_index(drop=True), df3_hill_shade3.reset_index(drop=True)], axis=1)"
   ]
  },
  {
   "cell_type": "code",
   "execution_count": 0,
   "metadata": {
    "colab": {},
    "colab_type": "code",
    "id": "j-q2YFZlqwBw"
   },
   "outputs": [],
   "source": [
    "#Crear una variable X para guardar un dataframe df2\n",
    "X = df2"
   ]
  },
  {
   "cell_type": "code",
   "execution_count": 0,
   "metadata": {
    "colab": {},
    "colab_type": "code",
    "id": "ZoSnm57dq7Cs"
   },
   "outputs": [],
   "source": [
    "#Crear una variable y para guardar solo la columna Cover_Type de la variable X porque esta variable es el objetivo de la predicción\n",
    "y = X.Cover_Type\n",
    "\n",
    "#Eliminar la columna Cover_Type de la variable X para solo conservar las variables predictoras.\n",
    "#El parámetro inplace=True permite actualizar la variable X\n",
    "X.drop(['Cover_Type'], axis=1, inplace=True)"
   ]
  },
  {
   "cell_type": "code",
   "execution_count": 0,
   "metadata": {
    "colab": {},
    "colab_type": "code",
    "id": "szDre32pp1A1"
   },
   "outputs": [],
   "source": [
    "#Importamos la librería sklearn y model_selection para utilizar train_test_split\n",
    "from sklearn.model_selection import train_test_split\n",
    "\n",
    "#Usando train_test_split obtenemos las muestras de entrenamiento (train) y test a partir de X tomando el 60% y 40% respectivamente\n",
    "X_train, X_valid, y_train, y_valid = train_test_split(X, y, train_size=0.6, test_size=0.4,random_state=0)"
   ]
  },
  {
   "cell_type": "code",
   "execution_count": 0,
   "metadata": {
    "colab": {},
    "colab_type": "code",
    "id": "bbvC-5UfsCUT"
   },
   "outputs": [],
   "source": [
    "#Importamos la librería xgboost para utilizar XGBClassifier utilizado en la predicción de clases (variables categóricas)\n",
    "#En este ejemplo la clase de la variable Category_Type\n",
    "from xgboost import XGBClassifier\n",
    "\n",
    "#Creamos la variable xgb_c para guardar XGBClassifier\n",
    "xgb_c=XGBClassifier()"
   ]
  },
  {
   "cell_type": "code",
   "execution_count": 0,
   "metadata": {
    "colab": {
     "base_uri": "https://localhost:8080/",
     "height": 145
    },
    "colab_type": "code",
    "id": "jC1NpzZIZyRz",
    "outputId": "2a5f4cfd-1441-431b-d958-945a2c043580"
   },
   "outputs": [
    {
     "data": {
      "text/plain": [
       "XGBClassifier(base_score=0.5, booster='gbtree', colsample_bylevel=1,\n",
       "              colsample_bynode=1, colsample_bytree=1, gamma=0,\n",
       "              learning_rate=0.1, max_delta_step=0, max_depth=3,\n",
       "              min_child_weight=1, missing=None, n_estimators=100, n_jobs=1,\n",
       "              nthread=None, objective='multi:softprob', random_state=0,\n",
       "              reg_alpha=0, reg_lambda=1, scale_pos_weight=1, seed=None,\n",
       "              silent=None, subsample=1, verbosity=1)"
      ]
     },
     "execution_count": 24,
     "metadata": {
      "tags": []
     },
     "output_type": "execute_result"
    }
   ],
   "source": [
    "#Utilizamos los parámetros del modelo xgb_c para utilizar las muestras de entrenamiento\n",
    "#El parámetro early_stopping_rounds indica el límite de iteraciones del modelo\n",
    "#El parámetro eval_set indica una referencia para comparar los resultados de cada iteración del modelo\n",
    "xgb_c.fit(X_train, y_train, \n",
    "             early_stopping_rounds=7, \n",
    "             eval_set=[(X_valid, y_valid)], \n",
    "             verbose=False)"
   ]
  },
  {
   "cell_type": "code",
   "execution_count": 0,
   "metadata": {
    "colab": {
     "base_uri": "https://localhost:8080/",
     "height": 35
    },
    "colab_type": "code",
    "id": "dBSbkY04RFcB",
    "outputId": "b5b71007-3c5a-4474-9b2e-908753a94809"
   },
   "outputs": [
    {
     "data": {
      "text/plain": [
       "array([0.7527533 , 0.75055066, 0.75647383, 0.75371901, 0.74861878])"
      ]
     },
     "execution_count": 25,
     "metadata": {
      "tags": []
     },
     "output_type": "execute_result"
    }
   ],
   "source": [
    "#Importamos la librería sklearn y model_selection para utilizar cross_val_score\n",
    "from sklearn.model_selection import cross_val_score\n",
    "\n",
    "#Usando cross_val_score iteramos el modelo xgb_c a partir de las muestras de entrenamiento\n",
    "#El parámetro cv hace referencia a las particiones de las muestras de entrenamiento para las iteraciones\n",
    "cross_val_score(xgb_c, X_train, y_train, cv=5)"
   ]
  },
  {
   "cell_type": "code",
   "execution_count": 0,
   "metadata": {
    "colab": {},
    "colab_type": "code",
    "id": "PjUypXnUeOG7"
   },
   "outputs": [],
   "source": [
    "#Obtenemos las predicciones utilizando el parámetro predict del modelo xgb_c a partir del dataframe df4\n",
    "#Creamos la variable predictions para guardar las predicciones\n",
    "predictions = xgb_c.predict(df4)"
   ]
  },
  {
   "cell_type": "code",
   "execution_count": 0,
   "metadata": {
    "colab": {},
    "colab_type": "code",
    "id": "-J02Kaukicp_"
   },
   "outputs": [],
   "source": [
    "#Creamos la variable output para guardar un dataframe utilizando los índices de X_test y las predicciones guardadas en la variable predictions\n",
    "output = pd.DataFrame({'Id': df4.index,\n",
    "                       'Cover_Type': predictions})\n",
    "\n",
    "#Generamos un archivo csv con nombre submission a partir del dataframe output\n",
    "output.to_csv('submission.csv', index=False)"
   ]
  }
 ],
 "metadata": {
  "accelerator": "GPU",
  "colab": {
   "name": "ModeloKaggleCompetencia_Learn With Other Kaggle Users.ipynb",
   "provenance": [],
   "version": "0.3.2"
  },
  "kernelspec": {
   "display_name": "Python 3",
   "language": "python",
   "name": "python3"
  },
  "language_info": {
   "codemirror_mode": {
    "name": "ipython",
    "version": 3
   },
   "file_extension": ".py",
   "mimetype": "text/x-python",
   "name": "python",
   "nbconvert_exporter": "python",
   "pygments_lexer": "ipython3",
   "version": "3.7.1"
  }
 },
 "nbformat": 4,
 "nbformat_minor": 1
}
